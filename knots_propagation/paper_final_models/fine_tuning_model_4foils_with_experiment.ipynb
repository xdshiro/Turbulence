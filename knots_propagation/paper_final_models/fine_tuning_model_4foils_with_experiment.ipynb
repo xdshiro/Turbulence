{
 "cells": [
  {
   "cell_type": "code",
   "execution_count": 91,
   "metadata": {
    "collapsed": true
   },
   "outputs": [],
   "source": [
    "import sys\n",
    "sys.path.append('../')\n",
    "import time\n",
    "import numpy as np\n",
    "import matplotlib.pyplot as plt\n",
    "from sklearn.model_selection import train_test_split\n",
    "from scipy.signal import convolve2d\n",
    "from scipy.optimize import curve_fit\n",
    "from scipy.optimize import brute\n",
    "# import cv2\n",
    "import torch\n",
    "import json\n",
    "import csv\n",
    "from models import *\n",
    "from functions.all_knots_functions import *\n",
    "from torch.utils.data import TensorDataset, DataLoader\n",
    "from torch import nn\n",
    "from sklearn.model_selection import train_test_split\n",
    "from torch.optim import lr_scheduler\n",
    "from torch.optim.lr_scheduler import ReduceLROnPlateau\n",
    "import collections\n",
    "import itertools\n",
    "import torch\n",
    "\n",
    "import torch.nn.functional as F\n",
    "from tqdm import trange\n",
    "import pickle\n",
    "from sklearn.metrics import confusion_matrix\n",
    "import seaborn as sns\n",
    "from torchsummary import summary\n",
    "device = torch.device(\"cuda\" if torch.cuda.is_available() else \"cpu\")\n",
    "import torch\n",
    "from torch import nn\n",
    "from torch.optim import Adam\n",
    "from torch.optim.lr_scheduler import ReduceLROnPlateau\n",
    "from torch.cuda.amp import autocast, GradScaler\n",
    "from torch.utils.data import DataLoader, TensorDataset\n",
    "from tqdm import trange\n",
    "import numpy as np\n",
    "import json\n",
    "import csv\n"
   ]
  },
  {
   "cell_type": "code",
   "execution_count": 92,
   "outputs": [],
   "source": [
    "hyperparams = {\n",
    "    'learning_rate': 1e-5,  # Control dropout rate\n",
    "    'patience': 5,  # Number of epochs between learning rate decay\n",
    "    'factor': 0.2,  # Multiplicative factor of learning rate decay\n",
    "    'batch_size': 64\n",
    "}\n",
    "# desired_res = (32, 32, 32)"
   ],
   "metadata": {
    "collapsed": false
   }
  },
  {
   "cell_type": "code",
   "execution_count": 93,
   "outputs": [
    {
     "name": "stdout",
     "output_type": "stream",
     "text": [
      "(32, 32, 32)\n"
     ]
    }
   ],
   "source": [
    "# Load the saved model\n",
    "model_path = \"classifier_4foil_3d_full_2.pth\"\n",
    "checkpoint = torch.load(model_path)\n",
    "\n",
    "# Extract the saved structure and hyperparameters\n",
    "stages = checkpoint['stages']\n",
    "pooling_configs = checkpoint['pooling_configs']\n",
    "num_classes = checkpoint['num_classes']\n",
    "desired_res = checkpoint['desired_res']\n",
    "\n",
    "# Initialize the model and load the saved state dict\n",
    "model = Classifier3D(stages, pooling_configs, num_classes=num_classes).to(device)\n",
    "model.load_state_dict(checkpoint['model_state_dict'])\n",
    "model.train()  # Set the model to training mode\n",
    "\n",
    "# Define hyperparameters for fine-tuning\n",
    "fine_tune_hyperparams = {\n",
    "    'learning_rate': 1e-6,  # Small learning rate\n",
    "    'batch_size': 16,       # Smaller batch size for limited data\n",
    "    'num_epochs': 150,\n",
    "    'factor': 0.5,          # LR decay factor\n",
    "    'patience': 3           # Patience for LR scheduler\n",
    "}\n",
    "print(desired_res)"
   ],
   "metadata": {
    "collapsed": false
   }
  },
  {
   "cell_type": "code",
   "execution_count": 94,
   "outputs": [
    {
     "name": "stdout",
     "output_type": "stream",
     "text": [
      "0000 :   0\n",
      "0001 :   1\n",
      "0002 :   2\n",
      "0010 :   3\n",
      "0011 :   4\n",
      "0012 :   5\n",
      "0020 :   6\n",
      "0021 :   7\n",
      "0022 :   8\n",
      "0100 :   9\n",
      "0101 :   10\n",
      "0102 :   11\n",
      "0110 :   12\n",
      "0111 :   13\n",
      "0112 :   14\n",
      "0120 :   15\n",
      "0121 :   16\n",
      "0122 :   17\n",
      "0200 :   18\n",
      "0201 :   19\n",
      "0202 :   20\n",
      "0210 :   21\n",
      "0211 :   22\n",
      "0212 :   23\n",
      "0220 :   24\n",
      "0221 :   25\n",
      "0222 :   26\n",
      "1000 :   27\n",
      "1001 :   28\n",
      "1002 :   29\n",
      "1010 :   30\n",
      "1011 :   31\n",
      "1012 :   32\n",
      "1020 :   33\n",
      "1021 :   34\n",
      "1022 :   35\n",
      "1100 :   36\n",
      "1101 :   37\n",
      "1102 :   38\n",
      "1110 :   39\n",
      "1111 :   40\n",
      "1112 :   41\n",
      "1120 :   42\n",
      "1121 :   43\n",
      "1122 :   44\n",
      "1200 :   45\n",
      "1201 :   46\n",
      "1202 :   47\n",
      "1210 :   48\n",
      "1211 :   49\n",
      "1212 :   50\n",
      "1220 :   51\n",
      "1221 :   52\n",
      "1222 :   53\n",
      "2000 :   54\n",
      "2001 :   55\n",
      "2002 :   56\n",
      "2010 :   57\n",
      "2011 :   58\n",
      "2012 :   59\n",
      "2020 :   60\n",
      "2021 :   61\n",
      "2022 :   62\n",
      "2100 :   63\n",
      "2101 :   64\n",
      "2102 :   65\n",
      "2110 :   66\n",
      "2111 :   67\n",
      "2112 :   68\n",
      "2120 :   69\n",
      "2121 :   70\n",
      "2122 :   71\n",
      "2200 :   72\n",
      "2201 :   73\n",
      "2202 :   74\n",
      "2210 :   75\n",
      "2211 :   76\n",
      "2212 :   77\n",
      "2220 :   78\n",
      "2221 :   79\n",
      "2222 :   80\n"
     ]
    }
   ],
   "source": [
    "foils = list(itertools.product(range(3), repeat=4))\n",
    "foils = foils[:]\n",
    "knots = [''.join([str(element) for element in foil]) for foil in foils]\n",
    "knot_types = {\n",
    "\tknot: it for it, knot in enumerate(knots)\n",
    "}\n",
    "for i, knot in enumerate(knots):\n",
    "    print(knot, ':  ', i)"
   ],
   "metadata": {
    "collapsed": false
   }
  },
  {
   "cell_type": "code",
   "execution_count": 95,
   "outputs": [
    {
     "name": "stdout",
     "output_type": "stream",
     "text": [
      "File not found: C:\\SCIENCE\\programming\\Python\\Turbulence\\knots_propagation\\Danilo_4foils_experiment\\all_flowers10_4.6/data_experiment_0000.csv\n",
      "File not found: C:\\SCIENCE\\programming\\Python\\Turbulence\\knots_propagation\\Danilo_4foils_experiment\\all_flowers10_4.6/data_experiment_0001.csv\n",
      "File not found: C:\\SCIENCE\\programming\\Python\\Turbulence\\knots_propagation\\Danilo_4foils_experiment\\all_flowers10_4.6/data_experiment_0002.csv\n",
      "File not found: C:\\SCIENCE\\programming\\Python\\Turbulence\\knots_propagation\\Danilo_4foils_experiment\\all_flowers10_4.6/data_experiment_0010.csv\n",
      "File not found: C:\\SCIENCE\\programming\\Python\\Turbulence\\knots_propagation\\Danilo_4foils_experiment\\all_flowers10_4.6/data_experiment_0011.csv\n",
      "File not found: C:\\SCIENCE\\programming\\Python\\Turbulence\\knots_propagation\\Danilo_4foils_experiment\\all_flowers10_4.6/data_experiment_0012.csv\n",
      "File not found: C:\\SCIENCE\\programming\\Python\\Turbulence\\knots_propagation\\Danilo_4foils_experiment\\all_flowers10_4.6/data_experiment_0020.csv\n",
      "File not found: C:\\SCIENCE\\programming\\Python\\Turbulence\\knots_propagation\\Danilo_4foils_experiment\\all_flowers10_4.6/data_experiment_0021.csv\n",
      "Shape: 32, 32, 64\n",
      "File not found: C:\\SCIENCE\\programming\\Python\\Turbulence\\knots_propagation\\Danilo_4foils_experiment\\all_flowers10_4.6/data_experiment_0100.csv\n",
      "File not found: C:\\SCIENCE\\programming\\Python\\Turbulence\\knots_propagation\\Danilo_4foils_experiment\\all_flowers10_4.6/data_experiment_0101.csv\n",
      "File not found: C:\\SCIENCE\\programming\\Python\\Turbulence\\knots_propagation\\Danilo_4foils_experiment\\all_flowers10_4.6/data_experiment_0102.csv\n",
      "File not found: C:\\SCIENCE\\programming\\Python\\Turbulence\\knots_propagation\\Danilo_4foils_experiment\\all_flowers10_4.6/data_experiment_0110.csv\n",
      "File not found: C:\\SCIENCE\\programming\\Python\\Turbulence\\knots_propagation\\Danilo_4foils_experiment\\all_flowers10_4.6/data_experiment_0111.csv\n",
      "File not found: C:\\SCIENCE\\programming\\Python\\Turbulence\\knots_propagation\\Danilo_4foils_experiment\\all_flowers10_4.6/data_experiment_0112.csv\n",
      "File not found: C:\\SCIENCE\\programming\\Python\\Turbulence\\knots_propagation\\Danilo_4foils_experiment\\all_flowers10_4.6/data_experiment_0120.csv\n",
      "File not found: C:\\SCIENCE\\programming\\Python\\Turbulence\\knots_propagation\\Danilo_4foils_experiment\\all_flowers10_4.6/data_experiment_0121.csv\n",
      "File not found: C:\\SCIENCE\\programming\\Python\\Turbulence\\knots_propagation\\Danilo_4foils_experiment\\all_flowers10_4.6/data_experiment_0200.csv\n",
      "File not found: C:\\SCIENCE\\programming\\Python\\Turbulence\\knots_propagation\\Danilo_4foils_experiment\\all_flowers10_4.6/data_experiment_0201.csv\n",
      "File not found: C:\\SCIENCE\\programming\\Python\\Turbulence\\knots_propagation\\Danilo_4foils_experiment\\all_flowers10_4.6/data_experiment_0210.csv\n",
      "File not found: C:\\SCIENCE\\programming\\Python\\Turbulence\\knots_propagation\\Danilo_4foils_experiment\\all_flowers10_4.6/data_experiment_0211.csv\n",
      "File not found: C:\\SCIENCE\\programming\\Python\\Turbulence\\knots_propagation\\Danilo_4foils_experiment\\all_flowers10_4.6/data_experiment_1000.csv\n",
      "File not found: C:\\SCIENCE\\programming\\Python\\Turbulence\\knots_propagation\\Danilo_4foils_experiment\\all_flowers10_4.6/data_experiment_1001.csv\n",
      "File not found: C:\\SCIENCE\\programming\\Python\\Turbulence\\knots_propagation\\Danilo_4foils_experiment\\all_flowers10_4.6/data_experiment_1002.csv\n",
      "File not found: C:\\SCIENCE\\programming\\Python\\Turbulence\\knots_propagation\\Danilo_4foils_experiment\\all_flowers10_4.6/data_experiment_1010.csv\n",
      "File not found: C:\\SCIENCE\\programming\\Python\\Turbulence\\knots_propagation\\Danilo_4foils_experiment\\all_flowers10_4.6/data_experiment_1011.csv\n",
      "File not found: C:\\SCIENCE\\programming\\Python\\Turbulence\\knots_propagation\\Danilo_4foils_experiment\\all_flowers10_4.6/data_experiment_1012.csv\n",
      "File not found: C:\\SCIENCE\\programming\\Python\\Turbulence\\knots_propagation\\Danilo_4foils_experiment\\all_flowers10_4.6/data_experiment_1020.csv\n",
      "File not found: C:\\SCIENCE\\programming\\Python\\Turbulence\\knots_propagation\\Danilo_4foils_experiment\\all_flowers10_4.6/data_experiment_1021.csv\n",
      "File not found: C:\\SCIENCE\\programming\\Python\\Turbulence\\knots_propagation\\Danilo_4foils_experiment\\all_flowers10_4.6/data_experiment_1100.csv\n",
      "File not found: C:\\SCIENCE\\programming\\Python\\Turbulence\\knots_propagation\\Danilo_4foils_experiment\\all_flowers10_4.6/data_experiment_1101.csv\n",
      "File not found: C:\\SCIENCE\\programming\\Python\\Turbulence\\knots_propagation\\Danilo_4foils_experiment\\all_flowers10_4.6/data_experiment_1102.csv\n",
      "File not found: C:\\SCIENCE\\programming\\Python\\Turbulence\\knots_propagation\\Danilo_4foils_experiment\\all_flowers10_4.6/data_experiment_1110.csv\n",
      "File not found: C:\\SCIENCE\\programming\\Python\\Turbulence\\knots_propagation\\Danilo_4foils_experiment\\all_flowers10_4.6/data_experiment_2220.csv\n",
      "File not found: C:\\SCIENCE\\programming\\Python\\Turbulence\\knots_propagation\\Danilo_4foils_experiment\\all_flowers10_4.6/data_experiment_2221.csv\n",
      "File not found: C:\\SCIENCE\\programming\\Python\\Turbulence\\knots_propagation\\Danilo_4foils_experiment\\all_flowers10_4.6/data_experiment_2222.csv\n",
      "Loaded 460 samples.  5 per class\n"
     ]
    }
   ],
   "source": [
    "\n",
    "folders = [\n",
    "    # '/home/dt169/ML_knots/DATA/all_flowers10_5.4/',\n",
    "    'C:\\SCIENCE\\programming\\Python\\Turbulence\\knots_propagation\\Danilo_4foils_experiment\\\\all_flowers10_4.6',\n",
    "]\n",
    "\n",
    "num_classes = len(knots)\n",
    "X_list = []\n",
    "Y_list = []\n",
    "csv.field_size_limit(10000000)\n",
    "\n",
    "# Flag to print shape once\n",
    "flag_print_shape = True\n",
    "\n",
    "# Loop through all folders and knots\n",
    "for folder in folders:\n",
    "\tfor knot in knots:\n",
    "\t\tfilename = f'{folder}/data_experiment_{knot}.csv'\n",
    "\t\ttry:\n",
    "\t\t\twith open(filename, 'r') as file:\n",
    "\t\t\t\treader = csv.reader(file)\n",
    "\t\t\t\tfor row in reader:\n",
    "\t\t\t\t\t# Deserialize the JSON string back to a list\n",
    "\t\t\t\t\tdata_list = json.loads(row[0])\n",
    "\t\t\t\t\tdata_array = np.array(data_list)\n",
    "\n",
    "\t\t\t\t\t# Extract points and dimensions\n",
    "\t\t\t\t\tpoints_list = data_array[2:]\n",
    "\t\t\t\t\tNx, Ny, Nz = data_array[1]\n",
    "\n",
    "\t\t\t\t\tif flag_print_shape:\n",
    "\t\t\t\t\t\tprint(f'Shape: {Nx}, {Ny}, {Nz}')\n",
    "\t\t\t\t\t\tflag_print_shape = False\n",
    "\n",
    "\t\t\t\t\t# Rescale if necessary\n",
    "\t\t\t\t\tif desired_res != (Nx, Ny, Nz):\n",
    "\t\t\t\t\t\tscale_x = desired_res[0] / Nx\n",
    "\t\t\t\t\t\tscale_y = desired_res[1] / Ny\n",
    "\t\t\t\t\t\tscale_z = desired_res[2] / Nz\n",
    "\t\t\t\t\t\tpoints_list = np.rint(points_list * np.array([scale_x, scale_y, scale_z])).astype(int)\n",
    "\n",
    "\t\t\t\t\t# Initialize a 3D array and set points to 1\n",
    "\t\t\t\t\tdots_3d = np.zeros(desired_res, dtype=int)\n",
    "\t\t\t\t\tfor x, y, z in points_list:\n",
    "\t\t\t\t\t\ttry:\n",
    "\t\t\t\t\t\t\tdots_3d[x, y, z] = 1\n",
    "\t\t\t\t\t\texcept IndexError:\n",
    "\t\t\t\t\t\t\tcontinue\n",
    "\n",
    "\t\t\t\t\t# Append to lists\n",
    "\t\t\t\t\tX_list.append(dots_3d)\n",
    "\t\t\t\t\tY_list.append(knot_types[knot])\n",
    "\n",
    "\t\texcept FileNotFoundError:\n",
    "\t\t\tprint(f'File not found: {filename}')\n",
    "\t\texcept json.JSONDecodeError:\n",
    "\t\t\tprint(f'Error decoding JSON in file: {filename}')\n",
    "\n",
    "print(f'Loaded {len(X_list)} samples.  {int(len(X_list) / len(knots))} per class')\n",
    "\n",
    "\n"
   ],
   "metadata": {
    "collapsed": false
   }
  },
  {
   "cell_type": "code",
   "execution_count": 96,
   "outputs": [
    {
     "name": "stdout",
     "output_type": "stream",
     "text": [
      "\n",
      "Training set size: 368\n",
      "Testing set size: 92\n"
     ]
    }
   ],
   "source": [
    "from sklearn.model_selection import train_test_split\n",
    "\n",
    "# Convert data lists into numpy arrays\n",
    "X_np = np.array(X_list)\n",
    "y_np = np.array(Y_list)\n",
    "\n",
    "# Split the dataset into training and testing subsets\n",
    "X_train, X_test, y_train, y_test = train_test_split(\n",
    "    X_np, y_np, test_size=0.2, random_state=42, stratify=y_np\n",
    ")\n",
    "\n",
    "# Convert to PyTorch tensors\n",
    "X_torch_train = torch.tensor(X_train).reshape(-1, 1, *desired_res).float()\n",
    "X_torch_test = torch.tensor(X_test).reshape(-1, 1, *desired_res).float()\n",
    "y_torch_train = torch.tensor(y_train)\n",
    "y_torch_test = torch.tensor(y_test)\n",
    "print()\n",
    "# One-hot encode the labels\n",
    "y_train_dots = F.one_hot(y_torch_train.long(), num_classes=num_classes).float()\n",
    "y_test_dots = F.one_hot(y_torch_test.long(), num_classes=num_classes).float()\n",
    "\n",
    "# Create TensorDatasets for training and testing\n",
    "train_dataset_dots = TensorDataset(X_torch_train, y_train_dots)\n",
    "test_dataset_dots = TensorDataset(X_torch_test, y_test_dots)\n",
    "\n",
    "# Create DataLoaders for training and testing\n",
    "train_loader_dots = DataLoader(train_dataset_dots, batch_size=hyperparams['batch_size'], shuffle=False)\n",
    "test_loader_dots = DataLoader(test_dataset_dots, batch_size=hyperparams['batch_size'], shuffle=False)\n",
    "\n",
    "print(f\"Training set size: {len(train_dataset_dots)}\")\n",
    "print(f\"Testing set size: {len(test_dataset_dots)}\")"
   ],
   "metadata": {
    "collapsed": false
   }
  },
  {
   "cell_type": "code",
   "execution_count": 97,
   "outputs": [
    {
     "name": "stdout",
     "output_type": "stream",
     "text": [
      "Model loaded and ready for inference!\n"
     ]
    }
   ],
   "source": [
    "# Load the saved model\n",
    "model_path = \"classifier_4foil_3d_full_2.pth\"\n",
    "checkpoint = torch.load(model_path)\n",
    "\n",
    "# Extract the saved structure and hyperparameters\n",
    "stages = checkpoint['stages']\n",
    "pooling_configs = checkpoint['pooling_configs']\n",
    "num_classes = checkpoint['num_classes']\n",
    "desired_res = checkpoint['desired_res']\n",
    "\n",
    "# Initialize the model and load the saved state dict\n",
    "model_3D = Classifier3D(stages, pooling_configs, num_classes=num_classes).to(device)\n",
    "model_3D.load_state_dict(checkpoint['model_state_dict'])\n",
    "model_3D.eval()  # Set the model to evaluation mode\n",
    "\n",
    "print(\"Model loaded and ready for inference!\")"
   ],
   "metadata": {
    "collapsed": false
   }
  },
  {
   "cell_type": "code",
   "execution_count": 98,
   "outputs": [
    {
     "name": "stdout",
     "output_type": "stream",
     "text": [
      "Model loaded and ready for inference!\n"
     ]
    }
   ],
   "source": [
    "# Load the saved model\n",
    "model_path = \"classifier_4foil_3d_full_2.pth\"\n",
    "checkpoint = torch.load(model_path)\n",
    "\n",
    "# Extract the saved structure and hyperparameters\n",
    "stages = checkpoint['stages']\n",
    "pooling_configs = checkpoint['pooling_configs']\n",
    "num_classes = checkpoint['num_classes']\n",
    "desired_res = checkpoint['desired_res']\n",
    "\n",
    "# Initialize the model and load the saved state dict\n",
    "model_3D = Classifier3D(stages, pooling_configs, num_classes=num_classes).to(device)\n",
    "model_3D.load_state_dict(checkpoint['model_state_dict'])\n",
    "model_3D.eval()  # Set the model to evaluation mode\n",
    "\n",
    "print(\"Model loaded and ready for inference!\")"
   ],
   "metadata": {
    "collapsed": false
   }
  },
  {
   "cell_type": "code",
   "execution_count": 99,
   "outputs": [
    {
     "name": "stdout",
     "output_type": "stream",
     "text": [
      "tensor([45, 47, 28, 24,  0, 27, 36,  9, 63, 48,  0,  0, 27, 35,  0, 54, 44, 63,\n",
      "         0, 42,  0, 45, 27,  6,  0,  1,  0, 20, 69, 17, 26, 14, 27, 27, 45, 70,\n",
      "        60,  1, 19,  7, 45, 51, 15, 48, 54, 60, 75, 27, 69, 60,  0, 69,  9,  1,\n",
      "        65,  9, 62, 47, 24, 27,  3, 59, 26, 72, 44, 36, 42, 27, 52, 11, 72, 56,\n",
      "        45, 63, 72, 44, 54,  0,  0, 17, 18,  0, 19,  9, 27, 57, 27, 63,  6,  0,\n",
      "        54, 63, 27, 33, 23,  0, 69, 45,  8, 24, 63,  3,  9, 18, 54, 66, 38,  7,\n",
      "        45, 37, 28, 15, 36, 44, 74, 28, 74,  4, 56,  9, 62, 69, 60, 27, 47,  3,\n",
      "        15, 46, 72, 54,  1, 54, 48, 24, 36, 27, 62, 71, 48, 44, 27, 72, 48,  9,\n",
      "        48, 56,  1, 71, 62, 53, 54,  0,  3, 48, 74, 18, 21,  1, 66, 35, 64, 56,\n",
      "        46, 47, 20, 27, 27, 63, 45, 64, 45,  3, 15,  0, 19, 17, 27,  2, 54, 73,\n",
      "        27, 11, 27, 27, 36,  6,  0,  0, 20,  9,  9, 69, 45, 74, 54,  0, 60, 24,\n",
      "        75, 47, 54, 46, 74, 44,  0, 55, 63, 57, 63,  0, 54, 20, 51, 18, 51,  0,\n",
      "         9,  6, 27, 30, 45, 46, 51, 69, 54, 55,  0,  8, 42, 15, 72, 45, 15, 15,\n",
      "        42,  1, 48, 18, 24, 15, 37,  0, 63, 36,  0,  0, 72,  6, 27,  2, 51, 24,\n",
      "        45,  3, 27, 48,  9, 48, 28, 65,  2,  3, 63, 27, 71, 65, 59, 74, 72, 62,\n",
      "        12, 63, 20,  0, 27, 27, 24,  0,  3,  3, 42, 46,  0,  1, 45, 54, 42, 72,\n",
      "        51,  0,  3, 63, 36,  1, 54,  0, 60, 42, 12, 45, 47, 42, 65, 60,  7,  9,\n",
      "         1, 48, 47, 63, 18, 60, 45, 72,  9,  0,  0, 46, 33, 45, 47, 65,  0, 27,\n",
      "        69, 21, 63, 28, 44,  8, 18,  0,  8, 46, 44, 26, 65, 18,  0, 54, 27,  0,\n",
      "         0,  0, 18, 28, 32, 27, 51, 26, 65, 27, 63, 37, 55,  0, 45, 45, 63, 46,\n",
      "        20,  8, 24, 71, 21,  0, 27, 73])\n",
      "tensor([72, 50, 65, 24, 44, 60, 40, 45, 63, 48, 77, 41, 63, 35, 49, 55, 44, 67,\n",
      "        56, 42, 44, 24, 67, 42, 41, 20, 35, 23, 69, 17, 26, 41, 61, 61, 45, 71,\n",
      "        60, 56, 74,  8, 73, 51, 52, 52, 60, 61, 75, 57, 69, 60, 46, 69, 58, 74,\n",
      "        65, 65, 62, 47, 25, 56, 62, 62, 26, 73, 44, 40, 42, 60, 53, 20, 75, 56,\n",
      "        75, 64, 72, 53, 58, 23, 17, 17, 26, 71, 20, 64, 66, 58, 60, 75, 42, 41,\n",
      "        58, 67, 67, 60, 23, 58, 69, 46,  8, 24, 63, 26, 52, 75, 55, 69, 41,  8,\n",
      "        74, 76, 55, 35, 40, 53, 77, 68, 74, 59, 56, 48, 62, 70, 61, 59, 50, 43,\n",
      "        51, 73, 73, 54, 40, 57, 48, 25, 40, 54, 62, 71, 48, 53, 66, 73, 51, 23,\n",
      "        49, 56,  8, 71, 62, 53, 54, 50, 58, 48, 77, 76, 25, 45, 66, 35, 74, 56,\n",
      "        73, 47, 23, 63, 57, 67, 72, 76, 45, 42, 26, 47, 23, 17, 69, 65, 63, 77,\n",
      "        57, 20, 69, 67, 45, 42, 35, 59, 20, 23, 59, 70, 66, 77, 54, 46, 61, 24,\n",
      "        75, 50, 57, 73, 77, 44, 54, 68, 64, 57, 64, 49, 58, 20, 52, 77, 51, 41,\n",
      "        46, 70, 72, 48, 45, 46, 52, 70, 57, 68, 43,  8, 43, 42, 75, 24, 48, 25,\n",
      "        43, 65, 49, 23, 25, 25, 41, 52, 63, 40, 40, 17, 73, 53, 54, 68, 52, 24,\n",
      "        76, 52, 54, 49, 50, 51, 64, 68, 17,  8, 64, 69, 71, 68, 59, 74, 66, 62,\n",
      "        17, 63, 20, 59, 63, 44, 24, 59, 57, 61, 43, 74, 68, 59, 67, 55, 42, 72,\n",
      "        51, 41, 62, 66, 40, 55, 55, 65, 61, 43, 25, 46, 47, 43, 68, 61,  8, 47,\n",
      "        77, 48, 47, 66, 46, 60, 75, 76, 66, 46, 50, 50, 51, 45, 47, 65, 49, 70,\n",
      "        70, 25, 64, 56, 44,  8, 45, 35, 26, 76, 44, 26, 65, 72, 53, 54, 70, 35,\n",
      "        71, 50, 47, 55, 35, 55, 51, 26, 74, 58, 67, 72, 76, 43, 49, 49, 64, 72,\n",
      "        20, 53, 24, 71, 71, 17, 70, 76])\n"
     ]
    },
    {
     "data": {
      "text/plain": "<Figure size 2000x1400 with 2 Axes>",
      "image/png": "[encoded data removed]"
     },
     "metadata": {},
     "output_type": "display_data"
    },
    {
     "name": "stdout",
     "output_type": "stream",
     "text": [
      "0.24728260869565216\n"
     ]
    }
   ],
   "source": [
    "model_3D.eval()  # Set the model to evaluation mode\n",
    "predicted_labels = []\n",
    "with torch.no_grad():  # Disable gradient calculation\n",
    "    for batch in train_loader_dots:\n",
    "        inputs = batch[0].to(device)\n",
    "        # print(torch.max(batch[1], 1)[1])\n",
    "        outputs = model_3D(inputs)\n",
    "        _, predicted = torch.max(outputs, 1)\n",
    "        predicted_labels.extend(predicted.cpu().numpy())\n",
    "# Convert the list to a numpy array\n",
    "predicted_labels = np.array(predicted_labels)\n",
    "# If you need the result as a tensor, convert back to tensor\n",
    "predicted_labels = torch.tensor(predicted_labels)\n",
    "print(predicted_labels)\n",
    "\n",
    "# _, predicted_labels = torch.max(model(X_test.to(device)), 1)\n",
    "_, true_class_labels = torch.max(y_train_dots, 1)\n",
    "print(true_class_labels)\n",
    "# print(torch.max(y_test_dots, 1)[1])\n",
    "predicted_labels_np = predicted_labels.cpu().numpy()\n",
    "true_labels_np = true_class_labels.cpu().numpy()\n",
    "cm = confusion_matrix(true_labels_np, predicted_labels_np)\n",
    "plt.figure(figsize=(20, 14))\n",
    "sns.heatmap(cm, annot=True, fmt=\"d\", xticklabels=knots, yticklabels=knots)\n",
    "plt.xlabel('Predicted Labels')\n",
    "plt.ylabel('True Labels')\n",
    "plt.title('Confusion Matrix')\n",
    "plt.show()\n",
    "Accuracy = (np.sum(predicted_labels_np == true_labels_np)) / len(predicted_labels_np)\n",
    "print(Accuracy)"
   ],
   "metadata": {
    "collapsed": false
   }
  },
  {
   "cell_type": "code",
   "execution_count": 99,
   "outputs": [],
   "source": [],
   "metadata": {
    "collapsed": false
   }
  },
  {
   "cell_type": "code",
   "execution_count": 105,
   "outputs": [
    {
     "name": "stderr",
     "output_type": "stream",
     "text": [
      "Fine-tuning Progress:   1%|          | 1/150 [00:00<02:21,  1.05it/s]"
     ]
    },
    {
     "name": "stdout",
     "output_type": "stream",
     "text": [
      "Epoch 1/150, Loss: 0.3835\n"
     ]
    },
    {
     "name": "stderr",
     "output_type": "stream",
     "text": [
      "Fine-tuning Progress:   1%|▏         | 2/150 [00:01<01:56,  1.27it/s]"
     ]
    },
    {
     "name": "stdout",
     "output_type": "stream",
     "text": [
      "Epoch 2/150, Loss: 0.3768\n"
     ]
    },
    {
     "name": "stderr",
     "output_type": "stream",
     "text": [
      "Fine-tuning Progress:   2%|▏         | 3/150 [00:02<01:48,  1.36it/s]"
     ]
    },
    {
     "name": "stdout",
     "output_type": "stream",
     "text": [
      "Epoch 3/150, Loss: 0.3710\n"
     ]
    },
    {
     "name": "stderr",
     "output_type": "stream",
     "text": [
      "Fine-tuning Progress:   3%|▎         | 4/150 [00:02<01:43,  1.41it/s]"
     ]
    },
    {
     "name": "stdout",
     "output_type": "stream",
     "text": [
      "Epoch 4/150, Loss: 0.3661\n"
     ]
    },
    {
     "name": "stderr",
     "output_type": "stream",
     "text": [
      "Fine-tuning Progress:   3%|▎         | 5/150 [00:03<01:41,  1.44it/s]"
     ]
    },
    {
     "name": "stdout",
     "output_type": "stream",
     "text": [
      "Epoch 5/150, Loss: 0.3612\n"
     ]
    },
    {
     "name": "stderr",
     "output_type": "stream",
     "text": [
      "Fine-tuning Progress:   4%|▍         | 6/150 [00:04<01:38,  1.46it/s]"
     ]
    },
    {
     "name": "stdout",
     "output_type": "stream",
     "text": [
      "Epoch 6/150, Loss: 0.3565\n"
     ]
    },
    {
     "name": "stderr",
     "output_type": "stream",
     "text": [
      "Fine-tuning Progress:   5%|▍         | 7/150 [00:04<01:37,  1.47it/s]"
     ]
    },
    {
     "name": "stdout",
     "output_type": "stream",
     "text": [
      "Epoch 7/150, Loss: 0.3519\n"
     ]
    },
    {
     "name": "stderr",
     "output_type": "stream",
     "text": [
      "Fine-tuning Progress:   5%|▌         | 8/150 [00:05<01:35,  1.48it/s]"
     ]
    },
    {
     "name": "stdout",
     "output_type": "stream",
     "text": [
      "Epoch 8/150, Loss: 0.3475\n"
     ]
    },
    {
     "name": "stderr",
     "output_type": "stream",
     "text": [
      "Fine-tuning Progress:   6%|▌         | 9/150 [00:06<01:35,  1.48it/s]"
     ]
    },
    {
     "name": "stdout",
     "output_type": "stream",
     "text": [
      "Epoch 9/150, Loss: 0.3432\n"
     ]
    },
    {
     "name": "stderr",
     "output_type": "stream",
     "text": [
      "Fine-tuning Progress:   7%|▋         | 10/150 [00:07<01:35,  1.47it/s]"
     ]
    },
    {
     "name": "stdout",
     "output_type": "stream",
     "text": [
      "Epoch 10/150, Loss: 0.3390\n"
     ]
    },
    {
     "name": "stderr",
     "output_type": "stream",
     "text": [
      "Fine-tuning Progress:   7%|▋         | 11/150 [00:07<01:36,  1.44it/s]"
     ]
    },
    {
     "name": "stdout",
     "output_type": "stream",
     "text": [
      "Epoch 11/150, Loss: 0.3349\n"
     ]
    },
    {
     "name": "stderr",
     "output_type": "stream",
     "text": [
      "Fine-tuning Progress:   8%|▊         | 12/150 [00:08<01:35,  1.45it/s]"
     ]
    },
    {
     "name": "stdout",
     "output_type": "stream",
     "text": [
      "Epoch 12/150, Loss: 0.3308\n"
     ]
    },
    {
     "name": "stderr",
     "output_type": "stream",
     "text": [
      "Fine-tuning Progress:   9%|▊         | 13/150 [00:09<01:33,  1.47it/s]"
     ]
    },
    {
     "name": "stdout",
     "output_type": "stream",
     "text": [
      "Epoch 13/150, Loss: 0.3268\n"
     ]
    },
    {
     "name": "stderr",
     "output_type": "stream",
     "text": [
      "Fine-tuning Progress:   9%|▉         | 14/150 [00:09<01:32,  1.47it/s]"
     ]
    },
    {
     "name": "stdout",
     "output_type": "stream",
     "text": [
      "Epoch 14/150, Loss: 0.3229\n"
     ]
    },
    {
     "name": "stderr",
     "output_type": "stream",
     "text": [
      "Fine-tuning Progress:  10%|█         | 15/150 [00:10<01:31,  1.47it/s]"
     ]
    },
    {
     "name": "stdout",
     "output_type": "stream",
     "text": [
      "Epoch 15/150, Loss: 0.3192\n"
     ]
    },
    {
     "name": "stderr",
     "output_type": "stream",
     "text": [
      "Fine-tuning Progress:  11%|█         | 16/150 [00:11<01:31,  1.47it/s]"
     ]
    },
    {
     "name": "stdout",
     "output_type": "stream",
     "text": [
      "Epoch 16/150, Loss: 0.3155\n"
     ]
    },
    {
     "name": "stderr",
     "output_type": "stream",
     "text": [
      "Fine-tuning Progress:  11%|█▏        | 17/150 [00:11<01:30,  1.47it/s]"
     ]
    },
    {
     "name": "stdout",
     "output_type": "stream",
     "text": [
      "Epoch 17/150, Loss: 0.3118\n"
     ]
    },
    {
     "name": "stderr",
     "output_type": "stream",
     "text": [
      "Fine-tuning Progress:  12%|█▏        | 18/150 [00:12<01:29,  1.48it/s]"
     ]
    },
    {
     "name": "stdout",
     "output_type": "stream",
     "text": [
      "Epoch 18/150, Loss: 0.3082\n"
     ]
    },
    {
     "name": "stderr",
     "output_type": "stream",
     "text": [
      "Fine-tuning Progress:  13%|█▎        | 19/150 [00:13<01:28,  1.48it/s]"
     ]
    },
    {
     "name": "stdout",
     "output_type": "stream",
     "text": [
      "Epoch 19/150, Loss: 0.3048\n"
     ]
    },
    {
     "name": "stderr",
     "output_type": "stream",
     "text": [
      "Fine-tuning Progress:  13%|█▎        | 20/150 [00:13<01:27,  1.49it/s]"
     ]
    },
    {
     "name": "stdout",
     "output_type": "stream",
     "text": [
      "Epoch 20/150, Loss: 0.3013\n"
     ]
    },
    {
     "name": "stderr",
     "output_type": "stream",
     "text": [
      "Fine-tuning Progress:  14%|█▍        | 21/150 [00:14<01:26,  1.49it/s]"
     ]
    },
    {
     "name": "stdout",
     "output_type": "stream",
     "text": [
      "Epoch 21/150, Loss: 0.2979\n"
     ]
    },
    {
     "name": "stderr",
     "output_type": "stream",
     "text": [
      "Fine-tuning Progress:  15%|█▍        | 22/150 [00:15<01:26,  1.49it/s]"
     ]
    },
    {
     "name": "stdout",
     "output_type": "stream",
     "text": [
      "Epoch 22/150, Loss: 0.2946\n"
     ]
    },
    {
     "name": "stderr",
     "output_type": "stream",
     "text": [
      "Fine-tuning Progress:  15%|█▌        | 23/150 [00:15<01:25,  1.49it/s]"
     ]
    },
    {
     "name": "stdout",
     "output_type": "stream",
     "text": [
      "Epoch 23/150, Loss: 0.2914\n"
     ]
    },
    {
     "name": "stderr",
     "output_type": "stream",
     "text": [
      "Fine-tuning Progress:  16%|█▌        | 24/150 [00:16<01:24,  1.49it/s]"
     ]
    },
    {
     "name": "stdout",
     "output_type": "stream",
     "text": [
      "Epoch 24/150, Loss: 0.2882\n"
     ]
    },
    {
     "name": "stderr",
     "output_type": "stream",
     "text": [
      "Fine-tuning Progress:  17%|█▋        | 25/150 [00:17<01:24,  1.49it/s]"
     ]
    },
    {
     "name": "stdout",
     "output_type": "stream",
     "text": [
      "Epoch 25/150, Loss: 0.2850\n"
     ]
    },
    {
     "name": "stderr",
     "output_type": "stream",
     "text": [
      "Fine-tuning Progress:  17%|█▋        | 26/150 [00:17<01:23,  1.49it/s]"
     ]
    },
    {
     "name": "stdout",
     "output_type": "stream",
     "text": [
      "Epoch 26/150, Loss: 0.2820\n"
     ]
    },
    {
     "name": "stderr",
     "output_type": "stream",
     "text": [
      "Fine-tuning Progress:  18%|█▊        | 27/150 [00:18<01:22,  1.49it/s]"
     ]
    },
    {
     "name": "stdout",
     "output_type": "stream",
     "text": [
      "Epoch 27/150, Loss: 0.2789\n"
     ]
    },
    {
     "name": "stderr",
     "output_type": "stream",
     "text": [
      "Fine-tuning Progress:  19%|█▊        | 28/150 [00:19<01:21,  1.49it/s]"
     ]
    },
    {
     "name": "stdout",
     "output_type": "stream",
     "text": [
      "Epoch 28/150, Loss: 0.2760\n"
     ]
    },
    {
     "name": "stderr",
     "output_type": "stream",
     "text": [
      "Fine-tuning Progress:  19%|█▉        | 29/150 [00:19<01:21,  1.49it/s]"
     ]
    },
    {
     "name": "stdout",
     "output_type": "stream",
     "text": [
      "Epoch 29/150, Loss: 0.2731\n"
     ]
    },
    {
     "name": "stderr",
     "output_type": "stream",
     "text": [
      "Fine-tuning Progress:  20%|██        | 30/150 [00:20<01:20,  1.49it/s]"
     ]
    },
    {
     "name": "stdout",
     "output_type": "stream",
     "text": [
      "Epoch 30/150, Loss: 0.2702\n"
     ]
    },
    {
     "name": "stderr",
     "output_type": "stream",
     "text": [
      "Fine-tuning Progress:  21%|██        | 31/150 [00:21<01:19,  1.49it/s]"
     ]
    },
    {
     "name": "stdout",
     "output_type": "stream",
     "text": [
      "Epoch 31/150, Loss: 0.2674\n"
     ]
    },
    {
     "name": "stderr",
     "output_type": "stream",
     "text": [
      "Fine-tuning Progress:  21%|██▏       | 32/150 [00:21<01:18,  1.49it/s]"
     ]
    },
    {
     "name": "stdout",
     "output_type": "stream",
     "text": [
      "Epoch 32/150, Loss: 0.2646\n"
     ]
    },
    {
     "name": "stderr",
     "output_type": "stream",
     "text": [
      "Fine-tuning Progress:  22%|██▏       | 33/150 [00:22<01:18,  1.49it/s]"
     ]
    },
    {
     "name": "stdout",
     "output_type": "stream",
     "text": [
      "Epoch 33/150, Loss: 0.2619\n"
     ]
    },
    {
     "name": "stderr",
     "output_type": "stream",
     "text": [
      "Fine-tuning Progress:  23%|██▎       | 34/150 [00:23<01:17,  1.49it/s]"
     ]
    },
    {
     "name": "stdout",
     "output_type": "stream",
     "text": [
      "Epoch 34/150, Loss: 0.2592\n"
     ]
    },
    {
     "name": "stderr",
     "output_type": "stream",
     "text": [
      "Fine-tuning Progress:  23%|██▎       | 35/150 [00:23<01:17,  1.49it/s]"
     ]
    },
    {
     "name": "stdout",
     "output_type": "stream",
     "text": [
      "Epoch 35/150, Loss: 0.2566\n"
     ]
    },
    {
     "name": "stderr",
     "output_type": "stream",
     "text": [
      "Fine-tuning Progress:  24%|██▍       | 36/150 [00:24<01:16,  1.49it/s]"
     ]
    },
    {
     "name": "stdout",
     "output_type": "stream",
     "text": [
      "Epoch 36/150, Loss: 0.2540\n"
     ]
    },
    {
     "name": "stderr",
     "output_type": "stream",
     "text": [
      "Fine-tuning Progress:  25%|██▍       | 37/150 [00:25<01:15,  1.49it/s]"
     ]
    },
    {
     "name": "stdout",
     "output_type": "stream",
     "text": [
      "Epoch 37/150, Loss: 0.2515\n"
     ]
    },
    {
     "name": "stderr",
     "output_type": "stream",
     "text": [
      "Fine-tuning Progress:  25%|██▌       | 38/150 [00:25<01:15,  1.49it/s]"
     ]
    },
    {
     "name": "stdout",
     "output_type": "stream",
     "text": [
      "Epoch 38/150, Loss: 0.2489\n"
     ]
    },
    {
     "name": "stderr",
     "output_type": "stream",
     "text": [
      "Fine-tuning Progress:  26%|██▌       | 39/150 [00:26<01:14,  1.49it/s]"
     ]
    },
    {
     "name": "stdout",
     "output_type": "stream",
     "text": [
      "Epoch 39/150, Loss: 0.2465\n"
     ]
    },
    {
     "name": "stderr",
     "output_type": "stream",
     "text": [
      "Fine-tuning Progress:  27%|██▋       | 40/150 [00:27<01:13,  1.50it/s]"
     ]
    },
    {
     "name": "stdout",
     "output_type": "stream",
     "text": [
      "Epoch 40/150, Loss: 0.2441\n"
     ]
    },
    {
     "name": "stderr",
     "output_type": "stream",
     "text": [
      "Fine-tuning Progress:  27%|██▋       | 41/150 [00:27<01:12,  1.50it/s]"
     ]
    },
    {
     "name": "stdout",
     "output_type": "stream",
     "text": [
      "Epoch 41/150, Loss: 0.2417\n"
     ]
    },
    {
     "name": "stderr",
     "output_type": "stream",
     "text": [
      "Fine-tuning Progress:  28%|██▊       | 42/150 [00:28<01:12,  1.50it/s]"
     ]
    },
    {
     "name": "stdout",
     "output_type": "stream",
     "text": [
      "Epoch 42/150, Loss: 0.2393\n"
     ]
    },
    {
     "name": "stderr",
     "output_type": "stream",
     "text": [
      "Fine-tuning Progress:  29%|██▊       | 43/150 [00:29<01:11,  1.50it/s]"
     ]
    },
    {
     "name": "stdout",
     "output_type": "stream",
     "text": [
      "Epoch 43/150, Loss: 0.2370\n"
     ]
    },
    {
     "name": "stderr",
     "output_type": "stream",
     "text": [
      "Fine-tuning Progress:  29%|██▉       | 44/150 [00:29<01:10,  1.49it/s]"
     ]
    },
    {
     "name": "stdout",
     "output_type": "stream",
     "text": [
      "Epoch 44/150, Loss: 0.2348\n"
     ]
    },
    {
     "name": "stderr",
     "output_type": "stream",
     "text": [
      "Fine-tuning Progress:  30%|███       | 45/150 [00:30<01:10,  1.50it/s]"
     ]
    },
    {
     "name": "stdout",
     "output_type": "stream",
     "text": [
      "Epoch 45/150, Loss: 0.2325\n"
     ]
    },
    {
     "name": "stderr",
     "output_type": "stream",
     "text": [
      "Fine-tuning Progress:  31%|███       | 46/150 [00:31<01:09,  1.50it/s]"
     ]
    },
    {
     "name": "stdout",
     "output_type": "stream",
     "text": [
      "Epoch 46/150, Loss: 0.2303\n"
     ]
    },
    {
     "name": "stderr",
     "output_type": "stream",
     "text": [
      "Fine-tuning Progress:  31%|███▏      | 47/150 [00:31<01:08,  1.50it/s]"
     ]
    },
    {
     "name": "stdout",
     "output_type": "stream",
     "text": [
      "Epoch 47/150, Loss: 0.2281\n"
     ]
    },
    {
     "name": "stderr",
     "output_type": "stream",
     "text": [
      "Fine-tuning Progress:  32%|███▏      | 48/150 [00:32<01:08,  1.50it/s]"
     ]
    },
    {
     "name": "stdout",
     "output_type": "stream",
     "text": [
      "Epoch 48/150, Loss: 0.2260\n"
     ]
    },
    {
     "name": "stderr",
     "output_type": "stream",
     "text": [
      "Fine-tuning Progress:  33%|███▎      | 49/150 [00:33<01:07,  1.50it/s]"
     ]
    },
    {
     "name": "stdout",
     "output_type": "stream",
     "text": [
      "Epoch 49/150, Loss: 0.2238\n"
     ]
    },
    {
     "name": "stderr",
     "output_type": "stream",
     "text": [
      "Fine-tuning Progress:  33%|███▎      | 50/150 [00:33<01:06,  1.50it/s]"
     ]
    },
    {
     "name": "stdout",
     "output_type": "stream",
     "text": [
      "Epoch 50/150, Loss: 0.2218\n"
     ]
    },
    {
     "name": "stderr",
     "output_type": "stream",
     "text": [
      "Fine-tuning Progress:  34%|███▍      | 51/150 [00:34<01:05,  1.50it/s]"
     ]
    },
    {
     "name": "stdout",
     "output_type": "stream",
     "text": [
      "Epoch 51/150, Loss: 0.2197\n"
     ]
    },
    {
     "name": "stderr",
     "output_type": "stream",
     "text": [
      "Fine-tuning Progress:  35%|███▍      | 52/150 [00:35<01:05,  1.50it/s]"
     ]
    },
    {
     "name": "stdout",
     "output_type": "stream",
     "text": [
      "Epoch 52/150, Loss: 0.2177\n"
     ]
    },
    {
     "name": "stderr",
     "output_type": "stream",
     "text": [
      "Fine-tuning Progress:  35%|███▌      | 53/150 [00:35<01:04,  1.50it/s]"
     ]
    },
    {
     "name": "stdout",
     "output_type": "stream",
     "text": [
      "Epoch 53/150, Loss: 0.2156\n"
     ]
    },
    {
     "name": "stderr",
     "output_type": "stream",
     "text": [
      "Fine-tuning Progress:  36%|███▌      | 54/150 [00:36<01:04,  1.50it/s]"
     ]
    },
    {
     "name": "stdout",
     "output_type": "stream",
     "text": [
      "Epoch 54/150, Loss: 0.2137\n"
     ]
    },
    {
     "name": "stderr",
     "output_type": "stream",
     "text": [
      "Fine-tuning Progress:  37%|███▋      | 55/150 [00:37<01:03,  1.50it/s]"
     ]
    },
    {
     "name": "stdout",
     "output_type": "stream",
     "text": [
      "Epoch 55/150, Loss: 0.2118\n"
     ]
    },
    {
     "name": "stderr",
     "output_type": "stream",
     "text": [
      "Fine-tuning Progress:  37%|███▋      | 56/150 [00:37<01:02,  1.50it/s]"
     ]
    },
    {
     "name": "stdout",
     "output_type": "stream",
     "text": [
      "Epoch 56/150, Loss: 0.2098\n"
     ]
    },
    {
     "name": "stderr",
     "output_type": "stream",
     "text": [
      "Fine-tuning Progress:  38%|███▊      | 57/150 [00:38<01:02,  1.50it/s]"
     ]
    },
    {
     "name": "stdout",
     "output_type": "stream",
     "text": [
      "Epoch 57/150, Loss: 0.2079\n"
     ]
    },
    {
     "name": "stderr",
     "output_type": "stream",
     "text": [
      "Fine-tuning Progress:  39%|███▊      | 58/150 [00:39<01:01,  1.50it/s]"
     ]
    },
    {
     "name": "stdout",
     "output_type": "stream",
     "text": [
      "Epoch 58/150, Loss: 0.2061\n"
     ]
    },
    {
     "name": "stderr",
     "output_type": "stream",
     "text": [
      "Fine-tuning Progress:  39%|███▉      | 59/150 [00:39<01:00,  1.50it/s]"
     ]
    },
    {
     "name": "stdout",
     "output_type": "stream",
     "text": [
      "Epoch 59/150, Loss: 0.2042\n"
     ]
    },
    {
     "name": "stderr",
     "output_type": "stream",
     "text": [
      "Fine-tuning Progress:  40%|████      | 60/150 [00:40<01:00,  1.49it/s]"
     ]
    },
    {
     "name": "stdout",
     "output_type": "stream",
     "text": [
      "Epoch 60/150, Loss: 0.2024\n"
     ]
    },
    {
     "name": "stderr",
     "output_type": "stream",
     "text": [
      "Fine-tuning Progress:  41%|████      | 61/150 [00:41<00:59,  1.50it/s]"
     ]
    },
    {
     "name": "stdout",
     "output_type": "stream",
     "text": [
      "Epoch 61/150, Loss: 0.2006\n"
     ]
    },
    {
     "name": "stderr",
     "output_type": "stream",
     "text": [
      "Fine-tuning Progress:  41%|████▏     | 62/150 [00:41<00:58,  1.50it/s]"
     ]
    },
    {
     "name": "stdout",
     "output_type": "stream",
     "text": [
      "Epoch 62/150, Loss: 0.1988\n"
     ]
    },
    {
     "name": "stderr",
     "output_type": "stream",
     "text": [
      "Fine-tuning Progress:  42%|████▏     | 63/150 [00:42<00:58,  1.49it/s]"
     ]
    },
    {
     "name": "stdout",
     "output_type": "stream",
     "text": [
      "Epoch 63/150, Loss: 0.1971\n"
     ]
    },
    {
     "name": "stderr",
     "output_type": "stream",
     "text": [
      "Fine-tuning Progress:  43%|████▎     | 64/150 [00:43<00:57,  1.49it/s]"
     ]
    },
    {
     "name": "stdout",
     "output_type": "stream",
     "text": [
      "Epoch 64/150, Loss: 0.1954\n"
     ]
    },
    {
     "name": "stderr",
     "output_type": "stream",
     "text": [
      "Fine-tuning Progress:  43%|████▎     | 65/150 [00:43<00:57,  1.48it/s]"
     ]
    },
    {
     "name": "stdout",
     "output_type": "stream",
     "text": [
      "Epoch 65/150, Loss: 0.1937\n"
     ]
    },
    {
     "name": "stderr",
     "output_type": "stream",
     "text": [
      "Fine-tuning Progress:  44%|████▍     | 66/150 [00:44<00:56,  1.49it/s]"
     ]
    },
    {
     "name": "stdout",
     "output_type": "stream",
     "text": [
      "Epoch 66/150, Loss: 0.1920\n"
     ]
    },
    {
     "name": "stderr",
     "output_type": "stream",
     "text": [
      "Fine-tuning Progress:  45%|████▍     | 67/150 [00:45<00:55,  1.49it/s]"
     ]
    },
    {
     "name": "stdout",
     "output_type": "stream",
     "text": [
      "Epoch 67/150, Loss: 0.1904\n"
     ]
    },
    {
     "name": "stderr",
     "output_type": "stream",
     "text": [
      "Fine-tuning Progress:  45%|████▌     | 68/150 [00:45<00:55,  1.49it/s]"
     ]
    },
    {
     "name": "stdout",
     "output_type": "stream",
     "text": [
      "Epoch 68/150, Loss: 0.1888\n"
     ]
    },
    {
     "name": "stderr",
     "output_type": "stream",
     "text": [
      "Fine-tuning Progress:  46%|████▌     | 69/150 [00:46<00:54,  1.49it/s]"
     ]
    },
    {
     "name": "stdout",
     "output_type": "stream",
     "text": [
      "Epoch 69/150, Loss: 0.1872\n"
     ]
    },
    {
     "name": "stderr",
     "output_type": "stream",
     "text": [
      "Fine-tuning Progress:  47%|████▋     | 70/150 [00:47<00:53,  1.49it/s]"
     ]
    },
    {
     "name": "stdout",
     "output_type": "stream",
     "text": [
      "Epoch 70/150, Loss: 0.1856\n"
     ]
    },
    {
     "name": "stderr",
     "output_type": "stream",
     "text": [
      "Fine-tuning Progress:  47%|████▋     | 71/150 [00:47<00:53,  1.49it/s]"
     ]
    },
    {
     "name": "stdout",
     "output_type": "stream",
     "text": [
      "Epoch 71/150, Loss: 0.1840\n"
     ]
    },
    {
     "name": "stderr",
     "output_type": "stream",
     "text": [
      "Fine-tuning Progress:  48%|████▊     | 72/150 [00:48<00:52,  1.49it/s]"
     ]
    },
    {
     "name": "stdout",
     "output_type": "stream",
     "text": [
      "Epoch 72/150, Loss: 0.1825\n"
     ]
    },
    {
     "name": "stderr",
     "output_type": "stream",
     "text": [
      "Fine-tuning Progress:  49%|████▊     | 73/150 [00:49<00:51,  1.49it/s]"
     ]
    },
    {
     "name": "stdout",
     "output_type": "stream",
     "text": [
      "Epoch 73/150, Loss: 0.1809\n"
     ]
    },
    {
     "name": "stderr",
     "output_type": "stream",
     "text": [
      "Fine-tuning Progress:  49%|████▉     | 74/150 [00:49<00:51,  1.48it/s]"
     ]
    },
    {
     "name": "stdout",
     "output_type": "stream",
     "text": [
      "Epoch 74/150, Loss: 0.1794\n"
     ]
    },
    {
     "name": "stderr",
     "output_type": "stream",
     "text": [
      "Fine-tuning Progress:  50%|█████     | 75/150 [00:50<00:50,  1.49it/s]"
     ]
    },
    {
     "name": "stdout",
     "output_type": "stream",
     "text": [
      "Epoch 75/150, Loss: 0.1780\n"
     ]
    },
    {
     "name": "stderr",
     "output_type": "stream",
     "text": [
      "Fine-tuning Progress:  51%|█████     | 76/150 [00:51<00:49,  1.49it/s]"
     ]
    },
    {
     "name": "stdout",
     "output_type": "stream",
     "text": [
      "Epoch 76/150, Loss: 0.1765\n"
     ]
    },
    {
     "name": "stderr",
     "output_type": "stream",
     "text": [
      "Fine-tuning Progress:  51%|█████▏    | 77/150 [00:51<00:48,  1.50it/s]"
     ]
    },
    {
     "name": "stdout",
     "output_type": "stream",
     "text": [
      "Epoch 77/150, Loss: 0.1750\n"
     ]
    },
    {
     "name": "stderr",
     "output_type": "stream",
     "text": [
      "Fine-tuning Progress:  52%|█████▏    | 78/150 [00:52<00:48,  1.49it/s]"
     ]
    },
    {
     "name": "stdout",
     "output_type": "stream",
     "text": [
      "Epoch 78/150, Loss: 0.1736\n"
     ]
    },
    {
     "name": "stderr",
     "output_type": "stream",
     "text": [
      "Fine-tuning Progress:  53%|█████▎    | 79/150 [00:53<00:47,  1.49it/s]"
     ]
    },
    {
     "name": "stdout",
     "output_type": "stream",
     "text": [
      "Epoch 79/150, Loss: 0.1722\n"
     ]
    },
    {
     "name": "stderr",
     "output_type": "stream",
     "text": [
      "Fine-tuning Progress:  53%|█████▎    | 80/150 [00:53<00:46,  1.49it/s]"
     ]
    },
    {
     "name": "stdout",
     "output_type": "stream",
     "text": [
      "Epoch 80/150, Loss: 0.1708\n"
     ]
    },
    {
     "name": "stderr",
     "output_type": "stream",
     "text": [
      "Fine-tuning Progress:  54%|█████▍    | 81/150 [00:54<00:46,  1.49it/s]"
     ]
    },
    {
     "name": "stdout",
     "output_type": "stream",
     "text": [
      "Epoch 81/150, Loss: 0.1694\n"
     ]
    },
    {
     "name": "stderr",
     "output_type": "stream",
     "text": [
      "Fine-tuning Progress:  55%|█████▍    | 82/150 [00:55<00:45,  1.49it/s]"
     ]
    },
    {
     "name": "stdout",
     "output_type": "stream",
     "text": [
      "Epoch 82/150, Loss: 0.1680\n"
     ]
    },
    {
     "name": "stderr",
     "output_type": "stream",
     "text": [
      "Fine-tuning Progress:  55%|█████▌    | 83/150 [00:55<00:44,  1.49it/s]"
     ]
    },
    {
     "name": "stdout",
     "output_type": "stream",
     "text": [
      "Epoch 83/150, Loss: 0.1667\n"
     ]
    },
    {
     "name": "stderr",
     "output_type": "stream",
     "text": [
      "Fine-tuning Progress:  56%|█████▌    | 84/150 [00:56<00:44,  1.49it/s]"
     ]
    },
    {
     "name": "stdout",
     "output_type": "stream",
     "text": [
      "Epoch 84/150, Loss: 0.1654\n"
     ]
    },
    {
     "name": "stderr",
     "output_type": "stream",
     "text": [
      "Fine-tuning Progress:  57%|█████▋    | 85/150 [00:57<00:43,  1.49it/s]"
     ]
    },
    {
     "name": "stdout",
     "output_type": "stream",
     "text": [
      "Epoch 85/150, Loss: 0.1640\n"
     ]
    },
    {
     "name": "stderr",
     "output_type": "stream",
     "text": [
      "Fine-tuning Progress:  57%|█████▋    | 86/150 [00:57<00:43,  1.48it/s]"
     ]
    },
    {
     "name": "stdout",
     "output_type": "stream",
     "text": [
      "Epoch 86/150, Loss: 0.1627\n"
     ]
    },
    {
     "name": "stderr",
     "output_type": "stream",
     "text": [
      "Fine-tuning Progress:  58%|█████▊    | 87/150 [00:58<00:42,  1.49it/s]"
     ]
    },
    {
     "name": "stdout",
     "output_type": "stream",
     "text": [
      "Epoch 87/150, Loss: 0.1615\n"
     ]
    },
    {
     "name": "stderr",
     "output_type": "stream",
     "text": [
      "Fine-tuning Progress:  59%|█████▊    | 88/150 [00:59<00:41,  1.49it/s]"
     ]
    },
    {
     "name": "stdout",
     "output_type": "stream",
     "text": [
      "Epoch 88/150, Loss: 0.1601\n"
     ]
    },
    {
     "name": "stderr",
     "output_type": "stream",
     "text": [
      "Fine-tuning Progress:  59%|█████▉    | 89/150 [01:00<00:40,  1.49it/s]"
     ]
    },
    {
     "name": "stdout",
     "output_type": "stream",
     "text": [
      "Epoch 89/150, Loss: 0.1589\n"
     ]
    },
    {
     "name": "stderr",
     "output_type": "stream",
     "text": [
      "Fine-tuning Progress:  60%|██████    | 90/150 [01:00<00:40,  1.49it/s]"
     ]
    },
    {
     "name": "stdout",
     "output_type": "stream",
     "text": [
      "Epoch 90/150, Loss: 0.1576\n"
     ]
    },
    {
     "name": "stderr",
     "output_type": "stream",
     "text": [
      "Fine-tuning Progress:  61%|██████    | 91/150 [01:01<00:39,  1.49it/s]"
     ]
    },
    {
     "name": "stdout",
     "output_type": "stream",
     "text": [
      "Epoch 91/150, Loss: 0.1564\n"
     ]
    },
    {
     "name": "stderr",
     "output_type": "stream",
     "text": [
      "Fine-tuning Progress:  61%|██████▏   | 92/150 [01:02<00:38,  1.50it/s]"
     ]
    },
    {
     "name": "stdout",
     "output_type": "stream",
     "text": [
      "Epoch 92/150, Loss: 0.1552\n"
     ]
    },
    {
     "name": "stderr",
     "output_type": "stream",
     "text": [
      "Fine-tuning Progress:  62%|██████▏   | 93/150 [01:02<00:38,  1.50it/s]"
     ]
    },
    {
     "name": "stdout",
     "output_type": "stream",
     "text": [
      "Epoch 93/150, Loss: 0.1540\n"
     ]
    },
    {
     "name": "stderr",
     "output_type": "stream",
     "text": [
      "Fine-tuning Progress:  63%|██████▎   | 94/150 [01:03<00:37,  1.50it/s]"
     ]
    },
    {
     "name": "stdout",
     "output_type": "stream",
     "text": [
      "Epoch 94/150, Loss: 0.1528\n"
     ]
    },
    {
     "name": "stderr",
     "output_type": "stream",
     "text": [
      "Fine-tuning Progress:  63%|██████▎   | 95/150 [01:04<00:36,  1.49it/s]"
     ]
    },
    {
     "name": "stdout",
     "output_type": "stream",
     "text": [
      "Epoch 95/150, Loss: 0.1517\n"
     ]
    },
    {
     "name": "stderr",
     "output_type": "stream",
     "text": [
      "Fine-tuning Progress:  64%|██████▍   | 96/150 [01:04<00:36,  1.49it/s]"
     ]
    },
    {
     "name": "stdout",
     "output_type": "stream",
     "text": [
      "Epoch 96/150, Loss: 0.1505\n"
     ]
    },
    {
     "name": "stderr",
     "output_type": "stream",
     "text": [
      "Fine-tuning Progress:  65%|██████▍   | 97/150 [01:05<00:35,  1.49it/s]"
     ]
    },
    {
     "name": "stdout",
     "output_type": "stream",
     "text": [
      "Epoch 97/150, Loss: 0.1493\n"
     ]
    },
    {
     "name": "stderr",
     "output_type": "stream",
     "text": [
      "Fine-tuning Progress:  65%|██████▌   | 98/150 [01:06<00:34,  1.49it/s]"
     ]
    },
    {
     "name": "stdout",
     "output_type": "stream",
     "text": [
      "Epoch 98/150, Loss: 0.1482\n"
     ]
    },
    {
     "name": "stderr",
     "output_type": "stream",
     "text": [
      "Fine-tuning Progress:  66%|██████▌   | 99/150 [01:06<00:34,  1.49it/s]"
     ]
    },
    {
     "name": "stdout",
     "output_type": "stream",
     "text": [
      "Epoch 99/150, Loss: 0.1470\n"
     ]
    },
    {
     "name": "stderr",
     "output_type": "stream",
     "text": [
      "Fine-tuning Progress:  67%|██████▋   | 100/150 [01:07<00:33,  1.49it/s]"
     ]
    },
    {
     "name": "stdout",
     "output_type": "stream",
     "text": [
      "Epoch 100/150, Loss: 0.1459\n"
     ]
    },
    {
     "name": "stderr",
     "output_type": "stream",
     "text": [
      "Fine-tuning Progress:  67%|██████▋   | 101/150 [01:08<00:32,  1.49it/s]"
     ]
    },
    {
     "name": "stdout",
     "output_type": "stream",
     "text": [
      "Epoch 101/150, Loss: 0.1448\n"
     ]
    },
    {
     "name": "stderr",
     "output_type": "stream",
     "text": [
      "Fine-tuning Progress:  68%|██████▊   | 102/150 [01:08<00:32,  1.49it/s]"
     ]
    },
    {
     "name": "stdout",
     "output_type": "stream",
     "text": [
      "Epoch 102/150, Loss: 0.1437\n"
     ]
    },
    {
     "name": "stderr",
     "output_type": "stream",
     "text": [
      "Fine-tuning Progress:  69%|██████▊   | 103/150 [01:09<00:31,  1.48it/s]"
     ]
    },
    {
     "name": "stdout",
     "output_type": "stream",
     "text": [
      "Epoch 103/150, Loss: 0.1427\n"
     ]
    },
    {
     "name": "stderr",
     "output_type": "stream",
     "text": [
      "Fine-tuning Progress:  69%|██████▉   | 104/150 [01:10<00:30,  1.49it/s]"
     ]
    },
    {
     "name": "stdout",
     "output_type": "stream",
     "text": [
      "Epoch 104/150, Loss: 0.1416\n"
     ]
    },
    {
     "name": "stderr",
     "output_type": "stream",
     "text": [
      "Fine-tuning Progress:  70%|███████   | 105/150 [01:10<00:30,  1.48it/s]"
     ]
    },
    {
     "name": "stdout",
     "output_type": "stream",
     "text": [
      "Epoch 105/150, Loss: 0.1406\n"
     ]
    },
    {
     "name": "stderr",
     "output_type": "stream",
     "text": [
      "Fine-tuning Progress:  71%|███████   | 106/150 [01:11<00:29,  1.49it/s]"
     ]
    },
    {
     "name": "stdout",
     "output_type": "stream",
     "text": [
      "Epoch 106/150, Loss: 0.1395\n"
     ]
    },
    {
     "name": "stderr",
     "output_type": "stream",
     "text": [
      "Fine-tuning Progress:  71%|███████▏  | 107/150 [01:12<00:28,  1.49it/s]"
     ]
    },
    {
     "name": "stdout",
     "output_type": "stream",
     "text": [
      "Epoch 107/150, Loss: 0.1385\n"
     ]
    },
    {
     "name": "stderr",
     "output_type": "stream",
     "text": [
      "Fine-tuning Progress:  72%|███████▏  | 108/150 [01:12<00:28,  1.49it/s]"
     ]
    },
    {
     "name": "stdout",
     "output_type": "stream",
     "text": [
      "Epoch 108/150, Loss: 0.1375\n"
     ]
    },
    {
     "name": "stderr",
     "output_type": "stream",
     "text": [
      "Fine-tuning Progress:  73%|███████▎  | 109/150 [01:13<00:27,  1.49it/s]"
     ]
    },
    {
     "name": "stdout",
     "output_type": "stream",
     "text": [
      "Epoch 109/150, Loss: 0.1365\n"
     ]
    },
    {
     "name": "stderr",
     "output_type": "stream",
     "text": [
      "Fine-tuning Progress:  73%|███████▎  | 110/150 [01:14<00:26,  1.49it/s]"
     ]
    },
    {
     "name": "stdout",
     "output_type": "stream",
     "text": [
      "Epoch 110/150, Loss: 0.1354\n"
     ]
    },
    {
     "name": "stderr",
     "output_type": "stream",
     "text": [
      "Fine-tuning Progress:  74%|███████▍  | 111/150 [01:14<00:26,  1.49it/s]"
     ]
    },
    {
     "name": "stdout",
     "output_type": "stream",
     "text": [
      "Epoch 111/150, Loss: 0.1345\n"
     ]
    },
    {
     "name": "stderr",
     "output_type": "stream",
     "text": [
      "Fine-tuning Progress:  75%|███████▍  | 112/150 [01:15<00:25,  1.49it/s]"
     ]
    },
    {
     "name": "stdout",
     "output_type": "stream",
     "text": [
      "Epoch 112/150, Loss: 0.1335\n"
     ]
    },
    {
     "name": "stderr",
     "output_type": "stream",
     "text": [
      "Fine-tuning Progress:  75%|███████▌  | 113/150 [01:16<00:24,  1.49it/s]"
     ]
    },
    {
     "name": "stdout",
     "output_type": "stream",
     "text": [
      "Epoch 113/150, Loss: 0.1325\n"
     ]
    },
    {
     "name": "stderr",
     "output_type": "stream",
     "text": [
      "Fine-tuning Progress:  76%|███████▌  | 114/150 [01:16<00:24,  1.49it/s]"
     ]
    },
    {
     "name": "stdout",
     "output_type": "stream",
     "text": [
      "Epoch 114/150, Loss: 0.1316\n"
     ]
    },
    {
     "name": "stderr",
     "output_type": "stream",
     "text": [
      "Fine-tuning Progress:  77%|███████▋  | 115/150 [01:17<00:23,  1.49it/s]"
     ]
    },
    {
     "name": "stdout",
     "output_type": "stream",
     "text": [
      "Epoch 115/150, Loss: 0.1307\n"
     ]
    },
    {
     "name": "stderr",
     "output_type": "stream",
     "text": [
      "Fine-tuning Progress:  77%|███████▋  | 116/150 [01:18<00:22,  1.48it/s]"
     ]
    },
    {
     "name": "stdout",
     "output_type": "stream",
     "text": [
      "Epoch 116/150, Loss: 0.1297\n"
     ]
    },
    {
     "name": "stderr",
     "output_type": "stream",
     "text": [
      "Fine-tuning Progress:  78%|███████▊  | 117/150 [01:18<00:22,  1.48it/s]"
     ]
    },
    {
     "name": "stdout",
     "output_type": "stream",
     "text": [
      "Epoch 117/150, Loss: 0.1288\n"
     ]
    },
    {
     "name": "stderr",
     "output_type": "stream",
     "text": [
      "Fine-tuning Progress:  79%|███████▊  | 118/150 [01:19<00:21,  1.49it/s]"
     ]
    },
    {
     "name": "stdout",
     "output_type": "stream",
     "text": [
      "Epoch 118/150, Loss: 0.1279\n"
     ]
    },
    {
     "name": "stderr",
     "output_type": "stream",
     "text": [
      "Fine-tuning Progress:  79%|███████▉  | 119/150 [01:20<00:20,  1.49it/s]"
     ]
    },
    {
     "name": "stdout",
     "output_type": "stream",
     "text": [
      "Epoch 119/150, Loss: 0.1269\n"
     ]
    },
    {
     "name": "stderr",
     "output_type": "stream",
     "text": [
      "Fine-tuning Progress:  80%|████████  | 120/150 [01:20<00:20,  1.49it/s]"
     ]
    },
    {
     "name": "stdout",
     "output_type": "stream",
     "text": [
      "Epoch 120/150, Loss: 0.1261\n"
     ]
    },
    {
     "name": "stderr",
     "output_type": "stream",
     "text": [
      "Fine-tuning Progress:  81%|████████  | 121/150 [01:21<00:19,  1.48it/s]"
     ]
    },
    {
     "name": "stdout",
     "output_type": "stream",
     "text": [
      "Epoch 121/150, Loss: 0.1252\n"
     ]
    },
    {
     "name": "stderr",
     "output_type": "stream",
     "text": [
      "Fine-tuning Progress:  81%|████████▏ | 122/150 [01:22<00:18,  1.49it/s]"
     ]
    },
    {
     "name": "stdout",
     "output_type": "stream",
     "text": [
      "Epoch 122/150, Loss: 0.1243\n"
     ]
    },
    {
     "name": "stderr",
     "output_type": "stream",
     "text": [
      "Fine-tuning Progress:  82%|████████▏ | 123/150 [01:22<00:18,  1.49it/s]"
     ]
    },
    {
     "name": "stdout",
     "output_type": "stream",
     "text": [
      "Epoch 123/150, Loss: 0.1234\n"
     ]
    },
    {
     "name": "stderr",
     "output_type": "stream",
     "text": [
      "Fine-tuning Progress:  83%|████████▎ | 124/150 [01:23<00:17,  1.49it/s]"
     ]
    },
    {
     "name": "stdout",
     "output_type": "stream",
     "text": [
      "Epoch 124/150, Loss: 0.1226\n"
     ]
    },
    {
     "name": "stderr",
     "output_type": "stream",
     "text": [
      "Fine-tuning Progress:  83%|████████▎ | 125/150 [01:24<00:16,  1.49it/s]"
     ]
    },
    {
     "name": "stdout",
     "output_type": "stream",
     "text": [
      "Epoch 125/150, Loss: 0.1217\n"
     ]
    },
    {
     "name": "stderr",
     "output_type": "stream",
     "text": [
      "Fine-tuning Progress:  84%|████████▍ | 126/150 [01:24<00:16,  1.49it/s]"
     ]
    },
    {
     "name": "stdout",
     "output_type": "stream",
     "text": [
      "Epoch 126/150, Loss: 0.1209\n"
     ]
    },
    {
     "name": "stderr",
     "output_type": "stream",
     "text": [
      "Fine-tuning Progress:  85%|████████▍ | 127/150 [01:25<00:15,  1.49it/s]"
     ]
    },
    {
     "name": "stdout",
     "output_type": "stream",
     "text": [
      "Epoch 127/150, Loss: 0.1200\n"
     ]
    },
    {
     "name": "stderr",
     "output_type": "stream",
     "text": [
      "Fine-tuning Progress:  85%|████████▌ | 128/150 [01:26<00:14,  1.48it/s]"
     ]
    },
    {
     "name": "stdout",
     "output_type": "stream",
     "text": [
      "Epoch 128/150, Loss: 0.1192\n"
     ]
    },
    {
     "name": "stderr",
     "output_type": "stream",
     "text": [
      "Fine-tuning Progress:  86%|████████▌ | 129/150 [01:26<00:14,  1.49it/s]"
     ]
    },
    {
     "name": "stdout",
     "output_type": "stream",
     "text": [
      "Epoch 129/150, Loss: 0.1184\n"
     ]
    },
    {
     "name": "stderr",
     "output_type": "stream",
     "text": [
      "Fine-tuning Progress:  87%|████████▋ | 130/150 [01:27<00:13,  1.49it/s]"
     ]
    },
    {
     "name": "stdout",
     "output_type": "stream",
     "text": [
      "Epoch 130/150, Loss: 0.1176\n"
     ]
    },
    {
     "name": "stderr",
     "output_type": "stream",
     "text": [
      "Fine-tuning Progress:  87%|████████▋ | 131/150 [01:28<00:12,  1.49it/s]"
     ]
    },
    {
     "name": "stdout",
     "output_type": "stream",
     "text": [
      "Epoch 131/150, Loss: 0.1168\n"
     ]
    },
    {
     "name": "stderr",
     "output_type": "stream",
     "text": [
      "Fine-tuning Progress:  88%|████████▊ | 132/150 [01:28<00:12,  1.49it/s]"
     ]
    },
    {
     "name": "stdout",
     "output_type": "stream",
     "text": [
      "Epoch 132/150, Loss: 0.1160\n"
     ]
    },
    {
     "name": "stderr",
     "output_type": "stream",
     "text": [
      "Fine-tuning Progress:  89%|████████▊ | 133/150 [01:29<00:11,  1.49it/s]"
     ]
    },
    {
     "name": "stdout",
     "output_type": "stream",
     "text": [
      "Epoch 133/150, Loss: 0.1152\n"
     ]
    },
    {
     "name": "stderr",
     "output_type": "stream",
     "text": [
      "Fine-tuning Progress:  89%|████████▉ | 134/150 [01:30<00:10,  1.49it/s]"
     ]
    },
    {
     "name": "stdout",
     "output_type": "stream",
     "text": [
      "Epoch 134/150, Loss: 0.1144\n"
     ]
    },
    {
     "name": "stderr",
     "output_type": "stream",
     "text": [
      "Fine-tuning Progress:  90%|█████████ | 135/150 [01:30<00:10,  1.49it/s]"
     ]
    },
    {
     "name": "stdout",
     "output_type": "stream",
     "text": [
      "Epoch 135/150, Loss: 0.1137\n"
     ]
    },
    {
     "name": "stderr",
     "output_type": "stream",
     "text": [
      "Fine-tuning Progress:  91%|█████████ | 136/150 [01:31<00:09,  1.49it/s]"
     ]
    },
    {
     "name": "stdout",
     "output_type": "stream",
     "text": [
      "Epoch 136/150, Loss: 0.1129\n"
     ]
    },
    {
     "name": "stderr",
     "output_type": "stream",
     "text": [
      "Fine-tuning Progress:  91%|█████████▏| 137/150 [01:32<00:08,  1.49it/s]"
     ]
    },
    {
     "name": "stdout",
     "output_type": "stream",
     "text": [
      "Epoch 137/150, Loss: 0.1122\n"
     ]
    },
    {
     "name": "stderr",
     "output_type": "stream",
     "text": [
      "Fine-tuning Progress:  92%|█████████▏| 138/150 [01:32<00:08,  1.49it/s]"
     ]
    },
    {
     "name": "stdout",
     "output_type": "stream",
     "text": [
      "Epoch 138/150, Loss: 0.1114\n"
     ]
    },
    {
     "name": "stderr",
     "output_type": "stream",
     "text": [
      "Fine-tuning Progress:  93%|█████████▎| 139/150 [01:33<00:07,  1.49it/s]"
     ]
    },
    {
     "name": "stdout",
     "output_type": "stream",
     "text": [
      "Epoch 139/150, Loss: 0.1107\n"
     ]
    },
    {
     "name": "stderr",
     "output_type": "stream",
     "text": [
      "Fine-tuning Progress:  93%|█████████▎| 140/150 [01:34<00:06,  1.49it/s]"
     ]
    },
    {
     "name": "stdout",
     "output_type": "stream",
     "text": [
      "Epoch 140/150, Loss: 0.1100\n"
     ]
    },
    {
     "name": "stderr",
     "output_type": "stream",
     "text": [
      "Fine-tuning Progress:  94%|█████████▍| 141/150 [01:34<00:06,  1.49it/s]"
     ]
    },
    {
     "name": "stdout",
     "output_type": "stream",
     "text": [
      "Epoch 141/150, Loss: 0.1092\n"
     ]
    },
    {
     "name": "stderr",
     "output_type": "stream",
     "text": [
      "Fine-tuning Progress:  95%|█████████▍| 142/150 [01:35<00:05,  1.48it/s]"
     ]
    },
    {
     "name": "stdout",
     "output_type": "stream",
     "text": [
      "Epoch 142/150, Loss: 0.1085\n"
     ]
    },
    {
     "name": "stderr",
     "output_type": "stream",
     "text": [
      "Fine-tuning Progress:  95%|█████████▌| 143/150 [01:36<00:04,  1.48it/s]"
     ]
    },
    {
     "name": "stdout",
     "output_type": "stream",
     "text": [
      "Epoch 143/150, Loss: 0.1078\n"
     ]
    },
    {
     "name": "stderr",
     "output_type": "stream",
     "text": [
      "Fine-tuning Progress:  96%|█████████▌| 144/150 [01:36<00:04,  1.48it/s]"
     ]
    },
    {
     "name": "stdout",
     "output_type": "stream",
     "text": [
      "Epoch 144/150, Loss: 0.1071\n"
     ]
    },
    {
     "name": "stderr",
     "output_type": "stream",
     "text": [
      "Fine-tuning Progress:  97%|█████████▋| 145/150 [01:37<00:03,  1.47it/s]"
     ]
    },
    {
     "name": "stdout",
     "output_type": "stream",
     "text": [
      "Epoch 145/150, Loss: 0.1064\n"
     ]
    },
    {
     "name": "stderr",
     "output_type": "stream",
     "text": [
      "Fine-tuning Progress:  97%|█████████▋| 146/150 [01:38<00:02,  1.48it/s]"
     ]
    },
    {
     "name": "stdout",
     "output_type": "stream",
     "text": [
      "Epoch 146/150, Loss: 0.1057\n"
     ]
    },
    {
     "name": "stderr",
     "output_type": "stream",
     "text": [
      "Fine-tuning Progress:  98%|█████████▊| 147/150 [01:38<00:02,  1.48it/s]"
     ]
    },
    {
     "name": "stdout",
     "output_type": "stream",
     "text": [
      "Epoch 147/150, Loss: 0.1050\n"
     ]
    },
    {
     "name": "stderr",
     "output_type": "stream",
     "text": [
      "Fine-tuning Progress:  99%|█████████▊| 148/150 [01:39<00:01,  1.49it/s]"
     ]
    },
    {
     "name": "stdout",
     "output_type": "stream",
     "text": [
      "Epoch 148/150, Loss: 0.1043\n"
     ]
    },
    {
     "name": "stderr",
     "output_type": "stream",
     "text": [
      "Fine-tuning Progress:  99%|█████████▉| 149/150 [01:40<00:00,  1.48it/s]"
     ]
    },
    {
     "name": "stdout",
     "output_type": "stream",
     "text": [
      "Epoch 149/150, Loss: 0.1037\n"
     ]
    },
    {
     "name": "stderr",
     "output_type": "stream",
     "text": [
      "Fine-tuning Progress: 100%|██████████| 150/150 [01:41<00:00,  1.48it/s]"
     ]
    },
    {
     "name": "stdout",
     "output_type": "stream",
     "text": [
      "Epoch 150/150, Loss: 0.1030\n",
      "Fine-tuned model saved to fine_tuned_classifier_4foil_3d.pth\n"
     ]
    },
    {
     "name": "stderr",
     "output_type": "stream",
     "text": [
      "\n"
     ]
    }
   ],
   "source": [
    "\n",
    "# Loss function, optimizer, and scheduler\n",
    "criterion = nn.CrossEntropyLoss().to(device)\n",
    "optimizer = Adam(model.parameters(), lr=fine_tune_hyperparams['learning_rate'])\n",
    "scheduler = ReduceLROnPlateau(optimizer, mode='min', factor=fine_tune_hyperparams['factor'],\n",
    "                              patience=fine_tune_hyperparams['patience'], verbose=True)\n",
    "\n",
    "# Mixed precision training setup\n",
    "scaler = GradScaler()\n",
    "\n",
    "# Fine-tuning loop\n",
    "train_losses = []\n",
    "for epoch in trange(fine_tune_hyperparams['num_epochs'], desc=\"Fine-tuning Progress\"):\n",
    "    model.train()\n",
    "    total_loss = 0\n",
    "\n",
    "    for inputs, targets in train_loader_dots:\n",
    "        inputs, targets = inputs.to(device), targets.to(device)\n",
    "        optimizer.zero_grad()\n",
    "\n",
    "        with autocast():  # Enable mixed precision\n",
    "            outputs = model(inputs)\n",
    "            loss = criterion(outputs, targets)\n",
    "\n",
    "        # Backpropagation with scaled gradients\n",
    "        scaler.scale(loss).backward()\n",
    "        scaler.step(optimizer)\n",
    "        scaler.update()\n",
    "\n",
    "        total_loss += loss.item()\n",
    "\n",
    "    # Compute average loss for the epoch\n",
    "    avg_loss = total_loss / len(train_loader_dots)\n",
    "    train_losses.append(avg_loss)\n",
    "\n",
    "    # Step the LR scheduler\n",
    "    scheduler.step(avg_loss)\n",
    "\n",
    "    print(f\"Epoch {epoch + 1}/{fine_tune_hyperparams['num_epochs']}, Loss: {avg_loss:.4f}\")\n",
    "\n",
    "# Save the fine-tuned model\n",
    "fine_tuned_model_path = \"fine_tuned_classifier_4foil_3d.pth\"\n",
    "torch.save({\n",
    "    'model_state_dict': model.state_dict(),\n",
    "    'hyperparams': fine_tune_hyperparams,\n",
    "    'stages': stages,\n",
    "    'pooling_configs': pooling_configs,\n",
    "    'desired_res': desired_res,\n",
    "    'num_classes': num_classes\n",
    "}, fine_tuned_model_path)\n",
    "\n",
    "print(f\"Fine-tuned model saved to {fine_tuned_model_path}\")"
   ],
   "metadata": {
    "collapsed": false
   }
  },
  {
   "cell_type": "code",
   "execution_count": 107,
   "outputs": [
    {
     "name": "stdout",
     "output_type": "stream",
     "text": [
      "92\n",
      "92\n"
     ]
    },
    {
     "data": {
      "text/plain": "<Figure size 2000x1400 with 2 Axes>",
      "image/png": "[encoded data removed]"
     },
     "metadata": {},
     "output_type": "display_data"
    },
    {
     "name": "stdout",
     "output_type": "stream",
     "text": [
      "0.8695652173913043\n"
     ]
    }
   ],
   "source": [
    "model.eval()  # Set the model to evaluation mode\n",
    "predicted_labels = []\n",
    "with torch.no_grad():  # Disable gradient calculation\n",
    "    for batch in test_loader_dots:\n",
    "        inputs = batch[0].to(device)\n",
    "        outputs = model(inputs)\n",
    "        _, predicted = torch.max(outputs, 1)\n",
    "        predicted_labels.extend(predicted.cpu().numpy())\n",
    "# Convert the list to a numpy array\n",
    "predicted_labels = np.array(predicted_labels)\n",
    "# If you need the result as a tensor, convert back to tensor\n",
    "predicted_labels = torch.tensor(predicted_labels)\n",
    "# print(predicted_labels)\n",
    "print(len(predicted_labels))\n",
    "# _, predicted_labels = torch.max(model(X_test.to(device)), 1)\n",
    "_, true_class_labels = torch.max(y_test_dots, 1)\n",
    "print(len(true_class_labels))\n",
    "# print(true_class_labels)\n",
    "predicted_labels_np = predicted_labels.cpu().numpy()\n",
    "true_labels_np = true_class_labels.cpu().numpy()\n",
    "cm = confusion_matrix(true_labels_np, predicted_labels_np)\n",
    "plt.figure(figsize=(20, 14))\n",
    "sns.heatmap(cm, annot=True, fmt=\"d\", xticklabels=knots, yticklabels=knots)\n",
    "plt.xlabel('Predicted Labels')\n",
    "plt.ylabel('True Labels')\n",
    "plt.title('Confusion Matrix')\n",
    "plt.show()\n",
    "Accuracy = (np.sum(predicted_labels_np == true_labels_np)) / len(predicted_labels_np)\n",
    "print(Accuracy)"
   ],
   "metadata": {
    "collapsed": false
   }
  },
  {
   "cell_type": "code",
   "execution_count": 104,
   "outputs": [
    {
     "name": "stdout",
     "output_type": "stream",
     "text": [
      "0.9320652173913043\n"
     ]
    }
   ],
   "source": [],
   "metadata": {
    "collapsed": false
   }
  }
 ],
 "metadata": {
  "kernelspec": {
   "display_name": "Python 3",
   "language": "python",
   "name": "python3"
  },
  "language_info": {
   "codemirror_mode": {
    "name": "ipython",
    "version": 2
   },
   "file_extension": ".py",
   "mimetype": "text/x-python",
   "name": "python",
   "nbconvert_exporter": "python",
   "pygments_lexer": "ipython2",
   "version": "2.7.6"
  }
 },
 "nbformat": 4,
 "nbformat_minor": 0
}
