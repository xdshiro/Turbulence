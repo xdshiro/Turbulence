{
 "cells": [
  {
   "cell_type": "code",
   "execution_count": 28,
   "metadata": {
    "collapsed": true
   },
   "outputs": [],
   "source": [
    "import sys\n",
    "sys.path.append('../')\n",
    "import time\n",
    "import numpy as np\n",
    "import matplotlib.pyplot as plt\n",
    "from sklearn.model_selection import train_test_split\n",
    "from scipy.signal import convolve2d\n",
    "from scipy.optimize import curve_fit\n",
    "from scipy.optimize import brute\n",
    "# import cv2\n",
    "import torch\n",
    "import json\n",
    "import csv\n",
    "from models import *\n",
    "from functions.all_knots_functions import *\n",
    "from torch.utils.data import TensorDataset, DataLoader\n",
    "from torch import nn\n",
    "from sklearn.model_selection import train_test_split\n",
    "from torch.optim import lr_scheduler\n",
    "from torch.optim.lr_scheduler import ReduceLROnPlateau\n",
    "import collections\n",
    "import itertools\n",
    "import torch\n",
    "\n",
    "import torch.nn.functional as F\n",
    "from tqdm import trange\n",
    "import pickle\n",
    "from sklearn.metrics import confusion_matrix\n",
    "import seaborn as sns\n",
    "\n",
    "from torchsummary import summary\n",
    "device = torch.device(\"cpu\")\n",
    "# from torchinfo import summary"
   ]
  },
  {
   "cell_type": "code",
   "execution_count": 29,
   "outputs": [],
   "source": [
    "\n",
    "def print_layer_info(model):\n",
    "    for name, module in model.named_modules():\n",
    "        # Check for conv layers (2D or 3D)\n",
    "        if isinstance(module, (nn.Conv2d, nn.Conv3d)):\n",
    "            print(f\"Layer: {name}\")\n",
    "            print(f\"  Type: {module.__class__.__name__}\")\n",
    "            print(f\"  In Channels: {module.in_channels}, Out Channels: {module.out_channels}\")\n",
    "            print(f\"  Kernel Size: {module.kernel_size}\")\n",
    "            print(f\"  Stride: {module.stride}\")\n",
    "            print(f\"  Padding: {module.padding}\")\n",
    "            print(f\"  Dilation: {module.dilation}\")\n",
    "            print()\n",
    "        # Check for linear layers\n",
    "        elif isinstance(module, nn.Linear):\n",
    "            print(f\"Layer: {name}\")\n",
    "            print(f\"  Type: {module.__class__.__name__}\")\n",
    "            print(f\"  In Features: {module.in_features}, Out Features: {module.out_features}\")\n",
    "            print()"
   ],
   "metadata": {
    "collapsed": false
   }
  },
  {
   "cell_type": "code",
   "execution_count": 30,
   "outputs": [
    {
     "name": "stdout",
     "output_type": "stream",
     "text": [
      "stages: \n",
      " [[(1, 32, 3, 1, 1), (32, 32, 3, 1, 1), (32, 32, 3, 1, 1)], [(32, 64, 5, 1, 1), (64, 64, 5, 1, 1), (64, 64, 5, 1, 1)]]\n",
      "pooling_configs: \n",
      " [(2, 2, 1), (2, 2, 1)]\n",
      "num_classes: \n",
      " 81\n",
      "----------------------------------------------------------------\n",
      "        Layer (type)               Output Shape         Param #\n",
      "================================================================\n",
      "            Conv3d-1       [-1, 32, 32, 32, 32]             896\n",
      "       BatchNorm3d-2       [-1, 32, 32, 32, 32]              64\n",
      "              ReLU-3       [-1, 32, 32, 32, 32]               0\n",
      "            Conv3d-4       [-1, 32, 32, 32, 32]          27,680\n",
      "       BatchNorm3d-5       [-1, 32, 32, 32, 32]              64\n",
      "              ReLU-6       [-1, 32, 32, 32, 32]               0\n",
      "            Conv3d-7       [-1, 32, 32, 32, 32]          27,680\n",
      "       BatchNorm3d-8       [-1, 32, 32, 32, 32]              64\n",
      "              ReLU-9       [-1, 32, 32, 32, 32]               0\n",
      "        MaxPool3d-10       [-1, 32, 17, 17, 17]               0\n",
      "           Conv3d-11       [-1, 64, 15, 15, 15]         256,064\n",
      "      BatchNorm3d-12       [-1, 64, 15, 15, 15]             128\n",
      "             ReLU-13       [-1, 64, 15, 15, 15]               0\n",
      "           Conv3d-14       [-1, 64, 13, 13, 13]         512,064\n",
      "      BatchNorm3d-15       [-1, 64, 13, 13, 13]             128\n",
      "             ReLU-16       [-1, 64, 13, 13, 13]               0\n",
      "           Conv3d-17       [-1, 64, 11, 11, 11]         512,064\n",
      "      BatchNorm3d-18       [-1, 64, 11, 11, 11]             128\n",
      "             ReLU-19       [-1, 64, 11, 11, 11]               0\n",
      "        MaxPool3d-20          [-1, 64, 6, 6, 6]               0\n",
      "           Linear-21                  [-1, 256]       3,539,200\n",
      "           Linear-22                   [-1, 81]          20,817\n",
      "================================================================\n",
      "Total params: 4,897,041\n",
      "Trainable params: 4,897,041\n",
      "Non-trainable params: 0\n",
      "----------------------------------------------------------------\n",
      "Input size (MB): 0.12\n",
      "Forward/backward pass size (MB): 83.42\n",
      "Params size (MB): 18.68\n",
      "Estimated Total Size (MB): 102.23\n",
      "----------------------------------------------------------------\n"
     ]
    }
   ],
   "source": [
    "\n",
    "# Load the saved model\n",
    "model_path = \"classifier_4foil_3d_full_2.pth\"\n",
    "checkpoint = torch.load(model_path)\n",
    "\n",
    "# Extract the saved structure and hyperparameters\n",
    "stages = checkpoint['stages']\n",
    "pooling_configs = checkpoint['pooling_configs']\n",
    "num_classes = checkpoint['num_classes']\n",
    "desired_res = checkpoint['desired_res']\n",
    "\n",
    "# Initialize the model and load the saved state dict\n",
    "model_3D = Classifier3D(stages, pooling_configs, num_classes=num_classes).to(device)\n",
    "model_3D.load_state_dict(checkpoint['model_state_dict'])\n",
    "model_3D.eval()  # Set the model to evaluation mode\n",
    "\n",
    "# print(\"Model loaded and ready for inference!\")\n",
    "print('stages: \\n', stages)\n",
    "print('pooling_configs: \\n',pooling_configs)\n",
    "print('num_classes: \\n', num_classes)\n",
    "summary(model_3D, input_size=(1, 32, 32, 32), device='cpu')"
   ],
   "metadata": {
    "collapsed": false
   }
  },
  {
   "cell_type": "code",
   "execution_count": 31,
   "outputs": [
    {
     "ename": "TypeError",
     "evalue": "summary() got an unexpected keyword argument 'verbose'",
     "output_type": "error",
     "traceback": [
      "\u001B[1;31m---------------------------------------------------------------------------\u001B[0m",
      "\u001B[1;31mTypeError\u001B[0m                                 Traceback (most recent call last)",
      "Cell \u001B[1;32mIn[31], line 1\u001B[0m\n\u001B[1;32m----> 1\u001B[0m \u001B[43msummary\u001B[49m\u001B[43m(\u001B[49m\u001B[43mmodel_3D\u001B[49m\u001B[43m,\u001B[49m\u001B[43m \u001B[49m\u001B[43minput_size\u001B[49m\u001B[38;5;241;43m=\u001B[39;49m\u001B[43m(\u001B[49m\u001B[38;5;241;43m1\u001B[39;49m\u001B[43m,\u001B[49m\u001B[43m \u001B[49m\u001B[38;5;241;43m1\u001B[39;49m\u001B[43m,\u001B[49m\u001B[43m \u001B[49m\u001B[38;5;241;43m32\u001B[39;49m\u001B[43m,\u001B[49m\u001B[43m \u001B[49m\u001B[38;5;241;43m32\u001B[39;49m\u001B[43m,\u001B[49m\u001B[43m \u001B[49m\u001B[38;5;241;43m32\u001B[39;49m\u001B[43m)\u001B[49m\u001B[43m,\u001B[49m\u001B[43m \u001B[49m\u001B[43mverbose\u001B[49m\u001B[38;5;241;43m=\u001B[39;49m\u001B[38;5;241;43m2\u001B[39;49m\u001B[43m)\u001B[49m\n",
      "\u001B[1;31mTypeError\u001B[0m: summary() got an unexpected keyword argument 'verbose'"
     ]
    }
   ],
   "source": [
    "summary(model_3D, input_size=(1, 1, 32, 32, 32), verbose=2)\n"
   ],
   "metadata": {
    "collapsed": false
   }
  },
  {
   "cell_type": "code",
   "execution_count": null,
   "outputs": [],
   "source": [
    "import torch.onnx\n",
    "dummy_input = torch.randn(1, 1, 32, 32, 32).to('cpu')\n",
    "torch.onnx.export(model_3D.to('cpu'), dummy_input, \"my_model.onnx\", opset_version=11)"
   ],
   "metadata": {
    "collapsed": false
   }
  },
  {
   "cell_type": "code",
   "execution_count": null,
   "outputs": [],
   "source": [
    "hyperparams = {\n",
    "    'learning_rate': 1e-5,  # Control dropout rate\n",
    "    'patience': 0,  # Number of epochs between learning rate decay\n",
    "    'decay_epoch': 25,\n",
    "    'factor': 0.2,  # Multiplicative factor of learning rate decay\n",
    "    'batch_size': 64\n",
    "}\n",
    "num_epochs = 50\n"
   ],
   "metadata": {
    "collapsed": false
   }
  },
  {
   "cell_type": "code",
   "execution_count": 32,
   "outputs": [
    {
     "name": "stdout",
     "output_type": "stream",
     "text": [
      "----------------------------------------------------------------\n",
      "        Layer (type)               Output Shape         Param #\n",
      "================================================================\n",
      "            Conv3d-1       [-1, 32, 32, 32, 32]             896\n",
      "       BatchNorm3d-2       [-1, 32, 32, 32, 32]              64\n",
      "              ReLU-3       [-1, 32, 32, 32, 32]               0\n",
      "            Conv3d-4       [-1, 32, 32, 32, 32]          27,680\n",
      "       BatchNorm3d-5       [-1, 32, 32, 32, 32]              64\n",
      "              ReLU-6       [-1, 32, 32, 32, 32]               0\n",
      "            Conv3d-7       [-1, 32, 32, 32, 32]          27,680\n",
      "       BatchNorm3d-8       [-1, 32, 32, 32, 32]              64\n",
      "              ReLU-9       [-1, 32, 32, 32, 32]               0\n",
      "        MaxPool3d-10       [-1, 32, 17, 17, 17]               0\n",
      "           Conv3d-11       [-1, 64, 15, 15, 15]         256,064\n",
      "      BatchNorm3d-12       [-1, 64, 15, 15, 15]             128\n",
      "             ReLU-13       [-1, 64, 15, 15, 15]               0\n",
      "           Conv3d-14       [-1, 64, 13, 13, 13]         512,064\n",
      "      BatchNorm3d-15       [-1, 64, 13, 13, 13]             128\n",
      "             ReLU-16       [-1, 64, 13, 13, 13]               0\n",
      "           Conv3d-17       [-1, 64, 11, 11, 11]         512,064\n",
      "      BatchNorm3d-18       [-1, 64, 11, 11, 11]             128\n",
      "             ReLU-19       [-1, 64, 11, 11, 11]               0\n",
      "        MaxPool3d-20          [-1, 64, 6, 6, 6]               0\n",
      "           Linear-21                  [-1, 256]       3,539,200\n",
      "           Linear-22                   [-1, 11]           2,827\n",
      "================================================================\n",
      "Total params: 4,879,051\n",
      "Trainable params: 4,879,051\n",
      "Non-trainable params: 0\n",
      "----------------------------------------------------------------\n",
      "Input size (MB): 0.12\n",
      "Forward/backward pass size (MB): 83.42\n",
      "Params size (MB): 18.61\n",
      "Estimated Total Size (MB): 102.16\n",
      "----------------------------------------------------------------\n"
     ]
    }
   ],
   "source": [
    "\n",
    "# Load the saved model\n",
    "model_path = \"classifier_knots_3d_32_full_3.pth\"\n",
    "checkpoint = torch.load(model_path)\n",
    "\n",
    "# Extract the saved structure and hyperparameters\n",
    "stages = checkpoint['stages']\n",
    "pooling_configs = checkpoint['pooling_configs']\n",
    "num_classes = checkpoint['num_classes']\n",
    "# desired_res = checkpoint['desired_res']\n",
    "\n",
    "# Initialize the model and load the saved state dict\n",
    "model_3D_H = Classifier3D(stages, pooling_configs, num_classes=num_classes).to(device)\n",
    "model_3D_H.load_state_dict(checkpoint['model_state_dict'])\n",
    "model_3D_H.eval()  # Set the model to evaluation mode\n",
    "\n",
    "# print(\"Model loaded and ready for inference!\")\n",
    "# print(stages, pooling_configs, num_classes)\n",
    "\n",
    "summary(model_3D_H, input_size=(1, 32, 32, 32), device='cpu')"
   ],
   "metadata": {
    "collapsed": false
   }
  },
  {
   "cell_type": "code",
   "execution_count": 33,
   "outputs": [
    {
     "name": "stdout",
     "output_type": "stream",
     "text": [
      "----------------------------------------------------------------\n",
      "        Layer (type)               Output Shape         Param #\n",
      "================================================================\n",
      "            Linear-1                  [-1, 128]          11,776\n",
      "       BatchNorm1d-2                  [-1, 128]             256\n",
      "              ReLU-3                  [-1, 128]               0\n",
      "           Dropout-4                  [-1, 128]               0\n",
      "            Linear-5                 [-1, 1024]         132,096\n",
      "       BatchNorm1d-6                 [-1, 1024]           2,048\n",
      "              ReLU-7                 [-1, 1024]               0\n",
      "           Dropout-8                 [-1, 1024]               0\n",
      "            Linear-9                 [-1, 1024]       1,049,600\n",
      "      BatchNorm1d-10                 [-1, 1024]           2,048\n",
      "             ReLU-11                 [-1, 1024]               0\n",
      "          Dropout-12                 [-1, 1024]               0\n",
      "           Linear-13                 [-1, 1024]       1,049,600\n",
      "      BatchNorm1d-14                 [-1, 1024]           2,048\n",
      "             ReLU-15                 [-1, 1024]               0\n",
      "          Dropout-16                 [-1, 1024]               0\n",
      "           Linear-17                 [-1, 1024]       1,049,600\n",
      "      BatchNorm1d-18                 [-1, 1024]           2,048\n",
      "             ReLU-19                 [-1, 1024]               0\n",
      "          Dropout-20                 [-1, 1024]               0\n",
      "           Linear-21                 [-1, 1024]       1,049,600\n",
      "      BatchNorm1d-22                 [-1, 1024]           2,048\n",
      "             ReLU-23                 [-1, 1024]               0\n",
      "          Dropout-24                 [-1, 1024]               0\n",
      "           Linear-25                 [-1, 1024]       1,049,600\n",
      "      BatchNorm1d-26                 [-1, 1024]           2,048\n",
      "             ReLU-27                 [-1, 1024]               0\n",
      "          Dropout-28                 [-1, 1024]               0\n",
      "           Linear-29                 [-1, 1024]       1,049,600\n",
      "      BatchNorm1d-30                 [-1, 1024]           2,048\n",
      "             ReLU-31                 [-1, 1024]               0\n",
      "          Dropout-32                 [-1, 1024]               0\n",
      "           Linear-33                 [-1, 1024]       1,049,600\n",
      "      BatchNorm1d-34                 [-1, 1024]           2,048\n",
      "             ReLU-35                 [-1, 1024]               0\n",
      "          Dropout-36                 [-1, 1024]               0\n",
      "           Linear-37                 [-1, 1024]       1,049,600\n",
      "      BatchNorm1d-38                 [-1, 1024]           2,048\n",
      "             ReLU-39                 [-1, 1024]               0\n",
      "          Dropout-40                 [-1, 1024]               0\n",
      "           Linear-41                 [-1, 1024]       1,049,600\n",
      "      BatchNorm1d-42                 [-1, 1024]           2,048\n",
      "             ReLU-43                 [-1, 1024]               0\n",
      "          Dropout-44                 [-1, 1024]               0\n",
      "           Linear-45                 [-1, 1024]       1,049,600\n",
      "      BatchNorm1d-46                 [-1, 1024]           2,048\n",
      "             ReLU-47                 [-1, 1024]               0\n",
      "          Dropout-48                 [-1, 1024]               0\n",
      "           Linear-49                  [-1, 128]         131,200\n",
      "      BatchNorm1d-50                  [-1, 128]             256\n",
      "             ReLU-51                  [-1, 128]               0\n",
      "          Dropout-52                  [-1, 128]               0\n",
      "           Linear-53                   [-1, 11]           1,419\n",
      "================================================================\n",
      "Total params: 10,795,531\n",
      "Trainable params: 10,795,531\n",
      "Non-trainable params: 0\n",
      "----------------------------------------------------------------\n",
      "Input size (MB): 0.00\n",
      "Forward/backward pass size (MB): 0.35\n",
      "Params size (MB): 41.18\n",
      "Estimated Total Size (MB): 41.53\n",
      "----------------------------------------------------------------\n"
     ]
    }
   ],
   "source": [
    "input_size = 91\n",
    "# Load the saved model\n",
    "model_path = \"classifier_new_spec10_full_3.pth\"\n",
    "checkpoint = torch.load(model_path)\n",
    "\n",
    "# Extract the saved structure and hyperparameters\n",
    "hidden_sizes1 = checkpoint['hidden_sizes1']\n",
    "hidden_sizes2 = checkpoint['hidden_sizes2']\n",
    "hidden_sizes3 = checkpoint['hidden_sizes3']\n",
    "num_classes = checkpoint['num_classes']\n",
    "num_hidden = checkpoint['num_hidden']\n",
    "\n",
    "# Initialize the model and load the saved state dict\n",
    "model_FC = ClassifierFC_spec(input_size, hidden_sizes1, hidden_sizes2, hidden_sizes3, num_hidden, num_classes=num_classes).to(device)\n",
    "model_FC.load_state_dict(checkpoint['model_state_dict'])\n",
    "model_FC.eval()  # Set the model to evaluation mode\n",
    "\n",
    "# print(\"Model loaded and ready for inference!\")\n",
    "summary(model_FC, input_size=(91, ), device='cpu')"
   ],
   "metadata": {
    "collapsed": false
   }
  },
  {
   "cell_type": "code",
   "execution_count": 36,
   "outputs": [
    {
     "name": "stdout",
     "output_type": "stream",
     "text": [
      "[[(1, 32, 3, 1, 1), (32, 32, 3, 1, 1), (32, 32, 3, 1, 1)], [(32, 64, 3, 1, 1), (64, 64, 3, 1, 1), (64, 64, 3, 1, 1)]] [(2, 2, 1), (2, 2, 1)]\n",
      "----------------------------------------------------------------\n",
      "        Layer (type)               Output Shape         Param #\n",
      "================================================================\n",
      "            Conv2d-1            [-1, 32, 7, 13]             320\n",
      "       BatchNorm2d-2            [-1, 32, 7, 13]              64\n",
      "              ReLU-3            [-1, 32, 7, 13]               0\n",
      "            Conv2d-4            [-1, 32, 7, 13]           9,248\n",
      "       BatchNorm2d-5            [-1, 32, 7, 13]              64\n",
      "              ReLU-6            [-1, 32, 7, 13]               0\n",
      "            Conv2d-7            [-1, 32, 7, 13]           9,248\n",
      "       BatchNorm2d-8            [-1, 32, 7, 13]              64\n",
      "              ReLU-9            [-1, 32, 7, 13]               0\n",
      "        MaxPool2d-10             [-1, 32, 4, 7]               0\n",
      "           Conv2d-11             [-1, 64, 4, 7]          18,496\n",
      "      BatchNorm2d-12             [-1, 64, 4, 7]             128\n",
      "             ReLU-13             [-1, 64, 4, 7]               0\n",
      "           Conv2d-14             [-1, 64, 4, 7]          36,928\n",
      "      BatchNorm2d-15             [-1, 64, 4, 7]             128\n",
      "             ReLU-16             [-1, 64, 4, 7]               0\n",
      "           Conv2d-17             [-1, 64, 4, 7]          36,928\n",
      "      BatchNorm2d-18             [-1, 64, 4, 7]             128\n",
      "             ReLU-19             [-1, 64, 4, 7]               0\n",
      "        MaxPool2d-20             [-1, 64, 3, 4]               0\n",
      "           Linear-21                  [-1, 256]         196,864\n",
      "           Linear-22                   [-1, 11]           2,827\n",
      "================================================================\n",
      "Total params: 311,435\n",
      "Trainable params: 311,435\n",
      "Non-trainable params: 0\n",
      "----------------------------------------------------------------\n",
      "Input size (MB): 0.00\n",
      "Forward/backward pass size (MB): 0.34\n",
      "Params size (MB): 1.19\n",
      "Estimated Total Size (MB): 1.53\n",
      "----------------------------------------------------------------\n"
     ]
    }
   ],
   "source": [
    "# Load the saved model\n",
    "model_path = \"classifier_spec10_conv_3.pth\"\n",
    "checkpoint = torch.load(model_path)\n",
    "\n",
    "# Extract the saved structure and hyperparameters\n",
    "stages = checkpoint['stages']\n",
    "pooling_configs = checkpoint['pooling_configs']\n",
    "num_classes = checkpoint['num_classes']\n",
    "print(stages, pooling_configs)\n",
    "\n",
    "# Initialize the model and load the saved state dict\n",
    "model_2D = Classifier2D(stages, pooling_configs, num_classes=num_classes).to(device)\n",
    "model_2D.load_state_dict(checkpoint['model_state_dict'])\n",
    "model_2D.eval()  # Set the model to evaluation mode\n",
    "# print(\"Model loaded and ready for inference!\")\n",
    "summary(model_2D, input_size=(91, ), device='cpu')"
   ],
   "metadata": {
    "collapsed": false
   }
  }
 ],
 "metadata": {
  "kernelspec": {
   "display_name": "Python 3",
   "language": "python",
   "name": "python3"
  },
  "language_info": {
   "codemirror_mode": {
    "name": "ipython",
    "version": 2
   },
   "file_extension": ".py",
   "mimetype": "text/x-python",
   "name": "python",
   "nbconvert_exporter": "python",
   "pygments_lexer": "ipython2",
   "version": "2.7.6"
  }
 },
 "nbformat": 4,
 "nbformat_minor": 0
}
