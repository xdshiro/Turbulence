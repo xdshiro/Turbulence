{
 "cells": [
  {
   "cell_type": "code",
   "execution_count": 127,
   "metadata": {},
   "outputs": [],
   "source": [
    "import sys\n",
    "sys.path.append('../')\n",
    "import time\n",
    "import numpy as np\n",
    "import matplotlib.pyplot as plt\n",
    "from sklearn.model_selection import train_test_split\n",
    "from scipy.signal import convolve2d\n",
    "from scipy.optimize import curve_fit\n",
    "from scipy.optimize import brute\n",
    "# import cv2\n",
    "import torch\n",
    "import json\n",
    "import csv\n",
    "from functions.all_knots_functions import *\n",
    "from torch.utils.data import TensorDataset, DataLoader\n",
    "from torch import nn\n",
    "from sklearn.model_selection import train_test_split\n",
    "from torch.optim import lr_scheduler\n",
    "from torch.optim.lr_scheduler import ReduceLROnPlateau\n",
    "import collections\n",
    "import itertools\n",
    "import torch\n",
    "import torch.nn as nn\n",
    "import torch.nn.functional as F\n",
    "from tqdm import trange\n",
    "import pickle\n",
    "from sklearn.metrics import confusion_matrix\n",
    "import seaborn as sns\n",
    "from torchsummary import summary\n",
    "device = torch.device(\"cuda\" if torch.cuda.is_available() else \"cpu\")\n",
    "import itertools"
   ]
  },
  {
   "cell_type": "code",
   "execution_count": 128,
   "metadata": {
    "collapsed": false,
    "jupyter": {
     "outputs_hidden": false
    }
   },
   "outputs": [],
   "source": [
    "# Desired resolution (modify as needed)\n",
    "desired_res = (64, 64, 64)\n",
    "desired_res = (32, 32, 32)\n",
    "\n",
    "hyperparams = {\n",
    "    'learning_rate': 1e-5,  # Control dropout rate\n",
    "    'patience': 5,  # Number of epochs between learning rate decay\n",
    "    'factor': 0.2,  # Multiplicative factor of learning rate decay\n",
    "    'batch_size': 64\n",
    "}\n",
    "num_epochs = 10\n",
    "print_every = 1\n",
    "# in_channels, out_channels, kernel_size, stride, padding\n",
    "# stages = [\n",
    "#     [(1, 32, 3, 1, 1), (32, 32, 3, 1, 1), (32, 32, 3, 1, 1)],\n",
    "#     # [(32, 64, 5, 1, 1), (64, 64, 5, 1, 1), (64, 64, 5, 1, 1)]\n",
    "# ]\n",
    "# stages = [\n",
    "#        [(1, 16, 3, 1, 1), (16, 16, 3, 1, 1)],  # Fewer channels\n",
    "#     [(16, 32, 5, 1, 1), (32, 32, 5, 1, 1)]\n",
    "# ]\n",
    "# pooling_configs = [\n",
    "#     (2, 2, 1),  # Pooling after the first stage\n",
    "#     # (2, 2, 1)      # No pooling after the third stage\n",
    "# ]\n",
    "stages = [\n",
    "    [(1, 32, 3, 1, 1), (32, 32, 3, 1, 1), (32, 32, 3, 1, 1)],\n",
    "    [(32, 64, 5, 1, 1), (64, 64, 5, 1, 1), (64, 64, 5, 1, 1)]\n",
    "]\n",
    "\n",
    "# Define pooling configurations: (kernel_size, stride, padding)\n",
    "# Set to 'None' for stages where no pooling is desired\n",
    "# kernel_size, stride, padding\n",
    "pooling_configs = [\n",
    "    (2, 2, 1),  # Pooling after the first stage\n",
    "    (2, 2, 1)      # No pooling after the third stage\n",
    "]\n",
    "# Define pooling configurations: (kernel_size, stride, padding)\n",
    "# Set to 'None' for stages where no pooling is desired\n",
    "# kernel_size, stride, padding\n"
   ]
  },
  {
   "cell_type": "code",
   "execution_count": 129,
   "metadata": {
    "collapsed": false,
    "jupyter": {
     "outputs_hidden": false
    }
   },
   "outputs": [
    {
     "name": "stdout",
     "output_type": "stream",
     "text": [
      "['DATA', 'best_models', '4foils_L270_0.15_50_64x64x64_v1', '4foils_L270_0.25_50_64x64x64_v1', 'HOPFS_L270_0.05_1000_64x64x64_v1', 'my_functions', '4foils_L270_0.05_50_64x64x64_v1', '4foils_L270_0.05_450_64x64x64_v1', 'ML_ipynb', 'fix_names_folders.py', 'HOPFS_L270_0.25_1000_64x64x64_v1', '4foils_L270_0.15_450_64x64x64_v1', 'classification_spectrum_tunning', 'HOPFS_L270_0.15_1000_64x64x64_v1', 'classification_knots_tunning', 'HOPFS_L270_0.15_20_64x64x64_v1', 'functions', 'data_generation']\n"
     ]
    }
   ],
   "source": [
    "import os\n",
    "print(os.listdir('../'))"
   ]
  },
  {
   "cell_type": "code",
   "execution_count": 130,
   "metadata": {
    "collapsed": false,
    "jupyter": {
     "outputs_hidden": false
    }
   },
   "outputs": [
    {
     "name": "stdout",
     "output_type": "stream",
     "text": [
      "Shape: 64, 64, 64\n",
      "Loaded 12150 samples.  150 per class\n"
     ]
    }
   ],
   "source": [
    "\n",
    "foils = list(itertools.product(range(3), repeat=4))\n",
    "foils = foils[:]\n",
    "knots = [''.join([str(element) for element in foil]) for foil in foils]\n",
    "knot_types = {\n",
    "    knot : it for it, knot in enumerate(knots)\n",
    "}\n",
    "\n",
    "# folder = '../DATA/HOPFS_L270_5e-07_test_1s'\n",
    "# folder = '../HOPFS_L270_5e-07_test_1s'\n",
    "# List of folders to search for data\n",
    "# folders = [\n",
    "#     '../4foils_L270_0.15_50_64x64x64_v1',\n",
    "#     '../4foils_L270_0.05_50_64x64x64_v1',\n",
    "#     '../4foils_L270_0.25_50_64x64x64_v1'\n",
    "# ]\n",
    "folders = [\n",
    "    '../4foils_L270_0.05_1_64x64x64_v1',\n",
    "\n",
    "]\n",
    "\n",
    "num_classes = len(knots)\n",
    "X_list = []\n",
    "Y_list = []\n",
    "csv.field_size_limit(10000000)\n",
    "\n",
    "# Flag to print shape once\n",
    "flag_print_shape = True\n",
    "\n",
    "\n",
    "# Loop through all folders and knots\n",
    "for folder in folders:\n",
    "    for knot in knots:\n",
    "        filename = f'{folder}/data_{knot}.csv'\n",
    "        try:\n",
    "            with open(filename, 'r') as file:\n",
    "                reader = csv.reader(file)\n",
    "                for row in reader:\n",
    "                    # Deserialize the JSON string back to a list\n",
    "                    data_list = json.loads(row[0])\n",
    "                    data_array = np.array(data_list)\n",
    "\n",
    "                    # Extract points and dimensions\n",
    "                    points_list = data_array[2:]\n",
    "                    Nx, Ny, Nz = data_array[1]\n",
    "\n",
    "                    if flag_print_shape:\n",
    "                        print(f'Shape: {Nx}, {Ny}, {Nz}')\n",
    "                        flag_print_shape = False\n",
    "\n",
    "                    # Rescale if necessary\n",
    "                    if desired_res != (Nx, Ny, Nz):\n",
    "                        scale_x = desired_res[0] / Nx\n",
    "                        scale_y = desired_res[1] / Ny\n",
    "                        scale_z = desired_res[2] / Nz\n",
    "                        points_list = np.rint(points_list * np.array([scale_x, scale_y, scale_z])).astype(int)\n",
    "\n",
    "                    # Initialize a 3D array and set points to 1\n",
    "                    dots_3d = np.zeros(desired_res, dtype=int)\n",
    "                    for x, y, z in points_list:\n",
    "                        try:\n",
    "                            dots_3d[x, y, z] = 1\n",
    "                        except IndexError:\n",
    "                            continue\n",
    "\n",
    "                    # Append to lists\n",
    "                    X_list.append(dots_3d)\n",
    "                    Y_list.append(knot_types[knot])\n",
    "\n",
    "        except FileNotFoundError:\n",
    "            print(f'File not found: {filename}')\n",
    "        except json.JSONDecodeError:\n",
    "            print(f'Error decoding JSON in file: {filename}')\n",
    "\n",
    "print(f'Loaded {len(X_list)} samples.  {int(len(X_list) / len(knots))} per class')"
   ]
  },
  {
   "cell_type": "code",
   "execution_count": 131,
   "metadata": {
    "collapsed": false,
    "jupyter": {
     "outputs_hidden": false
    }
   },
   "outputs": [
    {
     "name": "stdout",
     "output_type": "stream",
     "text": [
      "torch.Size([12150, 1, 32, 32, 32]) torch.Size([12150, 81])\n"
     ]
    }
   ],
   "source": [
    "X_np = np.array(X_list)\n",
    "y_np = np.array(Y_list)\n",
    "# print(X_np)\n",
    "X_torch = torch.tensor(X_np).reshape(-1,1, *desired_res).float()\n",
    "y_torch_list = torch.tensor(y_np)\n",
    "y_torch = F.one_hot(y_torch_list.long(), num_classes=num_classes).float()\n",
    "print(X_torch.shape, y_torch.shape)"
   ]
  },
  {
   "cell_type": "code",
   "execution_count": 132,
   "metadata": {
    "collapsed": false,
    "jupyter": {
     "outputs_hidden": false
    }
   },
   "outputs": [],
   "source": [
    "X_train, X_val_test, y_train, y_val_test = train_test_split(X_torch, y_torch, test_size=0.3, random_state=37)\n",
    "X_val, X_test, y_val, y_test = train_test_split(X_val_test, y_val_test, test_size=0.5, random_state=37)\n",
    "train_dataset = TensorDataset(X_train, y_train)\n",
    "val_dataset = TensorDataset(X_val, y_val)\n",
    "test_dataset = TensorDataset(X_test, y_test)"
   ]
  },
  {
   "cell_type": "code",
   "execution_count": 133,
   "metadata": {
    "collapsed": false,
    "jupyter": {
     "outputs_hidden": false
    }
   },
   "outputs": [],
   "source": [
    "def conv_stage(layer_configs):\n",
    "    layers = []\n",
    "    for config in layer_configs:\n",
    "        in_channels, out_channels, kernel_size, stride, padding = config\n",
    "        layers.append(nn.Conv3d(in_channels, out_channels, kernel_size, stride, padding))\n",
    "        layers.append(nn.BatchNorm3d(out_channels))\n",
    "        layers.append(nn.ReLU(inplace=True))\n",
    "\n",
    "    return nn.Sequential(*layers)\n",
    "\n",
    "def create_pooling_layer(config):\n",
    "    if config is None:\n",
    "        return None\n",
    "    kernel_size, stride, padding = config\n",
    "    return nn.MaxPool3d(kernel_size=kernel_size, stride=stride, padding=padding)\n",
    "\n",
    "class Classifier3D(nn.Module):\n",
    "    def __init__(self, stages, pooling_configs, num_classes=11):\n",
    "        super(Classifier3D, self).__init__()\n",
    "\n",
    "        self.features = nn.Sequential()\n",
    "        self.desired = desired_res\n",
    "\n",
    "        for i, stage in enumerate(stages):\n",
    "            # Add the convolutional stage\n",
    "            self.features.add_module(f\"stage_{i}\", conv_stage(stage))\n",
    "\n",
    "            # Add a custom MaxPooling layer after each stage based on the pooling configuration\n",
    "            if i < len(pooling_configs):\n",
    "                pool_layer = create_pooling_layer(pooling_configs[i])\n",
    "                if pool_layer:\n",
    "                    self.features.add_module(f\"pool_{i}\", pool_layer)\n",
    "\n",
    "\n",
    "        # Calculate the size of the flattened features after the conv layers\n",
    "        self._to_linear = None\n",
    "        self._get_conv_output((1, *self.desired))\n",
    "\n",
    "        # Fully connected layers\n",
    "        self.fc1 = nn.Linear(self._to_linear, 256)\n",
    "        # self.fc2 = nn.Linear(self._to_linear, 512)\n",
    "        self.fc2 = nn.Linear(256, num_classes)\n",
    "\n",
    "    def _get_conv_output(self, shape):\n",
    "        batch_size = 1\n",
    "        input = torch.autograd.Variable(torch.rand(batch_size, *shape))\n",
    "        output_feat = self.features(input)\n",
    "        self._to_linear = int(np.prod(output_feat.size()[1:]))\n",
    "\n",
    "    def initialize_weights(self):\n",
    "        for m in self.modules():\n",
    "            if isinstance(m, nn.Conv3d):\n",
    "                nn.init.kaiming_normal_(m.weight, mode='fan_out', nonlinearity='relu')\n",
    "                if m.bias is not None:\n",
    "                    nn.init.constant_(m.bias, 0)\n",
    "            elif isinstance(m, nn.BatchNorm3d):\n",
    "                nn.init.constant_(m.weight, 1)\n",
    "                nn.init.constant_(m.bias, 0)\n",
    "            elif isinstance(m, nn.Linear):\n",
    "                nn.init.normal_(m.weight, 0, 0.01)\n",
    "                nn.init.constant_(m.bias, 0)\n",
    "\n",
    "    def forward(self, x):\n",
    "        x = self.features(x)\n",
    "        x = x.view(x.size(0), -1) # Flatten the output\n",
    "        x = F.relu(self.fc1(x))\n",
    "        # x = F.relu(self.fc2(x))\n",
    "        x = self.fc2(x)\n",
    "        return x\n"
   ]
  },
  {
   "cell_type": "code",
   "execution_count": 134,
   "metadata": {
    "collapsed": false,
    "jupyter": {
     "outputs_hidden": false
    }
   },
   "outputs": [],
   "source": [
    "\n",
    "\n",
    "model = Classifier3D(stages, pooling_configs, num_classes=len(knots)).to(device)\n",
    "model.initialize_weights()"
   ]
  },
  {
   "cell_type": "code",
   "execution_count": 135,
   "metadata": {
    "collapsed": false,
    "jupyter": {
     "outputs_hidden": false
    }
   },
   "outputs": [
    {
     "name": "stdout",
     "output_type": "stream",
     "text": [
      "torch.Size([1, 1, 32, 32, 32])\n",
      "tensor([[-0.1070,  0.1877,  0.0270, -0.2977,  0.1273,  0.1170, -0.4131, -0.0430,\n",
      "         -0.0072, -0.1784,  0.1812, -0.1414, -0.1206,  0.2776, -0.0695,  0.3032,\n",
      "          0.0899,  0.2844, -0.1630,  0.0695, -0.2051,  0.0713,  0.1115,  0.0285,\n",
      "         -0.1203,  0.1826,  0.0611,  0.1197, -0.3273,  0.1178,  0.0492,  0.1087,\n",
      "          0.3274, -0.0945, -0.2229, -0.1337,  0.1452,  0.1341, -0.2244, -0.1566,\n",
      "          0.1823,  0.0491, -0.0872,  0.0232, -0.2711, -0.1244, -0.2246, -0.0678,\n",
      "         -0.2011, -0.3049, -0.2758, -0.0534, -0.3362,  0.1793,  0.1323,  0.0927,\n",
      "         -0.2850, -0.0903,  0.5197,  0.0743,  0.0131,  0.1670,  0.0777,  0.2719,\n",
      "          0.1175, -0.0621, -0.3402, -0.0178,  0.0808, -0.2355, -0.4653,  0.1895,\n",
      "         -0.2954, -0.1571, -0.0452, -0.2714,  0.2800, -0.0425, -0.2161,  0.2351,\n",
      "          0.4217]], device='cuda:0', grad_fn=<AddmmBackward0>)\n",
      "----------------------------------------------------------------\n",
      "        Layer (type)               Output Shape         Param #\n",
      "================================================================\n",
      "            Conv3d-1       [-1, 16, 32, 32, 32]             448\n",
      "       BatchNorm3d-2       [-1, 16, 32, 32, 32]              32\n",
      "              ReLU-3       [-1, 16, 32, 32, 32]               0\n",
      "            Conv3d-4       [-1, 16, 32, 32, 32]           6,928\n",
      "       BatchNorm3d-5       [-1, 16, 32, 32, 32]              32\n",
      "              ReLU-6       [-1, 16, 32, 32, 32]               0\n",
      "         MaxPool3d-7       [-1, 16, 17, 17, 17]               0\n",
      "            Conv3d-8       [-1, 32, 15, 15, 15]          64,032\n",
      "       BatchNorm3d-9       [-1, 32, 15, 15, 15]              64\n",
      "             ReLU-10       [-1, 32, 15, 15, 15]               0\n",
      "           Conv3d-11       [-1, 32, 13, 13, 13]         128,032\n",
      "      BatchNorm3d-12       [-1, 32, 13, 13, 13]              64\n",
      "             ReLU-13       [-1, 32, 13, 13, 13]               0\n",
      "           Linear-14                  [-1, 256]      17,998,080\n",
      "           Linear-15                   [-1, 81]          20,817\n",
      "================================================================\n",
      "Total params: 18,218,529\n",
      "Trainable params: 18,218,529\n",
      "Non-trainable params: 0\n",
      "----------------------------------------------------------------\n",
      "Input size (MB): 0.12\n",
      "Forward/backward pass size (MB): 28.68\n",
      "Params size (MB): 69.50\n",
      "Estimated Total Size (MB): 98.31\n",
      "----------------------------------------------------------------\n"
     ]
    }
   ],
   "source": [
    "# print(model._to_linear, 512 * 16 * 16)\n",
    "dots_3d_toch_batch = train_dataset[1:2][0].to(device)\n",
    "print(dots_3d_toch_batch.shape)\n",
    "print(model(dots_3d_toch_batch))\n",
    "summary(model, input_size=dots_3d_toch_batch.shape[1:])"
   ]
  },
  {
   "cell_type": "code",
   "execution_count": 136,
   "metadata": {
    "collapsed": false,
    "jupyter": {
     "outputs_hidden": false
    }
   },
   "outputs": [],
   "source": [
    "from torch.cuda.amp import autocast, GradScaler\n",
    "\n",
    "# Initialize the GradScaler for mixed precision\n",
    "scaler = GradScaler()\n",
    "\n",
    "def loop_train(model, train_loader, criterion, optimizer):\n",
    "    model.train()  # Set the model to training mode\n",
    "    total_loss = 0\n",
    "    for i, (inputs, targets) in enumerate(train_loader, 1):  # Start enumeration from 1\n",
    "        inputs, targets = inputs.to(device), targets.to(device)\n",
    "        optimizer.zero_grad()  # Clear the gradients\n",
    "         # Use autocast for mixed precision\n",
    "        with autocast():\n",
    "            outputs = model(inputs)  # Forward pass\n",
    "            loss = criterion(outputs, targets)  # Compute the loss\n",
    "        \n",
    "        # Scale the loss for numerical stability during backward pass\n",
    "        scaler.scale(loss).backward()  # Backward pass\n",
    "        \n",
    "        # Step the optimizer using the scaled gradients\n",
    "        scaler.step(optimizer)\n",
    "        scaler.update()  # Update the scaler for next iteration\n",
    "\n",
    "        total_loss += loss.item()  # Accumulate the loss\n",
    "\n",
    "    return total_loss / len(train_loader)  # Return the average loss\n",
    "\n",
    "\n",
    "def loop_test(model, test_loader, criterion):\n",
    "    model.eval()  # Set the model to evaluation mode\n",
    "    total_loss = 0\n",
    "    with torch.no_grad():  # No need to track the gradients\n",
    "        for inputs, targets in test_loader:\n",
    "            inputs, targets = inputs.to(device), targets.to(device)\n",
    "            outputs = model(inputs)  # Forward pass\n",
    "            loss = criterion(outputs, targets)  # Compute the loss\n",
    "            total_loss += loss.item()  # Accumulate the loss\n",
    "    return total_loss / len(test_loader)  # Return the average loss\n",
    "\n",
    "\n",
    "def correct_number_test(model, test_loader, criterion):\n",
    "    model.eval()  # Set the model to evaluation mode\n",
    "    total_correct = 0\n",
    "    total = 0\n",
    "    with torch.no_grad():  # No need to track the gradients\n",
    "        for inputs, targets in test_loader:\n",
    "            inputs, targets = inputs.to(device), targets.to(device)\n",
    "            outputs = model(inputs)  # Forward pass\n",
    "            correct = criterion(outputs, targets)  # Compute correct\n",
    "            total_correct += correct  # Accumulate correct\n",
    "            total += len(outputs)  # Accumulate total\n",
    "    return total_correct, total  # Return the average loss\n",
    "\n",
    "\n",
    "def plot_losses(train_losses, test_losses, decimals=3):\n",
    "    plt.figure(figsize=(10, 5))\n",
    "    plt.plot(train_losses,\n",
    "             label=f'Train Loss {train_losses[-1]: .{decimals}f} (min: {min(train_losses): .{decimals}f})')\n",
    "    plt.plot(test_losses, label=f'Test Loss {test_losses[-1]: .{decimals}f} (min: {min(test_losses): .{decimals}f})')\n",
    "    plt.title('Training and Testing Losses Over Epochs')\n",
    "    plt.xlabel('Epochs')\n",
    "    plt.ylabel('Loss')\n",
    "    plt.legend()\n",
    "    plt.show()\n"
   ]
  },
  {
   "cell_type": "code",
   "execution_count": 137,
   "metadata": {
    "collapsed": false,
    "jupyter": {
     "outputs_hidden": false
    }
   },
   "outputs": [
    {
     "name": "stderr",
     "output_type": "stream",
     "text": [
      "Progress:   1%|▋                                                                        | 1/100 [00:05<08:52,  5.38s/it]"
     ]
    },
    {
     "name": "stdout",
     "output_type": "stream",
     "text": [
      "Epoch 0 completed in 5.38 seconds\n",
      "Epoch 0: Train Loss: 4.2836, Val Loss: 4.1237\n"
     ]
    },
    {
     "name": "stderr",
     "output_type": "stream",
     "text": [
      "Progress:   2%|█▍                                                                       | 2/100 [00:10<08:39,  5.30s/it]"
     ]
    },
    {
     "name": "stdout",
     "output_type": "stream",
     "text": [
      "Epoch 1 completed in 5.24 seconds\n",
      "Epoch 1: Train Loss: 3.8180, Val Loss: 3.6074\n"
     ]
    },
    {
     "name": "stderr",
     "output_type": "stream",
     "text": [
      "Progress:   3%|██▏                                                                      | 3/100 [00:15<08:31,  5.27s/it]"
     ]
    },
    {
     "name": "stdout",
     "output_type": "stream",
     "text": [
      "Epoch 2 completed in 5.24 seconds\n",
      "Epoch 2: Train Loss: 3.2053, Val Loss: 3.0518\n"
     ]
    },
    {
     "name": "stderr",
     "output_type": "stream",
     "text": [
      "Progress:   4%|██▉                                                                      | 4/100 [00:21<08:26,  5.27s/it]"
     ]
    },
    {
     "name": "stdout",
     "output_type": "stream",
     "text": [
      "Epoch 3 completed in 5.27 seconds\n",
      "Epoch 3: Train Loss: 2.6621, Val Loss: 2.6334\n"
     ]
    },
    {
     "name": "stderr",
     "output_type": "stream",
     "text": [
      "Progress:   5%|███▋                                                                     | 5/100 [00:26<08:20,  5.27s/it]"
     ]
    },
    {
     "name": "stdout",
     "output_type": "stream",
     "text": [
      "Epoch 4 completed in 5.28 seconds\n",
      "Epoch 4: Train Loss: 2.2697, Val Loss: 2.3605\n"
     ]
    },
    {
     "name": "stderr",
     "output_type": "stream",
     "text": [
      "Progress:   6%|████▍                                                                    | 6/100 [00:31<08:16,  5.28s/it]"
     ]
    },
    {
     "name": "stdout",
     "output_type": "stream",
     "text": [
      "Epoch 5 completed in 5.30 seconds\n",
      "Epoch 5: Train Loss: 1.9897, Val Loss: 2.1650\n"
     ]
    },
    {
     "name": "stderr",
     "output_type": "stream",
     "text": [
      "Progress:   7%|█████                                                                    | 7/100 [00:37<08:12,  5.29s/it]"
     ]
    },
    {
     "name": "stdout",
     "output_type": "stream",
     "text": [
      "Epoch 6 completed in 5.31 seconds\n",
      "Epoch 6: Train Loss: 1.7844, Val Loss: 2.0415\n"
     ]
    },
    {
     "name": "stderr",
     "output_type": "stream",
     "text": [
      "Progress:   8%|█████▊                                                                   | 8/100 [00:42<08:07,  5.30s/it]"
     ]
    },
    {
     "name": "stdout",
     "output_type": "stream",
     "text": [
      "Epoch 7 completed in 5.32 seconds\n",
      "Epoch 7: Train Loss: 1.6222, Val Loss: 1.9455\n"
     ]
    },
    {
     "name": "stderr",
     "output_type": "stream",
     "text": [
      "Progress:   9%|██████▌                                                                  | 9/100 [00:47<08:03,  5.31s/it]"
     ]
    },
    {
     "name": "stdout",
     "output_type": "stream",
     "text": [
      "Epoch 8 completed in 5.33 seconds\n",
      "Epoch 8: Train Loss: 1.4932, Val Loss: 1.8601\n"
     ]
    },
    {
     "name": "stderr",
     "output_type": "stream",
     "text": [
      "Progress:  10%|███████▏                                                                | 10/100 [00:53<07:59,  5.32s/it]"
     ]
    },
    {
     "name": "stdout",
     "output_type": "stream",
     "text": [
      "Epoch 9 completed in 5.35 seconds\n",
      "Epoch 9: Train Loss: 1.3815, Val Loss: 1.8030\n"
     ]
    },
    {
     "name": "stderr",
     "output_type": "stream",
     "text": [
      "Progress:  11%|███████▉                                                                | 11/100 [00:58<07:54,  5.33s/it]"
     ]
    },
    {
     "name": "stdout",
     "output_type": "stream",
     "text": [
      "Epoch 10 completed in 5.35 seconds\n",
      "Epoch 10: Train Loss: 1.2813, Val Loss: 1.7655\n"
     ]
    },
    {
     "name": "stderr",
     "output_type": "stream",
     "text": [
      "Progress:  12%|████████▋                                                               | 12/100 [01:03<07:50,  5.34s/it]"
     ]
    },
    {
     "name": "stdout",
     "output_type": "stream",
     "text": [
      "Epoch 11 completed in 5.37 seconds\n",
      "Epoch 11: Train Loss: 1.1979, Val Loss: 1.7204\n"
     ]
    },
    {
     "name": "stderr",
     "output_type": "stream",
     "text": [
      "Progress:  13%|█████████▎                                                              | 13/100 [01:09<07:45,  5.35s/it]"
     ]
    },
    {
     "name": "stdout",
     "output_type": "stream",
     "text": [
      "Epoch 12 completed in 5.37 seconds\n",
      "Epoch 12: Train Loss: 1.1216, Val Loss: 1.6850\n"
     ]
    },
    {
     "name": "stderr",
     "output_type": "stream",
     "text": [
      "Progress:  14%|██████████                                                              | 14/100 [01:14<07:41,  5.36s/it]"
     ]
    },
    {
     "name": "stdout",
     "output_type": "stream",
     "text": [
      "Epoch 13 completed in 5.38 seconds\n",
      "Epoch 13: Train Loss: 1.0486, Val Loss: 1.6643\n"
     ]
    },
    {
     "name": "stderr",
     "output_type": "stream",
     "text": [
      "Progress:  15%|██████████▊                                                             | 15/100 [01:19<07:36,  5.37s/it]"
     ]
    },
    {
     "name": "stdout",
     "output_type": "stream",
     "text": [
      "Epoch 14 completed in 5.39 seconds\n",
      "Epoch 14: Train Loss: 0.9831, Val Loss: 1.6415\n"
     ]
    },
    {
     "name": "stderr",
     "output_type": "stream",
     "text": [
      "Progress:  16%|███████████▌                                                            | 16/100 [01:25<07:31,  5.38s/it]"
     ]
    },
    {
     "name": "stdout",
     "output_type": "stream",
     "text": [
      "Epoch 15 completed in 5.40 seconds\n",
      "Epoch 15: Train Loss: 0.9195, Val Loss: 1.6212\n"
     ]
    },
    {
     "name": "stderr",
     "output_type": "stream",
     "text": [
      "Progress:  17%|████████████▏                                                           | 17/100 [01:30<07:27,  5.39s/it]"
     ]
    },
    {
     "name": "stdout",
     "output_type": "stream",
     "text": [
      "Epoch 16 completed in 5.41 seconds\n",
      "Epoch 16: Train Loss: 0.8659, Val Loss: 1.6086\n"
     ]
    },
    {
     "name": "stderr",
     "output_type": "stream",
     "text": [
      "Progress:  18%|████████████▉                                                           | 18/100 [01:36<07:22,  5.40s/it]"
     ]
    },
    {
     "name": "stdout",
     "output_type": "stream",
     "text": [
      "Epoch 17 completed in 5.41 seconds\n",
      "Epoch 17: Train Loss: 0.8099, Val Loss: 1.5961\n"
     ]
    },
    {
     "name": "stderr",
     "output_type": "stream",
     "text": [
      "Progress:  19%|█████████████▋                                                          | 19/100 [01:41<07:17,  5.40s/it]"
     ]
    },
    {
     "name": "stdout",
     "output_type": "stream",
     "text": [
      "Epoch 18 completed in 5.41 seconds\n",
      "Epoch 18: Train Loss: 0.7566, Val Loss: 1.5801\n"
     ]
    },
    {
     "name": "stderr",
     "output_type": "stream",
     "text": [
      "Progress:  20%|██████████████▍                                                         | 20/100 [01:46<07:12,  5.40s/it]"
     ]
    },
    {
     "name": "stdout",
     "output_type": "stream",
     "text": [
      "Epoch 19 completed in 5.41 seconds\n",
      "Epoch 19: Train Loss: 0.7096, Val Loss: 1.5699\n"
     ]
    },
    {
     "name": "stderr",
     "output_type": "stream",
     "text": [
      "Progress:  21%|███████████████                                                         | 21/100 [01:52<07:06,  5.40s/it]"
     ]
    },
    {
     "name": "stdout",
     "output_type": "stream",
     "text": [
      "Epoch 20 completed in 5.41 seconds\n",
      "Epoch 20: Train Loss: 0.6625, Val Loss: 1.5550\n"
     ]
    },
    {
     "name": "stderr",
     "output_type": "stream",
     "text": [
      "Progress:  22%|███████████████▊                                                        | 22/100 [01:57<07:01,  5.41s/it]"
     ]
    },
    {
     "name": "stdout",
     "output_type": "stream",
     "text": [
      "Epoch 21 completed in 5.41 seconds\n",
      "Epoch 21: Train Loss: 0.6170, Val Loss: 1.5575\n"
     ]
    },
    {
     "name": "stderr",
     "output_type": "stream",
     "text": [
      "Progress:  23%|████████████████▌                                                       | 23/100 [02:03<06:56,  5.41s/it]"
     ]
    },
    {
     "name": "stdout",
     "output_type": "stream",
     "text": [
      "Epoch 22 completed in 5.42 seconds\n",
      "Epoch 22: Train Loss: 0.5754, Val Loss: 1.5440\n"
     ]
    },
    {
     "name": "stderr",
     "output_type": "stream",
     "text": [
      "Progress:  24%|█████████████████▎                                                      | 24/100 [02:08<06:52,  5.43s/it]"
     ]
    },
    {
     "name": "stdout",
     "output_type": "stream",
     "text": [
      "Epoch 23 completed in 5.47 seconds\n",
      "Epoch 23: Train Loss: 0.5352, Val Loss: 1.5413\n"
     ]
    },
    {
     "name": "stderr",
     "output_type": "stream",
     "text": [
      "Progress:  25%|██████████████████                                                      | 25/100 [02:14<06:47,  5.43s/it]"
     ]
    },
    {
     "name": "stdout",
     "output_type": "stream",
     "text": [
      "Epoch 24 completed in 5.43 seconds\n",
      "Epoch 24: Train Loss: 0.4974, Val Loss: 1.5340\n"
     ]
    },
    {
     "name": "stderr",
     "output_type": "stream",
     "text": [
      "Progress:  26%|██████████████████▋                                                     | 26/100 [02:19<06:41,  5.43s/it]"
     ]
    },
    {
     "name": "stdout",
     "output_type": "stream",
     "text": [
      "Epoch 25 completed in 5.43 seconds\n",
      "Epoch 25: Train Loss: 0.4623, Val Loss: 1.5310\n"
     ]
    },
    {
     "name": "stderr",
     "output_type": "stream",
     "text": [
      "Progress:  27%|███████████████████▍                                                    | 27/100 [02:24<06:36,  5.43s/it]"
     ]
    },
    {
     "name": "stdout",
     "output_type": "stream",
     "text": [
      "Epoch 26 completed in 5.43 seconds\n",
      "Epoch 26: Train Loss: 0.4288, Val Loss: 1.5190\n"
     ]
    },
    {
     "name": "stderr",
     "output_type": "stream",
     "text": [
      "Progress:  28%|████████████████████▏                                                   | 28/100 [02:30<06:31,  5.43s/it]"
     ]
    },
    {
     "name": "stdout",
     "output_type": "stream",
     "text": [
      "Epoch 27 completed in 5.43 seconds\n",
      "Epoch 27: Train Loss: 0.3983, Val Loss: 1.5141\n"
     ]
    },
    {
     "name": "stderr",
     "output_type": "stream",
     "text": [
      "Progress:  29%|████████████████████▉                                                   | 29/100 [02:35<06:25,  5.43s/it]"
     ]
    },
    {
     "name": "stdout",
     "output_type": "stream",
     "text": [
      "Epoch 28 completed in 5.44 seconds\n",
      "Epoch 28: Train Loss: 0.3671, Val Loss: 1.5147\n"
     ]
    },
    {
     "name": "stderr",
     "output_type": "stream",
     "text": [
      "Progress:  30%|█████████████████████▌                                                  | 30/100 [02:41<06:20,  5.44s/it]"
     ]
    },
    {
     "name": "stdout",
     "output_type": "stream",
     "text": [
      "Epoch 29 completed in 5.45 seconds\n",
      "Epoch 29: Train Loss: 0.3399, Val Loss: 1.5145\n"
     ]
    },
    {
     "name": "stderr",
     "output_type": "stream",
     "text": [
      "Progress:  31%|██████████████████████▎                                                 | 31/100 [02:46<06:15,  5.44s/it]"
     ]
    },
    {
     "name": "stdout",
     "output_type": "stream",
     "text": [
      "Epoch 30 completed in 5.45 seconds\n",
      "Epoch 30: Train Loss: 0.3134, Val Loss: 1.5057\n"
     ]
    },
    {
     "name": "stderr",
     "output_type": "stream",
     "text": [
      "Progress:  32%|███████████████████████                                                 | 32/100 [02:52<06:10,  5.45s/it]"
     ]
    },
    {
     "name": "stdout",
     "output_type": "stream",
     "text": [
      "Epoch 31 completed in 5.46 seconds\n",
      "Epoch 31: Train Loss: 0.2882, Val Loss: 1.5042\n"
     ]
    },
    {
     "name": "stderr",
     "output_type": "stream",
     "text": [
      "Progress:  33%|███████████████████████▊                                                | 33/100 [02:57<06:05,  5.45s/it]"
     ]
    },
    {
     "name": "stdout",
     "output_type": "stream",
     "text": [
      "Epoch 32 completed in 5.47 seconds\n",
      "Epoch 32: Train Loss: 0.2658, Val Loss: 1.5061\n"
     ]
    },
    {
     "name": "stderr",
     "output_type": "stream",
     "text": [
      "Progress:  34%|████████████████████████▍                                               | 34/100 [03:03<05:59,  5.45s/it]"
     ]
    },
    {
     "name": "stdout",
     "output_type": "stream",
     "text": [
      "Epoch 33 completed in 5.45 seconds\n",
      "Epoch 33: Train Loss: 0.2445, Val Loss: 1.5026\n"
     ]
    },
    {
     "name": "stderr",
     "output_type": "stream",
     "text": [
      "Progress:  35%|█████████████████████████▏                                              | 35/100 [03:08<05:54,  5.45s/it]"
     ]
    },
    {
     "name": "stdout",
     "output_type": "stream",
     "text": [
      "Epoch 34 completed in 5.44 seconds\n",
      "Epoch 34: Train Loss: 0.2260, Val Loss: 1.5063\n"
     ]
    },
    {
     "name": "stderr",
     "output_type": "stream",
     "text": [
      "Progress:  36%|█████████████████████████▉                                              | 36/100 [03:13<05:48,  5.45s/it]"
     ]
    },
    {
     "name": "stdout",
     "output_type": "stream",
     "text": [
      "Epoch 35 completed in 5.44 seconds\n",
      "Epoch 35: Train Loss: 0.2073, Val Loss: 1.5047\n"
     ]
    },
    {
     "name": "stderr",
     "output_type": "stream",
     "text": [
      "Progress:  37%|██████████████████████████▋                                             | 37/100 [03:19<05:43,  5.45s/it]"
     ]
    },
    {
     "name": "stdout",
     "output_type": "stream",
     "text": [
      "Epoch 36 completed in 5.44 seconds\n",
      "Epoch 36: Train Loss: 0.1908, Val Loss: 1.4977\n"
     ]
    },
    {
     "name": "stderr",
     "output_type": "stream",
     "text": [
      "Progress:  38%|███████████████████████████▎                                            | 38/100 [03:24<05:37,  5.45s/it]"
     ]
    },
    {
     "name": "stdout",
     "output_type": "stream",
     "text": [
      "Epoch 37 completed in 5.45 seconds\n",
      "Epoch 37: Train Loss: 0.1755, Val Loss: 1.4979\n"
     ]
    },
    {
     "name": "stderr",
     "output_type": "stream",
     "text": [
      "Progress:  39%|████████████████████████████                                            | 39/100 [03:30<05:32,  5.45s/it]"
     ]
    },
    {
     "name": "stdout",
     "output_type": "stream",
     "text": [
      "Epoch 38 completed in 5.45 seconds\n",
      "Epoch 38: Train Loss: 0.1615, Val Loss: 1.4964\n"
     ]
    },
    {
     "name": "stderr",
     "output_type": "stream",
     "text": [
      "Progress:  40%|████████████████████████████▊                                           | 40/100 [03:35<05:27,  5.45s/it]"
     ]
    },
    {
     "name": "stdout",
     "output_type": "stream",
     "text": [
      "Epoch 39 completed in 5.46 seconds\n",
      "Epoch 39: Train Loss: 0.1486, Val Loss: 1.5000\n"
     ]
    },
    {
     "name": "stderr",
     "output_type": "stream",
     "text": [
      "Progress:  41%|█████████████████████████████▌                                          | 41/100 [03:41<05:22,  5.46s/it]"
     ]
    },
    {
     "name": "stdout",
     "output_type": "stream",
     "text": [
      "Epoch 40 completed in 5.48 seconds\n",
      "Epoch 40: Train Loss: 0.1366, Val Loss: 1.5046\n"
     ]
    },
    {
     "name": "stderr",
     "output_type": "stream",
     "text": [
      "Progress:  42%|██████████████████████████████▏                                         | 42/100 [03:46<05:16,  5.46s/it]"
     ]
    },
    {
     "name": "stdout",
     "output_type": "stream",
     "text": [
      "Epoch 41 completed in 5.47 seconds\n",
      "Epoch 41: Train Loss: 0.1256, Val Loss: 1.5046\n"
     ]
    },
    {
     "name": "stderr",
     "output_type": "stream",
     "text": [
      "Progress:  43%|██████████████████████████████▉                                         | 43/100 [03:52<05:11,  5.47s/it]"
     ]
    },
    {
     "name": "stdout",
     "output_type": "stream",
     "text": [
      "Epoch 42 completed in 5.47 seconds\n",
      "Epoch 42: Train Loss: 0.1152, Val Loss: 1.4985\n"
     ]
    },
    {
     "name": "stderr",
     "output_type": "stream",
     "text": [
      "Progress:  44%|███████████████████████████████▋                                        | 44/100 [03:57<05:06,  5.46s/it]"
     ]
    },
    {
     "name": "stdout",
     "output_type": "stream",
     "text": [
      "Epoch 43 completed in 5.46 seconds\n",
      "Epoch 43: Train Loss: 0.1069, Val Loss: 1.5017\n"
     ]
    },
    {
     "name": "stderr",
     "output_type": "stream",
     "text": [
      "Progress:  45%|████████████████████████████████▍                                       | 45/100 [04:03<05:00,  5.46s/it]"
     ]
    },
    {
     "name": "stdout",
     "output_type": "stream",
     "text": [
      "Epoch 00045: reducing learning rate of group 0 to 2.0000e-06.\n",
      "Epoch 44 completed in 5.46 seconds\n",
      "Epoch 44: Train Loss: 0.0975, Val Loss: 1.5015\n"
     ]
    },
    {
     "name": "stderr",
     "output_type": "stream",
     "text": [
      "Progress:  46%|█████████████████████████████████                                       | 46/100 [04:08<04:54,  5.46s/it]"
     ]
    },
    {
     "name": "stdout",
     "output_type": "stream",
     "text": [
      "Epoch 45 completed in 5.46 seconds\n",
      "Epoch 45: Train Loss: 0.0895, Val Loss: 1.4978\n"
     ]
    },
    {
     "name": "stderr",
     "output_type": "stream",
     "text": [
      "Progress:  47%|█████████████████████████████████▊                                      | 47/100 [04:14<04:49,  5.46s/it]"
     ]
    },
    {
     "name": "stdout",
     "output_type": "stream",
     "text": [
      "Epoch 46 completed in 5.46 seconds\n",
      "Epoch 46: Train Loss: 0.0874, Val Loss: 1.4962\n"
     ]
    },
    {
     "name": "stderr",
     "output_type": "stream",
     "text": [
      "Progress:  48%|██████████████████████████████████▌                                     | 48/100 [04:19<04:43,  5.46s/it]"
     ]
    },
    {
     "name": "stdout",
     "output_type": "stream",
     "text": [
      "Epoch 47 completed in 5.46 seconds\n",
      "Epoch 47: Train Loss: 0.0860, Val Loss: 1.4991\n"
     ]
    },
    {
     "name": "stderr",
     "output_type": "stream",
     "text": [
      "Progress:  49%|███████████████████████████████████▎                                    | 49/100 [04:24<04:38,  5.46s/it]"
     ]
    },
    {
     "name": "stdout",
     "output_type": "stream",
     "text": [
      "Epoch 48 completed in 5.45 seconds\n",
      "Epoch 48: Train Loss: 0.0844, Val Loss: 1.4999\n"
     ]
    },
    {
     "name": "stderr",
     "output_type": "stream",
     "text": [
      "Progress:  50%|████████████████████████████████████                                    | 50/100 [04:30<04:32,  5.45s/it]"
     ]
    },
    {
     "name": "stdout",
     "output_type": "stream",
     "text": [
      "Epoch 49 completed in 5.44 seconds\n",
      "Epoch 49: Train Loss: 0.0831, Val Loss: 1.5017\n"
     ]
    },
    {
     "name": "stderr",
     "output_type": "stream",
     "text": [
      "Progress:  51%|████████████████████████████████████▋                                   | 51/100 [04:35<04:27,  5.45s/it]"
     ]
    },
    {
     "name": "stdout",
     "output_type": "stream",
     "text": [
      "Epoch 50 completed in 5.45 seconds\n",
      "Epoch 50: Train Loss: 0.0816, Val Loss: 1.5005\n"
     ]
    },
    {
     "name": "stderr",
     "output_type": "stream",
     "text": [
      "Progress:  52%|█████████████████████████████████████▍                                  | 52/100 [04:41<04:21,  5.45s/it]"
     ]
    },
    {
     "name": "stdout",
     "output_type": "stream",
     "text": [
      "Epoch 51 completed in 5.45 seconds\n",
      "Epoch 51: Train Loss: 0.0800, Val Loss: 1.5025\n"
     ]
    },
    {
     "name": "stderr",
     "output_type": "stream",
     "text": [
      "Progress:  53%|██████████████████████████████████████▏                                 | 53/100 [04:46<04:16,  5.45s/it]"
     ]
    },
    {
     "name": "stdout",
     "output_type": "stream",
     "text": [
      "Epoch 00053: reducing learning rate of group 0 to 4.0000e-07.\n",
      "Epoch 52 completed in 5.46 seconds\n",
      "Epoch 52: Train Loss: 0.0785, Val Loss: 1.5014\n"
     ]
    },
    {
     "name": "stderr",
     "output_type": "stream",
     "text": [
      "Progress:  54%|██████████████████████████████████████▉                                 | 54/100 [04:52<04:10,  5.46s/it]"
     ]
    },
    {
     "name": "stdout",
     "output_type": "stream",
     "text": [
      "Epoch 53 completed in 5.46 seconds\n",
      "Epoch 53: Train Loss: 0.0767, Val Loss: 1.5011\n"
     ]
    },
    {
     "name": "stderr",
     "output_type": "stream",
     "text": [
      "Progress:  55%|███████████████████████████████████████▌                                | 55/100 [04:57<04:05,  5.46s/it]"
     ]
    },
    {
     "name": "stdout",
     "output_type": "stream",
     "text": [
      "Epoch 54 completed in 5.46 seconds\n",
      "Epoch 54: Train Loss: 0.0766, Val Loss: 1.5007\n"
     ]
    },
    {
     "name": "stderr",
     "output_type": "stream",
     "text": [
      "Progress:  56%|████████████████████████████████████████▎                               | 56/100 [05:03<04:00,  5.46s/it]"
     ]
    },
    {
     "name": "stdout",
     "output_type": "stream",
     "text": [
      "Epoch 55 completed in 5.45 seconds\n",
      "Epoch 55: Train Loss: 0.0764, Val Loss: 1.5017\n"
     ]
    },
    {
     "name": "stderr",
     "output_type": "stream",
     "text": [
      "Progress:  57%|█████████████████████████████████████████                               | 57/100 [05:08<03:54,  5.46s/it]"
     ]
    },
    {
     "name": "stdout",
     "output_type": "stream",
     "text": [
      "Epoch 56 completed in 5.45 seconds\n",
      "Epoch 56: Train Loss: 0.0755, Val Loss: 1.5012\n"
     ]
    },
    {
     "name": "stderr",
     "output_type": "stream",
     "text": [
      "Progress:  58%|█████████████████████████████████████████▊                              | 58/100 [05:14<03:49,  5.46s/it]"
     ]
    },
    {
     "name": "stdout",
     "output_type": "stream",
     "text": [
      "Epoch 57 completed in 5.45 seconds\n",
      "Epoch 57: Train Loss: 0.0753, Val Loss: 1.5014\n"
     ]
    },
    {
     "name": "stderr",
     "output_type": "stream",
     "text": [
      "Progress:  59%|██████████████████████████████████████████▍                             | 59/100 [05:19<03:43,  5.46s/it]"
     ]
    },
    {
     "name": "stdout",
     "output_type": "stream",
     "text": [
      "Epoch 00059: reducing learning rate of group 0 to 8.0000e-08.\n",
      "Epoch 58 completed in 5.45 seconds\n",
      "Epoch 58: Train Loss: 0.0751, Val Loss: 1.5008\n"
     ]
    },
    {
     "name": "stderr",
     "output_type": "stream",
     "text": [
      "Progress:  60%|███████████████████████████████████████████▏                            | 60/100 [05:24<03:38,  5.46s/it]"
     ]
    },
    {
     "name": "stdout",
     "output_type": "stream",
     "text": [
      "Epoch 59 completed in 5.46 seconds\n",
      "Epoch 59: Train Loss: 0.0743, Val Loss: 1.5010\n"
     ]
    },
    {
     "name": "stderr",
     "output_type": "stream",
     "text": [
      "Progress:  61%|███████████████████████████████████████████▉                            | 61/100 [05:30<03:32,  5.45s/it]"
     ]
    },
    {
     "name": "stdout",
     "output_type": "stream",
     "text": [
      "Epoch 60 completed in 5.45 seconds\n",
      "Epoch 60: Train Loss: 0.0746, Val Loss: 1.5016\n"
     ]
    },
    {
     "name": "stderr",
     "output_type": "stream",
     "text": [
      "Progress:  62%|████████████████████████████████████████████▋                           | 62/100 [05:35<03:27,  5.45s/it]"
     ]
    },
    {
     "name": "stdout",
     "output_type": "stream",
     "text": [
      "Epoch 61 completed in 5.45 seconds\n",
      "Epoch 61: Train Loss: 0.0743, Val Loss: 1.5024\n"
     ]
    },
    {
     "name": "stderr",
     "output_type": "stream",
     "text": [
      "Progress:  63%|█████████████████████████████████████████████▎                          | 63/100 [05:41<03:21,  5.45s/it]"
     ]
    },
    {
     "name": "stdout",
     "output_type": "stream",
     "text": [
      "Epoch 62 completed in 5.45 seconds\n",
      "Epoch 62: Train Loss: 0.0745, Val Loss: 1.5021\n"
     ]
    },
    {
     "name": "stderr",
     "output_type": "stream",
     "text": [
      "Progress:  64%|██████████████████████████████████████████████                          | 64/100 [05:46<03:16,  5.45s/it]"
     ]
    },
    {
     "name": "stdout",
     "output_type": "stream",
     "text": [
      "Epoch 63 completed in 5.46 seconds\n",
      "Epoch 63: Train Loss: 0.0746, Val Loss: 1.5018\n"
     ]
    },
    {
     "name": "stderr",
     "output_type": "stream",
     "text": [
      "Progress:  65%|██████████████████████████████████████████████▊                         | 65/100 [05:52<03:11,  5.46s/it]"
     ]
    },
    {
     "name": "stdout",
     "output_type": "stream",
     "text": [
      "Epoch 00065: reducing learning rate of group 0 to 1.6000e-08.\n",
      "Epoch 64 completed in 5.47 seconds\n",
      "Epoch 64: Train Loss: 0.0741, Val Loss: 1.5025\n"
     ]
    },
    {
     "name": "stderr",
     "output_type": "stream",
     "text": [
      "Progress:  66%|███████████████████████████████████████████████▌                        | 66/100 [05:57<03:05,  5.46s/it]"
     ]
    },
    {
     "name": "stdout",
     "output_type": "stream",
     "text": [
      "Epoch 65 completed in 5.46 seconds\n",
      "Epoch 65: Train Loss: 0.0742, Val Loss: 1.5018\n"
     ]
    },
    {
     "name": "stderr",
     "output_type": "stream",
     "text": [
      "Progress:  67%|████████████████████████████████████████████████▏                       | 67/100 [06:03<03:00,  5.46s/it]"
     ]
    },
    {
     "name": "stdout",
     "output_type": "stream",
     "text": [
      "Epoch 66 completed in 5.45 seconds\n",
      "Epoch 66: Train Loss: 0.0739, Val Loss: 1.5014\n"
     ]
    },
    {
     "name": "stderr",
     "output_type": "stream",
     "text": [
      "Progress:  68%|████████████████████████████████████████████████▉                       | 68/100 [06:08<02:54,  5.45s/it]"
     ]
    },
    {
     "name": "stdout",
     "output_type": "stream",
     "text": [
      "Epoch 67 completed in 5.45 seconds\n",
      "Epoch 67: Train Loss: 0.0739, Val Loss: 1.5023\n"
     ]
    },
    {
     "name": "stderr",
     "output_type": "stream",
     "text": [
      "Progress:  69%|█████████████████████████████████████████████████▋                      | 69/100 [06:14<02:49,  5.45s/it]"
     ]
    },
    {
     "name": "stdout",
     "output_type": "stream",
     "text": [
      "Epoch 68 completed in 5.45 seconds\n",
      "Epoch 68: Train Loss: 0.0739, Val Loss: 1.5018\n"
     ]
    },
    {
     "name": "stderr",
     "output_type": "stream",
     "text": [
      "Progress:  70%|██████████████████████████████████████████████████▍                     | 70/100 [06:19<02:43,  5.45s/it]"
     ]
    },
    {
     "name": "stdout",
     "output_type": "stream",
     "text": [
      "Epoch 69 completed in 5.45 seconds\n",
      "Epoch 69: Train Loss: 0.0738, Val Loss: 1.5015\n"
     ]
    },
    {
     "name": "stderr",
     "output_type": "stream",
     "text": [
      "Progress:  71%|███████████████████████████████████████████████████                     | 71/100 [06:24<02:38,  5.45s/it]"
     ]
    },
    {
     "name": "stdout",
     "output_type": "stream",
     "text": [
      "Epoch 00071: reducing learning rate of group 0 to 3.2000e-09.\n",
      "Epoch 70 completed in 5.45 seconds\n",
      "Epoch 70: Train Loss: 0.0739, Val Loss: 1.5020\n"
     ]
    },
    {
     "name": "stderr",
     "output_type": "stream",
     "text": [
      "Progress:  72%|███████████████████████████████████████████████████▊                    | 72/100 [06:30<02:32,  5.45s/it]"
     ]
    },
    {
     "name": "stdout",
     "output_type": "stream",
     "text": [
      "Epoch 71 completed in 5.45 seconds\n",
      "Epoch 71: Train Loss: 0.0741, Val Loss: 1.5015\n"
     ]
    },
    {
     "name": "stderr",
     "output_type": "stream",
     "text": [
      "Progress:  73%|████████████████████████████████████████████████████▌                   | 73/100 [06:35<02:27,  5.45s/it]"
     ]
    },
    {
     "name": "stdout",
     "output_type": "stream",
     "text": [
      "Epoch 72 completed in 5.46 seconds\n",
      "Epoch 72: Train Loss: 0.0740, Val Loss: 1.5017\n"
     ]
    },
    {
     "name": "stderr",
     "output_type": "stream",
     "text": [
      "Progress:  74%|█████████████████████████████████████████████████████▎                  | 74/100 [06:41<02:21,  5.46s/it]"
     ]
    },
    {
     "name": "stdout",
     "output_type": "stream",
     "text": [
      "Epoch 73 completed in 5.47 seconds\n",
      "Epoch 73: Train Loss: 0.0740, Val Loss: 1.5020\n"
     ]
    },
    {
     "name": "stderr",
     "output_type": "stream",
     "text": [
      "Progress:  75%|██████████████████████████████████████████████████████                  | 75/100 [06:46<02:16,  5.46s/it]"
     ]
    },
    {
     "name": "stdout",
     "output_type": "stream",
     "text": [
      "Epoch 74 completed in 5.47 seconds\n",
      "Epoch 74: Train Loss: 0.0740, Val Loss: 1.5025\n"
     ]
    },
    {
     "name": "stderr",
     "output_type": "stream",
     "text": [
      "Progress:  76%|██████████████████████████████████████████████████████▋                 | 76/100 [06:52<02:11,  5.46s/it]"
     ]
    },
    {
     "name": "stdout",
     "output_type": "stream",
     "text": [
      "Epoch 75 completed in 5.45 seconds\n",
      "Epoch 75: Train Loss: 0.0740, Val Loss: 1.5017\n"
     ]
    },
    {
     "name": "stderr",
     "output_type": "stream",
     "text": [
      "Progress:  77%|███████████████████████████████████████████████████████▍                | 77/100 [06:57<02:05,  5.46s/it]"
     ]
    },
    {
     "name": "stdout",
     "output_type": "stream",
     "text": [
      "Epoch 76 completed in 5.45 seconds\n",
      "Epoch 76: Train Loss: 0.0739, Val Loss: 1.5024\n"
     ]
    },
    {
     "name": "stderr",
     "output_type": "stream",
     "text": [
      "Progress:  78%|████████████████████████████████████████████████████████▏               | 78/100 [07:03<02:00,  5.46s/it]"
     ]
    },
    {
     "name": "stdout",
     "output_type": "stream",
     "text": [
      "Epoch 77 completed in 5.46 seconds\n",
      "Epoch 77: Train Loss: 0.0738, Val Loss: 1.5015\n"
     ]
    },
    {
     "name": "stderr",
     "output_type": "stream",
     "text": [
      "Progress:  79%|████████████████████████████████████████████████████████▉               | 79/100 [07:08<01:54,  5.46s/it]"
     ]
    },
    {
     "name": "stdout",
     "output_type": "stream",
     "text": [
      "Epoch 78 completed in 5.46 seconds\n",
      "Epoch 78: Train Loss: 0.0740, Val Loss: 1.5022\n"
     ]
    },
    {
     "name": "stderr",
     "output_type": "stream",
     "text": [
      "Progress:  80%|█████████████████████████████████████████████████████████▌              | 80/100 [07:14<01:49,  5.46s/it]"
     ]
    },
    {
     "name": "stdout",
     "output_type": "stream",
     "text": [
      "Epoch 79 completed in 5.45 seconds\n",
      "Epoch 79: Train Loss: 0.0739, Val Loss: 1.5024\n"
     ]
    },
    {
     "name": "stderr",
     "output_type": "stream",
     "text": [
      "Progress:  81%|██████████████████████████████████████████████████████████▎             | 81/100 [07:19<01:43,  5.45s/it]"
     ]
    },
    {
     "name": "stdout",
     "output_type": "stream",
     "text": [
      "Epoch 80 completed in 5.45 seconds\n",
      "Epoch 80: Train Loss: 0.0738, Val Loss: 1.5018\n"
     ]
    },
    {
     "name": "stderr",
     "output_type": "stream",
     "text": [
      "Progress:  82%|███████████████████████████████████████████████████████████             | 82/100 [07:24<01:38,  5.45s/it]"
     ]
    },
    {
     "name": "stdout",
     "output_type": "stream",
     "text": [
      "Epoch 81 completed in 5.45 seconds\n",
      "Epoch 81: Train Loss: 0.0739, Val Loss: 1.5017\n"
     ]
    },
    {
     "name": "stderr",
     "output_type": "stream",
     "text": [
      "Progress:  83%|███████████████████████████████████████████████████████████▊            | 83/100 [07:30<01:32,  5.45s/it]"
     ]
    },
    {
     "name": "stdout",
     "output_type": "stream",
     "text": [
      "Epoch 82 completed in 5.46 seconds\n",
      "Epoch 82: Train Loss: 0.0741, Val Loss: 1.5025\n"
     ]
    },
    {
     "name": "stderr",
     "output_type": "stream",
     "text": [
      "Progress:  84%|████████████████████████████████████████████████████████████▍           | 84/100 [07:35<01:27,  5.46s/it]"
     ]
    },
    {
     "name": "stdout",
     "output_type": "stream",
     "text": [
      "Epoch 83 completed in 5.46 seconds\n",
      "Epoch 83: Train Loss: 0.0741, Val Loss: 1.5025\n"
     ]
    },
    {
     "name": "stderr",
     "output_type": "stream",
     "text": [
      "Progress:  85%|█████████████████████████████████████████████████████████████▏          | 85/100 [07:41<01:21,  5.46s/it]"
     ]
    },
    {
     "name": "stdout",
     "output_type": "stream",
     "text": [
      "Epoch 84 completed in 5.48 seconds\n",
      "Epoch 84: Train Loss: 0.0739, Val Loss: 1.5019\n"
     ]
    },
    {
     "name": "stderr",
     "output_type": "stream",
     "text": [
      "Progress:  86%|█████████████████████████████████████████████████████████████▉          | 86/100 [07:46<01:16,  5.46s/it]"
     ]
    },
    {
     "name": "stdout",
     "output_type": "stream",
     "text": [
      "Epoch 85 completed in 5.46 seconds\n",
      "Epoch 85: Train Loss: 0.0736, Val Loss: 1.5018\n"
     ]
    },
    {
     "name": "stderr",
     "output_type": "stream",
     "text": [
      "Progress:  87%|██████████████████████████████████████████████████████████████▋         | 87/100 [07:52<01:10,  5.46s/it]"
     ]
    },
    {
     "name": "stdout",
     "output_type": "stream",
     "text": [
      "Epoch 86 completed in 5.46 seconds\n",
      "Epoch 86: Train Loss: 0.0738, Val Loss: 1.5021\n"
     ]
    },
    {
     "name": "stderr",
     "output_type": "stream",
     "text": [
      "Progress:  88%|███████████████████████████████████████████████████████████████▎        | 88/100 [07:57<01:05,  5.46s/it]"
     ]
    },
    {
     "name": "stdout",
     "output_type": "stream",
     "text": [
      "Epoch 87 completed in 5.46 seconds\n",
      "Epoch 87: Train Loss: 0.0739, Val Loss: 1.5021\n"
     ]
    },
    {
     "name": "stderr",
     "output_type": "stream",
     "text": [
      "Progress:  89%|████████████████████████████████████████████████████████████████        | 89/100 [08:03<01:00,  5.46s/it]"
     ]
    },
    {
     "name": "stdout",
     "output_type": "stream",
     "text": [
      "Epoch 88 completed in 5.45 seconds\n",
      "Epoch 88: Train Loss: 0.0739, Val Loss: 1.5016\n"
     ]
    },
    {
     "name": "stderr",
     "output_type": "stream",
     "text": [
      "Progress:  90%|████████████████████████████████████████████████████████████████▊       | 90/100 [08:08<00:54,  5.46s/it]"
     ]
    },
    {
     "name": "stdout",
     "output_type": "stream",
     "text": [
      "Epoch 89 completed in 5.45 seconds\n",
      "Epoch 89: Train Loss: 0.0736, Val Loss: 1.5018\n"
     ]
    },
    {
     "name": "stderr",
     "output_type": "stream",
     "text": [
      "Progress:  91%|█████████████████████████████████████████████████████████████████▌      | 91/100 [08:14<00:49,  5.46s/it]"
     ]
    },
    {
     "name": "stdout",
     "output_type": "stream",
     "text": [
      "Epoch 90 completed in 5.45 seconds\n",
      "Epoch 90: Train Loss: 0.0739, Val Loss: 1.5016\n"
     ]
    },
    {
     "name": "stderr",
     "output_type": "stream",
     "text": [
      "Progress:  92%|██████████████████████████████████████████████████████████████████▏     | 92/100 [08:19<00:43,  5.46s/it]"
     ]
    },
    {
     "name": "stdout",
     "output_type": "stream",
     "text": [
      "Epoch 91 completed in 5.46 seconds\n",
      "Epoch 91: Train Loss: 0.0738, Val Loss: 1.5019\n"
     ]
    },
    {
     "name": "stderr",
     "output_type": "stream",
     "text": [
      "Progress:  93%|██████████████████████████████████████████████████████████████████▉     | 93/100 [08:25<00:38,  5.46s/it]"
     ]
    },
    {
     "name": "stdout",
     "output_type": "stream",
     "text": [
      "Epoch 92 completed in 5.47 seconds\n",
      "Epoch 92: Train Loss: 0.0739, Val Loss: 1.5024\n"
     ]
    },
    {
     "name": "stderr",
     "output_type": "stream",
     "text": [
      "Progress:  94%|███████████████████████████████████████████████████████████████████▋    | 94/100 [08:30<00:32,  5.46s/it]"
     ]
    },
    {
     "name": "stdout",
     "output_type": "stream",
     "text": [
      "Epoch 93 completed in 5.45 seconds\n",
      "Epoch 93: Train Loss: 0.0740, Val Loss: 1.5022\n"
     ]
    },
    {
     "name": "stderr",
     "output_type": "stream",
     "text": [
      "Progress:  95%|████████████████████████████████████████████████████████████████████▍   | 95/100 [08:35<00:27,  5.46s/it]"
     ]
    },
    {
     "name": "stdout",
     "output_type": "stream",
     "text": [
      "Epoch 94 completed in 5.45 seconds\n",
      "Epoch 94: Train Loss: 0.0739, Val Loss: 1.5021\n"
     ]
    },
    {
     "name": "stderr",
     "output_type": "stream",
     "text": [
      "Progress:  96%|█████████████████████████████████████████████████████████████████████   | 96/100 [08:41<00:21,  5.46s/it]"
     ]
    },
    {
     "name": "stdout",
     "output_type": "stream",
     "text": [
      "Epoch 95 completed in 5.46 seconds\n",
      "Epoch 95: Train Loss: 0.0738, Val Loss: 1.5016\n"
     ]
    },
    {
     "name": "stderr",
     "output_type": "stream",
     "text": [
      "Progress:  97%|█████████████████████████████████████████████████████████████████████▊  | 97/100 [08:46<00:16,  5.46s/it]"
     ]
    },
    {
     "name": "stdout",
     "output_type": "stream",
     "text": [
      "Epoch 96 completed in 5.46 seconds\n",
      "Epoch 96: Train Loss: 0.0739, Val Loss: 1.5023\n"
     ]
    },
    {
     "name": "stderr",
     "output_type": "stream",
     "text": [
      "Progress:  98%|██████████████████████████████████████████████████████████████████████▌ | 98/100 [08:52<00:10,  5.46s/it]"
     ]
    },
    {
     "name": "stdout",
     "output_type": "stream",
     "text": [
      "Epoch 97 completed in 5.45 seconds\n",
      "Epoch 97: Train Loss: 0.0739, Val Loss: 1.5030\n"
     ]
    },
    {
     "name": "stderr",
     "output_type": "stream",
     "text": [
      "Progress:  99%|███████████████████████████████████████████████████████████████████████▎| 99/100 [08:57<00:05,  5.45s/it]"
     ]
    },
    {
     "name": "stdout",
     "output_type": "stream",
     "text": [
      "Epoch 98 completed in 5.45 seconds\n",
      "Epoch 98: Train Loss: 0.0741, Val Loss: 1.5021\n"
     ]
    },
    {
     "name": "stderr",
     "output_type": "stream",
     "text": [
      "Progress: 100%|███████████████████████████████████████████████████████████████████████| 100/100 [09:03<00:00,  5.43s/it]"
     ]
    },
    {
     "name": "stdout",
     "output_type": "stream",
     "text": [
      "Epoch 99 completed in 5.45 seconds\n",
      "Epoch 99: Train Loss: 0.0738, Val Loss: 1.5016\n",
      "Total training time: 543.21 seconds\n"
     ]
    },
    {
     "name": "stderr",
     "output_type": "stream",
     "text": [
      "\n"
     ]
    }
   ],
   "source": [
    "\n",
    "# criterion = nn.MSELoss().to(device)\n",
    "criterion = nn.CrossEntropyLoss().to(device)\n",
    "optimizer = torch.optim.Adam(model.parameters(), lr=hyperparams['learning_rate'])\n",
    "scheduler = ReduceLROnPlateau(optimizer, mode='min', factor=hyperparams['factor'], patience=hyperparams['patience'],\n",
    "                              verbose=True)\n",
    "\n",
    "\n",
    "train_losses = []\n",
    "val_losses = []\n",
    "train_loader = DataLoader(train_dataset, batch_size=hyperparams['batch_size'], shuffle=True)\n",
    "val_loader = DataLoader(val_dataset, batch_size=hyperparams['batch_size'])\n",
    "test_loader = DataLoader(test_dataset, batch_size=hyperparams['batch_size'])\n",
    "start_time = time.time()\n",
    "for epoch in trange(num_epochs, desc=\"Progress\"):\n",
    "    epoch_start_time = time.time()\n",
    "    train_losses.append(loop_train(model, train_loader, criterion, optimizer))\n",
    "    val_losses.append(loop_test(model, val_loader, criterion))\n",
    "\n",
    "    scheduler.step(val_losses[-1])\n",
    "\n",
    "    if (epoch + 1) % print_every == 0:\n",
    "        epoch_time = time.time() - epoch_start_time\n",
    "        print(f'Epoch {epoch} completed in {epoch_time:.2f} seconds')\n",
    "        print(f'Epoch {epoch}: Train Loss: {train_losses[-1]:.4f}, Val Loss: {val_losses[-1]:.4f}')\n",
    "\n",
    "\n",
    "total_training_time = time.time() - start_time\n",
    "print(f'Total training time: {total_training_time:.2f} seconds')\n"
   ]
  },
  {
   "cell_type": "code",
   "execution_count": 138,
   "metadata": {
    "collapsed": false,
    "jupyter": {
     "outputs_hidden": false
    }
   },
   "outputs": [
    {
     "data": {
      "image/png": "[encoded data removed]",
      "text/plain": [
       "<Figure size 1000x500 with 1 Axes>"
      ]
     },
     "metadata": {},
     "output_type": "display_data"
    }
   ],
   "source": [
    "plot_losses(train_losses, val_losses, decimals=3)"
   ]
  },
  {
   "cell_type": "code",
   "execution_count": 139,
   "metadata": {
    "collapsed": false,
    "jupyter": {
     "outputs_hidden": false
    }
   },
   "outputs": [
    {
     "data": {
      "image/png": "[encoded data removed]",
      "text/plain": [
       "<Figure size 3000x2100 with 2 Axes>"
      ]
     },
     "metadata": {},
     "output_type": "display_data"
    }
   ],
   "source": [
    "# predictions = model(X_torch.to(device))\n",
    "# predictions\n",
    "model.eval()  # Set the model to evaluation mode\n",
    "predicted_labels = []\n",
    "with torch.no_grad():  # Disable gradient calculation\n",
    "    for batch in test_loader:\n",
    "        inputs = batch[0].to(device)\n",
    "        outputs = model(inputs)\n",
    "        _, predicted = torch.max(outputs, 1)\n",
    "        predicted_labels.extend(predicted.cpu().numpy())\n",
    "# Convert the list to a numpy array\n",
    "predicted_labels = np.array(predicted_labels)\n",
    "# If you need the result as a tensor, convert back to tensor\n",
    "predicted_labels = torch.tensor(predicted_labels)\n",
    "\n",
    "# _, predicted_labels = torch.max(model(X_test.to(device)), 1)\n",
    "_, true_class_labels = torch.max(y_test, 1)\n",
    "predicted_labels_np = predicted_labels.cpu().numpy()\n",
    "true_labels_np = true_class_labels.cpu().numpy()\n",
    "cm = confusion_matrix(true_labels_np, predicted_labels_np)\n",
    "plt.figure(figsize=(30, 21))\n",
    "sns.heatmap(cm, annot=True, fmt=\"d\", xticklabels=knots, yticklabels=knots)\n",
    "plt.xlabel('Predicted Labels')\n",
    "plt.ylabel('True Labels')\n",
    "plt.title('Confusion Matrix')\n",
    "plt.show()"
   ]
  },
  {
   "cell_type": "code",
   "execution_count": 140,
   "metadata": {
    "collapsed": false,
    "jupyter": {
     "outputs_hidden": false
    }
   },
   "outputs": [
    {
     "name": "stdout",
     "output_type": "stream",
     "text": [
      "0.5271530444322545\n"
     ]
    }
   ],
   "source": [
    "Accuracy = (np.sum(predicted_labels_np == true_labels_np)) / len(predicted_labels_np)\n",
    "print(Accuracy)"
   ]
  },
  {
   "cell_type": "code",
   "execution_count": null,
   "outputs": [],
   "source": [
    "# Save the model state (weights) and structure\n",
    "model_save_path = \"classifier_4foil_3d.pth\"\n",
    "\n",
    "torch.save({\n",
    "    'model_state_dict': model.state_dict(),\n",
    "    'hyperparams': hyperparams,\n",
    "    'num_classes': num_classes,\n",
    "    'stages': stages,\n",
    "    'pooling_configs': pooling_configs,\n",
    "    'desired_res': desired_res,\n",
    "}, model_save_path)\n",
    "\n",
    "print(f\"Model saved to {model_save_path}\")"
   ],
   "metadata": {
    "collapsed": false
   }
  }
 ],
 "metadata": {
  "kernelspec": {
   "display_name": "Python 3 (ipykernel)",
   "language": "python",
   "name": "python3"
  },
  "language_info": {
   "codemirror_mode": {
    "name": "ipython",
    "version": 3
   },
   "file_extension": ".py",
   "mimetype": "text/x-python",
   "name": "python",
   "nbconvert_exporter": "python",
   "pygments_lexer": "ipython3",
   "version": "3.11.5"
  }
 },
 "nbformat": 4,
 "nbformat_minor": 4
}
