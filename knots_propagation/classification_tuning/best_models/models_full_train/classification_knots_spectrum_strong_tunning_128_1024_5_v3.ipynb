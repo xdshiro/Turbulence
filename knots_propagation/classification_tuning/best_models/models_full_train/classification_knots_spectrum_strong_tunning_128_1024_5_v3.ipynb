{
 "cells": [
  {
   "cell_type": "code",
   "execution_count": 1,
   "metadata": {},
   "outputs": [],
   "source": [
    "import sys\n",
    "sys.path.append('../')\n",
    "import time\n",
    "\n",
    "import numpy as np\n",
    "import matplotlib.pyplot as plt\n",
    "from sklearn.model_selection import train_test_split\n",
    "from scipy.signal import convolve2d\n",
    "from scipy.optimize import curve_fit\n",
    "from scipy.optimize import brute\n",
    "# import cv2\n",
    "import torch\n",
    "import json\n",
    "import csv\n",
    "from functions.all_knots_functions import *\n",
    "from torch.utils.data import TensorDataset, DataLoader\n",
    "from torch import nn\n",
    "from sklearn.model_selection import train_test_split\n",
    "from torch.optim import lr_scheduler\n",
    "from torch.optim.lr_scheduler import ReduceLROnPlateau\n",
    "import collections\n",
    "import itertools\n",
    "import torch\n",
    "import torch.nn as nn\n",
    "import torch.nn.functional as F\n",
    "from tqdm import trange\n",
    "import pickle\n",
    "from sklearn.metrics import confusion_matrix\n",
    "import seaborn as sns\n",
    "from torchsummary import summary\n",
    "device = torch.device(\"cuda\" if torch.cuda.is_available() else \"cpu\")"
   ]
  },
  {
   "cell_type": "code",
   "execution_count": 2,
   "metadata": {
    "collapsed": false,
    "jupyter": {
     "outputs_hidden": false
    }
   },
   "outputs": [],
   "source": [
    "hyperparams = {\n",
    "    # 'learning_rate': 5e-4,  # Control dropout rate\n",
    "    'learning_rate': 5e-4,  # Control dropout rate\n",
    "    'patience': 0,  # Number of epochs between learning rate decay\n",
    "    'decay_epoch': 25,\n",
    "    'factor': 0.2,  # Multiplicative factor of learning rate decay\n",
    "    'batch_size': 64,\n",
    "    'dropout_rate': 0.25\n",
    "}\n",
    "\n",
    "\n",
    "num_epochs = 50\n",
    "print_every = 1\n",
    "\n",
    "hidden_sizes1 = 128\n",
    "hidden_sizes2 = 1024\n",
    "hidden_sizes3 = 128\n",
    "num_hidden = 10\n",
    "# hidden_sizes1 = 128\n",
    "# hidden_sizes2 = 1024\n",
    "# hidden_sizes3 = 128\n",
    "# num_hidden = 2"
   ]
  },
  {
   "cell_type": "code",
   "execution_count": 3,
   "metadata": {
    "collapsed": false,
    "jupyter": {
     "outputs_hidden": false
    }
   },
   "outputs": [
    {
     "name": "stdout",
     "output_type": "stream",
     "text": [
      "Loaded 0 samples.  0 per class\n"
     ]
    }
   ],
   "source": [
    "knot_types = {\n",
    "        'standard_16': 0,  # 1\n",
    "        'standard_14': 1,  # 2\n",
    "        'standard_18': 2,  # 3\n",
    "        '30both': 3,  # 4\n",
    "        '30oneZ': 4,  # 5\n",
    "        'optimized': 5,  # 6\n",
    "        'pm_03_z': 6,  # 7\n",
    "        # '4foil': hopf_4foil,  # 8\n",
    "        # '6foil': hopf_6foil,  # 9\n",
    "        # 'stand4foil': hopf_stand4foil,  # 10\n",
    "        '30oneX': 7,  # 11\n",
    "        '15oneZ': 8,\n",
    "        'dennis': 9,\n",
    "        'trefoil_standard_12': 10,\n",
    "        'trefoil_optimized': 11,\n",
    "        # 'fivefoil_standard_08': fivefoil_standard_08\n",
    "\n",
    "}\n",
    "\n",
    "\n",
    "knots = [\n",
    "    'standard_14', 'standard_16', 'standard_18', '30both', '30oneZ',\n",
    "    'optimized', 'pm_03_z', '30oneX', '15oneZ', 'dennis',\n",
    "    'trefoil_standard_12', 'trefoil_optimized'\n",
    "]\n",
    "\n",
    "\n",
    "folders = [\n",
    "    '../HOPFS_L270_0.05_1000_64x64x64_v1',\n",
    "    '../HOPFS_L270_0.15_1000_64x64x64_v1',\n",
    "    '../HOPFS_L270_0.25_1000_64x64x64_v1',\n",
    "]\n",
    "# folders = [\n",
    "#     '../HOPFS_L270_0.05_1_64x64x64_v1',\n",
    "#     '../HOPFS_L270_5e-07_test_1s',\n",
    "# ]\n",
    "\n",
    "\n",
    "num_classes = len(knots)\n",
    "X_list = []\n",
    "Y_list = []\n",
    "Xs_list = []\n",
    "Ys_list = []\n",
    "\n",
    "csv.field_size_limit(10000000)\n",
    "\n",
    "# Loop through all folders and knots\n",
    "for folder in folders:\n",
    "    for knot in knots:\n",
    "        filename = f'{folder}/data_{knot}_spectr.csv'\n",
    "        try:\n",
    "            with open(filename, 'r') as file:\n",
    "                reader = csv.reader(file)\n",
    "                for row in reader:\n",
    "                    # Append the knot label to Ys_list\n",
    "                    Ys_list.append(knot_types[knot])\n",
    "\n",
    "                    # Load the data array from the JSON string\n",
    "                    data_array = json.loads(row[0])\n",
    "\n",
    "                    # Extract values from the data array\n",
    "                    l1, l2 = data_array[0], data_array[1]\n",
    "                    p1, p2 = data_array[2], data_array[3]\n",
    "\n",
    "                    # Create and normalize the moments array\n",
    "                    moments = np.array([x[0] + 1j * x[1] for x in data_array[5:]])\n",
    "                    moments = moments.reshape((l2 - l1 + 1), (p2 - p1 + 1))\n",
    "                    moments = moments / np.sqrt(np.sum(np.abs(moments) ** 2))\n",
    "\n",
    "                    # Append the flattened absolute values to Xs_list\n",
    "                    Xs_list.append(np.abs(moments.reshape(-1)))\n",
    "\n",
    "        except FileNotFoundError:\n",
    "            print(f'File not found: {filename}')\n",
    "        except json.JSONDecodeError:\n",
    "            print(f'Error decoding JSON in file: {filename}')\n",
    "\n",
    "print(f'Loaded {len(X_list)} samples.  {int(len(X_list) / len(knots))} per class')"
   ]
  },
  {
   "cell_type": "code",
   "execution_count": 4,
   "metadata": {
    "collapsed": false,
    "jupyter": {
     "outputs_hidden": false
    }
   },
   "outputs": [
    {
     "name": "stdout",
     "output_type": "stream",
     "text": [
      "torch.Size([132, 91]) torch.Size([132, 12])\n"
     ]
    }
   ],
   "source": [
    "Xs_np = np.array(Xs_list)\n",
    "ys_np = np.array(Ys_list)\n",
    "# print(ys_np.shape)\n",
    "Xs_torch = torch.tensor(Xs_np).float()\n",
    "ys_t = torch.tensor(ys_np)\n",
    "ys_torch = F.one_hot(ys_t.long(), num_classes=num_classes).float()\n",
    "print(Xs_torch.shape, ys_torch.shape)"
   ]
  },
  {
   "cell_type": "markdown",
   "metadata": {
    "collapsed": false,
    "jupyter": {
     "outputs_hidden": false
    }
   },
   "source": []
  },
  {
   "cell_type": "code",
   "execution_count": 5,
   "metadata": {
    "collapsed": false,
    "jupyter": {
     "outputs_hidden": false
    }
   },
   "outputs": [],
   "source": [
    "\n",
    "train_dataset = TensorDataset(Xs_torch, ys_torch)\n"
   ]
  },
  {
   "cell_type": "code",
   "execution_count": 6,
   "metadata": {
    "collapsed": false,
    "jupyter": {
     "outputs_hidden": false
    }
   },
   "outputs": [],
   "source": [
    "class ClassifierFC_spec(nn.Module):\n",
    "    def __init__(self, input_size, hidden_sizes1, hidden_sizes2, hidden_sizes3, num_hidden, num_classes, dropout_rate):\n",
    "        super(ClassifierFC_spec, self).__init__()\n",
    "        layers = []\n",
    "\n",
    "        # Input layer with batch normalization and dropout\n",
    "        layers.append(nn.Linear(input_size, hidden_sizes1, bias=True))\n",
    "        layers.append(nn.BatchNorm1d(hidden_sizes1))\n",
    "        layers.append(nn.ReLU())\n",
    "        layers.append(nn.Dropout(p=dropout_rate))  # Dropout\n",
    "\n",
    "        # Second layer with batch normalization and dropout\n",
    "        layers.append(nn.Linear(hidden_sizes1, hidden_sizes2, bias=True))\n",
    "        layers.append(nn.BatchNorm1d(hidden_sizes2))\n",
    "        layers.append(nn.ReLU())\n",
    "        layers.append(nn.Dropout(p=dropout_rate))  # Dropout\n",
    "\n",
    "        # Hidden layers with batch normalization and dropout\n",
    "        for i in range(num_hidden):\n",
    "            layers.append(nn.Linear(hidden_sizes2, hidden_sizes2, bias=True))\n",
    "            layers.append(nn.BatchNorm1d(hidden_sizes2))\n",
    "            layers.append(nn.ReLU())\n",
    "            layers.append(nn.Dropout(p=dropout_rate))  # Dropout\n",
    "\n",
    "        # Output layers with batch normalization and dropout\n",
    "        layers.append(nn.Linear(hidden_sizes2, hidden_sizes3, bias=True))\n",
    "        layers.append(nn.BatchNorm1d(hidden_sizes3))\n",
    "        layers.append(nn.ReLU())\n",
    "        layers.append(nn.Dropout(p=dropout_rate))  # Dropout\n",
    "\n",
    "        # Final output layer (no dropout here)\n",
    "        layers.append(nn.Linear(hidden_sizes3, num_classes))\n",
    "\n",
    "        # Register all layers as a ModuleList\n",
    "        self.layers = nn.ModuleList(layers)\n",
    "\n",
    "    def forward(self, x):\n",
    "        for layer in self.layers:\n",
    "            x = layer(x)\n",
    "        return x"
   ]
  },
  {
   "cell_type": "code",
   "execution_count": 7,
   "metadata": {
    "collapsed": false,
    "jupyter": {
     "outputs_hidden": false
    }
   },
   "outputs": [],
   "source": [
    "# in_channels, out_channels, kernel_size, stride, padding\n",
    "input_size = Xs_np.shape[-1]\n",
    "\n",
    "num_classes = ys_torch.shape[-1]\n",
    "model = ClassifierFC_spec(input_size, hidden_sizes1, hidden_sizes2, hidden_sizes3,\n",
    "                          num_hidden, num_classes, dropout_rate=hyperparams['dropout_rate']).to(device)"
   ]
  },
  {
   "cell_type": "code",
   "execution_count": 8,
   "metadata": {
    "collapsed": false,
    "jupyter": {
     "outputs_hidden": false
    }
   },
   "outputs": [
    {
     "name": "stdout",
     "output_type": "stream",
     "text": [
      "torch.Size([3, 91])\n",
      "torch.Size([3, 12])\n",
      "----------------------------------------------------------------\n",
      "        Layer (type)               Output Shape         Param #\n",
      "================================================================\n",
      "            Linear-1                  [-1, 128]          11,776\n",
      "              ReLU-2                  [-1, 128]               0\n",
      "            Linear-3                 [-1, 1024]         132,096\n",
      "              ReLU-4                 [-1, 1024]               0\n",
      "            Linear-5                 [-1, 1024]       1,049,600\n",
      "              ReLU-6                 [-1, 1024]               0\n",
      "            Linear-7                 [-1, 1024]       1,049,600\n",
      "              ReLU-8                 [-1, 1024]               0\n",
      "            Linear-9                  [-1, 128]         131,200\n",
      "             ReLU-10                  [-1, 128]               0\n",
      "           Linear-11                   [-1, 12]           1,548\n",
      "================================================================\n",
      "Total params: 2,375,820\n",
      "Trainable params: 2,375,820\n",
      "Non-trainable params: 0\n",
      "----------------------------------------------------------------\n",
      "Input size (MB): 0.00\n",
      "Forward/backward pass size (MB): 0.05\n",
      "Params size (MB): 9.06\n",
      "Estimated Total Size (MB): 9.11\n",
      "----------------------------------------------------------------\n"
     ]
    }
   ],
   "source": [
    "# print(model._to_linear, 512 * 16 * 16)\n",
    "dots_3d_toch_batch = train_dataset[1:4][0].to(device)\n",
    "print(dots_3d_toch_batch.shape)\n",
    "print(model(dots_3d_toch_batch).shape)\n",
    "summary(model, input_size=dots_3d_toch_batch.shape[1:])"
   ]
  },
  {
   "cell_type": "code",
   "execution_count": 9,
   "metadata": {},
   "outputs": [
    {
     "data": {
      "text/plain": "tensor([[6.6006e-06, 1.6964e-05, 3.2165e-05, 1.4067e-05, 3.4803e-05, 2.9246e-05,\n         1.3240e-05, 2.5824e-05, 5.2451e-05, 3.4505e-05, 4.5597e-05, 3.3729e-05,\n         2.0814e-05, 1.5858e-05, 8.6271e-05, 3.0351e-05, 2.2049e-04, 5.1523e-04,\n         7.4268e-04, 5.1564e-04, 2.3542e-04, 4.4362e-05, 1.0753e-04, 2.5014e-05,\n         4.7561e-05, 2.8221e-05, 3.9255e-05, 2.2885e-05, 1.1168e-04, 1.8422e-04,\n         5.4228e-05, 2.3539e-05, 6.4160e-05, 5.6587e-05, 4.0418e-05, 9.7394e-02,\n         8.5777e-02, 4.3770e-04, 1.4858e-04, 9.7989e-05, 9.8282e-06, 7.9999e-05,\n         2.5445e-01, 6.9926e-01, 4.8147e-01, 1.3113e-04, 3.3687e-04, 7.7524e-04,\n         1.0768e-03, 9.7512e-02, 8.5704e-02, 2.7422e-04, 1.9816e-05, 8.9038e-05,\n         2.1054e-05, 5.6586e-05, 4.2517e-01, 6.5511e-05, 5.2810e-05, 2.3717e-05,\n         6.0517e-05, 8.2064e-05, 5.6497e-05, 3.5253e-04, 4.5795e-05, 2.3946e-05,\n         5.4639e-05, 2.3071e-07, 3.9554e-05, 3.5650e-06, 8.5199e-05, 1.3619e-04,\n         1.8850e-04, 5.0915e-04, 7.5757e-04, 5.0582e-04, 2.4702e-04, 4.7436e-05,\n         6.4649e-05, 1.5613e-05, 3.0980e-05, 4.2763e-05, 2.0207e-05, 2.3247e-05,\n         6.9965e-05, 3.3210e-05, 8.6892e-06, 6.8242e-05, 3.3677e-05, 7.8341e-06,\n         3.1709e-05]])"
     },
     "execution_count": 9,
     "metadata": {},
     "output_type": "execute_result"
    }
   ],
   "source": [
    "train_dataset[1:2][0]"
   ]
  },
  {
   "cell_type": "code",
   "execution_count": 10,
   "metadata": {
    "collapsed": false,
    "jupyter": {
     "outputs_hidden": false
    }
   },
   "outputs": [],
   "source": [
    "def loop_train(model, train_loader, criterion, optimizer):\n",
    "    model.train()  # Set the model to training mode\n",
    "    total_loss = 0\n",
    "    for i, (inputs, targets) in enumerate(train_loader, 1):  # Start enumeration from 1\n",
    "        inputs, targets = inputs.to(device), targets.to(device)\n",
    "        optimizer.zero_grad()  # Clear the gradients\n",
    "        outputs = model(inputs)  # Forward pass\n",
    "        loss = criterion(outputs, targets)  # Compute the loss\n",
    "        loss.backward()  # Backward pass\n",
    "        optimizer.step()  # Update the weights\n",
    "        total_loss += loss.item()  # Accumulate the loss\n",
    "\n",
    "    return total_loss / len(train_loader)  # Return the average loss\n",
    "\n",
    "\n",
    "def loop_test(model, test_loader, criterion):\n",
    "    model.eval()  # Set the model to evaluation mode\n",
    "    total_loss = 0\n",
    "    with torch.no_grad():  # No need to track the gradients\n",
    "        for inputs, targets in test_loader:\n",
    "            inputs, targets = inputs.to(device), targets.to(device)\n",
    "            outputs = model(inputs)  # Forward pass\n",
    "            loss = criterion(outputs, targets)  # Compute the loss\n",
    "            total_loss += loss.item()  # Accumulate the loss\n",
    "    return total_loss / len(test_loader)  # Return the average loss\n",
    "\n",
    "\n",
    "def correct_number_test(model, test_loader, criterion):\n",
    "    model.eval()  # Set the model to evaluation mode\n",
    "    total_correct = 0\n",
    "    total = 0\n",
    "    with torch.no_grad():  # No need to track the gradients\n",
    "        for inputs, targets in test_loader:\n",
    "            inputs, targets = inputs.to(device), targets.to(device)\n",
    "            outputs = model(inputs)  # Forward pass\n",
    "            correct = criterion(outputs, targets)  # Compute correct\n",
    "            total_correct += correct  # Accumulate correct\n",
    "            total += len(outputs)  # Accumulate total\n",
    "    return total_correct, total  # Return the average loss\n",
    "\n",
    "\n",
    "def plot_losses(train_losses, test_losses, decimals=3):\n",
    "    plt.figure(figsize=(10, 5))\n",
    "    plt.plot(train_losses,\n",
    "             label=f'Train Loss {train_losses[-1]: .{decimals}f} (min: {min(train_losses): .{decimals}f})')\n",
    "    plt.plot(test_losses, label=f'Test Loss {test_losses[-1]: .{decimals}f} (min: {min(test_losses): .{decimals}f})')\n",
    "    plt.title('Training and Testing Losses Over Epochs')\n",
    "    plt.xlabel('Epochs')\n",
    "    plt.ylabel('Loss')\n",
    "    plt.legend()\n",
    "    plt.show()\n"
   ]
  },
  {
   "cell_type": "code",
   "execution_count": 11,
   "metadata": {
    "collapsed": false,
    "jupyter": {
     "outputs_hidden": false
    }
   },
   "outputs": [
    {
     "name": "stderr",
     "output_type": "stream",
     "text": [
      "Progress:  12%|█▏        | 12/100 [00:00<00:01, 61.44it/s]"
     ]
    },
    {
     "name": "stdout",
     "output_type": "stream",
     "text": [
      "Epoch 0 completed in 0.09 seconds\n",
      "Epoch 0: Train Loss: 2.4833, Val Loss: 2.4958\n",
      "Epoch 1 completed in 0.01 seconds\n",
      "Epoch 1: Train Loss: 2.4783, Val Loss: 2.5050\n",
      "Epoch 2 completed in 0.02 seconds\n",
      "Epoch 2: Train Loss: 2.4767, Val Loss: 2.5184\n",
      "Epoch 3 completed in 0.01 seconds\n",
      "Epoch 3: Train Loss: 2.4766, Val Loss: 2.5354\n",
      "Epoch 4 completed in 0.01 seconds\n",
      "Epoch 4: Train Loss: 2.4660, Val Loss: 2.5528\n",
      "Epoch 00006: reducing learning rate of group 0 to 1.0000e-04.\n",
      "Epoch 5 completed in 0.01 seconds\n",
      "Epoch 5: Train Loss: 2.4517, Val Loss: 2.5817\n",
      "Epoch 6 completed in 0.01 seconds\n",
      "Epoch 6: Train Loss: 2.4415, Val Loss: 2.5889\n",
      "Epoch 7 completed in 0.01 seconds\n",
      "Epoch 7: Train Loss: 2.4553, Val Loss: 2.5970\n",
      "Epoch 8 completed in 0.01 seconds\n",
      "Epoch 8: Train Loss: 2.4333, Val Loss: 2.6048\n",
      "Epoch 9 completed in 0.01 seconds\n",
      "Epoch 9: Train Loss: 2.4294, Val Loss: 2.6139\n",
      "Epoch 00011: reducing learning rate of group 0 to 2.0000e-05.\n",
      "Epoch 10 completed in 0.01 seconds\n",
      "Epoch 10: Train Loss: 2.4338, Val Loss: 2.6234\n",
      "Epoch 11 completed in 0.01 seconds\n",
      "Epoch 11: Train Loss: 2.4382, Val Loss: 2.6251\n",
      "Epoch 12 completed in 0.01 seconds\n",
      "Epoch 12: Train Loss: 2.4223, Val Loss: 2.6266\n",
      "Epoch 13 completed in 0.01 seconds\n",
      "Epoch 13: Train Loss: 2.4133, Val Loss: 2.6282\n",
      "Epoch 14 completed in 0.01 seconds\n",
      "Epoch 14: Train Loss: 2.4351, Val Loss: 2.6301\n",
      "Epoch 00016: reducing learning rate of group 0 to 4.0000e-06.\n",
      "Epoch 15 completed in 0.01 seconds\n",
      "Epoch 15: Train Loss: 2.4335, Val Loss: 2.6318\n",
      "Epoch 16 completed in 0.01 seconds\n",
      "Epoch 16: Train Loss: 2.4527, Val Loss: 2.6321\n",
      "Epoch 17 completed in 0.01 seconds\n",
      "Epoch 17: Train Loss: 2.4292, Val Loss: 2.6323\n"
     ]
    },
    {
     "name": "stderr",
     "output_type": "stream",
     "text": [
      "Progress:  30%|███       | 30/100 [00:00<00:00, 77.47it/s]"
     ]
    },
    {
     "name": "stdout",
     "output_type": "stream",
     "text": [
      "Epoch 18 completed in 0.01 seconds\n",
      "Epoch 18: Train Loss: 2.4197, Val Loss: 2.6325\n",
      "Epoch 19 completed in 0.01 seconds\n",
      "Epoch 19: Train Loss: 2.4425, Val Loss: 2.6327\n",
      "Epoch 00021: reducing learning rate of group 0 to 8.0000e-07.\n",
      "Epoch 20 completed in 0.01 seconds\n",
      "Epoch 20: Train Loss: 2.4421, Val Loss: 2.6328\n",
      "Epoch 21 completed in 0.01 seconds\n",
      "Epoch 21: Train Loss: 2.4418, Val Loss: 2.6328\n",
      "Epoch 22 completed in 0.01 seconds\n",
      "Epoch 22: Train Loss: 2.4230, Val Loss: 2.6328\n",
      "Epoch 23 completed in 0.01 seconds\n",
      "Epoch 23: Train Loss: 2.4279, Val Loss: 2.6328\n",
      "Epoch 24 completed in 0.01 seconds\n",
      "Epoch 24: Train Loss: 2.4388, Val Loss: 2.6329\n",
      "Epoch 00026: reducing learning rate of group 0 to 1.6000e-07.\n",
      "Epoch 25 completed in 0.01 seconds\n",
      "Epoch 25: Train Loss: 2.4393, Val Loss: 2.6329\n",
      "Epoch 26 completed in 0.01 seconds\n",
      "Epoch 26: Train Loss: 2.4328, Val Loss: 2.6329\n",
      "Epoch 27 completed in 0.01 seconds\n",
      "Epoch 27: Train Loss: 2.4336, Val Loss: 2.6329\n",
      "Epoch 28 completed in 0.01 seconds\n",
      "Epoch 28: Train Loss: 2.4377, Val Loss: 2.6329\n",
      "Epoch 29 completed in 0.01 seconds\n",
      "Epoch 29: Train Loss: 2.4309, Val Loss: 2.6329\n",
      "Epoch 00031: reducing learning rate of group 0 to 3.2000e-08.\n",
      "Epoch 30 completed in 0.01 seconds\n",
      "Epoch 30: Train Loss: 2.4444, Val Loss: 2.6329\n",
      "Epoch 31 completed in 0.01 seconds\n",
      "Epoch 31: Train Loss: 2.4139, Val Loss: 2.6329\n",
      "Epoch 32 completed in 0.01 seconds\n",
      "Epoch 32: Train Loss: 2.4234, Val Loss: 2.6329\n",
      "Epoch 33 completed in 0.02 seconds\n",
      "Epoch 33: Train Loss: 2.4360, Val Loss: 2.6329\n",
      "Epoch 34 completed in 0.01 seconds\n",
      "Epoch 34: Train Loss: 2.4464, Val Loss: 2.6329\n",
      "Epoch 00036: reducing learning rate of group 0 to 6.4000e-09.\n",
      "Epoch 35 completed in 0.01 seconds\n",
      "Epoch 35: Train Loss: 2.4254, Val Loss: 2.6329\n"
     ]
    },
    {
     "name": "stderr",
     "output_type": "stream",
     "text": [
      "Progress:  48%|████▊     | 48/100 [00:00<00:00, 81.97it/s]"
     ]
    },
    {
     "name": "stdout",
     "output_type": "stream",
     "text": [
      "Epoch 36 completed in 0.01 seconds\n",
      "Epoch 36: Train Loss: 2.4147, Val Loss: 2.6329\n",
      "Epoch 37 completed in 0.01 seconds\n",
      "Epoch 37: Train Loss: 2.4332, Val Loss: 2.6329\n",
      "Epoch 38 completed in 0.01 seconds\n",
      "Epoch 38: Train Loss: 2.4323, Val Loss: 2.6329\n",
      "Epoch 39 completed in 0.01 seconds\n",
      "Epoch 39: Train Loss: 2.4375, Val Loss: 2.6329\n",
      "Epoch 40 completed in 0.01 seconds\n",
      "Epoch 40: Train Loss: 2.4414, Val Loss: 2.6329\n",
      "Epoch 41 completed in 0.01 seconds\n",
      "Epoch 41: Train Loss: 2.4277, Val Loss: 2.6329\n",
      "Epoch 42 completed in 0.01 seconds\n",
      "Epoch 42: Train Loss: 2.4352, Val Loss: 2.6329\n",
      "Epoch 43 completed in 0.01 seconds\n",
      "Epoch 43: Train Loss: 2.4287, Val Loss: 2.6329\n",
      "Epoch 44 completed in 0.01 seconds\n",
      "Epoch 44: Train Loss: 2.4317, Val Loss: 2.6329\n",
      "Epoch 45 completed in 0.01 seconds\n",
      "Epoch 45: Train Loss: 2.4170, Val Loss: 2.6329\n",
      "Epoch 46 completed in 0.01 seconds\n",
      "Epoch 46: Train Loss: 2.4129, Val Loss: 2.6329\n",
      "Epoch 47 completed in 0.01 seconds\n",
      "Epoch 47: Train Loss: 2.4321, Val Loss: 2.6329\n",
      "Epoch 48 completed in 0.01 seconds\n",
      "Epoch 48: Train Loss: 2.4149, Val Loss: 2.6329\n",
      "Epoch 49 completed in 0.01 seconds\n",
      "Epoch 49: Train Loss: 2.4411, Val Loss: 2.6329\n",
      "Epoch 50 completed in 0.01 seconds\n",
      "Epoch 50: Train Loss: 2.4229, Val Loss: 2.6329\n",
      "Epoch 51 completed in 0.01 seconds\n",
      "Epoch 51: Train Loss: 2.4171, Val Loss: 2.6329\n",
      "Epoch 52 completed in 0.01 seconds\n",
      "Epoch 52: Train Loss: 2.4255, Val Loss: 2.6329\n",
      "Epoch 53 completed in 0.01 seconds\n",
      "Epoch 53: Train Loss: 2.4419, Val Loss: 2.6329\n",
      "Epoch 54 completed in 0.01 seconds\n",
      "Epoch 54: Train Loss: 2.4346, Val Loss: 2.6329\n",
      "Epoch 55 completed in 0.01 seconds\n",
      "Epoch 55: Train Loss: 2.4323, Val Loss: 2.6329\n"
     ]
    },
    {
     "name": "stderr",
     "output_type": "stream",
     "text": [
      "Progress:  67%|██████▋   | 67/100 [00:00<00:00, 87.18it/s]"
     ]
    },
    {
     "name": "stdout",
     "output_type": "stream",
     "text": [
      "Epoch 56 completed in 0.01 seconds\n",
      "Epoch 56: Train Loss: 2.4203, Val Loss: 2.6329\n",
      "Epoch 57 completed in 0.01 seconds\n",
      "Epoch 57: Train Loss: 2.4228, Val Loss: 2.6329\n",
      "Epoch 58 completed in 0.01 seconds\n",
      "Epoch 58: Train Loss: 2.4367, Val Loss: 2.6329\n",
      "Epoch 59 completed in 0.01 seconds\n",
      "Epoch 59: Train Loss: 2.4438, Val Loss: 2.6329\n",
      "Epoch 60 completed in 0.01 seconds\n",
      "Epoch 60: Train Loss: 2.4327, Val Loss: 2.6329\n",
      "Epoch 61 completed in 0.01 seconds\n",
      "Epoch 61: Train Loss: 2.4360, Val Loss: 2.6329\n",
      "Epoch 62 completed in 0.01 seconds\n",
      "Epoch 62: Train Loss: 2.4222, Val Loss: 2.6329\n",
      "Epoch 63 completed in 0.01 seconds\n",
      "Epoch 63: Train Loss: 2.4332, Val Loss: 2.6329\n",
      "Epoch 64 completed in 0.01 seconds\n",
      "Epoch 64: Train Loss: 2.4410, Val Loss: 2.6329\n",
      "Epoch 65 completed in 0.01 seconds\n",
      "Epoch 65: Train Loss: 2.4185, Val Loss: 2.6329\n",
      "Epoch 66 completed in 0.01 seconds\n",
      "Epoch 66: Train Loss: 2.4167, Val Loss: 2.6329\n",
      "Epoch 67 completed in 0.01 seconds\n",
      "Epoch 67: Train Loss: 2.4314, Val Loss: 2.6329\n",
      "Epoch 68 completed in 0.01 seconds\n",
      "Epoch 68: Train Loss: 2.4270, Val Loss: 2.6329\n",
      "Epoch 69 completed in 0.01 seconds\n",
      "Epoch 69: Train Loss: 2.4346, Val Loss: 2.6329\n",
      "Epoch 70 completed in 0.01 seconds\n",
      "Epoch 70: Train Loss: 2.4442, Val Loss: 2.6329\n",
      "Epoch 71 completed in 0.01 seconds\n",
      "Epoch 71: Train Loss: 2.4336, Val Loss: 2.6329\n",
      "Epoch 72 completed in 0.01 seconds\n",
      "Epoch 72: Train Loss: 2.4401, Val Loss: 2.6329\n",
      "Epoch 73 completed in 0.01 seconds\n",
      "Epoch 73: Train Loss: 2.4234, Val Loss: 2.6329\n",
      "Epoch 74 completed in 0.01 seconds\n",
      "Epoch 74: Train Loss: 2.4327, Val Loss: 2.6329\n"
     ]
    },
    {
     "name": "stderr",
     "output_type": "stream",
     "text": [
      "Progress:  85%|████████▌ | 85/100 [00:01<00:00, 84.36it/s]"
     ]
    },
    {
     "name": "stdout",
     "output_type": "stream",
     "text": [
      "Epoch 75 completed in 0.02 seconds\n",
      "Epoch 75: Train Loss: 2.4234, Val Loss: 2.6329\n",
      "Epoch 76 completed in 0.01 seconds\n",
      "Epoch 76: Train Loss: 2.4195, Val Loss: 2.6329\n",
      "Epoch 77 completed in 0.02 seconds\n",
      "Epoch 77: Train Loss: 2.4333, Val Loss: 2.6329\n",
      "Epoch 78 completed in 0.01 seconds\n",
      "Epoch 78: Train Loss: 2.4232, Val Loss: 2.6329\n",
      "Epoch 79 completed in 0.01 seconds\n",
      "Epoch 79: Train Loss: 2.4387, Val Loss: 2.6329\n",
      "Epoch 80 completed in 0.01 seconds\n",
      "Epoch 80: Train Loss: 2.4309, Val Loss: 2.6329\n",
      "Epoch 81 completed in 0.01 seconds\n",
      "Epoch 81: Train Loss: 2.4386, Val Loss: 2.6329\n",
      "Epoch 82 completed in 0.01 seconds\n",
      "Epoch 82: Train Loss: 2.4364, Val Loss: 2.6329\n",
      "Epoch 83 completed in 0.01 seconds\n",
      "Epoch 83: Train Loss: 2.4262, Val Loss: 2.6329\n",
      "Epoch 84 completed in 0.01 seconds\n",
      "Epoch 84: Train Loss: 2.4392, Val Loss: 2.6329\n",
      "Epoch 85 completed in 0.02 seconds\n",
      "Epoch 85: Train Loss: 2.4381, Val Loss: 2.6329\n",
      "Epoch 86 completed in 0.01 seconds\n",
      "Epoch 86: Train Loss: 2.4330, Val Loss: 2.6329\n",
      "Epoch 87 completed in 0.01 seconds\n",
      "Epoch 87: Train Loss: 2.4290, Val Loss: 2.6329\n",
      "Epoch 88 completed in 0.01 seconds\n",
      "Epoch 88: Train Loss: 2.4265, Val Loss: 2.6329\n",
      "Epoch 89 completed in 0.01 seconds\n",
      "Epoch 89: Train Loss: 2.4344, Val Loss: 2.6329\n",
      "Epoch 90 completed in 0.01 seconds\n",
      "Epoch 90: Train Loss: 2.4534, Val Loss: 2.6329\n",
      "Epoch 91 completed in 0.02 seconds\n",
      "Epoch 91: Train Loss: 2.4184, Val Loss: 2.6329\n"
     ]
    },
    {
     "name": "stderr",
     "output_type": "stream",
     "text": [
      "Progress: 100%|██████████| 100/100 [00:01<00:00, 80.39it/s]"
     ]
    },
    {
     "name": "stdout",
     "output_type": "stream",
     "text": [
      "Epoch 92 completed in 0.01 seconds\n",
      "Epoch 92: Train Loss: 2.4104, Val Loss: 2.6329\n",
      "Epoch 93 completed in 0.01 seconds\n",
      "Epoch 93: Train Loss: 2.4338, Val Loss: 2.6329\n",
      "Epoch 94 completed in 0.01 seconds\n",
      "Epoch 94: Train Loss: 2.4267, Val Loss: 2.6329\n",
      "Epoch 95 completed in 0.01 seconds\n",
      "Epoch 95: Train Loss: 2.4293, Val Loss: 2.6329\n",
      "Epoch 96 completed in 0.01 seconds\n",
      "Epoch 96: Train Loss: 2.4132, Val Loss: 2.6329\n",
      "Epoch 97 completed in 0.01 seconds\n",
      "Epoch 97: Train Loss: 2.4338, Val Loss: 2.6329\n",
      "Epoch 98 completed in 0.01 seconds\n",
      "Epoch 98: Train Loss: 2.4422, Val Loss: 2.6329\n",
      "Epoch 99 completed in 0.01 seconds\n",
      "Epoch 99: Train Loss: 2.4345, Val Loss: 2.6329\n",
      "Total training time: 1.25 seconds\n"
     ]
    },
    {
     "name": "stderr",
     "output_type": "stream",
     "text": [
      "\n"
     ]
    }
   ],
   "source": [
    "\n",
    "# criterion = nn.MSELoss().to(device)\n",
    "criterion = nn.CrossEntropyLoss().to(device)\n",
    "optimizer = torch.optim.Adam(model.parameters(), lr=hyperparams['learning_rate'])\n",
    "scheduler = ReduceLROnPlateau(optimizer, mode='min', factor=hyperparams['factor'], patience=hyperparams['patience'],\n",
    "                              verbose=True)\n",
    "\n",
    "\n",
    "\n",
    "train_losses = []\n",
    "val_losses = []\n",
    "train_loader = DataLoader(train_dataset, batch_size=hyperparams['batch_size'], shuffle=True)\n",
    "# val_loader = DataLoader(val_dataset, batch_size=hyperparams['batch_size'])\n",
    "# test_loader = DataLoader(test_dataset, batch_size=hyperparams['batch_size'])\n",
    "start_time = time.time()\n",
    "scheduler.step(-1)\n",
    "for epoch in trange(num_epochs, desc=\"Progress\"):\n",
    "    epoch_start_time = time.time()\n",
    "    train_losses.append(loop_train(model, train_loader, criterion, optimizer))\n",
    "    val_losses.append(0)\n",
    "\n",
    "    if epoch == hyperparams['decay_epoch'] -1:\n",
    "        scheduler.step(val_losses[-1])\n",
    "\n",
    "    if (epoch + 1) % print_every == 0:\n",
    "        epoch_time = time.time() - epoch_start_time\n",
    "        print(f'Epoch {epoch} completed in {epoch_time:.2f} seconds')\n",
    "        print(f'Epoch {epoch}: Train Loss: {train_losses[-1]:.4f}, Val Loss: {val_losses[-1]:.4f}')\n",
    "\n",
    "\n",
    "total_training_time = time.time() - start_time\n",
    "print(f'Total training time: {total_training_time:.2f} seconds')"
   ]
  },
  {
   "cell_type": "code",
   "execution_count": 12,
   "metadata": {
    "collapsed": false,
    "jupyter": {
     "outputs_hidden": false
    }
   },
   "outputs": [
    {
     "data": {
      "text/plain": "<Figure size 1000x500 with 1 Axes>",
      "image/png": "[encoded data removed]"
     },
     "metadata": {},
     "output_type": "display_data"
    }
   ],
   "source": [
    "plot_losses(train_losses, val_losses, decimals=3)"
   ]
  },
  {
   "cell_type": "code",
   "execution_count": null,
   "outputs": [],
   "source": [
    "# Save the model state (weights) and structure\n",
    "model_save_path = \"classifier_FC_5_nb_full.pth\"\n",
    "\n",
    "torch.save({\n",
    "    'model_state_dict': model.state_dict(),\n",
    "    'hyperparams': hyperparams,\n",
    "    'num_classes': num_classes,\n",
    "    'hidden_sizes1': hidden_sizes1,\n",
    "    'hidden_sizes2': hidden_sizes2,\n",
    "    'hidden_sizes3': hidden_sizes3,\n",
    "    'num_hidden': num_hidden,\n",
    "}, model_save_path)\n",
    "\n",
    "print(f\"Model saved to {model_save_path}\")"
   ],
   "metadata": {
    "collapsed": false
   }
  }
 ],
 "metadata": {
  "kernelspec": {
   "display_name": "Python 3 (ipykernel)",
   "language": "python",
   "name": "python3"
  },
  "language_info": {
   "codemirror_mode": {
    "name": "ipython",
    "version": 3
   },
   "file_extension": ".py",
   "mimetype": "text/x-python",
   "name": "python",
   "nbconvert_exporter": "python",
   "pygments_lexer": "ipython3",
   "version": "3.11.5"
  }
 },
 "nbformat": 4,
 "nbformat_minor": 4
}
