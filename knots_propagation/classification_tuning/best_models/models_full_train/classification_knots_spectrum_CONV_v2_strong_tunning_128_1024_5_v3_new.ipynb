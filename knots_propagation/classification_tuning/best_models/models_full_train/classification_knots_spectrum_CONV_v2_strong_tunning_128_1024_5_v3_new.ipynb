{
 "cells": [
  {
   "cell_type": "code",
   "execution_count": 94,
   "metadata": {},
   "outputs": [],
   "source": [
    "import sys\n",
    "sys.path.append('../')\n",
    "import time\n",
    "\n",
    "import numpy as np\n",
    "import matplotlib.pyplot as plt\n",
    "from sklearn.model_selection import train_test_split\n",
    "from scipy.signal import convolve2d\n",
    "from scipy.optimize import curve_fit\n",
    "from scipy.optimize import brute\n",
    "# import cv2\n",
    "import torch\n",
    "import json\n",
    "import csv\n",
    "from functions.all_knots_functions import *\n",
    "from torch.utils.data import TensorDataset, DataLoader\n",
    "from torch import nn\n",
    "from sklearn.model_selection import train_test_split\n",
    "from torch.optim import lr_scheduler\n",
    "from torch.optim.lr_scheduler import ReduceLROnPlateau\n",
    "import collections\n",
    "import itertools\n",
    "import torch\n",
    "import torch.nn as nn\n",
    "import torch.nn.functional as F\n",
    "from tqdm import trange\n",
    "import pickle\n",
    "from sklearn.metrics import confusion_matrix\n",
    "import seaborn as sns\n",
    "from torchsummary import summary\n",
    "device = torch.device(\"cuda\" if torch.cuda.is_available() else \"cpu\")"
   ]
  },
  {
   "cell_type": "code",
   "execution_count": 95,
   "metadata": {
    "collapsed": false,
    "jupyter": {
     "outputs_hidden": false
    }
   },
   "outputs": [],
   "source": [
    "hyperparams = {\n",
    "    # 'learning_rate': 5e-4,  # Control dropout rate\n",
    "    'learning_rate': 5e-4,  # Control dropout rate\n",
    "    'patience': 4,  # Number of epochs between learning rate decay\n",
    "    'factor': 0.2,  # Multiplicative factor of learning rate decay\n",
    "    'batch_size': 64\n",
    "}\n",
    "\n",
    "num_epochs = 10\n",
    "print_every = 1\n"
   ]
  },
  {
   "cell_type": "code",
   "execution_count": 96,
   "metadata": {
    "collapsed": false,
    "jupyter": {
     "outputs_hidden": false
    }
   },
   "outputs": [
    {
     "name": "stdout",
     "output_type": "stream",
     "text": [
      "Loaded 0 samples.  0 per class\n"
     ]
    }
   ],
   "source": [
    "knot_types = {\n",
    "        'standard_16': 0,  # 1\n",
    "        'standard_14': 1,  # 2\n",
    "        'standard_18': 2,  # 3\n",
    "        '30both': 3,  # 4\n",
    "        '30oneZ': 4,  # 5\n",
    "        'optimized': 5,  # 6\n",
    "        'pm_03_z': 6,  # 7\n",
    "        # '4foil': hopf_4foil,  # 8\n",
    "        # '6foil': hopf_6foil,  # 9\n",
    "        # 'stand4foil': hopf_stand4foil,  # 10\n",
    "        '30oneX': 7,  # 11\n",
    "        '15oneZ': 8,\n",
    "        'dennis': 9,\n",
    "        'trefoil_standard_12': 10,\n",
    "        'trefoil_optimized': 11,\n",
    "        # 'fivefoil_standard_08': fivefoil_standard_08\n",
    "\n",
    "}\n",
    "\n",
    "\n",
    "knots = [\n",
    "    'standard_14', 'standard_16', 'standard_18', '30both', '30oneZ',\n",
    "    'optimized', 'pm_03_z', '30oneX', '15oneZ', 'dennis',\n",
    "    'trefoil_standard_12', 'trefoil_optimized'\n",
    "]\n",
    "\n",
    "\n",
    "# folders = [\n",
    "#     '../HOPFS_L270_5e-07_test_1s',\n",
    "#     '../HOPFS_L270_0.05_1_64x64x64_v1'\n",
    "# ]\n",
    "folders = [\n",
    "    '../HOPFS_L270_0.05_1000_64x64x64_v1',\n",
    "    '../HOPFS_L270_0.15_1000_64x64x64_v1',\n",
    "    '../HOPFS_L270_0.25_1000_64x64x64_v1',\n",
    "]\n",
    "\n",
    "num_classes = len(knots)\n",
    "X_list = []\n",
    "Y_list = []\n",
    "Xs_list = []\n",
    "Ys_list = []\n",
    "\n",
    "csv.field_size_limit(10000000)\n",
    "\n",
    "# Loop through all folders and knots\n",
    "for folder in folders:\n",
    "    for knot in knots:\n",
    "        filename = f'{folder}/data_{knot}_spectr.csv'\n",
    "        try:\n",
    "            with open(filename, 'r') as file:\n",
    "                reader = csv.reader(file)\n",
    "                for row in reader:\n",
    "                    # Append the knot label to Ys_list\n",
    "                    Ys_list.append(knot_types[knot])\n",
    "\n",
    "                    # Load the data array from the JSON string\n",
    "                    data_array = json.loads(row[0])\n",
    "\n",
    "                    # Extract values from the data array\n",
    "                    l1, l2 = data_array[0], data_array[1]\n",
    "                    p1, p2 = data_array[2], data_array[3]\n",
    "\n",
    "                    # Create and normalize the moments array\n",
    "                    moments = np.array([x[0] + 1j * x[1] for x in data_array[5:]])\n",
    "                    moments = moments.reshape((l2 - l1 + 1), (p2 - p1 + 1))\n",
    "                    moments = moments / np.sqrt(np.sum(np.abs(moments) ** 2))\n",
    "\n",
    "                    # Append the flattened absolute values to Xs_list\n",
    "                    Xs_list.append(np.abs(moments.reshape(-1)))\n",
    "\n",
    "        except FileNotFoundError:\n",
    "            print(f'File not found: {filename}')\n",
    "        except json.JSONDecodeError:\n",
    "            print(f'Error decoding JSON in file: {filename}')\n",
    "\n",
    "print(f'Loaded {len(X_list)} samples.  {int(len(X_list) / len(knots))} per class')"
   ]
  },
  {
   "cell_type": "code",
   "execution_count": 97,
   "metadata": {
    "collapsed": false,
    "jupyter": {
     "outputs_hidden": false
    }
   },
   "outputs": [
    {
     "name": "stdout",
     "output_type": "stream",
     "text": [
      "torch.Size([132, 91]) torch.Size([132, 12])\n"
     ]
    }
   ],
   "source": [
    "Xs_np = np.array(Xs_list)\n",
    "ys_np = np.array(Ys_list)\n",
    "# print(ys_np.shape)\n",
    "Xs_torch = torch.tensor(Xs_np).float()\n",
    "ys_t = torch.tensor(ys_np)\n",
    "ys_torch = F.one_hot(ys_t.long(), num_classes=num_classes).float()\n",
    "print(Xs_torch.shape, ys_torch.shape)"
   ]
  },
  {
   "cell_type": "code",
   "execution_count": 98,
   "outputs": [
    {
     "name": "stdout",
     "output_type": "stream",
     "text": [
      "tensor([3.0659e-05, 1.6369e-05, 3.8283e-05, 4.9769e-05, 8.1936e-06, 1.2180e-05,\n",
      "        3.7773e-05, 6.1330e-06, 3.8164e-06, 2.0567e-05, 1.4556e-05, 1.4410e-05,\n",
      "        8.5424e-06, 3.4067e-06, 2.2304e-05, 4.0295e-05, 1.5582e-04, 4.6326e-04,\n",
      "        6.3732e-04, 4.5553e-04, 2.1716e-04, 1.1726e-04, 1.1156e-04, 3.2442e-05,\n",
      "        1.7654e-05, 1.0925e-06, 1.8934e-06, 1.0405e-05, 1.6589e-04, 1.4999e-04,\n",
      "        2.8404e-05, 8.8685e-05, 6.0337e-05, 9.9335e-05, 4.5779e-05, 4.8859e-04,\n",
      "        5.3248e-04, 2.8467e-04, 8.3921e-05, 2.5105e-05, 1.0762e-05, 1.0161e-05,\n",
      "        2.5991e-01, 6.2465e-01, 4.1949e-01, 1.9545e-04, 2.9676e-04, 6.3974e-04,\n",
      "        9.5884e-04, 6.6235e-04, 7.6110e-04, 2.9470e-04, 9.2087e-05, 5.6246e-05,\n",
      "        3.8562e-05, 1.5965e-05, 6.0522e-01, 3.1895e-04, 1.0396e-04, 1.7520e-05,\n",
      "        8.1342e-05, 9.1863e-05, 8.9024e-05, 6.3937e-04, 2.0127e-04, 7.4561e-05,\n",
      "        1.9031e-05, 1.4251e-05, 2.5606e-05, 1.6572e-05, 1.4164e-04, 5.1367e-05,\n",
      "        1.2905e-04, 4.9121e-04, 6.3381e-04, 4.3740e-04, 2.0825e-04, 1.4758e-04,\n",
      "        4.9544e-05, 5.5112e-06, 2.7680e-05, 3.3091e-05, 1.4534e-05, 5.0454e-06,\n",
      "        6.0551e-05, 3.1901e-05, 8.2481e-05, 6.0484e-05, 5.3034e-05, 1.2624e-05,\n",
      "        5.7312e-05])\n"
     ]
    }
   ],
   "source": [
    "print(Xs_torch[0])"
   ],
   "metadata": {
    "collapsed": false
   }
  },
  {
   "cell_type": "markdown",
   "metadata": {
    "collapsed": false,
    "jupyter": {
     "outputs_hidden": false
    }
   },
   "source": []
  },
  {
   "cell_type": "code",
   "execution_count": 99,
   "metadata": {
    "collapsed": false,
    "jupyter": {
     "outputs_hidden": false
    }
   },
   "outputs": [],
   "source": [
    "\n",
    "train_dataset = TensorDataset(Xs_torch, ys_torch)\n"
   ]
  },
  {
   "cell_type": "code",
   "execution_count": 100,
   "metadata": {
    "collapsed": false,
    "jupyter": {
     "outputs_hidden": false
    }
   },
   "outputs": [],
   "source": [
    "\n",
    "\n",
    "# Helper function to create a convolutional stage\n",
    "def conv_stage_2d(layer_configs):\n",
    "    layers = []\n",
    "    for config in layer_configs:\n",
    "        in_channels, out_channels, kernel_size, stride, padding = config\n",
    "        layers.append(nn.Conv2d(in_channels, out_channels, kernel_size, stride, padding))\n",
    "        layers.append(nn.BatchNorm2d(out_channels))\n",
    "        layers.append(nn.ReLU(inplace=True))\n",
    "    return nn.Sequential(*layers)\n",
    "\n",
    "# Helper function to create a pooling layer\n",
    "def create_pooling_layer_2d(config):\n",
    "    if config is None:\n",
    "        return None\n",
    "    kernel_size, stride, padding = config\n",
    "    return nn.MaxPool2d(kernel_size=kernel_size, stride=stride, padding=padding)\n",
    "\n",
    "# 2D Convolutional Classifier\n",
    "class Classifier2D(nn.Module):\n",
    "    def __init__(self, stages, pooling_configs, num_classes=11, shape_X_l=7, shape_X_p=13):\n",
    "        super(Classifier2D, self).__init__()\n",
    "\n",
    "        self.shape_X_l = shape_X_l\n",
    "        self.shape_X_p = shape_X_p\n",
    "\n",
    "        self.features = nn.Sequential()\n",
    "\n",
    "        # Add convolutional stages and pooling layers\n",
    "        for i, stage in enumerate(stages):\n",
    "            self.features.add_module(f\"stage_{i}\", conv_stage_2d(stage))\n",
    "\n",
    "            # Add MaxPooling layer after each stage based on the pooling configuration\n",
    "            if i < len(pooling_configs):\n",
    "                pool_layer = create_pooling_layer_2d(pooling_configs[i])\n",
    "                if pool_layer:\n",
    "                    self.features.add_module(f\"pool_{i}\", pool_layer)\n",
    "\n",
    "        # Calculate the size of the flattened features after the conv layers\n",
    "        self._to_linear = None\n",
    "        self._get_conv_output((1, shape_X_l, shape_X_p))  # Add a channel dimension here\n",
    "\n",
    "        # Fully connected layers\n",
    "        self.fc1 = nn.Linear(self._to_linear, 256)\n",
    "        self.fc2 = nn.Linear(256, num_classes)\n",
    "\n",
    "    # Helper function to calculate the output size after convolution and pooling\n",
    "    def _get_conv_output(self, shape):\n",
    "        batch_size = 1\n",
    "        input = torch.autograd.Variable(torch.rand(batch_size, *shape))\n",
    "        output_feat = self.features(input)\n",
    "        self._to_linear = int(np.prod(output_feat.size()[1:]))\n",
    "\n",
    "    # Optional: Initialize weights with specific methods\n",
    "    def initialize_weights(self):\n",
    "        for m in self.modules():\n",
    "            if isinstance(m, nn.Conv2d):\n",
    "                nn.init.kaiming_normal_(m.weight, mode='fan_out', nonlinearity='relu')\n",
    "                if m.bias is not None:\n",
    "                    nn.init.constant_(m.bias, 0)\n",
    "            elif isinstance(m, nn.BatchNorm2d):\n",
    "                nn.init.constant_(m.weight, 1)\n",
    "                nn.init.constant_(m.bias, 0)\n",
    "            elif isinstance(m, nn.Linear):\n",
    "                nn.init.normal_(m.weight, 0, 0.01)\n",
    "                nn.init.constant_(m.bias, 0)\n",
    "\n",
    "    # Forward pass\n",
    "    def forward(self, x):\n",
    "        # Reshape input from (batch, shape_X_l * shape_X_p) -> (batch, 1, shape_X_l, shape_X_p)\n",
    "        batch_size = x.size(0)\n",
    "        x = x.view(batch_size, 1, self.shape_X_l, self.shape_X_p)  # Add a channel dimension\n",
    "\n",
    "        # Pass through convolutional layers\n",
    "        x = self.features(x)\n",
    "\n",
    "        # Flatten the output\n",
    "        x = x.view(x.size(0), -1)\n",
    "\n",
    "        # Pass through fully connected layers\n",
    "        x = torch.relu(self.fc1(x))\n",
    "        x = self.fc2(x)\n",
    "\n",
    "        return x\n",
    "\n",
    "\n"
   ]
  },
  {
   "cell_type": "code",
   "execution_count": 101,
   "metadata": {
    "collapsed": false,
    "jupyter": {
     "outputs_hidden": false
    }
   },
   "outputs": [
    {
     "name": "stdout",
     "output_type": "stream",
     "text": [
      "Classifier2D(\n",
      "  (features): Sequential(\n",
      "    (stage_0): Sequential(\n",
      "      (0): Conv2d(1, 32, kernel_size=(3, 3), stride=(1, 1), padding=(1, 1))\n",
      "      (1): BatchNorm2d(32, eps=1e-05, momentum=0.1, affine=True, track_running_stats=True)\n",
      "      (2): ReLU(inplace=True)\n",
      "      (3): Conv2d(32, 32, kernel_size=(3, 3), stride=(1, 1), padding=(1, 1))\n",
      "      (4): BatchNorm2d(32, eps=1e-05, momentum=0.1, affine=True, track_running_stats=True)\n",
      "      (5): ReLU(inplace=True)\n",
      "      (6): Conv2d(32, 32, kernel_size=(3, 3), stride=(1, 1), padding=(1, 1))\n",
      "      (7): BatchNorm2d(32, eps=1e-05, momentum=0.1, affine=True, track_running_stats=True)\n",
      "      (8): ReLU(inplace=True)\n",
      "    )\n",
      "    (pool_0): MaxPool2d(kernel_size=2, stride=2, padding=1, dilation=1, ceil_mode=False)\n",
      "    (stage_1): Sequential(\n",
      "      (0): Conv2d(32, 64, kernel_size=(3, 3), stride=(1, 1), padding=(1, 1))\n",
      "      (1): BatchNorm2d(64, eps=1e-05, momentum=0.1, affine=True, track_running_stats=True)\n",
      "      (2): ReLU(inplace=True)\n",
      "      (3): Conv2d(64, 64, kernel_size=(3, 3), stride=(1, 1), padding=(1, 1))\n",
      "      (4): BatchNorm2d(64, eps=1e-05, momentum=0.1, affine=True, track_running_stats=True)\n",
      "      (5): ReLU(inplace=True)\n",
      "      (6): Conv2d(64, 64, kernel_size=(3, 3), stride=(1, 1), padding=(1, 1))\n",
      "      (7): BatchNorm2d(64, eps=1e-05, momentum=0.1, affine=True, track_running_stats=True)\n",
      "      (8): ReLU(inplace=True)\n",
      "    )\n",
      "    (pool_1): MaxPool2d(kernel_size=2, stride=2, padding=1, dilation=1, ceil_mode=False)\n",
      "  )\n",
      "  (fc1): Linear(in_features=768, out_features=256, bias=True)\n",
      "  (fc2): Linear(in_features=256, out_features=12, bias=True)\n",
      ")\n"
     ]
    }
   ],
   "source": [
    "\n",
    "stages = [\n",
    "    # Stage 1: (in_channels, out_channels, kernel_size, stride, padding)\n",
    "    [(1, 16, 3, 1, 1)],  # First convolution stage with padding\n",
    "    [(16, 32, 3, 1, 1)],  # Second convolution stage with padding\n",
    "    [(32, 64, 3, 1, 1)]   # Third convolution stage with padding\n",
    "]\n",
    "\n",
    "# Define pooling configurations for each stage (kernel_size, stride, padding)\n",
    "pooling_configs = [\n",
    "    (2, 2, 0),  # MaxPool after first stage\n",
    "    None,        # Skip pooling after the second stage\n",
    "    (2, 2, 0)   # MaxPool after the third stage\n",
    "]\n",
    "stages = [\n",
    "    [(1, 32, 3, 1, 1), (32, 32, 3, 1, 1), (32, 32, 3, 1, 1)],\n",
    "    [(32, 64, 5, 1, 1), (64, 64, 5, 1, 1), (64, 64, 5, 1, 1)]\n",
    "]\n",
    "stages = [\n",
    "    [(1, 32, 3, 1, 1), (32, 32, 3, 1, 1), (32, 32, 3, 1, 1)],\n",
    "    [(32, 64, 3, 1, 1), (64, 64, 3, 1, 1), (64, 64, 3, 1, 1)]\n",
    "]\n",
    "# Define pooling configurations: (kernel_size, stride, padding)\n",
    "# Set to 'None' for stages where no pooling is desired\n",
    "# kernel_size, stride, padding\n",
    "pooling_configs = [\n",
    "    (2, 2, 1),  # Pooling after the first stage\n",
    "    (2, 2, 1)      # No pooling after the third stage\n",
    "]\n",
    "# Example usage\n",
    "shape_X_l = 7  # Modify as needed\n",
    "shape_X_p = 13  # Modify as needed\n",
    "num_classes = ys_torch.shape[-1]\n",
    "\n",
    "# Initialize the model\n",
    "model = Classifier2D(stages, pooling_configs, num_classes, shape_X_l, shape_X_p).to(device)\n",
    "\n",
    "print(model)"
   ]
  },
  {
   "cell_type": "code",
   "execution_count": 102,
   "metadata": {
    "collapsed": false,
    "jupyter": {
     "outputs_hidden": false
    }
   },
   "outputs": [
    {
     "name": "stdout",
     "output_type": "stream",
     "text": [
      "torch.Size([3, 91])\n",
      "torch.Size([3, 12])\n",
      "----------------------------------------------------------------\n",
      "        Layer (type)               Output Shape         Param #\n",
      "================================================================\n",
      "            Conv2d-1            [-1, 32, 7, 13]             320\n",
      "       BatchNorm2d-2            [-1, 32, 7, 13]              64\n",
      "              ReLU-3            [-1, 32, 7, 13]               0\n",
      "            Conv2d-4            [-1, 32, 7, 13]           9,248\n",
      "       BatchNorm2d-5            [-1, 32, 7, 13]              64\n",
      "              ReLU-6            [-1, 32, 7, 13]               0\n",
      "            Conv2d-7            [-1, 32, 7, 13]           9,248\n",
      "       BatchNorm2d-8            [-1, 32, 7, 13]              64\n",
      "              ReLU-9            [-1, 32, 7, 13]               0\n",
      "        MaxPool2d-10             [-1, 32, 4, 7]               0\n",
      "           Conv2d-11             [-1, 64, 4, 7]          18,496\n",
      "      BatchNorm2d-12             [-1, 64, 4, 7]             128\n",
      "             ReLU-13             [-1, 64, 4, 7]               0\n",
      "           Conv2d-14             [-1, 64, 4, 7]          36,928\n",
      "      BatchNorm2d-15             [-1, 64, 4, 7]             128\n",
      "             ReLU-16             [-1, 64, 4, 7]               0\n",
      "           Conv2d-17             [-1, 64, 4, 7]          36,928\n",
      "      BatchNorm2d-18             [-1, 64, 4, 7]             128\n",
      "             ReLU-19             [-1, 64, 4, 7]               0\n",
      "        MaxPool2d-20             [-1, 64, 3, 4]               0\n",
      "           Linear-21                  [-1, 256]         196,864\n",
      "           Linear-22                   [-1, 12]           3,084\n",
      "================================================================\n",
      "Total params: 311,692\n",
      "Trainable params: 311,692\n",
      "Non-trainable params: 0\n",
      "----------------------------------------------------------------\n",
      "Input size (MB): 0.00\n",
      "Forward/backward pass size (MB): 0.34\n",
      "Params size (MB): 1.19\n",
      "Estimated Total Size (MB): 1.53\n",
      "----------------------------------------------------------------\n"
     ]
    }
   ],
   "source": [
    "# print(model._to_linear, 512 * 16 * 16)\n",
    "dots_3d_toch_batch = train_dataset[1:4][0].to(device)\n",
    "print(dots_3d_toch_batch.shape)\n",
    "print(model(dots_3d_toch_batch).shape)\n",
    "summary(model, input_size=dots_3d_toch_batch.shape[1:])"
   ]
  },
  {
   "cell_type": "code",
   "execution_count": 103,
   "metadata": {},
   "outputs": [
    {
     "data": {
      "text/plain": "tensor([[4.6387e-05, 2.2017e-05, 4.1045e-05, 4.3364e-05, 2.6819e-05, 3.5398e-05,\n         2.6810e-05, 4.1336e-05, 3.5944e-05, 1.1803e-06, 1.3765e-05, 6.1735e-06,\n         1.2568e-05, 1.6452e-05, 8.3469e-05, 2.6047e-05, 1.8260e-04, 4.5117e-04,\n         6.4492e-04, 4.3694e-04, 2.0579e-04, 9.1498e-05, 5.6196e-05, 3.7990e-05,\n         2.1209e-05, 1.0520e-05, 1.6337e-05, 1.2209e-05, 1.2364e-04, 1.1329e-04,\n         1.0256e-04, 2.9390e-05, 5.8968e-05, 9.2591e-05, 5.9887e-05, 3.1635e-04,\n         4.6738e-04, 3.3220e-04, 8.1445e-05, 2.7949e-05, 3.5306e-05, 2.0466e-05,\n         2.6292e-01, 6.3216e-01, 4.2105e-01, 1.3459e-04, 2.7177e-04, 7.0652e-04,\n         9.1455e-04, 3.5986e-04, 6.0580e-04, 2.9552e-04, 9.4468e-05, 3.5680e-05,\n         3.4238e-05, 1.9145e-05, 5.9494e-01, 1.6821e-04, 5.5187e-05, 6.0124e-05,\n         6.0842e-05, 1.0935e-04, 7.2665e-05, 3.9111e-04, 7.7478e-05, 1.1014e-04,\n         4.2463e-05, 1.5377e-05, 6.1185e-06, 8.5051e-06, 1.0105e-04, 5.5363e-05,\n         1.6382e-04, 4.4759e-04, 6.3145e-04, 4.6941e-04, 2.1653e-04, 1.1333e-04,\n         6.2086e-05, 5.1905e-05, 2.9710e-05, 1.0245e-05, 4.7056e-06, 1.2423e-05,\n         3.9213e-06, 1.0282e-05, 6.3707e-05, 4.6348e-05, 7.1513e-05, 2.7692e-05,\n         4.2058e-05]])"
     },
     "execution_count": 103,
     "metadata": {},
     "output_type": "execute_result"
    }
   ],
   "source": [
    "train_dataset[1:2][0]"
   ]
  },
  {
   "cell_type": "code",
   "execution_count": 104,
   "metadata": {
    "collapsed": false,
    "jupyter": {
     "outputs_hidden": false
    }
   },
   "outputs": [],
   "source": [
    "def loop_train(model, train_loader, criterion, optimizer):\n",
    "    model.train()  # Set the model to training mode\n",
    "    total_loss = 0\n",
    "    for i, (inputs, targets) in enumerate(train_loader, 1):  # Start enumeration from 1\n",
    "        inputs, targets = inputs.to(device), targets.to(device)\n",
    "        optimizer.zero_grad()  # Clear the gradients\n",
    "        outputs = model(inputs)  # Forward pass\n",
    "        loss = criterion(outputs, targets)  # Compute the loss\n",
    "        loss.backward()  # Backward pass\n",
    "        optimizer.step()  # Update the weights\n",
    "        total_loss += loss.item()  # Accumulate the loss\n",
    "\n",
    "    return total_loss / len(train_loader)  # Return the average loss\n",
    "\n",
    "\n",
    "def loop_test(model, test_loader, criterion):\n",
    "    model.eval()  # Set the model to evaluation mode\n",
    "    total_loss = 0\n",
    "    with torch.no_grad():  # No need to track the gradients\n",
    "        for inputs, targets in test_loader:\n",
    "            inputs, targets = inputs.to(device), targets.to(device)\n",
    "            outputs = model(inputs)  # Forward pass\n",
    "            loss = criterion(outputs, targets)  # Compute the loss\n",
    "            total_loss += loss.item()  # Accumulate the loss\n",
    "    return total_loss / len(test_loader)  # Return the average loss\n",
    "\n",
    "\n",
    "def correct_number_test(model, test_loader, criterion):\n",
    "    model.eval()  # Set the model to evaluation mode\n",
    "    total_correct = 0\n",
    "    total = 0\n",
    "    with torch.no_grad():  # No need to track the gradients\n",
    "        for inputs, targets in test_loader:\n",
    "            inputs, targets = inputs.to(device), targets.to(device)\n",
    "            outputs = model(inputs)  # Forward pass\n",
    "            correct = criterion(outputs, targets)  # Compute correct\n",
    "            total_correct += correct  # Accumulate correct\n",
    "            total += len(outputs)  # Accumulate total\n",
    "    return total_correct, total  # Return the average loss\n",
    "\n",
    "\n",
    "def plot_losses(train_losses, test_losses, decimals=3):\n",
    "    plt.figure(figsize=(10, 5))\n",
    "    plt.plot(train_losses,\n",
    "             label=f'Train Loss {train_losses[-1]: .{decimals}f} (min: {min(train_losses): .{decimals}f})')\n",
    "    plt.plot(test_losses, label=f'Test Loss {test_losses[-1]: .{decimals}f} (min: {min(test_losses): .{decimals}f})')\n",
    "    plt.title('Training and Testing Losses Over Epochs')\n",
    "    plt.xlabel('Epochs')\n",
    "    plt.ylabel('Loss')\n",
    "    plt.legend()\n",
    "    plt.show()\n"
   ]
  },
  {
   "cell_type": "code",
   "execution_count": 105,
   "metadata": {
    "collapsed": false,
    "jupyter": {
     "outputs_hidden": false
    }
   },
   "outputs": [
    {
     "name": "stderr",
     "output_type": "stream",
     "text": [
      "Progress:   0%|          | 0/10 [00:00<?, ?it/s]"
     ]
    },
    {
     "name": "stdout",
     "output_type": "stream",
     "text": [
      "Epoch 0 completed in 0.02 seconds\n",
      "Epoch 0: Train Loss: 2.4575, Val Loss: 2.4900\n",
      "Epoch 1 completed in 0.01 seconds\n",
      "Epoch 1: Train Loss: 2.1887, Val Loss: 2.4914\n",
      "Epoch 2 completed in 0.02 seconds\n",
      "Epoch 2: Train Loss: 1.9258, Val Loss: 2.4907\n",
      "Epoch 3 completed in 0.02 seconds\n",
      "Epoch 3: Train Loss: 1.7632, Val Loss: 2.4884\n",
      "Epoch 4 completed in 0.02 seconds\n",
      "Epoch 4: Train Loss: 1.4723, Val Loss: 2.4846\n",
      "Epoch 5 completed in 0.02 seconds\n",
      "Epoch 5: Train Loss: 1.2685, Val Loss: 2.4841\n",
      "Epoch 6 completed in 0.02 seconds\n",
      "Epoch 6: Train Loss: 1.0624, Val Loss: 2.4850\n"
     ]
    },
    {
     "name": "stderr",
     "output_type": "stream",
     "text": [
      "Progress:  70%|███████   | 7/10 [00:00<00:00, 63.58it/s]"
     ]
    },
    {
     "name": "stdout",
     "output_type": "stream",
     "text": [
      "Epoch 7 completed in 0.02 seconds\n",
      "Epoch 7: Train Loss: 0.9164, Val Loss: 2.4851\n",
      "Epoch 8 completed in 0.02 seconds\n",
      "Epoch 8: Train Loss: 0.7536, Val Loss: 2.4858\n",
      "Epoch 9 completed in 0.01 seconds\n",
      "Epoch 9: Train Loss: 0.6373, Val Loss: 2.4838\n"
     ]
    },
    {
     "name": "stderr",
     "output_type": "stream",
     "text": [
      "Progress: 100%|██████████| 10/10 [00:00<00:00, 63.43it/s]"
     ]
    },
    {
     "name": "stdout",
     "output_type": "stream",
     "text": [
      "Total training time: 0.16 seconds\n"
     ]
    },
    {
     "name": "stderr",
     "output_type": "stream",
     "text": [
      "\n"
     ]
    }
   ],
   "source": [
    "\n",
    "# criterion = nn.MSELoss().to(device)\n",
    "criterion = nn.CrossEntropyLoss().to(device)\n",
    "optimizer = torch.optim.Adam(model.parameters(), lr=hyperparams['learning_rate'])\n",
    "scheduler = ReduceLROnPlateau(optimizer, mode='min', factor=hyperparams['factor'], patience=hyperparams['patience'],\n",
    "                              verbose=True)\n",
    "\n",
    "\n",
    "\n",
    "train_losses = []\n",
    "val_losses = []\n",
    "train_loader = DataLoader(train_dataset, batch_size=hyperparams['batch_size'], shuffle=True)\n",
    "# val_loader = DataLoader(val_dataset, batch_size=hyperparams['batch_size'])\n",
    "# test_loader = DataLoader(test_dataset, batch_size=hyperparams['batch_size'])\n",
    "start_time = time.time()\n",
    "for epoch in trange(num_epochs, desc=\"Progress\"):\n",
    "    epoch_start_time = time.time()\n",
    "    train_losses.append(loop_train(model, train_loader, criterion, optimizer))\n",
    "    val_losses.append(0)\n",
    "\n",
    "    scheduler.step(val_losses[-1])\n",
    "\n",
    "    if (epoch + 1) % print_every == 0:\n",
    "        epoch_time = time.time() - epoch_start_time\n",
    "        print(f'Epoch {epoch} completed in {epoch_time:.2f} seconds')\n",
    "        print(f'Epoch {epoch}: Train Loss: {train_losses[-1]:.4f}, Val Loss: {val_losses[-1]:.4f}')\n",
    "\n",
    "\n",
    "total_training_time = time.time() - start_time\n",
    "print(f'Total training time: {total_training_time:.2f} seconds')"
   ]
  },
  {
   "cell_type": "code",
   "execution_count": 106,
   "metadata": {
    "collapsed": false,
    "jupyter": {
     "outputs_hidden": false
    }
   },
   "outputs": [
    {
     "data": {
      "text/plain": "<Figure size 1000x500 with 1 Axes>",
      "image/png": "[encoded data removed]"
     },
     "metadata": {},
     "output_type": "display_data"
    }
   ],
   "source": [
    "plot_losses(train_losses, val_losses, decimals=3)"
   ]
  },
  {
   "cell_type": "code",
   "execution_count": 109,
   "outputs": [
    {
     "name": "stdout",
     "output_type": "stream",
     "text": [
      "Model saved to classifier2d.pth\n"
     ]
    }
   ],
   "source": [
    "# Save the model state (weights) and structure\n",
    "model_save_path = \"classifier2d_full.pth\"\n",
    "\n",
    "torch.save({\n",
    "    'model_state_dict': model.state_dict(),\n",
    "    'hyperparams': hyperparams,\n",
    "    'num_classes': num_classes,\n",
    "    'stages': stages,\n",
    "    'pooling_configs': pooling_configs,\n",
    "}, model_save_path)\n",
    "\n",
    "print(f\"Model saved to {model_save_path}\")"
   ],
   "metadata": {
    "collapsed": false
   }
  }
 ],
 "metadata": {
  "kernelspec": {
   "display_name": "Python 3 (ipykernel)",
   "language": "python",
   "name": "python3"
  },
  "language_info": {
   "codemirror_mode": {
    "name": "ipython",
    "version": 3
   },
   "file_extension": ".py",
   "mimetype": "text/x-python",
   "name": "python",
   "nbconvert_exporter": "python",
   "pygments_lexer": "ipython3",
   "version": "3.11.5"
  }
 },
 "nbformat": 4,
 "nbformat_minor": 4
}
