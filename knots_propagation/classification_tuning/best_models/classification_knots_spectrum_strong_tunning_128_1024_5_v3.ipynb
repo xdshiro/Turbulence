{
 "cells": [
  {
   "cell_type": "code",
   "execution_count": 311,
   "metadata": {},
   "outputs": [],
   "source": [
    "import sys\n",
    "sys.path.append('../')\n",
    "import time\n",
    "\n",
    "import numpy as np\n",
    "import matplotlib.pyplot as plt\n",
    "from sklearn.model_selection import train_test_split\n",
    "from scipy.signal import convolve2d\n",
    "from scipy.optimize import curve_fit\n",
    "from scipy.optimize import brute\n",
    "# import cv2\n",
    "import torch\n",
    "import json\n",
    "import csv\n",
    "from functions.all_knots_functions import *\n",
    "from torch.utils.data import TensorDataset, DataLoader\n",
    "from torch import nn\n",
    "from sklearn.model_selection import train_test_split\n",
    "from torch.optim import lr_scheduler\n",
    "from torch.optim.lr_scheduler import ReduceLROnPlateau\n",
    "import collections\n",
    "import itertools\n",
    "import torch\n",
    "import torch.nn as nn\n",
    "import torch.nn.functional as F\n",
    "from tqdm import trange\n",
    "import pickle\n",
    "from sklearn.metrics import confusion_matrix\n",
    "import seaborn as sns\n",
    "from torchsummary import summary\n",
    "device = torch.device(\"cuda\" if torch.cuda.is_available() else \"cpu\")"
   ]
  },
  {
   "cell_type": "code",
   "execution_count": 312,
   "metadata": {
    "collapsed": false,
    "jupyter": {
     "outputs_hidden": false
    }
   },
   "outputs": [],
   "source": [
    "hyperparams = {\n",
    "    # 'learning_rate': 5e-4,  # Control dropout rate\n",
    "    'learning_rate': 5e-4,  # Control dropout rate\n",
    "    'patience': 4,  # Number of epochs between learning rate decay\n",
    "    'factor': 0.2,  # Multiplicative factor of learning rate decay\n",
    "    'batch_size': 64\n",
    "}\n",
    "\n",
    "num_epochs = 100\n",
    "print_every = 1\n",
    "\n",
    "hidden_sizes1 = 128\n",
    "hidden_sizes2 = 1024\n",
    "hidden_sizes3 = 128\n",
    "num_hidden = 5\n",
    "hidden_sizes1 = 128\n",
    "hidden_sizes2 = 1024\n",
    "hidden_sizes3 = 128\n",
    "num_hidden = 2"
   ]
  },
  {
   "cell_type": "code",
   "execution_count": 313,
   "metadata": {
    "collapsed": false,
    "jupyter": {
     "outputs_hidden": false
    }
   },
   "outputs": [],
   "source": [
    "knot_types = {\n",
    "        'standard_16': 0,  # 1\n",
    "        'standard_14': 1,  # 2\n",
    "        'standard_18': 2,  # 3\n",
    "        '30both': 3,  # 4\n",
    "        '30oneZ': 4,  # 5\n",
    "        'optimized': 5,  # 6\n",
    "        'pm_03_z': 6,  # 7\n",
    "        # '4foil': hopf_4foil,  # 8\n",
    "        # '6foil': hopf_6foil,  # 9\n",
    "        # 'stand4foil': hopf_stand4foil,  # 10\n",
    "        '30oneX': 7,  # 11\n",
    "        '15oneZ': 8,\n",
    "        'dennis': 9,\n",
    "        'trefoil_standard_12': 10,\n",
    "        'trefoil_optimized': 11,\n",
    "        # 'fivefoil_standard_08': fivefoil_standard_08\n",
    "\n",
    "}\n",
    "\n",
    "\n",
    "knots = [\n",
    "    'standard_14', 'standard_16', 'standard_18', '30both', '30oneZ',\n",
    "    'optimized', 'pm_03_z', '30oneX', '15oneZ', 'dennis',\n",
    "    'trefoil_standard_12', 'trefoil_optimized'\n",
    "]\n",
    "\n",
    "\n",
    "folder = '../HOPFS_L270_5e-07_test_1s'\n",
    "#\n",
    "\n",
    "\n",
    "num_classes = len(knots)\n",
    "X_list = []\n",
    "Y_list = []\n",
    "csv.field_size_limit(10000000)\n",
    "\n",
    "Xs_list = []\n",
    "Ys_list = []\n",
    "for knot in knots:\n",
    "\n",
    "    # filename = f'../../../{folder}/data_{knot}_spectr.csv'\n",
    "    filename = f'../DATA/{folder}/data_{knot}_spectr.csv'\n",
    "\n",
    "    with open(filename, 'r') as file:\n",
    "        reader = csv.reader(file)\n",
    "        for row in reader:\n",
    "            Ys_list.append(knot_types[knot])\n",
    "            data_array = json.loads(row[0])\n",
    "            l1, l2 = data_array[0], data_array[1]\n",
    "            p1, p2 = data_array[2], data_array[3]\n",
    "\n",
    "            moments = np.array([x[0] + 1j * x[1] for x in data_array[5:]]).reshape((l2 - l1 + 1), (p2 - p1 + 1))\n",
    "            moments = moments / np.sqrt(np.sum(np.abs(moments) ** 2))\n",
    "            Xs_list.append(np.abs(moments.reshape(-1)))\n"
   ]
  },
  {
   "cell_type": "code",
   "execution_count": 314,
   "metadata": {
    "collapsed": false,
    "jupyter": {
     "outputs_hidden": false
    }
   },
   "outputs": [
    {
     "name": "stdout",
     "output_type": "stream",
     "text": [
      "torch.Size([120, 91]) torch.Size([120, 12])\n"
     ]
    }
   ],
   "source": [
    "Xs_np = np.array(Xs_list)\n",
    "ys_np = np.array(Ys_list)\n",
    "# print(ys_np.shape)\n",
    "Xs_torch = torch.tensor(Xs_np).float()\n",
    "ys_t = torch.tensor(ys_np)\n",
    "ys_torch = F.one_hot(ys_t.long(), num_classes=num_classes).float()\n",
    "print(Xs_torch.shape, ys_torch.shape)"
   ]
  },
  {
   "cell_type": "markdown",
   "metadata": {
    "collapsed": false,
    "jupyter": {
     "outputs_hidden": false
    }
   },
   "source": []
  },
  {
   "cell_type": "code",
   "execution_count": 315,
   "metadata": {
    "collapsed": false,
    "jupyter": {
     "outputs_hidden": false
    }
   },
   "outputs": [],
   "source": [
    "X_train, X_val_test, y_train, y_val_test = train_test_split(Xs_torch, ys_torch, test_size=0.3, random_state=37)\n",
    "X_val, X_test, y_val, y_test = train_test_split(X_val_test, y_val_test, test_size=0.5, random_state=37)\n",
    "train_dataset = TensorDataset(X_train, y_train)\n",
    "val_dataset = TensorDataset(X_val, y_val)\n",
    "test_dataset = TensorDataset(X_test, y_test)"
   ]
  },
  {
   "cell_type": "code",
   "execution_count": 316,
   "metadata": {
    "collapsed": false,
    "jupyter": {
     "outputs_hidden": false
    }
   },
   "outputs": [],
   "source": [
    "\n",
    "class ClassifierFC_spec(nn.Module):\n",
    "    def __init__(self, input_size, hidden_sizes1, hidden_sizes2, hidden_sizes3, num_hidden, num_classes):\n",
    "        super(ClassifierFC_spec, self).__init__()\n",
    "        layers = []\n",
    "        # Create input layer\n",
    "        layers.append(nn.Linear(input_size, hidden_sizes1, bias=True))\n",
    "        layers.append(nn.ReLU())\n",
    "        layers.append(nn.Linear(hidden_sizes1, hidden_sizes2, bias=True))\n",
    "        layers.append(nn.ReLU())\n",
    "        # Create hidden layers\n",
    "        for i in range(0, num_hidden):\n",
    "            layers.append(nn.Linear(hidden_sizes2, hidden_sizes2, bias=True))\n",
    "            layers.append(nn.ReLU())\n",
    "\n",
    "        # Create output layer\n",
    "        layers.append(nn.Linear(hidden_sizes2, hidden_sizes3, bias=True))\n",
    "        layers.append(nn.ReLU())\n",
    "        layers.append(nn.Linear(hidden_sizes3, num_classes))\n",
    "        # ModuleList of all layers\n",
    "        self.layers = nn.ModuleList(layers)\n",
    "\n",
    "    def forward(self, x):\n",
    "        for layer in self.layers:\n",
    "            x = layer(x)\n",
    "            # print(x.shape)\n",
    "        return x"
   ]
  },
  {
   "cell_type": "code",
   "execution_count": 317,
   "metadata": {
    "collapsed": false,
    "jupyter": {
     "outputs_hidden": false
    }
   },
   "outputs": [],
   "source": [
    "# in_channels, out_channels, kernel_size, stride, padding\n",
    "input_size = Xs_np.shape[-1]\n",
    "\n",
    "num_classes = ys_torch.shape[-1]\n",
    "model = ClassifierFC_spec(input_size, hidden_sizes1, hidden_sizes2, hidden_sizes3,\n",
    "                          num_hidden, num_classes).to(device)"
   ]
  },
  {
   "cell_type": "code",
   "execution_count": 318,
   "metadata": {
    "collapsed": false,
    "jupyter": {
     "outputs_hidden": false
    }
   },
   "outputs": [
    {
     "name": "stdout",
     "output_type": "stream",
     "text": [
      "torch.Size([3, 91])\n",
      "torch.Size([3, 12])\n",
      "----------------------------------------------------------------\n",
      "        Layer (type)               Output Shape         Param #\n",
      "================================================================\n",
      "            Linear-1                  [-1, 128]          11,776\n",
      "              ReLU-2                  [-1, 128]               0\n",
      "            Linear-3                 [-1, 1024]         132,096\n",
      "              ReLU-4                 [-1, 1024]               0\n",
      "            Linear-5                 [-1, 1024]       1,049,600\n",
      "              ReLU-6                 [-1, 1024]               0\n",
      "            Linear-7                 [-1, 1024]       1,049,600\n",
      "              ReLU-8                 [-1, 1024]               0\n",
      "            Linear-9                  [-1, 128]         131,200\n",
      "             ReLU-10                  [-1, 128]               0\n",
      "           Linear-11                   [-1, 12]           1,548\n",
      "================================================================\n",
      "Total params: 2,375,820\n",
      "Trainable params: 2,375,820\n",
      "Non-trainable params: 0\n",
      "----------------------------------------------------------------\n",
      "Input size (MB): 0.00\n",
      "Forward/backward pass size (MB): 0.05\n",
      "Params size (MB): 9.06\n",
      "Estimated Total Size (MB): 9.11\n",
      "----------------------------------------------------------------\n"
     ]
    }
   ],
   "source": [
    "# print(model._to_linear, 512 * 16 * 16)\n",
    "dots_3d_toch_batch = train_dataset[1:4][0].to(device)\n",
    "print(dots_3d_toch_batch.shape)\n",
    "print(model(dots_3d_toch_batch).shape)\n",
    "summary(model, input_size=dots_3d_toch_batch.shape[1:])"
   ]
  },
  {
   "cell_type": "code",
   "execution_count": 319,
   "metadata": {},
   "outputs": [
    {
     "data": {
      "text/plain": "tensor([[4.1268e-05, 9.2048e-06, 2.2688e-05, 4.0826e-05, 1.1647e-05, 1.1790e-05,\n         4.0360e-05, 4.1689e-05, 4.6866e-05, 2.2794e-05, 1.5907e-05, 2.4595e-05,\n         2.0105e-05, 1.0950e-05, 1.0123e-04, 9.2503e-05, 1.5549e-04, 5.2605e-04,\n         7.1910e-04, 5.1503e-04, 2.3232e-04, 2.8603e-04, 2.1098e-04, 4.2122e-05,\n         1.4799e-05, 1.7364e-05, 1.1074e-05, 2.9892e-06, 1.3264e-04, 7.3408e-05,\n         4.9150e-05, 2.0864e-05, 4.2571e-05, 1.0078e-04, 3.3557e-05, 6.0224e-04,\n         9.7455e-04, 4.6750e-04, 8.5639e-05, 5.1533e-05, 4.9194e-05, 3.1033e-05,\n         2.9542e-01, 6.2199e-01, 4.7465e-01, 3.9016e-04, 2.9611e-04, 7.9058e-04,\n         1.0393e-03, 7.3636e-04, 4.8502e-04, 5.3223e-04, 2.4001e-05, 6.4716e-05,\n         3.9744e-05, 2.3625e-05, 5.4823e-01, 3.1966e-04, 1.1929e-04, 6.8139e-05,\n         2.5291e-05, 1.2715e-04, 5.6412e-05, 8.5233e-04, 2.2097e-04, 9.0431e-05,\n         5.4412e-05, 2.7821e-05, 1.8702e-05, 1.8370e-06, 8.6446e-05, 6.2592e-05,\n         1.9772e-04, 4.8430e-04, 7.4190e-04, 5.1818e-04, 2.4505e-04, 2.7623e-04,\n         6.0317e-05, 2.4367e-05, 2.9454e-06, 2.1977e-06, 4.5341e-06, 1.3238e-05,\n         4.9019e-05, 4.5027e-05, 4.9095e-05, 4.6433e-05, 5.9351e-05, 5.5825e-06,\n         5.7789e-05]])"
     },
     "execution_count": 319,
     "metadata": {},
     "output_type": "execute_result"
    }
   ],
   "source": [
    "train_dataset[1:2][0]"
   ]
  },
  {
   "cell_type": "code",
   "execution_count": 320,
   "metadata": {
    "collapsed": false,
    "jupyter": {
     "outputs_hidden": false
    }
   },
   "outputs": [],
   "source": [
    "def loop_train(model, train_loader, criterion, optimizer):\n",
    "    model.train()  # Set the model to training mode\n",
    "    total_loss = 0\n",
    "    for i, (inputs, targets) in enumerate(train_loader, 1):  # Start enumeration from 1\n",
    "        inputs, targets = inputs.to(device), targets.to(device)\n",
    "        optimizer.zero_grad()  # Clear the gradients\n",
    "        outputs = model(inputs)  # Forward pass\n",
    "        loss = criterion(outputs, targets)  # Compute the loss\n",
    "        loss.backward()  # Backward pass\n",
    "        optimizer.step()  # Update the weights\n",
    "        total_loss += loss.item()  # Accumulate the loss\n",
    "\n",
    "    return total_loss / len(train_loader)  # Return the average loss\n",
    "\n",
    "\n",
    "def loop_test(model, test_loader, criterion):\n",
    "    model.eval()  # Set the model to evaluation mode\n",
    "    total_loss = 0\n",
    "    with torch.no_grad():  # No need to track the gradients\n",
    "        for inputs, targets in test_loader:\n",
    "            inputs, targets = inputs.to(device), targets.to(device)\n",
    "            outputs = model(inputs)  # Forward pass\n",
    "            loss = criterion(outputs, targets)  # Compute the loss\n",
    "            total_loss += loss.item()  # Accumulate the loss\n",
    "    return total_loss / len(test_loader)  # Return the average loss\n",
    "\n",
    "\n",
    "def correct_number_test(model, test_loader, criterion):\n",
    "    model.eval()  # Set the model to evaluation mode\n",
    "    total_correct = 0\n",
    "    total = 0\n",
    "    with torch.no_grad():  # No need to track the gradients\n",
    "        for inputs, targets in test_loader:\n",
    "            inputs, targets = inputs.to(device), targets.to(device)\n",
    "            outputs = model(inputs)  # Forward pass\n",
    "            correct = criterion(outputs, targets)  # Compute correct\n",
    "            total_correct += correct  # Accumulate correct\n",
    "            total += len(outputs)  # Accumulate total\n",
    "    return total_correct, total  # Return the average loss\n",
    "\n",
    "\n",
    "def plot_losses(train_losses, test_losses, decimals=3):\n",
    "    plt.figure(figsize=(10, 5))\n",
    "    plt.plot(train_losses,\n",
    "             label=f'Train Loss {train_losses[-1]: .{decimals}f} (min: {min(train_losses): .{decimals}f})')\n",
    "    plt.plot(test_losses, label=f'Test Loss {test_losses[-1]: .{decimals}f} (min: {min(test_losses): .{decimals}f})')\n",
    "    plt.title('Training and Testing Losses Over Epochs')\n",
    "    plt.xlabel('Epochs')\n",
    "    plt.ylabel('Loss')\n",
    "    plt.legend()\n",
    "    plt.show()\n"
   ]
  },
  {
   "cell_type": "code",
   "execution_count": 321,
   "metadata": {
    "collapsed": false,
    "jupyter": {
     "outputs_hidden": false
    }
   },
   "outputs": [
    {
     "name": "stderr",
     "output_type": "stream",
     "text": [
      "Progress:  13%|█▎        | 13/100 [00:00<00:00, 129.88it/s]"
     ]
    },
    {
     "name": "stdout",
     "output_type": "stream",
     "text": [
      "Epoch 0 completed in 0.01 seconds\n",
      "Epoch 0: Train Loss: 2.4894, Val Loss: 2.4769\n",
      "Epoch 1 completed in 0.01 seconds\n",
      "Epoch 1: Train Loss: 2.4854, Val Loss: 2.4803\n",
      "Epoch 2 completed in 0.01 seconds\n",
      "Epoch 2: Train Loss: 2.4833, Val Loss: 2.4818\n",
      "Epoch 3 completed in 0.01 seconds\n",
      "Epoch 3: Train Loss: 2.4855, Val Loss: 2.4813\n",
      "Epoch 4 completed in 0.01 seconds\n",
      "Epoch 4: Train Loss: 2.4707, Val Loss: 2.4800\n",
      "Epoch 00006: reducing learning rate of group 0 to 1.0000e-04.\n",
      "Epoch 5 completed in 0.01 seconds\n",
      "Epoch 5: Train Loss: 2.4641, Val Loss: 2.4798\n",
      "Epoch 6 completed in 0.01 seconds\n",
      "Epoch 6: Train Loss: 2.4581, Val Loss: 2.4791\n",
      "Epoch 7 completed in 0.01 seconds\n",
      "Epoch 7: Train Loss: 2.4511, Val Loss: 2.4780\n",
      "Epoch 8 completed in 0.01 seconds\n",
      "Epoch 8: Train Loss: 2.4435, Val Loss: 2.4770\n",
      "Epoch 9 completed in 0.01 seconds\n",
      "Epoch 9: Train Loss: 2.4426, Val Loss: 2.4758\n",
      "Epoch 10 completed in 0.01 seconds\n",
      "Epoch 10: Train Loss: 2.4406, Val Loss: 2.4740\n",
      "Epoch 11 completed in 0.01 seconds\n",
      "Epoch 11: Train Loss: 2.4327, Val Loss: 2.4719\n",
      "Epoch 12 completed in 0.01 seconds\n",
      "Epoch 12: Train Loss: 2.4233, Val Loss: 2.4691\n",
      "Epoch 13 completed in 0.01 seconds\n",
      "Epoch 13: Train Loss: 2.4226, Val Loss: 2.4653\n",
      "Epoch 14 completed in 0.01 seconds\n",
      "Epoch 14: Train Loss: 2.4010, Val Loss: 2.4610\n",
      "Epoch 15 completed in 0.01 seconds\n",
      "Epoch 15: Train Loss: 2.4039, Val Loss: 2.4572\n",
      "Epoch 16 completed in 0.01 seconds\n",
      "Epoch 16: Train Loss: 2.3944, Val Loss: 2.4535\n",
      "Epoch 17 completed in 0.01 seconds\n",
      "Epoch 17: Train Loss: 2.3912, Val Loss: 2.4495\n",
      "Epoch 18 completed in 0.01 seconds\n",
      "Epoch 18: Train Loss: 2.3714, Val Loss: 2.4435\n"
     ]
    },
    {
     "name": "stderr",
     "output_type": "stream",
     "text": [
      "Progress:  26%|██▌       | 26/100 [00:00<00:00, 124.74it/s]"
     ]
    },
    {
     "name": "stdout",
     "output_type": "stream",
     "text": [
      "Epoch 19 completed in 0.01 seconds\n",
      "Epoch 19: Train Loss: 2.3583, Val Loss: 2.4377\n",
      "Epoch 20 completed in 0.01 seconds\n",
      "Epoch 20: Train Loss: 2.3411, Val Loss: 2.4318\n",
      "Epoch 21 completed in 0.01 seconds\n",
      "Epoch 21: Train Loss: 2.3717, Val Loss: 2.4236\n",
      "Epoch 22 completed in 0.01 seconds\n",
      "Epoch 22: Train Loss: 2.3059, Val Loss: 2.4123\n",
      "Epoch 23 completed in 0.01 seconds\n",
      "Epoch 23: Train Loss: 2.2617, Val Loss: 2.4003\n",
      "Epoch 24 completed in 0.01 seconds\n",
      "Epoch 24: Train Loss: 2.2996, Val Loss: 2.3885\n",
      "Epoch 25 completed in 0.01 seconds\n",
      "Epoch 25: Train Loss: 2.2678, Val Loss: 2.3773\n"
     ]
    },
    {
     "name": "stderr",
     "output_type": "stream",
     "text": [
      "Progress:  39%|███▉      | 39/100 [00:00<00:00, 127.04it/s]"
     ]
    },
    {
     "name": "stdout",
     "output_type": "stream",
     "text": [
      "Epoch 26 completed in 0.01 seconds\n",
      "Epoch 26: Train Loss: 2.2298, Val Loss: 2.3668\n",
      "Epoch 27 completed in 0.01 seconds\n",
      "Epoch 27: Train Loss: 2.2663, Val Loss: 2.3550\n",
      "Epoch 28 completed in 0.01 seconds\n",
      "Epoch 28: Train Loss: 2.1973, Val Loss: 2.3404\n",
      "Epoch 29 completed in 0.01 seconds\n",
      "Epoch 29: Train Loss: 2.1117, Val Loss: 2.3261\n",
      "Epoch 30 completed in 0.01 seconds\n",
      "Epoch 30: Train Loss: 2.1607, Val Loss: 2.3162\n",
      "Epoch 31 completed in 0.01 seconds\n",
      "Epoch 31: Train Loss: 2.1848, Val Loss: 2.3067\n",
      "Epoch 32 completed in 0.01 seconds\n",
      "Epoch 32: Train Loss: 2.1123, Val Loss: 2.2947\n",
      "Epoch 33 completed in 0.01 seconds\n",
      "Epoch 33: Train Loss: 2.1338, Val Loss: 2.2815\n",
      "Epoch 34 completed in 0.01 seconds\n",
      "Epoch 34: Train Loss: 2.1319, Val Loss: 2.2653\n",
      "Epoch 35 completed in 0.01 seconds\n",
      "Epoch 35: Train Loss: 2.0352, Val Loss: 2.2467\n",
      "Epoch 36 completed in 0.01 seconds\n",
      "Epoch 36: Train Loss: 2.0166, Val Loss: 2.2282\n",
      "Epoch 37 completed in 0.01 seconds\n",
      "Epoch 37: Train Loss: 2.0783, Val Loss: 2.2141\n",
      "Epoch 38 completed in 0.01 seconds\n",
      "Epoch 38: Train Loss: 2.1239, Val Loss: 2.2017\n",
      "Epoch 39 completed in 0.01 seconds\n",
      "Epoch 39: Train Loss: 2.0634, Val Loss: 2.1851\n",
      "Epoch 40 completed in 0.01 seconds\n",
      "Epoch 40: Train Loss: 2.0306, Val Loss: 2.1686\n",
      "Epoch 41 completed in 0.01 seconds\n",
      "Epoch 41: Train Loss: 2.0528, Val Loss: 2.1515\n",
      "Epoch 42 completed in 0.01 seconds\n",
      "Epoch 42: Train Loss: 2.0141, Val Loss: 2.1352\n",
      "Epoch 43 completed in 0.01 seconds\n",
      "Epoch 43: Train Loss: 1.9810, Val Loss: 2.1145\n",
      "Epoch 44 completed in 0.01 seconds\n",
      "Epoch 44: Train Loss: 1.9766, Val Loss: 2.0978\n"
     ]
    },
    {
     "name": "stderr",
     "output_type": "stream",
     "text": [
      "Progress:  52%|█████▏    | 52/100 [00:00<00:00, 123.81it/s]"
     ]
    },
    {
     "name": "stdout",
     "output_type": "stream",
     "text": [
      "Epoch 45 completed in 0.01 seconds\n",
      "Epoch 45: Train Loss: 1.8900, Val Loss: 2.0855\n",
      "Epoch 46 completed in 0.01 seconds\n",
      "Epoch 46: Train Loss: 2.0304, Val Loss: 2.0734\n",
      "Epoch 47 completed in 0.01 seconds\n",
      "Epoch 47: Train Loss: 1.9215, Val Loss: 2.0622\n",
      "Epoch 48 completed in 0.01 seconds\n",
      "Epoch 48: Train Loss: 1.9407, Val Loss: 2.0474\n",
      "Epoch 49 completed in 0.01 seconds\n",
      "Epoch 49: Train Loss: 1.9457, Val Loss: 2.0291\n",
      "Epoch 50 completed in 0.01 seconds\n",
      "Epoch 50: Train Loss: 1.9597, Val Loss: 2.0096\n",
      "Epoch 51 completed in 0.01 seconds\n",
      "Epoch 51: Train Loss: 1.8864, Val Loss: 1.9934\n"
     ]
    },
    {
     "name": "stderr",
     "output_type": "stream",
     "text": [
      "Progress:  65%|██████▌   | 65/100 [00:00<00:00, 122.92it/s]"
     ]
    },
    {
     "name": "stdout",
     "output_type": "stream",
     "text": [
      "Epoch 52 completed in 0.01 seconds\n",
      "Epoch 52: Train Loss: 1.9498, Val Loss: 1.9770\n",
      "Epoch 53 completed in 0.01 seconds\n",
      "Epoch 53: Train Loss: 1.9121, Val Loss: 1.9626\n",
      "Epoch 54 completed in 0.01 seconds\n",
      "Epoch 54: Train Loss: 1.9229, Val Loss: 1.9486\n",
      "Epoch 55 completed in 0.01 seconds\n",
      "Epoch 55: Train Loss: 1.8969, Val Loss: 1.9344\n",
      "Epoch 56 completed in 0.01 seconds\n",
      "Epoch 56: Train Loss: 1.8401, Val Loss: 1.9258\n",
      "Epoch 57 completed in 0.01 seconds\n",
      "Epoch 57: Train Loss: 1.8860, Val Loss: 1.9153\n",
      "Epoch 58 completed in 0.01 seconds\n",
      "Epoch 58: Train Loss: 1.8333, Val Loss: 1.9033\n",
      "Epoch 59 completed in 0.01 seconds\n",
      "Epoch 59: Train Loss: 1.7883, Val Loss: 1.8934\n",
      "Epoch 60 completed in 0.01 seconds\n",
      "Epoch 60: Train Loss: 1.8055, Val Loss: 1.8826\n",
      "Epoch 61 completed in 0.01 seconds\n",
      "Epoch 61: Train Loss: 1.7756, Val Loss: 1.8722\n",
      "Epoch 62 completed in 0.01 seconds\n",
      "Epoch 62: Train Loss: 1.7368, Val Loss: 1.8578\n",
      "Epoch 63 completed in 0.01 seconds\n",
      "Epoch 63: Train Loss: 1.7716, Val Loss: 1.8437\n",
      "Epoch 64 completed in 0.01 seconds\n",
      "Epoch 64: Train Loss: 1.6913, Val Loss: 1.8293\n",
      "Epoch 65 completed in 0.01 seconds\n",
      "Epoch 65: Train Loss: 1.7126, Val Loss: 1.8101\n",
      "Epoch 66 completed in 0.01 seconds\n",
      "Epoch 66: Train Loss: 1.7558, Val Loss: 1.7935\n",
      "Epoch 67 completed in 0.01 seconds\n",
      "Epoch 67: Train Loss: 1.6286, Val Loss: 1.7799\n",
      "Epoch 68 completed in 0.01 seconds\n",
      "Epoch 68: Train Loss: 1.7855, Val Loss: 1.7584\n",
      "Epoch 69 completed in 0.01 seconds\n",
      "Epoch 69: Train Loss: 1.6085, Val Loss: 1.7334\n",
      "Epoch 70 completed in 0.01 seconds\n",
      "Epoch 70: Train Loss: 1.5988, Val Loss: 1.7138\n",
      "Epoch 71 completed in 0.01 seconds\n",
      "Epoch 71: Train Loss: 1.7085, Val Loss: 1.6992\n"
     ]
    },
    {
     "name": "stderr",
     "output_type": "stream",
     "text": [
      "Progress:  78%|███████▊  | 78/100 [00:00<00:00, 122.79it/s]"
     ]
    },
    {
     "name": "stdout",
     "output_type": "stream",
     "text": [
      "Epoch 72 completed in 0.01 seconds\n",
      "Epoch 72: Train Loss: 1.5979, Val Loss: 1.6801\n",
      "Epoch 73 completed in 0.01 seconds\n",
      "Epoch 73: Train Loss: 1.5844, Val Loss: 1.6662\n",
      "Epoch 74 completed in 0.01 seconds\n",
      "Epoch 74: Train Loss: 1.5130, Val Loss: 1.6637\n",
      "Epoch 75 completed in 0.01 seconds\n",
      "Epoch 75: Train Loss: 1.5096, Val Loss: 1.6515\n",
      "Epoch 76 completed in 0.01 seconds\n",
      "Epoch 76: Train Loss: 1.5311, Val Loss: 1.6207\n",
      "Epoch 77 completed in 0.01 seconds\n",
      "Epoch 77: Train Loss: 1.4993, Val Loss: 1.5954\n"
     ]
    },
    {
     "name": "stderr",
     "output_type": "stream",
     "text": [
      "Progress:  91%|█████████ | 91/100 [00:00<00:00, 122.70it/s]"
     ]
    },
    {
     "name": "stdout",
     "output_type": "stream",
     "text": [
      "Epoch 78 completed in 0.01 seconds\n",
      "Epoch 78: Train Loss: 1.4535, Val Loss: 1.5756\n",
      "Epoch 79 completed in 0.01 seconds\n",
      "Epoch 79: Train Loss: 1.4709, Val Loss: 1.5567\n",
      "Epoch 80 completed in 0.01 seconds\n",
      "Epoch 80: Train Loss: 1.4845, Val Loss: 1.5408\n",
      "Epoch 81 completed in 0.01 seconds\n",
      "Epoch 81: Train Loss: 1.4743, Val Loss: 1.5318\n",
      "Epoch 82 completed in 0.01 seconds\n",
      "Epoch 82: Train Loss: 1.3959, Val Loss: 1.5245\n",
      "Epoch 83 completed in 0.01 seconds\n",
      "Epoch 83: Train Loss: 1.4359, Val Loss: 1.4957\n",
      "Epoch 84 completed in 0.01 seconds\n",
      "Epoch 84: Train Loss: 1.4014, Val Loss: 1.4707\n",
      "Epoch 85 completed in 0.01 seconds\n",
      "Epoch 85: Train Loss: 1.4209, Val Loss: 1.4472\n",
      "Epoch 86 completed in 0.01 seconds\n",
      "Epoch 86: Train Loss: 1.3328, Val Loss: 1.4012\n",
      "Epoch 87 completed in 0.01 seconds\n",
      "Epoch 87: Train Loss: 1.3753, Val Loss: 1.3758\n",
      "Epoch 88 completed in 0.01 seconds\n",
      "Epoch 88: Train Loss: 1.2857, Val Loss: 1.3719\n",
      "Epoch 89 completed in 0.01 seconds\n",
      "Epoch 89: Train Loss: 1.3475, Val Loss: 1.3404\n",
      "Epoch 90 completed in 0.01 seconds\n",
      "Epoch 90: Train Loss: 1.3313, Val Loss: 1.3276\n",
      "Epoch 91 completed in 0.01 seconds\n",
      "Epoch 91: Train Loss: 1.2212, Val Loss: 1.3464\n",
      "Epoch 92 completed in 0.01 seconds\n",
      "Epoch 92: Train Loss: 1.2459, Val Loss: 1.3565\n",
      "Epoch 93 completed in 0.01 seconds\n",
      "Epoch 93: Train Loss: 1.3387, Val Loss: 1.3452\n",
      "Epoch 94 completed in 0.01 seconds\n",
      "Epoch 94: Train Loss: 1.1364, Val Loss: 1.3352\n",
      "Epoch 00096: reducing learning rate of group 0 to 2.0000e-05.\n",
      "Epoch 95 completed in 0.01 seconds\n",
      "Epoch 95: Train Loss: 1.2263, Val Loss: 1.3438\n",
      "Epoch 96 completed in 0.01 seconds\n",
      "Epoch 96: Train Loss: 1.1741, Val Loss: 1.3330\n"
     ]
    },
    {
     "name": "stderr",
     "output_type": "stream",
     "text": [
      "Progress: 100%|██████████| 100/100 [00:00<00:00, 124.11it/s]"
     ]
    },
    {
     "name": "stdout",
     "output_type": "stream",
     "text": [
      "Epoch 97 completed in 0.01 seconds\n",
      "Epoch 97: Train Loss: 1.2030, Val Loss: 1.3146\n",
      "Epoch 98 completed in 0.01 seconds\n",
      "Epoch 98: Train Loss: 1.2817, Val Loss: 1.2978\n",
      "Epoch 99 completed in 0.01 seconds\n",
      "Epoch 99: Train Loss: 1.1220, Val Loss: 1.2875\n",
      "Total training time: 0.81 seconds\n"
     ]
    },
    {
     "name": "stderr",
     "output_type": "stream",
     "text": [
      "\n"
     ]
    }
   ],
   "source": [
    "\n",
    "# criterion = nn.MSELoss().to(device)\n",
    "criterion = nn.CrossEntropyLoss().to(device)\n",
    "optimizer = torch.optim.Adam(model.parameters(), lr=hyperparams['learning_rate'])\n",
    "scheduler = ReduceLROnPlateau(optimizer, mode='min', factor=hyperparams['factor'], patience=hyperparams['patience'],\n",
    "                              verbose=True)\n",
    "\n",
    "\n",
    "\n",
    "train_losses = []\n",
    "val_losses = []\n",
    "train_loader = DataLoader(train_dataset, batch_size=hyperparams['batch_size'], shuffle=True)\n",
    "val_loader = DataLoader(val_dataset, batch_size=hyperparams['batch_size'])\n",
    "test_loader = DataLoader(test_dataset, batch_size=hyperparams['batch_size'])\n",
    "start_time = time.time()\n",
    "for epoch in trange(num_epochs, desc=\"Progress\"):\n",
    "    epoch_start_time = time.time()\n",
    "    train_losses.append(loop_train(model, train_loader, criterion, optimizer))\n",
    "    val_losses.append(loop_test(model, val_loader, criterion))\n",
    "\n",
    "    scheduler.step(val_losses[-1])\n",
    "\n",
    "    if (epoch + 1) % print_every == 0:\n",
    "        epoch_time = time.time() - epoch_start_time\n",
    "        print(f'Epoch {epoch} completed in {epoch_time:.2f} seconds')\n",
    "        print(f'Epoch {epoch}: Train Loss: {train_losses[-1]:.4f}, Val Loss: {val_losses[-1]:.4f}')\n",
    "\n",
    "\n",
    "total_training_time = time.time() - start_time\n",
    "print(f'Total training time: {total_training_time:.2f} seconds')"
   ]
  },
  {
   "cell_type": "code",
   "execution_count": 322,
   "metadata": {
    "collapsed": false,
    "jupyter": {
     "outputs_hidden": false
    }
   },
   "outputs": [
    {
     "data": {
      "text/plain": "<Figure size 1000x500 with 1 Axes>",
      "image/png": "[encoded data removed]"
     },
     "metadata": {},
     "output_type": "display_data"
    }
   ],
   "source": [
    "plot_losses(train_losses, val_losses, decimals=3)"
   ]
  },
  {
   "cell_type": "code",
   "execution_count": 323,
   "metadata": {
    "collapsed": false,
    "jupyter": {
     "outputs_hidden": false
    }
   },
   "outputs": [
    {
     "data": {
      "text/plain": "<Figure size 1000x700 with 2 Axes>",
      "image/png": "[encoded data removed]"
     },
     "metadata": {},
     "output_type": "display_data"
    }
   ],
   "source": [
    "# predictions = model(X_torch.to(device))\n",
    "# predictions\n",
    "model.eval()  # Set the model to evaluation mode\n",
    "predicted_labels = []\n",
    "with torch.no_grad():  # Disable gradient calculation\n",
    "    for batch in test_loader:\n",
    "        inputs = batch[0].to(device)\n",
    "        outputs = model(inputs)\n",
    "        _, predicted = torch.max(outputs, 1)\n",
    "        predicted_labels.extend(predicted.cpu().numpy())\n",
    "# Convert the list to a numpy array\n",
    "predicted_labels = np.array(predicted_labels)\n",
    "# If you need the result as a tensor, convert back to tensor\n",
    "predicted_labels = torch.tensor(predicted_labels)\n",
    "\n",
    "# _, predicted_labels = torch.max(model(X_test.to(device)), 1)\n",
    "_, true_class_labels = torch.max(y_test, 1)\n",
    "predicted_labels_np = predicted_labels.cpu().numpy()\n",
    "true_labels_np = true_class_labels.cpu().numpy()\n",
    "cm = confusion_matrix(true_labels_np, predicted_labels_np)\n",
    "plt.figure(figsize=(10, 7))\n",
    "sns.heatmap(cm, annot=True, fmt=\"d\", xticklabels=knots, yticklabels=knots)\n",
    "plt.xlabel('Predicted Labels')\n",
    "plt.ylabel('True Labels')\n",
    "plt.title('Confusion Matrix')\n",
    "plt.show()"
   ]
  },
  {
   "cell_type": "code",
   "execution_count": 324,
   "metadata": {
    "collapsed": false,
    "jupyter": {
     "outputs_hidden": false
    }
   },
   "outputs": [
    {
     "name": "stdout",
     "output_type": "stream",
     "text": [
      "0.7222222222222222\n"
     ]
    }
   ],
   "source": [
    "Accuracy = (np.sum(predicted_labels_np == true_labels_np)) / len(predicted_labels_np)\n",
    "print(Accuracy)"
   ]
  },
  {
   "cell_type": "code",
   "execution_count": 325,
   "metadata": {
    "collapsed": false,
    "jupyter": {
     "outputs_hidden": false
    }
   },
   "outputs": [
    {
     "name": "stdout",
     "output_type": "stream",
     "text": [
      "Number of correct predictions (test): 13/18\n",
      "Number of correct predictions (val): 8/18\n"
     ]
    }
   ],
   "source": [
    "def criterion_correct(predictions, labels):\n",
    "    _, predicted_labels = torch.max(predictions, 1)\n",
    "    _, true_class_labels = torch.max(labels, 1)\n",
    "    # print(predicted_labels)\n",
    "    # print(y_torch)\n",
    "    correct_predictions = torch.sum(predicted_labels == true_class_labels).item()\n",
    "    return correct_predictions\n",
    "\n",
    "\n",
    "correct_predictions, total = correct_number_test(model, test_loader, criterion_correct)\n",
    "print(f\"Number of correct predictions (test): {correct_predictions}/{total}\")\n",
    "\n",
    "correct_predictions, total = correct_number_test(model, val_loader, criterion_correct)\n",
    "print(f\"Number of correct predictions (val): {correct_predictions}/{total}\")"
   ]
  },
  {
   "cell_type": "markdown",
   "metadata": {
    "collapsed": false,
    "jupyter": {
     "outputs_hidden": false
    }
   },
   "source": [
    "Creating the least of the weights in 2D as a basis"
   ]
  },
  {
   "cell_type": "code",
   "execution_count": 326,
   "metadata": {
    "collapsed": false,
    "jupyter": {
     "outputs_hidden": false
    }
   },
   "outputs": [
    {
     "ename": "FileNotFoundError",
     "evalue": "[Errno 2] No such file or directory: '..\\\\../HOPFS_L270_5e-07_test_1s\\\\data_standard_14_spectr.csv'",
     "output_type": "error",
     "traceback": [
      "\u001B[1;31m---------------------------------------------------------------------------\u001B[0m",
      "\u001B[1;31mFileNotFoundError\u001B[0m                         Traceback (most recent call last)",
      "Cell \u001B[1;32mIn[326], line 9\u001B[0m\n\u001B[0;32m      7\u001B[0m \u001B[38;5;66;03m# getting the dimensions\u001B[39;00m\n\u001B[0;32m      8\u001B[0m filename \u001B[38;5;241m=\u001B[39m \u001B[38;5;124mf\u001B[39m\u001B[38;5;124m'\u001B[39m\u001B[38;5;124m..\u001B[39m\u001B[38;5;130;01m\\\\\u001B[39;00m\u001B[38;5;132;01m{\u001B[39;00mfolder\u001B[38;5;132;01m}\u001B[39;00m\u001B[38;5;130;01m\\\\\u001B[39;00m\u001B[38;5;124mdata_\u001B[39m\u001B[38;5;132;01m{\u001B[39;00mknots[\u001B[38;5;241m0\u001B[39m]\u001B[38;5;132;01m}\u001B[39;00m\u001B[38;5;124m_spectr.csv\u001B[39m\u001B[38;5;124m'\u001B[39m\n\u001B[1;32m----> 9\u001B[0m \u001B[38;5;28;01mwith\u001B[39;00m \u001B[38;5;28;43mopen\u001B[39;49m\u001B[43m(\u001B[49m\u001B[43mfilename\u001B[49m\u001B[43m,\u001B[49m\u001B[43m \u001B[49m\u001B[38;5;124;43m'\u001B[39;49m\u001B[38;5;124;43mr\u001B[39;49m\u001B[38;5;124;43m'\u001B[39;49m\u001B[43m)\u001B[49m \u001B[38;5;28;01mas\u001B[39;00m file:\n\u001B[0;32m     10\u001B[0m     reader \u001B[38;5;241m=\u001B[39m csv\u001B[38;5;241m.\u001B[39mreader(file)\n\u001B[0;32m     11\u001B[0m     row \u001B[38;5;241m=\u001B[39m \u001B[38;5;28mnext\u001B[39m(\u001B[38;5;28miter\u001B[39m(reader))\n",
      "File \u001B[1;32m~\\AppData\\Local\\Programs\\Python\\Python311\\Lib\\site-packages\\IPython\\core\\interactiveshell.py:286\u001B[0m, in \u001B[0;36m_modified_open\u001B[1;34m(file, *args, **kwargs)\u001B[0m\n\u001B[0;32m    279\u001B[0m \u001B[38;5;28;01mif\u001B[39;00m file \u001B[38;5;129;01min\u001B[39;00m {\u001B[38;5;241m0\u001B[39m, \u001B[38;5;241m1\u001B[39m, \u001B[38;5;241m2\u001B[39m}:\n\u001B[0;32m    280\u001B[0m     \u001B[38;5;28;01mraise\u001B[39;00m \u001B[38;5;167;01mValueError\u001B[39;00m(\n\u001B[0;32m    281\u001B[0m         \u001B[38;5;124mf\u001B[39m\u001B[38;5;124m\"\u001B[39m\u001B[38;5;124mIPython won\u001B[39m\u001B[38;5;124m'\u001B[39m\u001B[38;5;124mt let you open fd=\u001B[39m\u001B[38;5;132;01m{\u001B[39;00mfile\u001B[38;5;132;01m}\u001B[39;00m\u001B[38;5;124m by default \u001B[39m\u001B[38;5;124m\"\u001B[39m\n\u001B[0;32m    282\u001B[0m         \u001B[38;5;124m\"\u001B[39m\u001B[38;5;124mas it is likely to crash IPython. If you know what you are doing, \u001B[39m\u001B[38;5;124m\"\u001B[39m\n\u001B[0;32m    283\u001B[0m         \u001B[38;5;124m\"\u001B[39m\u001B[38;5;124myou can use builtins\u001B[39m\u001B[38;5;124m'\u001B[39m\u001B[38;5;124m open.\u001B[39m\u001B[38;5;124m\"\u001B[39m\n\u001B[0;32m    284\u001B[0m     )\n\u001B[1;32m--> 286\u001B[0m \u001B[38;5;28;01mreturn\u001B[39;00m \u001B[43mio_open\u001B[49m\u001B[43m(\u001B[49m\u001B[43mfile\u001B[49m\u001B[43m,\u001B[49m\u001B[43m \u001B[49m\u001B[38;5;241;43m*\u001B[39;49m\u001B[43margs\u001B[49m\u001B[43m,\u001B[49m\u001B[43m \u001B[49m\u001B[38;5;241;43m*\u001B[39;49m\u001B[38;5;241;43m*\u001B[39;49m\u001B[43mkwargs\u001B[49m\u001B[43m)\u001B[49m\n",
      "\u001B[1;31mFileNotFoundError\u001B[0m: [Errno 2] No such file or directory: '..\\\\../HOPFS_L270_5e-07_test_1s\\\\data_standard_14_spectr.csv'"
     ]
    }
   ],
   "source": [
    "def build_weights(weights, ls, ps, l1, l2, p1, p2):\n",
    "    weights_ar = np.zeros(((l2 - l1 + 1), (p2 - p1 + 1)), dtype=complex)\n",
    "    for l, p, weight in zip(ls, ps, weights):\n",
    "        weights_ar[l - l1, p - p1] = weight\n",
    "    return weights_ar\n",
    "\n",
    "# getting the dimensions\n",
    "filename = f'..\\\\{folder}\\\\data_{knots[0]}_spectr.csv'\n",
    "with open(filename, 'r') as file:\n",
    "    reader = csv.reader(file)\n",
    "    row = next(iter(reader))\n",
    "    data_list = json.loads(row[0])\n",
    "    # Convert the list back to a NumPy array if needed\n",
    "    # print(data_list)\n",
    "    # data_array = np.array(data_list)\n",
    "    data_array = data_list\n",
    "\n",
    "    l1, l2 = data_array[0], data_array[1]\n",
    "    p1, p2 = data_array[2], data_array[3]\n",
    "print(l1, l2, p1, p2)\n",
    "\n",
    "values_basis = []\n",
    "for knot in knots:\n",
    "# for knot in ['6foil']:\n",
    "    print(knot)\n",
    "    with open(f'..\\\\{folder}\\\\{knot}.pkl', 'rb') as file:\n",
    "\n",
    "        file = pickle.load(file)\n",
    "        ls = file['l']\n",
    "        ps = file['p']\n",
    "        weights = file['weight']\n",
    "        values = build_weights(weights, ls, ps, l1, l2, p1, p2)\n",
    "        values = values / np.sqrt(np.sum(np.abs(values) ** 2))\n",
    "        values_basis.append(values)\n",
    "        # plt.imshow(np.abs(values).T[::-1])\n",
    "        # plt.colorbar()\n",
    "        # plt.show()\n",
    "\n",
    "print(len(values_basis), values_basis[0].shape)"
   ]
  },
  {
   "cell_type": "code",
   "execution_count": null,
   "metadata": {
    "collapsed": false,
    "jupyter": {
     "outputs_hidden": false
    }
   },
   "outputs": [],
   "source": [
    "# Function to calculate MSE\n",
    "def calculate_mse(array1, array2):\n",
    "    return ((np.abs(array1) - np.abs(array2)) ** 2).mean()\n",
    "\n",
    "closest_basis_knots = []\n",
    "true_labels = []\n",
    "for knot in knots:\n",
    "    closest_basis_knot = []\n",
    "    true_label = []\n",
    "# for knot in ['6foil']:\n",
    "    filename = f'..\\\\{folder}\\\\data_{knot}_spectr.csv'\n",
    "\n",
    "    with open(filename, 'r') as file:\n",
    "        reader = csv.reader(file)\n",
    "        for row in reader:\n",
    "            true_label.append(knot_types[knot])\n",
    "            data_array = json.loads(row[0])\n",
    "\n",
    "            # indx = data_array[4]\n",
    "            # field = np.load(f'..\\\\{folder}\\\\fields\\\\data_{knot}_{indx}.npy')\n",
    "            # plt.imshow(np.abs(field ))\n",
    "            # plt.show()\n",
    "\n",
    "            moments = np.array([x[0] + 1j * x[1] for x in data_array[5:]]).reshape((l2 - l1 + 1), (p2 - p1 + 1))\n",
    "            moments = moments / np.sqrt(np.sum(np.abs(moments) ** 2))\n",
    "            mse_scores = [calculate_mse(moments, values) for values in values_basis]\n",
    "            closest_basis_knot.append(np.argmin(mse_scores))\n",
    "            # plt.imshow(np.abs(moments))\n",
    "            # plt.colorbar()\n",
    "            # plt.show()\n",
    "    true_labels.append(true_label)\n",
    "    closest_basis_knots.append(closest_basis_knot)\n",
    "\n",
    "# print(len(closest_basis_knots), len(closest_basis_knots[0]), print(closest_basis_knots[0]))\n",
    "# print(true_labels)\n",
    "# print(closest_basis_knots)\n"
   ]
  },
  {
   "cell_type": "code",
   "execution_count": null,
   "metadata": {
    "collapsed": false,
    "jupyter": {
     "outputs_hidden": false
    }
   },
   "outputs": [],
   "source": []
  },
  {
   "cell_type": "code",
   "execution_count": null,
   "metadata": {
    "collapsed": false,
    "jupyter": {
     "outputs_hidden": false
    }
   },
   "outputs": [],
   "source": [
    "predicted_labels_spec_np = np.array(closest_basis_knots).reshape(-1)\n",
    "true_labels_spec_np = np.array(true_labels).reshape(-1)\n",
    "# print(true_labels_spec_np)\n",
    "cm = confusion_matrix(true_labels_spec_np, predicted_labels_spec_np)\n",
    "plt.figure(figsize=(10, 7))\n",
    "sns.heatmap(cm, annot=True, fmt=\"d\", xticklabels=knots, yticklabels=knots)\n",
    "plt.xlabel('Predicted Labels')\n",
    "plt.ylabel('True Labels')\n",
    "plt.title('Confusion Matrix')\n",
    "plt.show()\n"
   ]
  },
  {
   "cell_type": "code",
   "execution_count": null,
   "metadata": {
    "collapsed": false,
    "jupyter": {
     "outputs_hidden": false
    }
   },
   "outputs": [],
   "source": [
    "# def build_weights(weights, ls, ps, l1, l2, p1, p2):\n",
    "#     weights_ar = np.zeros(((l2 - l1 + 1), (p2 - p1 + 1)), dtype=complex)\n",
    "#     for l, p, weight in zip(ls, ps, weights):\n",
    "#         weights_ar[l - l1, p - p1] = weight\n",
    "#     return weights_ar\n",
    "#\n",
    "# # getting the dimensions\n",
    "# filename = f'..\\\\{folder}\\\\data_{knots[0]}_spectr.csv'\n",
    "# with open(filename, 'r') as file:\n",
    "#     reader = csv.reader(file)\n",
    "#     row = next(iter(reader))\n",
    "#     data_list = json.loads(row[0])\n",
    "#     # Convert the list back to a NumPy array if needed\n",
    "#     # print(data_list)\n",
    "#     # data_array = np.array(data_list)\n",
    "#     data_array = data_list\n",
    "#\n",
    "#     l1, l2 = data_array[0], data_array[1]\n",
    "#     p1, p2 = data_array[2], data_array[3]\n",
    "# print(l1, l2, p1, p2)\n",
    "\n",
    "knots_basis = []\n",
    "knots_basis_dots = []\n",
    "for knot in knots:\n",
    "# for knot in ['6foil']:\n",
    "    filename = f'..\\\\data_basis\\\\data_{knot}.csv'\n",
    "\n",
    "    with open(filename, 'r') as file:\n",
    "        reader = csv.reader(file)\n",
    "        for row in reader:\n",
    "            # Deserialize the JSON string back to a list\n",
    "            data_list = json.loads(row[0])\n",
    "            # Convert the list back to a NumPy array if needed\n",
    "            data_array = np.array(data_list)\n",
    "            points_list = data_array[2:]\n",
    "\n",
    "            Nx, Ny, Nz = data_array[1]\n",
    "            if desired_res != (Nx, Ny, Nz):\n",
    "                scale_x = desired_res[0] / Nx\n",
    "                scale_y = desired_res[1] / Ny\n",
    "                scale_z = desired_res[2] / Nz\n",
    "                points_list = np.rint(points_list * np.array([scale_x, scale_y, scale_z])).astype(int)\n",
    "            knots_basis_dots.append(points_list)\n",
    "            # Initialize a 3D array with zeros\n",
    "            dots_3d = np.zeros(desired_res, dtype=int)\n",
    "            # Set the specified coordinates to 1\n",
    "            for x, y, z in points_list:\n",
    "                try: dots_3d[x, y, z] = 1\n",
    "                except IndexError: continue\n",
    "            knots_basis.append(dots_3d)\n",
    "\n",
    "print(len(knots_basis), knots_basis[0].shape)\n",
    "print(len(knots_basis_dots), knots_basis_dots[0].shape,knots_basis_dots[0][0])\n",
    "print(knots_basis_dots[0].shape, knots_basis_dots[3].shape)"
   ]
  },
  {
   "cell_type": "code",
   "execution_count": null,
   "metadata": {
    "collapsed": false,
    "jupyter": {
     "outputs_hidden": false
    }
   },
   "outputs": [],
   "source": [
    "# Function to calculate MSE\n",
    "def calculate_mse_knot(array1, array2):\n",
    "    return ((array1 - array2) ** 2).mean()\n",
    "\n",
    "def calculate_mse_knot_dots(array1, dots):\n",
    "    # loss = -np.sum([np.array(array1)[np.array(dot)] for dot in dots])\n",
    "    loss = -np.sum([array1[tuple(dot)] for dot in dots])\n",
    "\n",
    "    return loss\n",
    "\n",
    "closest_knots = []\n",
    "closest_knots_dots = []\n",
    "true_knots = []\n",
    "j = -1\n",
    "for i, x in enumerate(X_torch):\n",
    "    j += 1\n",
    "    true_knots.append(torch.argmax(y_torch[i]).item())\n",
    "\n",
    "    mse_scores = [calculate_mse_knot(x[0], knot_) for knot_ in knots_basis]\n",
    "    closest_knots.append(np.argmin(mse_scores))\n",
    "\n",
    "    mse_scores_dots = [calculate_mse_knot_dots(x[0], dots_) for dots_ in knots_basis_dots]\n",
    "    # print(mse_scores_dots)\n",
    "    # min_indices = np.where(mse_scores_dots == np.min(mse_scores_dots))[0]\n",
    "    # if len(min_indices) > 1:\n",
    "    #     result = 0\n",
    "    # else:\n",
    "    #     result = min_indices[0]\n",
    "    closest_knots_dots.append(np.argmin(mse_scores_dots))\n",
    "    # plt.imshow(knots_basis[j][:, :, 8])\n",
    "    # plt.colorbar()\n",
    "    # plt.show()\n",
    "    # plt.imshow(x[0][:, :, 8])\n",
    "    # plt.colorbar()\n",
    "    # plt.show()\n",
    "    # break\n",
    "\n",
    "\n",
    "# print(len(closest_basis_knots), len(closest_basis_knots[0]), print(closest_basis_knots[0]))\n",
    "# print(true_labels)\n",
    "# print(closest_basis_knots)\n"
   ]
  },
  {
   "cell_type": "code",
   "execution_count": null,
   "metadata": {
    "collapsed": false,
    "jupyter": {
     "outputs_hidden": false
    }
   },
   "outputs": [],
   "source": [
    "\n",
    "predicted_labels_spec_np = np.array(closest_knots).reshape(-1)\n",
    "true_labels_spec_np = np.array(true_knots).reshape(-1)\n",
    "# print(true_labels_spec_np)\n",
    "cm = confusion_matrix(true_labels_spec_np, predicted_labels_spec_np)\n",
    "plt.figure(figsize=(10, 7))\n",
    "sns.heatmap(cm, annot=True, fmt=\"d\", xticklabels=knots, yticklabels=knots)\n",
    "plt.xlabel('Predicted Labels')\n",
    "plt.ylabel('True Labels')\n",
    "plt.title('Confusion Matrix')\n",
    "plt.show()"
   ]
  },
  {
   "cell_type": "code",
   "execution_count": null,
   "metadata": {
    "collapsed": false,
    "jupyter": {
     "outputs_hidden": false
    }
   },
   "outputs": [],
   "source": [
    "\n",
    "predicted_labels_spec_np = np.array(closest_knots_dots).reshape(-1)\n",
    "true_labels_spec_np = np.array(true_knots).reshape(-1)\n",
    "# print(true_labels_spec_np)\n",
    "cm = confusion_matrix(true_labels_spec_np, predicted_labels_spec_np)\n",
    "plt.figure(figsize=(10, 7))\n",
    "sns.heatmap(cm, annot=True, fmt=\"d\", xticklabels=knots, yticklabels=knots)\n",
    "plt.xlabel('Predicted Labels')\n",
    "plt.ylabel('True Labels')\n",
    "plt.title('Confusion Matrix')\n",
    "plt.show()"
   ]
  },
  {
   "cell_type": "code",
   "execution_count": null,
   "metadata": {
    "collapsed": false,
    "jupyter": {
     "outputs_hidden": false
    }
   },
   "outputs": [],
   "source": [
    "\n",
    "\n",
    "X_list_sp = []\n",
    "Y_list_sp = []\n",
    "for knot in knots:\n",
    "# for knot in ['6foil']:\n",
    "    filename = f'..\\\\{folder}\\\\data_{knot}_spectr.csv'\n",
    "    with open(f'..\\\\{folder}\\\\{knot}.pkl', 'rb') as file:\n",
    "        file = pickle.load(file)\n",
    "        ls = file['l']\n",
    "        ps = file['p']\n",
    "        weights = file['weight']\n",
    "        for row in reader:\n",
    "                # Deserialize the JSON string back to a list\n",
    "                data_list = json.loads(row[0])\n",
    "                # Convert the list back to a NumPy array if needed\n",
    "                # print(data_list)\n",
    "                # data_array = np.array(data_list)\n",
    "                data_array = data_list\n",
    "\n",
    "                l1, l2 = data_array[0], data_array[1]\n",
    "                p1, p2 = data_array[2], data_array[3]\n",
    "\n",
    "    with open(filename, 'r') as file:\n",
    "        reader = csv.reader(file)\n",
    "        for row in reader:\n",
    "            # Deserialize the JSON string back to a list\n",
    "            data_list = json.loads(row[0])\n",
    "            # Convert the list back to a NumPy array if needed\n",
    "            # print(data_list)\n",
    "            # data_array = np.array(data_list)\n",
    "            data_array = data_list\n",
    "\n",
    "            l1, l2 = data_array[0], data_array[1]\n",
    "            p1, p2 = data_array[2], data_array[3]\n",
    "            indx = data_array[4]\n",
    "            field = np.load(f'..\\\\{folder}\\\\fields\\\\data_{knot}_{indx}.npy')\n",
    "            plt.imshow(np.abs(field ))\n",
    "            plt.show()\n",
    "\n",
    "            # print(f'l1, l2, p1, p2: {l1}, {l2}, {p1}, {p2} ({(l2 - l1 + 1) * (p2 - p1 + 1)})')\n",
    "            # moments = np.array(data_array[4:]).reshape((l2 - l1 + 1), (p2 - p1 + 1))\n",
    "            moments = np.array([x[0] + 1j * x[1] for x in data_array[5:]]).reshape((l2 - l1 + 1), (p2 - p1 + 1))\n",
    "            # plt.imshow(np.abs(moments).T[::-1, :])\n",
    "            # plt.show()\n",
    "            values = build_weights(weights, ls, ps, l1, l2, p1, p2)\n",
    "            print(f\"{knot}\")\n",
    "            plt.imshow(np.abs(values))\n",
    "            plt.colorbar()\n",
    "            plt.show()\n",
    "            plt.imshow(np.abs(moments))\n",
    "            plt.colorbar()\n",
    "            plt.show()\n",
    "            # plt.imshow(np.real(moments).T[::-1, :])\n",
    "            # plt.show()\n",
    "            print(moments)\n",
    "            break\n",
    "            # continue\n",
    "            # points_list = data_array[2:]\n",
    "            # Nx, Ny, Nz = data_array[1]\n",
    "            # if desired_res != (Nx, Ny, Nz):\n",
    "            #     scale_x = desired_res[0] / Nx\n",
    "            #     scale_y = desired_res[1] / Ny\n",
    "            #     scale_z = desired_res[2] / Nz\n",
    "            #     points_list = np.rint(points_list * np.array([scale_x, scale_y, scale_z])).astype(int)\n",
    "            # # Initialize a 3D array with zeros\n",
    "            # dots_3d = np.zeros(desired_res, dtype=int)\n",
    "            # # Set the specified coordinates to 1\n",
    "            # for x, y, z in points_list:\n",
    "            #     try: dots_3d[x, y, z] = 1\n",
    "            #     except IndexError: continue\n",
    "            # X_list.append(dots_3d)\n",
    "            # # X_list.append(data_array)\n",
    "            # Y_list.append(knot_types[knot])\n",
    "    break"
   ]
  },
  {
   "cell_type": "code",
   "execution_count": null,
   "metadata": {
    "collapsed": false,
    "jupyter": {
     "outputs_hidden": false
    }
   },
   "outputs": [],
   "source": [
    "X_np = np.array(X_list)\n",
    "y_np = np.array(Y_list)\n",
    "X_torch = torch.tensor(X_np).reshape(-1,1, *desired_res).float()\n",
    "# X_torch = torch.tensor(X_np).float()\n",
    "y_torch_list = torch.tensor(y_np)\n",
    "y_torch = F.one_hot(y_torch_list.long(), num_classes=num_classes).float()\n",
    "print(X_torch.shape, y_torch.shape)\n",
    "X_train, X_val_test, y_train, y_val_test = train_test_split(X_torch, y_torch, test_size=0.3, random_state=37)\n",
    "X_val, X_test, y_val, y_test = train_test_split(X_val_test, y_val_test, test_size=0.5, random_state=37)\n",
    "train_dataset = TensorDataset(X_train, y_train)\n",
    "val_dataset = TensorDataset(X_val, y_val)\n",
    "test_dataset = TensorDataset(X_test, y_test)"
   ]
  }
 ],
 "metadata": {
  "kernelspec": {
   "display_name": "Python 3 (ipykernel)",
   "language": "python",
   "name": "python3"
  },
  "language_info": {
   "codemirror_mode": {
    "name": "ipython",
    "version": 3
   },
   "file_extension": ".py",
   "mimetype": "text/x-python",
   "name": "python",
   "nbconvert_exporter": "python",
   "pygments_lexer": "ipython3",
   "version": "3.11.5"
  }
 },
 "nbformat": 4,
 "nbformat_minor": 4
}
