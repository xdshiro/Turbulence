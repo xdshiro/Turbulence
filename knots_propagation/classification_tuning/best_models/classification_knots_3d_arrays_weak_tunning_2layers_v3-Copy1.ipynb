{
 "cells": [
  {
   "cell_type": "code",
   "execution_count": 107,
   "metadata": {},
   "outputs": [],
   "source": [
    "import sys\n",
    "sys.path.append('../')\n",
    "import time\n",
    "import numpy as np\n",
    "import matplotlib.pyplot as plt\n",
    "from sklearn.model_selection import train_test_split\n",
    "from scipy.signal import convolve2d\n",
    "from scipy.optimize import curve_fit\n",
    "from scipy.optimize import brute\n",
    "# import cv2\n",
    "import torch\n",
    "import json\n",
    "import csv\n",
    "from functions.all_knots_functions import *\n",
    "from torch.utils.data import TensorDataset, DataLoader\n",
    "from torch import nn\n",
    "from sklearn.model_selection import train_test_split\n",
    "from torch.optim import lr_scheduler\n",
    "from torch.optim.lr_scheduler import ReduceLROnPlateau\n",
    "import collections\n",
    "import itertools\n",
    "import torch\n",
    "import torch.nn as nn\n",
    "import torch.nn.functional as F\n",
    "from tqdm import trange\n",
    "import pickle\n",
    "from sklearn.metrics import confusion_matrix\n",
    "import seaborn as sns\n",
    "from torchsummary import summary\n",
    "device = torch.device(\"cuda\" if torch.cuda.is_available() else \"cpu\")"
   ]
  },
  {
   "cell_type": "code",
   "execution_count": 108,
   "metadata": {
    "collapsed": false,
    "jupyter": {
     "outputs_hidden": false
    }
   },
   "outputs": [],
   "source": [
    "desired_res = (24, 24, 24)\n",
    "\n",
    "hyperparams = {\n",
    "    'learning_rate': 1e-5,  # Control dropout rate\n",
    "    'patience': 5,  # Number of epochs between learning rate decay\n",
    "    'factor': 0.2,  # Multiplicative factor of learning rate decay\n",
    "    'batch_size': 64\n",
    "}\n",
    "num_epochs = 100\n",
    "print_every = 1\n",
    "# in_channels, out_channels, kernel_size, stride, padding\n",
    "stages = [\n",
    "    [(1, 32, 3, 1, 1), (32, 32, 3, 1, 1), (32, 32, 3, 1, 1)],\n",
    "    [(32, 64, 5, 1, 1), (64, 64, 5, 1, 1), (64, 64, 5, 1, 1)]\n",
    "]\n",
    "\n",
    "# Define pooling configurations: (kernel_size, stride, padding)\n",
    "# Set to 'None' for stages where no pooling is desired\n",
    "# kernel_size, stride, padding\n",
    "pooling_configs = [\n",
    "    (2, 2, 1),  # Pooling after the first stage\n",
    "    (2, 2, 1)      # No pooling after the third stage\n",
    "]"
   ]
  },
  {
   "cell_type": "code",
   "execution_count": 109,
   "outputs": [
    {
     "name": "stdout",
     "output_type": "stream",
     "text": [
      "['best_models', 'classification_knots_3d_arrays_weak_tunning', 'classification_knots_spectrum_strong_tunning', 'data_generation', 'HOPFS_L270_5e-07_test_1s']\n"
     ]
    }
   ],
   "source": [
    "import os\n",
    "print(os.listdir('../'))"
   ],
   "metadata": {
    "collapsed": false
   }
  },
  {
   "cell_type": "code",
   "execution_count": 110,
   "metadata": {
    "collapsed": false,
    "jupyter": {
     "outputs_hidden": false
    }
   },
   "outputs": [
    {
     "name": "stdout",
     "output_type": "stream",
     "text": [
      "64 64 100\n"
     ]
    }
   ],
   "source": [
    "knot_types = {\n",
    "        'standard_16': 0,  # 1\n",
    "        'standard_14': 1,  # 2\n",
    "        'standard_18': 2,  # 3\n",
    "        '30both': 3,  # 4\n",
    "        '30oneZ': 4,  # 5\n",
    "        'optimized': 5,  # 6\n",
    "        'pm_03_z': 6,  # 7\n",
    "        # '4foil': hopf_4foil,  # 8\n",
    "        # '6foil': hopf_6foil,  # 9\n",
    "        # 'stand4foil': hopf_stand4foil,  # 10\n",
    "        '30oneX': 7,  # 11\n",
    "        '15oneZ': 8,\n",
    "        'dennis': 9,\n",
    "        'trefoil_standard_12': 10,\n",
    "        'trefoil_optimized': 11,\n",
    "        # 'fivefoil_standard_08': fivefoil_standard_08\n",
    "\n",
    "}\n",
    "# knot_types = {\n",
    "#\n",
    "#     'optimized': 0,  # 6\n",
    "#\n",
    "#     'dennis': 1,\n",
    "#\n",
    "#     'trefoil_optimized': 2,\n",
    "#\n",
    "#\n",
    "# }\n",
    "\n",
    "knots = [\n",
    "    'standard_14', 'standard_16', 'standard_18', '30both', '30oneZ',\n",
    "    'optimized', 'pm_03_z', '30oneX', '15oneZ', 'dennis',\n",
    "    'trefoil_standard_12', 'trefoil_optimized'\n",
    "]\n",
    "knots = [\n",
    "    'standard_14', 'standard_16', 'standard_18', '30both', '30oneZ',\n",
    "    'optimized', 'pm_03_z', '30oneX', '15oneZ', 'dennis',\n",
    "    'trefoil_standard_12', 'trefoil_optimized'\n",
    "]\n",
    "# folder = '../DATA/HOPFS_L270_5e-07_test_1s'\n",
    "# folder = '../HOPFS_L270_5e-07_test_1s'\n",
    "folder = '../HOPFS_L270_5e-07_test_1s'\n",
    "#\n",
    "\n",
    "num_classes = len(knots)\n",
    "X_list = []\n",
    "Y_list = []\n",
    "csv.field_size_limit(10000000)\n",
    "flag_print_shape = True\n",
    "for knot in knots:\n",
    "    # filename = f'../../../{folder}/data_{knot}.csv'\n",
    "    filename = f'{folder}/data_{knot}.csv'\n",
    "    with open(filename, 'r') as file:\n",
    "        reader = csv.reader(file)\n",
    "        for row in reader:\n",
    "            # Deserialize the JSON string back to a list\n",
    "            data_list = json.loads(row[0])\n",
    "            # Convert the list back to a NumPy array if needed\n",
    "            data_array = np.array(data_list)\n",
    "            points_list = data_array[2:]\n",
    "            Nx, Ny, Nz = data_array[1]\n",
    "            if flag_print_shape:\n",
    "                print(Nx, Ny, Nz)\n",
    "                flag_print_shape = False\n",
    "            if desired_res != (Nx, Ny, Nz):\n",
    "                scale_x = desired_res[0] / Nx\n",
    "                scale_y = desired_res[1] / Ny\n",
    "                scale_z = desired_res[2] / Nz\n",
    "                points_list = np.rint(points_list * np.array([scale_x, scale_y, scale_z])).astype(int)\n",
    "            # Initialize a 3D array with zeros\n",
    "            dots_3d = np.zeros(desired_res, dtype=int)\n",
    "            # Set the specified coordinates to 1\n",
    "            for x, y, z in points_list:\n",
    "                try: dots_3d[x, y, z] = 1\n",
    "                except IndexError: continue\n",
    "            X_list.append(dots_3d)\n",
    "            # X_list.append(data_array)\n",
    "            Y_list.append(knot_types[knot])\n"
   ]
  },
  {
   "cell_type": "code",
   "execution_count": 111,
   "outputs": [
    {
     "name": "stdout",
     "output_type": "stream",
     "text": [
      "[1, 1, 1, 1, 1, 1, 1, 1, 1, 1, 0, 0, 0, 0, 0, 0, 0, 0, 0, 0, 2, 2, 2, 2, 2, 2, 2, 2, 2, 2, 3, 3, 3, 3, 3, 3, 3, 3, 3, 3, 4, 4, 4, 4, 4, 4, 4, 4, 4, 4, 5, 5, 5, 5, 5, 5, 5, 5, 5, 5, 6, 6, 6, 6, 6, 6, 6, 6, 6, 6, 7, 7, 7, 7, 7, 7, 7, 7, 7, 7, 8, 8, 8, 8, 8, 8, 8, 8, 8, 8, 9, 9, 9, 9, 9, 9, 9, 9, 9, 9, 10, 10, 10, 10, 10, 10, 10, 10, 10, 10, 11, 11, 11, 11, 11, 11, 11, 11, 11, 11]\n"
     ]
    }
   ],
   "source": [
    "print(Y_list)"
   ],
   "metadata": {
    "collapsed": false
   }
  },
  {
   "cell_type": "code",
   "execution_count": 112,
   "metadata": {
    "collapsed": false,
    "jupyter": {
     "outputs_hidden": false
    }
   },
   "outputs": [
    {
     "name": "stdout",
     "output_type": "stream",
     "text": [
      "[[[[0 0 0 ... 0 0 0]\n",
      "   [0 0 0 ... 0 0 0]\n",
      "   [0 0 0 ... 0 0 0]\n",
      "   ...\n",
      "   [0 0 0 ... 0 0 0]\n",
      "   [0 0 0 ... 0 0 0]\n",
      "   [0 0 0 ... 0 0 0]]\n",
      "\n",
      "  [[0 0 0 ... 0 0 0]\n",
      "   [0 0 0 ... 0 0 0]\n",
      "   [0 0 0 ... 0 0 0]\n",
      "   ...\n",
      "   [0 0 0 ... 0 0 0]\n",
      "   [0 0 0 ... 0 0 0]\n",
      "   [0 0 0 ... 0 0 0]]\n",
      "\n",
      "  [[0 0 0 ... 0 0 0]\n",
      "   [0 0 0 ... 0 0 0]\n",
      "   [0 0 0 ... 0 0 0]\n",
      "   ...\n",
      "   [0 0 0 ... 0 0 0]\n",
      "   [0 0 0 ... 0 0 0]\n",
      "   [0 0 0 ... 0 0 0]]\n",
      "\n",
      "  ...\n",
      "\n",
      "  [[0 0 0 ... 0 0 0]\n",
      "   [0 0 0 ... 0 0 0]\n",
      "   [0 0 0 ... 0 0 0]\n",
      "   ...\n",
      "   [0 0 0 ... 0 0 0]\n",
      "   [0 0 0 ... 0 0 0]\n",
      "   [0 0 0 ... 0 0 0]]\n",
      "\n",
      "  [[0 0 0 ... 0 0 0]\n",
      "   [0 0 0 ... 0 0 0]\n",
      "   [0 0 0 ... 0 0 0]\n",
      "   ...\n",
      "   [0 0 0 ... 0 0 0]\n",
      "   [0 0 0 ... 0 0 0]\n",
      "   [0 0 0 ... 0 0 0]]\n",
      "\n",
      "  [[0 0 0 ... 0 0 0]\n",
      "   [0 0 0 ... 0 0 0]\n",
      "   [0 0 0 ... 0 0 0]\n",
      "   ...\n",
      "   [0 0 0 ... 0 0 0]\n",
      "   [0 0 0 ... 0 0 0]\n",
      "   [0 0 0 ... 0 0 0]]]\n",
      "\n",
      "\n",
      " [[[0 0 0 ... 0 0 0]\n",
      "   [0 0 0 ... 0 0 0]\n",
      "   [0 0 0 ... 0 0 0]\n",
      "   ...\n",
      "   [0 0 0 ... 0 0 0]\n",
      "   [0 0 0 ... 0 0 0]\n",
      "   [0 0 0 ... 0 0 0]]\n",
      "\n",
      "  [[0 0 0 ... 0 0 0]\n",
      "   [0 0 0 ... 0 0 0]\n",
      "   [0 0 0 ... 0 0 0]\n",
      "   ...\n",
      "   [0 0 0 ... 0 0 0]\n",
      "   [0 0 0 ... 0 0 0]\n",
      "   [0 0 0 ... 0 0 0]]\n",
      "\n",
      "  [[0 0 0 ... 0 0 0]\n",
      "   [0 0 0 ... 0 0 0]\n",
      "   [0 0 0 ... 0 0 0]\n",
      "   ...\n",
      "   [0 0 0 ... 0 0 0]\n",
      "   [0 0 0 ... 0 0 0]\n",
      "   [0 0 0 ... 0 0 0]]\n",
      "\n",
      "  ...\n",
      "\n",
      "  [[0 0 0 ... 0 0 0]\n",
      "   [0 0 0 ... 0 0 0]\n",
      "   [0 0 0 ... 0 0 0]\n",
      "   ...\n",
      "   [0 0 0 ... 0 0 0]\n",
      "   [0 0 0 ... 0 0 0]\n",
      "   [0 0 0 ... 0 0 0]]\n",
      "\n",
      "  [[0 0 0 ... 0 0 0]\n",
      "   [0 0 0 ... 0 0 0]\n",
      "   [0 0 0 ... 0 0 0]\n",
      "   ...\n",
      "   [0 0 0 ... 0 0 0]\n",
      "   [0 0 0 ... 0 0 0]\n",
      "   [0 0 0 ... 0 0 0]]\n",
      "\n",
      "  [[0 0 0 ... 0 0 0]\n",
      "   [0 0 0 ... 0 0 0]\n",
      "   [0 0 0 ... 0 0 0]\n",
      "   ...\n",
      "   [0 0 0 ... 0 0 0]\n",
      "   [0 0 0 ... 0 0 0]\n",
      "   [0 0 0 ... 0 0 0]]]\n",
      "\n",
      "\n",
      " [[[0 0 0 ... 0 0 0]\n",
      "   [0 0 0 ... 0 0 0]\n",
      "   [0 0 0 ... 0 0 0]\n",
      "   ...\n",
      "   [0 0 0 ... 0 0 0]\n",
      "   [0 0 0 ... 0 0 0]\n",
      "   [0 0 0 ... 0 0 0]]\n",
      "\n",
      "  [[0 0 0 ... 0 0 0]\n",
      "   [0 0 0 ... 0 0 0]\n",
      "   [0 0 0 ... 0 0 0]\n",
      "   ...\n",
      "   [0 0 0 ... 0 0 0]\n",
      "   [0 0 0 ... 0 0 0]\n",
      "   [0 0 0 ... 0 0 0]]\n",
      "\n",
      "  [[0 0 0 ... 0 0 0]\n",
      "   [0 0 0 ... 0 0 0]\n",
      "   [0 0 0 ... 0 0 0]\n",
      "   ...\n",
      "   [0 0 0 ... 0 0 0]\n",
      "   [0 0 0 ... 0 0 0]\n",
      "   [0 0 0 ... 0 0 0]]\n",
      "\n",
      "  ...\n",
      "\n",
      "  [[0 0 0 ... 0 0 0]\n",
      "   [0 0 0 ... 0 0 0]\n",
      "   [0 0 0 ... 0 0 0]\n",
      "   ...\n",
      "   [0 0 0 ... 0 0 0]\n",
      "   [0 0 0 ... 0 0 0]\n",
      "   [0 0 0 ... 0 0 0]]\n",
      "\n",
      "  [[0 0 0 ... 0 0 0]\n",
      "   [0 0 0 ... 0 0 0]\n",
      "   [0 0 0 ... 0 0 0]\n",
      "   ...\n",
      "   [0 0 0 ... 0 0 0]\n",
      "   [0 0 0 ... 0 0 0]\n",
      "   [0 0 0 ... 0 0 0]]\n",
      "\n",
      "  [[0 0 0 ... 0 0 0]\n",
      "   [0 0 0 ... 0 0 0]\n",
      "   [0 0 0 ... 0 0 0]\n",
      "   ...\n",
      "   [0 0 0 ... 0 0 0]\n",
      "   [0 0 0 ... 0 0 0]\n",
      "   [0 0 0 ... 0 0 0]]]\n",
      "\n",
      "\n",
      " ...\n",
      "\n",
      "\n",
      " [[[0 0 0 ... 0 0 0]\n",
      "   [0 0 0 ... 0 0 0]\n",
      "   [0 0 0 ... 0 0 0]\n",
      "   ...\n",
      "   [0 0 0 ... 0 0 0]\n",
      "   [0 0 0 ... 0 0 0]\n",
      "   [0 0 0 ... 0 0 0]]\n",
      "\n",
      "  [[0 0 0 ... 0 0 0]\n",
      "   [0 0 0 ... 0 0 0]\n",
      "   [0 0 0 ... 0 0 0]\n",
      "   ...\n",
      "   [0 0 0 ... 0 0 0]\n",
      "   [0 0 0 ... 0 0 0]\n",
      "   [0 0 0 ... 0 0 0]]\n",
      "\n",
      "  [[0 0 0 ... 0 0 0]\n",
      "   [0 0 0 ... 0 0 0]\n",
      "   [0 0 0 ... 0 0 0]\n",
      "   ...\n",
      "   [0 0 0 ... 0 0 0]\n",
      "   [0 0 0 ... 0 0 0]\n",
      "   [0 0 0 ... 0 0 0]]\n",
      "\n",
      "  ...\n",
      "\n",
      "  [[0 0 0 ... 0 0 0]\n",
      "   [0 0 0 ... 0 0 0]\n",
      "   [0 0 0 ... 0 0 0]\n",
      "   ...\n",
      "   [0 0 0 ... 0 0 0]\n",
      "   [0 0 0 ... 0 0 0]\n",
      "   [0 0 0 ... 0 0 0]]\n",
      "\n",
      "  [[0 0 0 ... 0 0 0]\n",
      "   [0 0 0 ... 0 0 0]\n",
      "   [0 0 0 ... 0 0 0]\n",
      "   ...\n",
      "   [0 0 0 ... 0 0 0]\n",
      "   [0 0 0 ... 0 0 0]\n",
      "   [0 0 0 ... 0 0 0]]\n",
      "\n",
      "  [[0 0 0 ... 0 0 0]\n",
      "   [0 0 0 ... 0 0 0]\n",
      "   [0 0 0 ... 0 0 0]\n",
      "   ...\n",
      "   [0 0 0 ... 0 0 0]\n",
      "   [0 0 0 ... 0 0 0]\n",
      "   [0 0 0 ... 0 0 0]]]\n",
      "\n",
      "\n",
      " [[[0 0 0 ... 0 0 0]\n",
      "   [0 0 0 ... 0 0 0]\n",
      "   [0 0 0 ... 0 0 0]\n",
      "   ...\n",
      "   [0 0 0 ... 0 0 0]\n",
      "   [0 0 0 ... 0 0 0]\n",
      "   [0 0 0 ... 0 0 0]]\n",
      "\n",
      "  [[0 0 0 ... 0 0 0]\n",
      "   [0 0 0 ... 0 0 0]\n",
      "   [0 0 0 ... 0 0 0]\n",
      "   ...\n",
      "   [0 0 0 ... 0 0 0]\n",
      "   [0 0 0 ... 0 0 0]\n",
      "   [0 0 0 ... 0 0 0]]\n",
      "\n",
      "  [[0 0 0 ... 0 0 0]\n",
      "   [0 0 0 ... 0 0 0]\n",
      "   [0 0 0 ... 0 0 0]\n",
      "   ...\n",
      "   [0 0 0 ... 0 0 0]\n",
      "   [0 0 0 ... 0 0 0]\n",
      "   [0 0 0 ... 0 0 0]]\n",
      "\n",
      "  ...\n",
      "\n",
      "  [[0 0 0 ... 0 0 0]\n",
      "   [0 0 0 ... 0 0 0]\n",
      "   [0 0 0 ... 0 0 0]\n",
      "   ...\n",
      "   [0 0 0 ... 0 0 0]\n",
      "   [0 0 0 ... 0 0 0]\n",
      "   [0 0 0 ... 0 0 0]]\n",
      "\n",
      "  [[0 0 0 ... 0 0 0]\n",
      "   [0 0 0 ... 0 0 0]\n",
      "   [0 0 0 ... 0 0 0]\n",
      "   ...\n",
      "   [0 0 0 ... 0 0 0]\n",
      "   [0 0 0 ... 0 0 0]\n",
      "   [0 0 0 ... 0 0 0]]\n",
      "\n",
      "  [[0 0 0 ... 0 0 0]\n",
      "   [0 0 0 ... 0 0 0]\n",
      "   [0 0 0 ... 0 0 0]\n",
      "   ...\n",
      "   [0 0 0 ... 0 0 0]\n",
      "   [0 0 0 ... 0 0 0]\n",
      "   [0 0 0 ... 0 0 0]]]\n",
      "\n",
      "\n",
      " [[[0 0 0 ... 0 0 0]\n",
      "   [0 0 0 ... 0 0 0]\n",
      "   [0 0 0 ... 0 0 0]\n",
      "   ...\n",
      "   [0 0 0 ... 0 0 0]\n",
      "   [0 0 0 ... 0 0 0]\n",
      "   [0 0 0 ... 0 0 0]]\n",
      "\n",
      "  [[0 0 0 ... 0 0 0]\n",
      "   [0 0 0 ... 0 0 0]\n",
      "   [0 0 0 ... 0 0 0]\n",
      "   ...\n",
      "   [0 0 0 ... 0 0 0]\n",
      "   [0 0 0 ... 0 0 0]\n",
      "   [0 0 0 ... 0 0 0]]\n",
      "\n",
      "  [[0 0 0 ... 0 0 0]\n",
      "   [0 0 0 ... 0 0 0]\n",
      "   [0 0 0 ... 0 0 0]\n",
      "   ...\n",
      "   [0 0 0 ... 0 0 0]\n",
      "   [0 0 0 ... 0 0 0]\n",
      "   [0 0 0 ... 0 0 0]]\n",
      "\n",
      "  ...\n",
      "\n",
      "  [[0 0 0 ... 0 0 0]\n",
      "   [0 0 0 ... 0 0 0]\n",
      "   [0 0 0 ... 0 0 0]\n",
      "   ...\n",
      "   [0 0 0 ... 0 0 0]\n",
      "   [0 0 0 ... 0 0 0]\n",
      "   [0 0 0 ... 0 0 0]]\n",
      "\n",
      "  [[0 0 0 ... 0 0 0]\n",
      "   [0 0 0 ... 0 0 0]\n",
      "   [0 0 0 ... 0 0 0]\n",
      "   ...\n",
      "   [0 0 0 ... 0 0 0]\n",
      "   [0 0 0 ... 0 0 0]\n",
      "   [0 0 0 ... 0 0 0]]\n",
      "\n",
      "  [[0 0 0 ... 0 0 0]\n",
      "   [0 0 0 ... 0 0 0]\n",
      "   [0 0 0 ... 0 0 0]\n",
      "   ...\n",
      "   [0 0 0 ... 0 0 0]\n",
      "   [0 0 0 ... 0 0 0]\n",
      "   [0 0 0 ... 0 0 0]]]]\n",
      "torch.Size([120, 1, 24, 24, 24]) torch.Size([120, 12])\n"
     ]
    }
   ],
   "source": [
    "X_np = np.array(X_list)\n",
    "y_np = np.array(Y_list)\n",
    "print(X_np)\n",
    "X_torch = torch.tensor(X_np).reshape(-1,1, *desired_res).float()\n",
    "y_torch_list = torch.tensor(y_np)\n",
    "y_torch = F.one_hot(y_torch_list.long(), num_classes=num_classes).float()\n",
    "print(X_torch.shape, y_torch.shape)"
   ]
  },
  {
   "cell_type": "code",
   "execution_count": 113,
   "metadata": {
    "collapsed": false,
    "jupyter": {
     "outputs_hidden": false
    }
   },
   "outputs": [],
   "source": [
    "X_train, X_val_test, y_train, y_val_test = train_test_split(X_torch, y_torch, test_size=0.3, random_state=37)\n",
    "X_val, X_test, y_val, y_test = train_test_split(X_val_test, y_val_test, test_size=0.5, random_state=37)\n",
    "train_dataset = TensorDataset(X_train, y_train)\n",
    "val_dataset = TensorDataset(X_val, y_val)\n",
    "test_dataset = TensorDataset(X_test, y_test)"
   ]
  },
  {
   "cell_type": "code",
   "execution_count": 114,
   "metadata": {
    "collapsed": false,
    "jupyter": {
     "outputs_hidden": false
    }
   },
   "outputs": [],
   "source": [
    "def conv_stage(layer_configs):\n",
    "    layers = []\n",
    "    for config in layer_configs:\n",
    "        in_channels, out_channels, kernel_size, stride, padding = config\n",
    "        layers.append(nn.Conv3d(in_channels, out_channels, kernel_size, stride, padding))\n",
    "        layers.append(nn.BatchNorm3d(out_channels))\n",
    "        layers.append(nn.ReLU(inplace=True))\n",
    "\n",
    "    return nn.Sequential(*layers)\n",
    "\n",
    "def create_pooling_layer(config):\n",
    "    if config is None:\n",
    "        return None\n",
    "    kernel_size, stride, padding = config\n",
    "    return nn.MaxPool3d(kernel_size=kernel_size, stride=stride, padding=padding)\n",
    "\n",
    "class Classifier3D(nn.Module):\n",
    "    def __init__(self, stages, pooling_configs, num_classes=11, desired=desired_res):\n",
    "        super(Classifier3D, self).__init__()\n",
    "\n",
    "        self.features = nn.Sequential()\n",
    "        self.desired = desired_res\n",
    "\n",
    "        for i, stage in enumerate(stages):\n",
    "            # Add the convolutional stage\n",
    "            self.features.add_module(f\"stage_{i}\", conv_stage(stage))\n",
    "\n",
    "            # Add a custom MaxPooling layer after each stage based on the pooling configuration\n",
    "            if i < len(pooling_configs):\n",
    "                pool_layer = create_pooling_layer(pooling_configs[i])\n",
    "                if pool_layer:\n",
    "                    self.features.add_module(f\"pool_{i}\", pool_layer)\n",
    "\n",
    "\n",
    "        # Calculate the size of the flattened features after the conv layers\n",
    "        self._to_linear = None\n",
    "        self._get_conv_output((1, *self.desired))\n",
    "\n",
    "        # Fully connected layers\n",
    "        self.fc1 = nn.Linear(self._to_linear, 256)\n",
    "        # self.fc2 = nn.Linear(self._to_linear, 512)\n",
    "        self.fc2 = nn.Linear(256, num_classes)\n",
    "\n",
    "    def _get_conv_output(self, shape):\n",
    "        batch_size = 1\n",
    "        input = torch.autograd.Variable(torch.rand(batch_size, *shape))\n",
    "        output_feat = self.features(input)\n",
    "        self._to_linear = int(np.prod(output_feat.size()[1:]))\n",
    "\n",
    "    def initialize_weights(self):\n",
    "        for m in self.modules():\n",
    "            if isinstance(m, nn.Conv3d):\n",
    "                nn.init.kaiming_normal_(m.weight, mode='fan_out', nonlinearity='relu')\n",
    "                if m.bias is not None:\n",
    "                    nn.init.constant_(m.bias, 0)\n",
    "            elif isinstance(m, nn.BatchNorm3d):\n",
    "                nn.init.constant_(m.weight, 1)\n",
    "                nn.init.constant_(m.bias, 0)\n",
    "            elif isinstance(m, nn.Linear):\n",
    "                nn.init.normal_(m.weight, 0, 0.01)\n",
    "                nn.init.constant_(m.bias, 0)\n",
    "\n",
    "    def forward(self, x):\n",
    "        x = self.features(x)\n",
    "        x = x.view(x.size(0), -1) # Flatten the output\n",
    "        x = F.relu(self.fc1(x))\n",
    "        # x = F.relu(self.fc2(x))\n",
    "        x = self.fc2(x)\n",
    "        return x\n"
   ]
  },
  {
   "cell_type": "code",
   "execution_count": 115,
   "metadata": {
    "collapsed": false,
    "jupyter": {
     "outputs_hidden": false
    }
   },
   "outputs": [],
   "source": [
    "\n",
    "\n",
    "model = Classifier3D(stages, pooling_configs, num_classes=len(knots)).to(device)\n",
    "model.initialize_weights()"
   ]
  },
  {
   "cell_type": "code",
   "execution_count": 116,
   "metadata": {
    "collapsed": false,
    "jupyter": {
     "outputs_hidden": false
    }
   },
   "outputs": [
    {
     "name": "stdout",
     "output_type": "stream",
     "text": [
      "torch.Size([1, 1, 24, 24, 24])\n",
      "tensor([[ 0.2153,  0.1018,  0.0331,  0.1071,  0.1226, -0.0980, -0.0016,  0.0199,\n",
      "          0.1932,  0.1284, -0.0347,  0.0152]], device='cuda:0',\n",
      "       grad_fn=<AddmmBackward0>)\n",
      "----------------------------------------------------------------\n",
      "        Layer (type)               Output Shape         Param #\n",
      "================================================================\n",
      "            Conv3d-1       [-1, 32, 24, 24, 24]             896\n",
      "       BatchNorm3d-2       [-1, 32, 24, 24, 24]              64\n",
      "              ReLU-3       [-1, 32, 24, 24, 24]               0\n",
      "            Conv3d-4       [-1, 32, 24, 24, 24]          27,680\n",
      "       BatchNorm3d-5       [-1, 32, 24, 24, 24]              64\n",
      "              ReLU-6       [-1, 32, 24, 24, 24]               0\n",
      "            Conv3d-7       [-1, 32, 24, 24, 24]          27,680\n",
      "       BatchNorm3d-8       [-1, 32, 24, 24, 24]              64\n",
      "              ReLU-9       [-1, 32, 24, 24, 24]               0\n",
      "        MaxPool3d-10       [-1, 32, 13, 13, 13]               0\n",
      "           Conv3d-11       [-1, 64, 11, 11, 11]         256,064\n",
      "      BatchNorm3d-12       [-1, 64, 11, 11, 11]             128\n",
      "             ReLU-13       [-1, 64, 11, 11, 11]               0\n",
      "           Conv3d-14          [-1, 64, 9, 9, 9]         512,064\n",
      "      BatchNorm3d-15          [-1, 64, 9, 9, 9]             128\n",
      "             ReLU-16          [-1, 64, 9, 9, 9]               0\n",
      "           Conv3d-17          [-1, 64, 7, 7, 7]         512,064\n",
      "      BatchNorm3d-18          [-1, 64, 7, 7, 7]             128\n",
      "             ReLU-19          [-1, 64, 7, 7, 7]               0\n",
      "        MaxPool3d-20          [-1, 64, 4, 4, 4]               0\n",
      "           Linear-21                  [-1, 256]       1,048,832\n",
      "           Linear-22                   [-1, 12]           3,084\n",
      "================================================================\n",
      "Total params: 2,388,940\n",
      "Trainable params: 2,388,940\n",
      "Non-trainable params: 0\n",
      "----------------------------------------------------------------\n",
      "Input size (MB): 0.05\n",
      "Forward/backward pass size (MB): 34.46\n",
      "Params size (MB): 9.11\n",
      "Estimated Total Size (MB): 43.63\n",
      "----------------------------------------------------------------\n"
     ]
    }
   ],
   "source": [
    "# print(model._to_linear, 512 * 16 * 16)\n",
    "dots_3d_toch_batch = train_dataset[1:2][0].to(device)\n",
    "print(dots_3d_toch_batch.shape)\n",
    "print(model(dots_3d_toch_batch))\n",
    "summary(model, input_size=dots_3d_toch_batch.shape[1:])"
   ]
  },
  {
   "cell_type": "code",
   "execution_count": 117,
   "metadata": {
    "collapsed": false,
    "jupyter": {
     "outputs_hidden": false
    }
   },
   "outputs": [],
   "source": [
    "def loop_train(model, train_loader, criterion, optimizer):\n",
    "    model.train()  # Set the model to training mode\n",
    "    total_loss = 0\n",
    "    for i, (inputs, targets) in enumerate(train_loader, 1):  # Start enumeration from 1\n",
    "        inputs, targets = inputs.to(device), targets.to(device)\n",
    "        optimizer.zero_grad()  # Clear the gradients\n",
    "        outputs = model(inputs)  # Forward pass\n",
    "        loss = criterion(outputs, targets)  # Compute the loss\n",
    "        loss.backward()  # Backward pass\n",
    "        optimizer.step()  # Update the weights\n",
    "        total_loss += loss.item()  # Accumulate the loss\n",
    "\n",
    "    return total_loss / len(train_loader)  # Return the average loss\n",
    "\n",
    "\n",
    "def loop_test(model, test_loader, criterion):\n",
    "    model.eval()  # Set the model to evaluation mode\n",
    "    total_loss = 0\n",
    "    with torch.no_grad():  # No need to track the gradients\n",
    "        for inputs, targets in test_loader:\n",
    "            inputs, targets = inputs.to(device), targets.to(device)\n",
    "            outputs = model(inputs)  # Forward pass\n",
    "            loss = criterion(outputs, targets)  # Compute the loss\n",
    "            total_loss += loss.item()  # Accumulate the loss\n",
    "    return total_loss / len(test_loader)  # Return the average loss\n",
    "\n",
    "\n",
    "def correct_number_test(model, test_loader, criterion):\n",
    "    model.eval()  # Set the model to evaluation mode\n",
    "    total_correct = 0\n",
    "    total = 0\n",
    "    with torch.no_grad():  # No need to track the gradients\n",
    "        for inputs, targets in test_loader:\n",
    "            inputs, targets = inputs.to(device), targets.to(device)\n",
    "            outputs = model(inputs)  # Forward pass\n",
    "            correct = criterion(outputs, targets)  # Compute correct\n",
    "            total_correct += correct  # Accumulate correct\n",
    "            total += len(outputs)  # Accumulate total\n",
    "    return total_correct, total  # Return the average loss\n",
    "\n",
    "\n",
    "def plot_losses(train_losses, test_losses, decimals=3):\n",
    "    plt.figure(figsize=(10, 5))\n",
    "    plt.plot(train_losses,\n",
    "             label=f'Train Loss {train_losses[-1]: .{decimals}f} (min: {min(train_losses): .{decimals}f})')\n",
    "    plt.plot(test_losses, label=f'Test Loss {test_losses[-1]: .{decimals}f} (min: {min(test_losses): .{decimals}f})')\n",
    "    plt.title('Training and Testing Losses Over Epochs')\n",
    "    plt.xlabel('Epochs')\n",
    "    plt.ylabel('Loss')\n",
    "    plt.legend()\n",
    "    plt.show()\n"
   ]
  },
  {
   "cell_type": "code",
   "execution_count": 118,
   "metadata": {
    "collapsed": false,
    "jupyter": {
     "outputs_hidden": false
    }
   },
   "outputs": [
    {
     "name": "stderr",
     "output_type": "stream",
     "text": [
      "Progress:   1%|          | 1/100 [00:00<00:31,  3.18it/s]"
     ]
    },
    {
     "name": "stdout",
     "output_type": "stream",
     "text": [
      "Epoch 0 completed in 0.31 seconds\n",
      "Epoch 0: Train Loss: 2.4782, Val Loss: 2.4845\n",
      "Epoch 1 completed in 0.20 seconds\n",
      "Epoch 1: Train Loss: 2.4266, Val Loss: 2.4854\n"
     ]
    },
    {
     "name": "stderr",
     "output_type": "stream",
     "text": [
      "Progress:   4%|▍         | 4/100 [00:00<00:21,  4.52it/s]"
     ]
    },
    {
     "name": "stdout",
     "output_type": "stream",
     "text": [
      "Epoch 2 completed in 0.20 seconds\n",
      "Epoch 2: Train Loss: 2.3829, Val Loss: 2.4859\n",
      "Epoch 3 completed in 0.21 seconds\n",
      "Epoch 3: Train Loss: 2.3411, Val Loss: 2.4862\n"
     ]
    },
    {
     "name": "stderr",
     "output_type": "stream",
     "text": [
      "Progress:   5%|▌         | 5/100 [00:01<00:20,  4.64it/s]"
     ]
    },
    {
     "name": "stdout",
     "output_type": "stream",
     "text": [
      "Epoch 4 completed in 0.21 seconds\n",
      "Epoch 4: Train Loss: 2.3080, Val Loss: 2.4867\n"
     ]
    },
    {
     "name": "stderr",
     "output_type": "stream",
     "text": [
      "Progress:   6%|▌         | 6/100 [00:01<00:20,  4.60it/s]"
     ]
    },
    {
     "name": "stdout",
     "output_type": "stream",
     "text": [
      "Epoch 5 completed in 0.22 seconds\n",
      "Epoch 5: Train Loss: 2.2662, Val Loss: 2.4871\n"
     ]
    },
    {
     "name": "stderr",
     "output_type": "stream",
     "text": [
      "Progress:   7%|▋         | 7/100 [00:01<00:20,  4.63it/s]"
     ]
    },
    {
     "name": "stdout",
     "output_type": "stream",
     "text": [
      "Epoch 00007: reducing learning rate of group 0 to 2.0000e-06.\n",
      "Epoch 6 completed in 0.21 seconds\n",
      "Epoch 6: Train Loss: 2.2376, Val Loss: 2.4876\n"
     ]
    },
    {
     "name": "stderr",
     "output_type": "stream",
     "text": [
      "Progress:   9%|▉         | 9/100 [00:01<00:19,  4.67it/s]"
     ]
    },
    {
     "name": "stdout",
     "output_type": "stream",
     "text": [
      "Epoch 7 completed in 0.21 seconds\n",
      "Epoch 7: Train Loss: 2.1881, Val Loss: 2.4879\n",
      "Epoch 8 completed in 0.21 seconds\n",
      "Epoch 8: Train Loss: 2.1956, Val Loss: 2.4880\n"
     ]
    },
    {
     "name": "stderr",
     "output_type": "stream",
     "text": [
      "Progress:  10%|█         | 10/100 [00:02<00:19,  4.65it/s]"
     ]
    },
    {
     "name": "stdout",
     "output_type": "stream",
     "text": [
      "Epoch 9 completed in 0.22 seconds\n",
      "Epoch 9: Train Loss: 2.1939, Val Loss: 2.4881\n"
     ]
    },
    {
     "name": "stderr",
     "output_type": "stream",
     "text": [
      "Progress:  11%|█         | 11/100 [00:02<00:19,  4.68it/s]"
     ]
    },
    {
     "name": "stdout",
     "output_type": "stream",
     "text": [
      "Epoch 10 completed in 0.21 seconds\n",
      "Epoch 10: Train Loss: 2.1888, Val Loss: 2.4882\n"
     ]
    },
    {
     "name": "stderr",
     "output_type": "stream",
     "text": [
      "Progress:  12%|█▏        | 12/100 [00:02<00:18,  4.66it/s]"
     ]
    },
    {
     "name": "stdout",
     "output_type": "stream",
     "text": [
      "Epoch 11 completed in 0.22 seconds\n",
      "Epoch 11: Train Loss: 2.1768, Val Loss: 2.4882\n"
     ]
    },
    {
     "name": "stderr",
     "output_type": "stream",
     "text": [
      "Progress:  13%|█▎        | 13/100 [00:02<00:18,  4.65it/s]"
     ]
    },
    {
     "name": "stdout",
     "output_type": "stream",
     "text": [
      "Epoch 00013: reducing learning rate of group 0 to 4.0000e-07.\n",
      "Epoch 12 completed in 0.22 seconds\n",
      "Epoch 12: Train Loss: 2.1665, Val Loss: 2.4882\n"
     ]
    },
    {
     "name": "stderr",
     "output_type": "stream",
     "text": [
      "Progress:  14%|█▍        | 14/100 [00:03<00:18,  4.64it/s]"
     ]
    },
    {
     "name": "stdout",
     "output_type": "stream",
     "text": [
      "Epoch 13 completed in 0.22 seconds\n",
      "Epoch 13: Train Loss: 2.1437, Val Loss: 2.4882\n"
     ]
    },
    {
     "name": "stderr",
     "output_type": "stream",
     "text": [
      "Progress:  15%|█▌        | 15/100 [00:03<00:18,  4.63it/s]"
     ]
    },
    {
     "name": "stdout",
     "output_type": "stream",
     "text": [
      "Epoch 14 completed in 0.22 seconds\n",
      "Epoch 14: Train Loss: 2.1559, Val Loss: 2.4879\n"
     ]
    },
    {
     "name": "stderr",
     "output_type": "stream",
     "text": [
      "Progress:  16%|█▌        | 16/100 [00:03<00:18,  4.60it/s]"
     ]
    },
    {
     "name": "stdout",
     "output_type": "stream",
     "text": [
      "Epoch 15 completed in 0.22 seconds\n",
      "Epoch 15: Train Loss: 2.1507, Val Loss: 2.4873\n"
     ]
    },
    {
     "name": "stderr",
     "output_type": "stream",
     "text": [
      "Progress:  17%|█▋        | 17/100 [00:03<00:17,  4.62it/s]"
     ]
    },
    {
     "name": "stdout",
     "output_type": "stream",
     "text": [
      "Epoch 16 completed in 0.21 seconds\n",
      "Epoch 16: Train Loss: 2.1537, Val Loss: 2.4863\n"
     ]
    },
    {
     "name": "stderr",
     "output_type": "stream",
     "text": [
      "Progress:  18%|█▊        | 18/100 [00:03<00:17,  4.60it/s]"
     ]
    },
    {
     "name": "stdout",
     "output_type": "stream",
     "text": [
      "Epoch 17 completed in 0.22 seconds\n",
      "Epoch 17: Train Loss: 2.1528, Val Loss: 2.4849\n"
     ]
    },
    {
     "name": "stderr",
     "output_type": "stream",
     "text": [
      "Progress:  19%|█▉        | 19/100 [00:04<00:17,  4.60it/s]"
     ]
    },
    {
     "name": "stdout",
     "output_type": "stream",
     "text": [
      "Epoch 18 completed in 0.22 seconds\n",
      "Epoch 18: Train Loss: 2.1480, Val Loss: 2.4831\n"
     ]
    },
    {
     "name": "stderr",
     "output_type": "stream",
     "text": [
      "Progress:  20%|██        | 20/100 [00:04<00:17,  4.61it/s]"
     ]
    },
    {
     "name": "stdout",
     "output_type": "stream",
     "text": [
      "Epoch 19 completed in 0.22 seconds\n",
      "Epoch 19: Train Loss: 2.1459, Val Loss: 2.4808\n"
     ]
    },
    {
     "name": "stderr",
     "output_type": "stream",
     "text": [
      "Progress:  21%|██        | 21/100 [00:04<00:17,  4.64it/s]"
     ]
    },
    {
     "name": "stdout",
     "output_type": "stream",
     "text": [
      "Epoch 20 completed in 0.21 seconds\n",
      "Epoch 20: Train Loss: 2.1555, Val Loss: 2.4781\n"
     ]
    },
    {
     "name": "stderr",
     "output_type": "stream",
     "text": [
      "Progress:  22%|██▏       | 22/100 [00:04<00:16,  4.65it/s]"
     ]
    },
    {
     "name": "stdout",
     "output_type": "stream",
     "text": [
      "Epoch 21 completed in 0.21 seconds\n",
      "Epoch 21: Train Loss: 2.1549, Val Loss: 2.4754\n"
     ]
    },
    {
     "name": "stderr",
     "output_type": "stream",
     "text": [
      "Progress:  23%|██▎       | 23/100 [00:05<00:16,  4.66it/s]"
     ]
    },
    {
     "name": "stdout",
     "output_type": "stream",
     "text": [
      "Epoch 22 completed in 0.21 seconds\n",
      "Epoch 22: Train Loss: 2.1461, Val Loss: 2.4720\n"
     ]
    },
    {
     "name": "stderr",
     "output_type": "stream",
     "text": [
      "Progress:  24%|██▍       | 24/100 [00:05<00:16,  4.64it/s]"
     ]
    },
    {
     "name": "stdout",
     "output_type": "stream",
     "text": [
      "Epoch 23 completed in 0.22 seconds\n",
      "Epoch 23: Train Loss: 2.1393, Val Loss: 2.4678\n"
     ]
    },
    {
     "name": "stderr",
     "output_type": "stream",
     "text": [
      "Progress:  25%|██▌       | 25/100 [00:05<00:16,  4.65it/s]"
     ]
    },
    {
     "name": "stdout",
     "output_type": "stream",
     "text": [
      "Epoch 24 completed in 0.21 seconds\n",
      "Epoch 24: Train Loss: 2.1520, Val Loss: 2.4621\n"
     ]
    },
    {
     "name": "stderr",
     "output_type": "stream",
     "text": [
      "Progress:  26%|██▌       | 26/100 [00:05<00:16,  4.56it/s]"
     ]
    },
    {
     "name": "stdout",
     "output_type": "stream",
     "text": [
      "Epoch 25 completed in 0.23 seconds\n",
      "Epoch 25: Train Loss: 2.1485, Val Loss: 2.4552\n"
     ]
    },
    {
     "name": "stderr",
     "output_type": "stream",
     "text": [
      "Progress:  27%|██▋       | 27/100 [00:05<00:15,  4.62it/s]"
     ]
    },
    {
     "name": "stdout",
     "output_type": "stream",
     "text": [
      "Epoch 26 completed in 0.21 seconds\n",
      "Epoch 26: Train Loss: 2.1419, Val Loss: 2.4471\n"
     ]
    },
    {
     "name": "stderr",
     "output_type": "stream",
     "text": [
      "Progress:  28%|██▊       | 28/100 [00:06<00:15,  4.63it/s]"
     ]
    },
    {
     "name": "stdout",
     "output_type": "stream",
     "text": [
      "Epoch 27 completed in 0.21 seconds\n",
      "Epoch 27: Train Loss: 2.1445, Val Loss: 2.4365\n"
     ]
    },
    {
     "name": "stderr",
     "output_type": "stream",
     "text": [
      "Progress:  29%|██▉       | 29/100 [00:06<00:15,  4.60it/s]"
     ]
    },
    {
     "name": "stdout",
     "output_type": "stream",
     "text": [
      "Epoch 28 completed in 0.22 seconds\n",
      "Epoch 28: Train Loss: 2.1339, Val Loss: 2.4236\n"
     ]
    },
    {
     "name": "stderr",
     "output_type": "stream",
     "text": [
      "Progress:  30%|███       | 30/100 [00:06<00:15,  4.60it/s]"
     ]
    },
    {
     "name": "stdout",
     "output_type": "stream",
     "text": [
      "Epoch 29 completed in 0.22 seconds\n",
      "Epoch 29: Train Loss: 2.1333, Val Loss: 2.4077\n"
     ]
    },
    {
     "name": "stderr",
     "output_type": "stream",
     "text": [
      "Progress:  31%|███       | 31/100 [00:06<00:14,  4.61it/s]"
     ]
    },
    {
     "name": "stdout",
     "output_type": "stream",
     "text": [
      "Epoch 30 completed in 0.22 seconds\n",
      "Epoch 30: Train Loss: 2.1194, Val Loss: 2.3898\n"
     ]
    },
    {
     "name": "stderr",
     "output_type": "stream",
     "text": [
      "Progress:  32%|███▏      | 32/100 [00:06<00:14,  4.60it/s]"
     ]
    },
    {
     "name": "stdout",
     "output_type": "stream",
     "text": [
      "Epoch 31 completed in 0.22 seconds\n",
      "Epoch 31: Train Loss: 2.1381, Val Loss: 2.3695\n"
     ]
    },
    {
     "name": "stderr",
     "output_type": "stream",
     "text": [
      "Progress:  33%|███▎      | 33/100 [00:07<00:14,  4.62it/s]"
     ]
    },
    {
     "name": "stdout",
     "output_type": "stream",
     "text": [
      "Epoch 32 completed in 0.21 seconds\n",
      "Epoch 32: Train Loss: 2.1249, Val Loss: 2.3472\n"
     ]
    },
    {
     "name": "stderr",
     "output_type": "stream",
     "text": [
      "Progress:  34%|███▍      | 34/100 [00:07<00:14,  4.63it/s]"
     ]
    },
    {
     "name": "stdout",
     "output_type": "stream",
     "text": [
      "Epoch 33 completed in 0.21 seconds\n",
      "Epoch 33: Train Loss: 2.1353, Val Loss: 2.3238\n"
     ]
    },
    {
     "name": "stderr",
     "output_type": "stream",
     "text": [
      "Progress:  35%|███▌      | 35/100 [00:07<00:14,  4.63it/s]"
     ]
    },
    {
     "name": "stdout",
     "output_type": "stream",
     "text": [
      "Epoch 34 completed in 0.22 seconds\n",
      "Epoch 34: Train Loss: 2.1272, Val Loss: 2.3013\n"
     ]
    },
    {
     "name": "stderr",
     "output_type": "stream",
     "text": [
      "Progress:  36%|███▌      | 36/100 [00:07<00:13,  4.62it/s]"
     ]
    },
    {
     "name": "stdout",
     "output_type": "stream",
     "text": [
      "Epoch 35 completed in 0.22 seconds\n",
      "Epoch 35: Train Loss: 2.1284, Val Loss: 2.2794\n"
     ]
    },
    {
     "name": "stderr",
     "output_type": "stream",
     "text": [
      "Progress:  37%|███▋      | 37/100 [00:08<00:13,  4.64it/s]"
     ]
    },
    {
     "name": "stdout",
     "output_type": "stream",
     "text": [
      "Epoch 36 completed in 0.21 seconds\n",
      "Epoch 36: Train Loss: 2.1170, Val Loss: 2.2597\n"
     ]
    },
    {
     "name": "stderr",
     "output_type": "stream",
     "text": [
      "Progress:  38%|███▊      | 38/100 [00:08<00:13,  4.64it/s]"
     ]
    },
    {
     "name": "stdout",
     "output_type": "stream",
     "text": [
      "Epoch 37 completed in 0.21 seconds\n",
      "Epoch 37: Train Loss: 2.1208, Val Loss: 2.2421\n"
     ]
    },
    {
     "name": "stderr",
     "output_type": "stream",
     "text": [
      "Progress:  39%|███▉      | 39/100 [00:08<00:13,  4.65it/s]"
     ]
    },
    {
     "name": "stdout",
     "output_type": "stream",
     "text": [
      "Epoch 38 completed in 0.21 seconds\n",
      "Epoch 38: Train Loss: 2.1078, Val Loss: 2.2262\n"
     ]
    },
    {
     "name": "stderr",
     "output_type": "stream",
     "text": [
      "Progress:  40%|████      | 40/100 [00:08<00:12,  4.65it/s]"
     ]
    },
    {
     "name": "stdout",
     "output_type": "stream",
     "text": [
      "Epoch 39 completed in 0.21 seconds\n",
      "Epoch 39: Train Loss: 2.1278, Val Loss: 2.2120\n"
     ]
    },
    {
     "name": "stderr",
     "output_type": "stream",
     "text": [
      "Progress:  41%|████      | 41/100 [00:08<00:12,  4.61it/s]"
     ]
    },
    {
     "name": "stdout",
     "output_type": "stream",
     "text": [
      "Epoch 40 completed in 0.22 seconds\n",
      "Epoch 40: Train Loss: 2.1154, Val Loss: 2.1995\n"
     ]
    },
    {
     "name": "stderr",
     "output_type": "stream",
     "text": [
      "Progress:  42%|████▏     | 42/100 [00:09<00:12,  4.57it/s]"
     ]
    },
    {
     "name": "stdout",
     "output_type": "stream",
     "text": [
      "Epoch 41 completed in 0.22 seconds\n",
      "Epoch 41: Train Loss: 2.1076, Val Loss: 2.1886\n"
     ]
    },
    {
     "name": "stderr",
     "output_type": "stream",
     "text": [
      "Progress:  43%|████▎     | 43/100 [00:09<00:12,  4.63it/s]"
     ]
    },
    {
     "name": "stdout",
     "output_type": "stream",
     "text": [
      "Epoch 42 completed in 0.21 seconds\n",
      "Epoch 42: Train Loss: 2.1149, Val Loss: 2.1796\n"
     ]
    },
    {
     "name": "stderr",
     "output_type": "stream",
     "text": [
      "Progress:  44%|████▍     | 44/100 [00:09<00:12,  4.64it/s]"
     ]
    },
    {
     "name": "stdout",
     "output_type": "stream",
     "text": [
      "Epoch 43 completed in 0.21 seconds\n",
      "Epoch 43: Train Loss: 2.1281, Val Loss: 2.1715\n"
     ]
    },
    {
     "name": "stderr",
     "output_type": "stream",
     "text": [
      "Progress:  46%|████▌     | 46/100 [00:10<00:11,  4.63it/s]"
     ]
    },
    {
     "name": "stdout",
     "output_type": "stream",
     "text": [
      "Epoch 44 completed in 0.22 seconds\n",
      "Epoch 44: Train Loss: 2.0988, Val Loss: 2.1654\n",
      "Epoch 45 completed in 0.21 seconds\n",
      "Epoch 45: Train Loss: 2.1066, Val Loss: 2.1597\n"
     ]
    },
    {
     "name": "stderr",
     "output_type": "stream",
     "text": [
      "Progress:  47%|████▋     | 47/100 [00:10<00:11,  4.65it/s]"
     ]
    },
    {
     "name": "stdout",
     "output_type": "stream",
     "text": [
      "Epoch 46 completed in 0.21 seconds\n",
      "Epoch 46: Train Loss: 2.0930, Val Loss: 2.1563\n"
     ]
    },
    {
     "name": "stderr",
     "output_type": "stream",
     "text": [
      "Progress:  48%|████▊     | 48/100 [00:10<00:11,  4.63it/s]"
     ]
    },
    {
     "name": "stdout",
     "output_type": "stream",
     "text": [
      "Epoch 47 completed in 0.22 seconds\n",
      "Epoch 47: Train Loss: 2.1047, Val Loss: 2.1523\n"
     ]
    },
    {
     "name": "stderr",
     "output_type": "stream",
     "text": [
      "Progress:  49%|████▉     | 49/100 [00:10<00:11,  4.62it/s]"
     ]
    },
    {
     "name": "stdout",
     "output_type": "stream",
     "text": [
      "Epoch 48 completed in 0.22 seconds\n",
      "Epoch 48: Train Loss: 2.0990, Val Loss: 2.1486\n"
     ]
    },
    {
     "name": "stderr",
     "output_type": "stream",
     "text": [
      "Progress:  50%|█████     | 50/100 [00:10<00:10,  4.62it/s]"
     ]
    },
    {
     "name": "stdout",
     "output_type": "stream",
     "text": [
      "Epoch 49 completed in 0.22 seconds\n",
      "Epoch 49: Train Loss: 2.1043, Val Loss: 2.1454\n"
     ]
    },
    {
     "name": "stderr",
     "output_type": "stream",
     "text": [
      "Progress:  51%|█████     | 51/100 [00:11<00:10,  4.64it/s]"
     ]
    },
    {
     "name": "stdout",
     "output_type": "stream",
     "text": [
      "Epoch 50 completed in 0.21 seconds\n",
      "Epoch 50: Train Loss: 2.0965, Val Loss: 2.1426\n"
     ]
    },
    {
     "name": "stderr",
     "output_type": "stream",
     "text": [
      "Progress:  52%|█████▏    | 52/100 [00:11<00:10,  4.64it/s]"
     ]
    },
    {
     "name": "stdout",
     "output_type": "stream",
     "text": [
      "Epoch 51 completed in 0.21 seconds\n",
      "Epoch 51: Train Loss: 2.1228, Val Loss: 2.1392\n"
     ]
    },
    {
     "name": "stderr",
     "output_type": "stream",
     "text": [
      "Progress:  53%|█████▎    | 53/100 [00:11<00:10,  4.64it/s]"
     ]
    },
    {
     "name": "stdout",
     "output_type": "stream",
     "text": [
      "Epoch 52 completed in 0.22 seconds\n",
      "Epoch 52: Train Loss: 2.1145, Val Loss: 2.1364\n"
     ]
    },
    {
     "name": "stderr",
     "output_type": "stream",
     "text": [
      "Progress:  54%|█████▍    | 54/100 [00:11<00:09,  4.64it/s]"
     ]
    },
    {
     "name": "stdout",
     "output_type": "stream",
     "text": [
      "Epoch 53 completed in 0.21 seconds\n",
      "Epoch 53: Train Loss: 2.0874, Val Loss: 2.1348\n"
     ]
    },
    {
     "name": "stderr",
     "output_type": "stream",
     "text": [
      "Progress:  55%|█████▌    | 55/100 [00:11<00:09,  4.65it/s]"
     ]
    },
    {
     "name": "stdout",
     "output_type": "stream",
     "text": [
      "Epoch 54 completed in 0.21 seconds\n",
      "Epoch 54: Train Loss: 2.0736, Val Loss: 2.1331\n"
     ]
    },
    {
     "name": "stderr",
     "output_type": "stream",
     "text": [
      "Progress:  56%|█████▌    | 56/100 [00:12<00:09,  4.65it/s]"
     ]
    },
    {
     "name": "stdout",
     "output_type": "stream",
     "text": [
      "Epoch 55 completed in 0.21 seconds\n",
      "Epoch 55: Train Loss: 2.1020, Val Loss: 2.1319\n"
     ]
    },
    {
     "name": "stderr",
     "output_type": "stream",
     "text": [
      "Progress:  57%|█████▋    | 57/100 [00:12<00:09,  4.66it/s]"
     ]
    },
    {
     "name": "stdout",
     "output_type": "stream",
     "text": [
      "Epoch 56 completed in 0.21 seconds\n",
      "Epoch 56: Train Loss: 2.1096, Val Loss: 2.1294\n"
     ]
    },
    {
     "name": "stderr",
     "output_type": "stream",
     "text": [
      "Progress:  58%|█████▊    | 58/100 [00:12<00:09,  4.66it/s]"
     ]
    },
    {
     "name": "stdout",
     "output_type": "stream",
     "text": [
      "Epoch 57 completed in 0.21 seconds\n",
      "Epoch 57: Train Loss: 2.0965, Val Loss: 2.1278\n"
     ]
    },
    {
     "name": "stderr",
     "output_type": "stream",
     "text": [
      "Progress:  59%|█████▉    | 59/100 [00:12<00:08,  4.67it/s]"
     ]
    },
    {
     "name": "stdout",
     "output_type": "stream",
     "text": [
      "Epoch 58 completed in 0.21 seconds\n",
      "Epoch 58: Train Loss: 2.0793, Val Loss: 2.1269\n"
     ]
    },
    {
     "name": "stderr",
     "output_type": "stream",
     "text": [
      "Progress:  60%|██████    | 60/100 [00:13<00:08,  4.61it/s]"
     ]
    },
    {
     "name": "stdout",
     "output_type": "stream",
     "text": [
      "Epoch 59 completed in 0.22 seconds\n",
      "Epoch 59: Train Loss: 2.0776, Val Loss: 2.1255\n"
     ]
    },
    {
     "name": "stderr",
     "output_type": "stream",
     "text": [
      "Progress:  62%|██████▏   | 62/100 [00:13<00:08,  4.64it/s]"
     ]
    },
    {
     "name": "stdout",
     "output_type": "stream",
     "text": [
      "Epoch 60 completed in 0.22 seconds\n",
      "Epoch 60: Train Loss: 2.0870, Val Loss: 2.1245\n",
      "Epoch 61 completed in 0.21 seconds\n",
      "Epoch 61: Train Loss: 2.0887, Val Loss: 2.1226\n"
     ]
    },
    {
     "name": "stderr",
     "output_type": "stream",
     "text": [
      "Progress:  63%|██████▎   | 63/100 [00:13<00:08,  4.60it/s]"
     ]
    },
    {
     "name": "stdout",
     "output_type": "stream",
     "text": [
      "Epoch 62 completed in 0.22 seconds\n",
      "Epoch 62: Train Loss: 2.0855, Val Loss: 2.1212\n"
     ]
    },
    {
     "name": "stderr",
     "output_type": "stream",
     "text": [
      "Progress:  64%|██████▍   | 64/100 [00:13<00:07,  4.60it/s]"
     ]
    },
    {
     "name": "stdout",
     "output_type": "stream",
     "text": [
      "Epoch 63 completed in 0.22 seconds\n",
      "Epoch 63: Train Loss: 2.0792, Val Loss: 2.1196\n"
     ]
    },
    {
     "name": "stderr",
     "output_type": "stream",
     "text": [
      "Progress:  65%|██████▌   | 65/100 [00:14<00:07,  4.61it/s]"
     ]
    },
    {
     "name": "stdout",
     "output_type": "stream",
     "text": [
      "Epoch 64 completed in 0.21 seconds\n",
      "Epoch 64: Train Loss: 2.0821, Val Loss: 2.1178\n"
     ]
    },
    {
     "name": "stderr",
     "output_type": "stream",
     "text": [
      "Progress:  66%|██████▌   | 66/100 [00:14<00:07,  4.62it/s]"
     ]
    },
    {
     "name": "stdout",
     "output_type": "stream",
     "text": [
      "Epoch 65 completed in 0.21 seconds\n",
      "Epoch 65: Train Loss: 2.0760, Val Loss: 2.1162\n"
     ]
    },
    {
     "name": "stderr",
     "output_type": "stream",
     "text": [
      "Progress:  67%|██████▋   | 67/100 [00:14<00:07,  4.64it/s]"
     ]
    },
    {
     "name": "stdout",
     "output_type": "stream",
     "text": [
      "Epoch 66 completed in 0.21 seconds\n",
      "Epoch 66: Train Loss: 2.0764, Val Loss: 2.1152\n"
     ]
    },
    {
     "name": "stderr",
     "output_type": "stream",
     "text": [
      "Progress:  68%|██████▊   | 68/100 [00:14<00:06,  4.65it/s]"
     ]
    },
    {
     "name": "stdout",
     "output_type": "stream",
     "text": [
      "Epoch 67 completed in 0.21 seconds\n",
      "Epoch 67: Train Loss: 2.0776, Val Loss: 2.1144\n"
     ]
    },
    {
     "name": "stderr",
     "output_type": "stream",
     "text": [
      "Progress:  69%|██████▉   | 69/100 [00:14<00:06,  4.65it/s]"
     ]
    },
    {
     "name": "stdout",
     "output_type": "stream",
     "text": [
      "Epoch 68 completed in 0.22 seconds\n",
      "Epoch 68: Train Loss: 2.0719, Val Loss: 2.1127\n"
     ]
    },
    {
     "name": "stderr",
     "output_type": "stream",
     "text": [
      "Progress:  70%|███████   | 70/100 [00:15<00:06,  4.63it/s]"
     ]
    },
    {
     "name": "stdout",
     "output_type": "stream",
     "text": [
      "Epoch 69 completed in 0.22 seconds\n",
      "Epoch 69: Train Loss: 2.0727, Val Loss: 2.1106\n"
     ]
    },
    {
     "name": "stderr",
     "output_type": "stream",
     "text": [
      "Progress:  71%|███████   | 71/100 [00:15<00:06,  4.62it/s]"
     ]
    },
    {
     "name": "stdout",
     "output_type": "stream",
     "text": [
      "Epoch 70 completed in 0.22 seconds\n",
      "Epoch 70: Train Loss: 2.0651, Val Loss: 2.1097\n"
     ]
    },
    {
     "name": "stderr",
     "output_type": "stream",
     "text": [
      "Progress:  72%|███████▏  | 72/100 [00:15<00:06,  4.62it/s]"
     ]
    },
    {
     "name": "stdout",
     "output_type": "stream",
     "text": [
      "Epoch 71 completed in 0.22 seconds\n",
      "Epoch 71: Train Loss: 2.0699, Val Loss: 2.1084\n"
     ]
    },
    {
     "name": "stderr",
     "output_type": "stream",
     "text": [
      "Progress:  73%|███████▎  | 73/100 [00:15<00:05,  4.61it/s]"
     ]
    },
    {
     "name": "stdout",
     "output_type": "stream",
     "text": [
      "Epoch 72 completed in 0.22 seconds\n",
      "Epoch 72: Train Loss: 2.0695, Val Loss: 2.1066\n"
     ]
    },
    {
     "name": "stderr",
     "output_type": "stream",
     "text": [
      "Progress:  74%|███████▍  | 74/100 [00:16<00:05,  4.62it/s]"
     ]
    },
    {
     "name": "stdout",
     "output_type": "stream",
     "text": [
      "Epoch 73 completed in 0.21 seconds\n",
      "Epoch 73: Train Loss: 2.0547, Val Loss: 2.1050\n"
     ]
    },
    {
     "name": "stderr",
     "output_type": "stream",
     "text": [
      "Progress:  75%|███████▌  | 75/100 [00:16<00:05,  4.63it/s]"
     ]
    },
    {
     "name": "stdout",
     "output_type": "stream",
     "text": [
      "Epoch 74 completed in 0.22 seconds\n",
      "Epoch 74: Train Loss: 2.0575, Val Loss: 2.1037\n"
     ]
    },
    {
     "name": "stderr",
     "output_type": "stream",
     "text": [
      "Progress:  76%|███████▌  | 76/100 [00:16<00:05,  4.64it/s]"
     ]
    },
    {
     "name": "stdout",
     "output_type": "stream",
     "text": [
      "Epoch 75 completed in 0.21 seconds\n",
      "Epoch 75: Train Loss: 2.0714, Val Loss: 2.1019\n"
     ]
    },
    {
     "name": "stderr",
     "output_type": "stream",
     "text": [
      "Progress:  77%|███████▋  | 77/100 [00:16<00:04,  4.66it/s]"
     ]
    },
    {
     "name": "stdout",
     "output_type": "stream",
     "text": [
      "Epoch 76 completed in 0.21 seconds\n",
      "Epoch 76: Train Loss: 2.0612, Val Loss: 2.1008\n"
     ]
    },
    {
     "name": "stderr",
     "output_type": "stream",
     "text": [
      "Progress:  78%|███████▊  | 78/100 [00:16<00:04,  4.66it/s]"
     ]
    },
    {
     "name": "stdout",
     "output_type": "stream",
     "text": [
      "Epoch 77 completed in 0.21 seconds\n",
      "Epoch 77: Train Loss: 2.0713, Val Loss: 2.0995\n"
     ]
    },
    {
     "name": "stderr",
     "output_type": "stream",
     "text": [
      "Progress:  79%|███████▉  | 79/100 [00:17<00:04,  4.65it/s]"
     ]
    },
    {
     "name": "stdout",
     "output_type": "stream",
     "text": [
      "Epoch 78 completed in 0.22 seconds\n",
      "Epoch 78: Train Loss: 2.0623, Val Loss: 2.0983\n"
     ]
    },
    {
     "name": "stderr",
     "output_type": "stream",
     "text": [
      "Progress:  80%|████████  | 80/100 [00:17<00:04,  4.59it/s]"
     ]
    },
    {
     "name": "stdout",
     "output_type": "stream",
     "text": [
      "Epoch 79 completed in 0.22 seconds\n",
      "Epoch 79: Train Loss: 2.0585, Val Loss: 2.0974\n"
     ]
    },
    {
     "name": "stderr",
     "output_type": "stream",
     "text": [
      "Progress:  81%|████████  | 81/100 [00:17<00:04,  4.59it/s]"
     ]
    },
    {
     "name": "stdout",
     "output_type": "stream",
     "text": [
      "Epoch 80 completed in 0.22 seconds\n",
      "Epoch 80: Train Loss: 2.0460, Val Loss: 2.0983\n"
     ]
    },
    {
     "name": "stderr",
     "output_type": "stream",
     "text": [
      "Progress:  82%|████████▏ | 82/100 [00:17<00:03,  4.60it/s]"
     ]
    },
    {
     "name": "stdout",
     "output_type": "stream",
     "text": [
      "Epoch 81 completed in 0.22 seconds\n",
      "Epoch 81: Train Loss: 2.0531, Val Loss: 2.0972\n"
     ]
    },
    {
     "name": "stderr",
     "output_type": "stream",
     "text": [
      "Progress:  83%|████████▎ | 83/100 [00:17<00:03,  4.60it/s]"
     ]
    },
    {
     "name": "stdout",
     "output_type": "stream",
     "text": [
      "Epoch 82 completed in 0.22 seconds\n",
      "Epoch 82: Train Loss: 2.0480, Val Loss: 2.0963\n"
     ]
    },
    {
     "name": "stderr",
     "output_type": "stream",
     "text": [
      "Progress:  84%|████████▍ | 84/100 [00:18<00:03,  4.62it/s]"
     ]
    },
    {
     "name": "stdout",
     "output_type": "stream",
     "text": [
      "Epoch 83 completed in 0.21 seconds\n",
      "Epoch 83: Train Loss: 2.0314, Val Loss: 2.0955\n"
     ]
    },
    {
     "name": "stderr",
     "output_type": "stream",
     "text": [
      "Progress:  85%|████████▌ | 85/100 [00:18<00:03,  4.61it/s]"
     ]
    },
    {
     "name": "stdout",
     "output_type": "stream",
     "text": [
      "Epoch 84 completed in 0.22 seconds\n",
      "Epoch 84: Train Loss: 2.0669, Val Loss: 2.0934\n"
     ]
    },
    {
     "name": "stderr",
     "output_type": "stream",
     "text": [
      "Progress:  86%|████████▌ | 86/100 [00:18<00:03,  4.57it/s]"
     ]
    },
    {
     "name": "stdout",
     "output_type": "stream",
     "text": [
      "Epoch 85 completed in 0.22 seconds\n",
      "Epoch 85: Train Loss: 2.0446, Val Loss: 2.0918\n"
     ]
    },
    {
     "name": "stderr",
     "output_type": "stream",
     "text": [
      "Progress:  87%|████████▋ | 87/100 [00:18<00:02,  4.56it/s]"
     ]
    },
    {
     "name": "stdout",
     "output_type": "stream",
     "text": [
      "Epoch 86 completed in 0.22 seconds\n",
      "Epoch 86: Train Loss: 2.0613, Val Loss: 2.0898\n"
     ]
    },
    {
     "name": "stderr",
     "output_type": "stream",
     "text": [
      "Progress:  88%|████████▊ | 88/100 [00:19<00:02,  4.55it/s]"
     ]
    },
    {
     "name": "stdout",
     "output_type": "stream",
     "text": [
      "Epoch 87 completed in 0.22 seconds\n",
      "Epoch 87: Train Loss: 2.0476, Val Loss: 2.0888\n"
     ]
    },
    {
     "name": "stderr",
     "output_type": "stream",
     "text": [
      "Progress:  89%|████████▉ | 89/100 [00:19<00:02,  4.58it/s]"
     ]
    },
    {
     "name": "stdout",
     "output_type": "stream",
     "text": [
      "Epoch 88 completed in 0.21 seconds\n",
      "Epoch 88: Train Loss: 2.0499, Val Loss: 2.0870\n"
     ]
    },
    {
     "name": "stderr",
     "output_type": "stream",
     "text": [
      "Progress:  90%|█████████ | 90/100 [00:19<00:02,  4.58it/s]"
     ]
    },
    {
     "name": "stdout",
     "output_type": "stream",
     "text": [
      "Epoch 89 completed in 0.22 seconds\n",
      "Epoch 89: Train Loss: 2.0372, Val Loss: 2.0858\n"
     ]
    },
    {
     "name": "stderr",
     "output_type": "stream",
     "text": [
      "Progress:  91%|█████████ | 91/100 [00:19<00:01,  4.61it/s]"
     ]
    },
    {
     "name": "stdout",
     "output_type": "stream",
     "text": [
      "Epoch 90 completed in 0.21 seconds\n",
      "Epoch 90: Train Loss: 2.0442, Val Loss: 2.0841\n"
     ]
    },
    {
     "name": "stderr",
     "output_type": "stream",
     "text": [
      "Progress:  92%|█████████▏| 92/100 [00:19<00:01,  4.63it/s]"
     ]
    },
    {
     "name": "stdout",
     "output_type": "stream",
     "text": [
      "Epoch 91 completed in 0.21 seconds\n",
      "Epoch 91: Train Loss: 2.0266, Val Loss: 2.0834\n"
     ]
    },
    {
     "name": "stderr",
     "output_type": "stream",
     "text": [
      "Progress:  93%|█████████▎| 93/100 [00:20<00:01,  4.64it/s]"
     ]
    },
    {
     "name": "stdout",
     "output_type": "stream",
     "text": [
      "Epoch 92 completed in 0.21 seconds\n",
      "Epoch 92: Train Loss: 2.0322, Val Loss: 2.0822\n"
     ]
    },
    {
     "name": "stderr",
     "output_type": "stream",
     "text": [
      "Progress:  94%|█████████▍| 94/100 [00:20<00:01,  4.62it/s]"
     ]
    },
    {
     "name": "stdout",
     "output_type": "stream",
     "text": [
      "Epoch 93 completed in 0.22 seconds\n",
      "Epoch 93: Train Loss: 2.0373, Val Loss: 2.0801\n"
     ]
    },
    {
     "name": "stderr",
     "output_type": "stream",
     "text": [
      "Progress:  95%|█████████▌| 95/100 [00:20<00:01,  4.60it/s]"
     ]
    },
    {
     "name": "stdout",
     "output_type": "stream",
     "text": [
      "Epoch 94 completed in 0.22 seconds\n",
      "Epoch 94: Train Loss: 2.0387, Val Loss: 2.0790\n"
     ]
    },
    {
     "name": "stderr",
     "output_type": "stream",
     "text": [
      "Progress:  96%|█████████▌| 96/100 [00:20<00:00,  4.61it/s]"
     ]
    },
    {
     "name": "stdout",
     "output_type": "stream",
     "text": [
      "Epoch 95 completed in 0.22 seconds\n",
      "Epoch 95: Train Loss: 2.0393, Val Loss: 2.0772\n"
     ]
    },
    {
     "name": "stderr",
     "output_type": "stream",
     "text": [
      "Progress:  97%|█████████▋| 97/100 [00:21<00:00,  4.62it/s]"
     ]
    },
    {
     "name": "stdout",
     "output_type": "stream",
     "text": [
      "Epoch 96 completed in 0.22 seconds\n",
      "Epoch 96: Train Loss: 2.0241, Val Loss: 2.0760\n"
     ]
    },
    {
     "name": "stderr",
     "output_type": "stream",
     "text": [
      "Progress:  98%|█████████▊| 98/100 [00:21<00:00,  4.63it/s]"
     ]
    },
    {
     "name": "stdout",
     "output_type": "stream",
     "text": [
      "Epoch 97 completed in 0.21 seconds\n",
      "Epoch 97: Train Loss: 2.0388, Val Loss: 2.0739\n",
      "Epoch 98 completed in 0.21 seconds\n",
      "Epoch 98: Train Loss: 2.0273, Val Loss: 2.0726\n"
     ]
    },
    {
     "name": "stderr",
     "output_type": "stream",
     "text": [
      "Progress: 100%|██████████| 100/100 [00:21<00:00,  4.61it/s]"
     ]
    },
    {
     "name": "stdout",
     "output_type": "stream",
     "text": [
      "Epoch 99 completed in 0.21 seconds\n",
      "Epoch 99: Train Loss: 2.0195, Val Loss: 2.0711\n",
      "Total training time: 21.68 seconds\n"
     ]
    },
    {
     "name": "stderr",
     "output_type": "stream",
     "text": [
      "\n"
     ]
    }
   ],
   "source": [
    "\n",
    "# criterion = nn.MSELoss().to(device)\n",
    "criterion = nn.CrossEntropyLoss().to(device)\n",
    "optimizer = torch.optim.Adam(model.parameters(), lr=hyperparams['learning_rate'])\n",
    "scheduler = ReduceLROnPlateau(optimizer, mode='min', factor=hyperparams['factor'], patience=hyperparams['patience'],\n",
    "                              verbose=True)\n",
    "\n",
    "\n",
    "train_losses = []\n",
    "val_losses = []\n",
    "train_loader = DataLoader(train_dataset, batch_size=hyperparams['batch_size'], shuffle=True)\n",
    "val_loader = DataLoader(val_dataset, batch_size=hyperparams['batch_size'])\n",
    "test_loader = DataLoader(test_dataset, batch_size=hyperparams['batch_size'])\n",
    "start_time = time.time()\n",
    "for epoch in trange(num_epochs, desc=\"Progress\"):\n",
    "    epoch_start_time = time.time()\n",
    "    train_losses.append(loop_train(model, train_loader, criterion, optimizer))\n",
    "    val_losses.append(loop_test(model, val_loader, criterion))\n",
    "\n",
    "    scheduler.step(val_losses[-1])\n",
    "\n",
    "    if (epoch + 1) % print_every == 0:\n",
    "        epoch_time = time.time() - epoch_start_time\n",
    "        print(f'Epoch {epoch} completed in {epoch_time:.2f} seconds')\n",
    "        print(f'Epoch {epoch}: Train Loss: {train_losses[-1]:.4f}, Val Loss: {val_losses[-1]:.4f}')\n",
    "\n",
    "\n",
    "total_training_time = time.time() - start_time\n",
    "print(f'Total training time: {total_training_time:.2f} seconds')\n"
   ]
  },
  {
   "cell_type": "code",
   "execution_count": 119,
   "metadata": {
    "collapsed": false,
    "jupyter": {
     "outputs_hidden": false
    }
   },
   "outputs": [
    {
     "data": {
      "text/plain": "<Figure size 1000x500 with 1 Axes>",
      "image/png": "[encoded data removed]"
     },
     "metadata": {},
     "output_type": "display_data"
    }
   ],
   "source": [
    "plot_losses(train_losses, val_losses, decimals=3)"
   ]
  },
  {
   "cell_type": "code",
   "execution_count": 120,
   "metadata": {
    "collapsed": false,
    "jupyter": {
     "outputs_hidden": false
    }
   },
   "outputs": [
    {
     "data": {
      "text/plain": "<Figure size 1000x700 with 2 Axes>",
      "image/png": "[encoded data removed]"
     },
     "metadata": {},
     "output_type": "display_data"
    }
   ],
   "source": [
    "# predictions = model(X_torch.to(device))\n",
    "# predictions\n",
    "model.eval()  # Set the model to evaluation mode\n",
    "predicted_labels = []\n",
    "with torch.no_grad():  # Disable gradient calculation\n",
    "    for batch in test_loader:\n",
    "        inputs = batch[0].to(device)\n",
    "        outputs = model(inputs)\n",
    "        _, predicted = torch.max(outputs, 1)\n",
    "        predicted_labels.extend(predicted.cpu().numpy())\n",
    "# Convert the list to a numpy array\n",
    "predicted_labels = np.array(predicted_labels)\n",
    "# If you need the result as a tensor, convert back to tensor\n",
    "predicted_labels = torch.tensor(predicted_labels)\n",
    "\n",
    "# _, predicted_labels = torch.max(model(X_test.to(device)), 1)\n",
    "_, true_class_labels = torch.max(y_test, 1)\n",
    "predicted_labels_np = predicted_labels.cpu().numpy()\n",
    "true_labels_np = true_class_labels.cpu().numpy()\n",
    "cm = confusion_matrix(true_labels_np, predicted_labels_np)\n",
    "plt.figure(figsize=(10, 7))\n",
    "sns.heatmap(cm, annot=True, fmt=\"d\", xticklabels=knots, yticklabels=knots)\n",
    "plt.xlabel('Predicted Labels')\n",
    "plt.ylabel('True Labels')\n",
    "plt.title('Confusion Matrix')\n",
    "plt.show()"
   ]
  },
  {
   "cell_type": "code",
   "execution_count": 121,
   "metadata": {
    "collapsed": false,
    "jupyter": {
     "outputs_hidden": false
    }
   },
   "outputs": [
    {
     "name": "stdout",
     "output_type": "stream",
     "text": [
      "1.0\n"
     ]
    }
   ],
   "source": [
    "Accuracy = (np.sum(predicted_labels_np == true_labels_np)) / len(predicted_labels_np)\n",
    "print(Accuracy)"
   ]
  },
  {
   "cell_type": "code",
   "execution_count": 122,
   "metadata": {
    "collapsed": false,
    "jupyter": {
     "outputs_hidden": false
    }
   },
   "outputs": [
    {
     "name": "stdout",
     "output_type": "stream",
     "text": [
      "Number of correct predictions (test): 18/18\n",
      "Number of correct predictions (val): 18/18\n"
     ]
    }
   ],
   "source": [
    "def criterion_correct(predictions, labels):\n",
    "    _, predicted_labels = torch.max(predictions, 1)\n",
    "    _, true_class_labels = torch.max(labels, 1)\n",
    "    # print(predicted_labels)\n",
    "    # print(y_torch)\n",
    "    correct_predictions = torch.sum(predicted_labels == true_class_labels).item()\n",
    "    return correct_predictions\n",
    "\n",
    "\n",
    "correct_predictions, total = correct_number_test(model, test_loader, criterion_correct)\n",
    "print(f\"Number of correct predictions (test): {correct_predictions}/{total}\")\n",
    "\n",
    "correct_predictions, total = correct_number_test(model, val_loader, criterion_correct)\n",
    "print(f\"Number of correct predictions (val): {correct_predictions}/{total}\")"
   ]
  },
  {
   "cell_type": "markdown",
   "metadata": {
    "collapsed": false,
    "jupyter": {
     "outputs_hidden": false
    }
   },
   "source": [
    "Creating the least of the weights in 2D as a basis"
   ]
  },
  {
   "cell_type": "code",
   "execution_count": 123,
   "metadata": {
    "collapsed": false,
    "jupyter": {
     "outputs_hidden": false
    }
   },
   "outputs": [
    {
     "name": "stdout",
     "output_type": "stream",
     "text": [
      "-6 6 0 6\n",
      "standard_14\n"
     ]
    },
    {
     "ename": "FileNotFoundError",
     "evalue": "[Errno 2] No such file or directory: '..\\\\../HOPFS_L270_5e-07_test_1s\\\\standard_14.pkl'",
     "output_type": "error",
     "traceback": [
      "\u001B[1;31m---------------------------------------------------------------------------\u001B[0m",
      "\u001B[1;31mFileNotFoundError\u001B[0m                         Traceback (most recent call last)",
      "Cell \u001B[1;32mIn[123], line 26\u001B[0m\n\u001B[0;32m     23\u001B[0m \u001B[38;5;28;01mfor\u001B[39;00m knot \u001B[38;5;129;01min\u001B[39;00m knots:\n\u001B[0;32m     24\u001B[0m \u001B[38;5;66;03m# for knot in ['6foil']:\u001B[39;00m\n\u001B[0;32m     25\u001B[0m     \u001B[38;5;28mprint\u001B[39m(knot)\n\u001B[1;32m---> 26\u001B[0m     \u001B[38;5;28;01mwith\u001B[39;00m \u001B[38;5;28;43mopen\u001B[39;49m\u001B[43m(\u001B[49m\u001B[38;5;124;43mf\u001B[39;49m\u001B[38;5;124;43m'\u001B[39;49m\u001B[38;5;124;43m..\u001B[39;49m\u001B[38;5;130;43;01m\\\\\u001B[39;49;00m\u001B[38;5;132;43;01m{\u001B[39;49;00m\u001B[43mfolder\u001B[49m\u001B[38;5;132;43;01m}\u001B[39;49;00m\u001B[38;5;130;43;01m\\\\\u001B[39;49;00m\u001B[38;5;132;43;01m{\u001B[39;49;00m\u001B[43mknot\u001B[49m\u001B[38;5;132;43;01m}\u001B[39;49;00m\u001B[38;5;124;43m.pkl\u001B[39;49m\u001B[38;5;124;43m'\u001B[39;49m\u001B[43m,\u001B[49m\u001B[43m \u001B[49m\u001B[38;5;124;43m'\u001B[39;49m\u001B[38;5;124;43mrb\u001B[39;49m\u001B[38;5;124;43m'\u001B[39;49m\u001B[43m)\u001B[49m \u001B[38;5;28;01mas\u001B[39;00m file:\n\u001B[0;32m     28\u001B[0m         file \u001B[38;5;241m=\u001B[39m pickle\u001B[38;5;241m.\u001B[39mload(file)\n\u001B[0;32m     29\u001B[0m         ls \u001B[38;5;241m=\u001B[39m file[\u001B[38;5;124m'\u001B[39m\u001B[38;5;124ml\u001B[39m\u001B[38;5;124m'\u001B[39m]\n",
      "File \u001B[1;32m~\\AppData\\Local\\Programs\\Python\\Python311\\Lib\\site-packages\\IPython\\core\\interactiveshell.py:286\u001B[0m, in \u001B[0;36m_modified_open\u001B[1;34m(file, *args, **kwargs)\u001B[0m\n\u001B[0;32m    279\u001B[0m \u001B[38;5;28;01mif\u001B[39;00m file \u001B[38;5;129;01min\u001B[39;00m {\u001B[38;5;241m0\u001B[39m, \u001B[38;5;241m1\u001B[39m, \u001B[38;5;241m2\u001B[39m}:\n\u001B[0;32m    280\u001B[0m     \u001B[38;5;28;01mraise\u001B[39;00m \u001B[38;5;167;01mValueError\u001B[39;00m(\n\u001B[0;32m    281\u001B[0m         \u001B[38;5;124mf\u001B[39m\u001B[38;5;124m\"\u001B[39m\u001B[38;5;124mIPython won\u001B[39m\u001B[38;5;124m'\u001B[39m\u001B[38;5;124mt let you open fd=\u001B[39m\u001B[38;5;132;01m{\u001B[39;00mfile\u001B[38;5;132;01m}\u001B[39;00m\u001B[38;5;124m by default \u001B[39m\u001B[38;5;124m\"\u001B[39m\n\u001B[0;32m    282\u001B[0m         \u001B[38;5;124m\"\u001B[39m\u001B[38;5;124mas it is likely to crash IPython. If you know what you are doing, \u001B[39m\u001B[38;5;124m\"\u001B[39m\n\u001B[0;32m    283\u001B[0m         \u001B[38;5;124m\"\u001B[39m\u001B[38;5;124myou can use builtins\u001B[39m\u001B[38;5;124m'\u001B[39m\u001B[38;5;124m open.\u001B[39m\u001B[38;5;124m\"\u001B[39m\n\u001B[0;32m    284\u001B[0m     )\n\u001B[1;32m--> 286\u001B[0m \u001B[38;5;28;01mreturn\u001B[39;00m \u001B[43mio_open\u001B[49m\u001B[43m(\u001B[49m\u001B[43mfile\u001B[49m\u001B[43m,\u001B[49m\u001B[43m \u001B[49m\u001B[38;5;241;43m*\u001B[39;49m\u001B[43margs\u001B[49m\u001B[43m,\u001B[49m\u001B[43m \u001B[49m\u001B[38;5;241;43m*\u001B[39;49m\u001B[38;5;241;43m*\u001B[39;49m\u001B[43mkwargs\u001B[49m\u001B[43m)\u001B[49m\n",
      "\u001B[1;31mFileNotFoundError\u001B[0m: [Errno 2] No such file or directory: '..\\\\../HOPFS_L270_5e-07_test_1s\\\\standard_14.pkl'"
     ]
    }
   ],
   "source": [
    "def build_weights(weights, ls, ps, l1, l2, p1, p2):\n",
    "    weights_ar = np.zeros(((l2 - l1 + 1), (p2 - p1 + 1)), dtype=complex)\n",
    "    for l, p, weight in zip(ls, ps, weights):\n",
    "        weights_ar[l - l1, p - p1] = weight\n",
    "    return weights_ar\n",
    "\n",
    "# getting the dimensions\n",
    "filename = f'../DATA/{folder}/data_{knots[0]}_spectr.csv'\n",
    "with open(filename, 'r') as file:\n",
    "    reader = csv.reader(file)\n",
    "    row = next(iter(reader))\n",
    "    data_list = json.loads(row[0])\n",
    "    # Convert the list back to a NumPy array if needed\n",
    "    # print(data_list)\n",
    "    # data_array = np.array(data_list)\n",
    "    data_array = data_list\n",
    "\n",
    "    l1, l2 = data_array[0], data_array[1]\n",
    "    p1, p2 = data_array[2], data_array[3]\n",
    "print(l1, l2, p1, p2)\n",
    "\n",
    "values_basis = []\n",
    "for knot in knots:\n",
    "# for knot in ['6foil']:\n",
    "    print(knot)\n",
    "    with open(f'..\\\\{folder}\\\\{knot}.pkl', 'rb') as file:\n",
    "\n",
    "        file = pickle.load(file)\n",
    "        ls = file['l']\n",
    "        ps = file['p']\n",
    "        weights = file['weight']\n",
    "        values = build_weights(weights, ls, ps, l1, l2, p1, p2)\n",
    "        values = values / np.sqrt(np.sum(np.abs(values) ** 2))\n",
    "        values_basis.append(values)\n",
    "        # plt.imshow(np.abs(values).T[::-1])\n",
    "        # plt.colorbar()\n",
    "        # plt.show()\n",
    "\n",
    "print(len(values_basis), values_basis[0].shape)"
   ]
  },
  {
   "cell_type": "code",
   "execution_count": null,
   "metadata": {
    "collapsed": false,
    "jupyter": {
     "outputs_hidden": false
    }
   },
   "outputs": [],
   "source": [
    "# Function to calculate MSE\n",
    "def calculate_mse(array1, array2):\n",
    "    return ((np.abs(array1) - np.abs(array2)) ** 2).mean()\n",
    "\n",
    "closest_basis_knots = []\n",
    "true_labels = []\n",
    "for knot in knots:\n",
    "    closest_basis_knot = []\n",
    "    true_label = []\n",
    "# for knot in ['6foil']:\n",
    "    filename = f'..\\\\{folder}\\\\data_{knot}_spectr.csv'\n",
    "\n",
    "    with open(filename, 'r') as file:\n",
    "        reader = csv.reader(file)\n",
    "        for row in reader:\n",
    "            true_label.append(knot_types[knot])\n",
    "            data_array = json.loads(row[0])\n",
    "\n",
    "            # indx = data_array[4]\n",
    "            # field = np.load(f'..\\\\{folder}\\\\fields\\\\data_{knot}_{indx}.npy')\n",
    "            # plt.imshow(np.abs(field ))\n",
    "            # plt.show()\n",
    "\n",
    "            moments = np.array([x[0] + 1j * x[1] for x in data_array[5:]]).reshape((l2 - l1 + 1), (p2 - p1 + 1))\n",
    "            moments = moments / np.sqrt(np.sum(np.abs(moments) ** 2))\n",
    "            mse_scores = [calculate_mse(moments, values) for values in values_basis]\n",
    "            closest_basis_knot.append(np.argmin(mse_scores))\n",
    "            # plt.imshow(np.abs(moments))\n",
    "            # plt.colorbar()\n",
    "            # plt.show()\n",
    "    true_labels.append(true_label)\n",
    "    closest_basis_knots.append(closest_basis_knot)\n",
    "\n",
    "# print(len(closest_basis_knots), len(closest_basis_knots[0]), print(closest_basis_knots[0]))\n",
    "# print(true_labels)\n",
    "# print(closest_basis_knots)\n"
   ]
  },
  {
   "cell_type": "code",
   "execution_count": null,
   "metadata": {
    "collapsed": false,
    "jupyter": {
     "outputs_hidden": false
    }
   },
   "outputs": [],
   "source": []
  },
  {
   "cell_type": "code",
   "execution_count": null,
   "metadata": {
    "collapsed": false,
    "jupyter": {
     "outputs_hidden": false
    }
   },
   "outputs": [],
   "source": [
    "predicted_labels_spec_np = np.array(closest_basis_knots).reshape(-1)\n",
    "true_labels_spec_np = np.array(true_labels).reshape(-1)\n",
    "# print(true_labels_spec_np)\n",
    "cm = confusion_matrix(true_labels_spec_np, predicted_labels_spec_np)\n",
    "plt.figure(figsize=(10, 7))\n",
    "sns.heatmap(cm, annot=True, fmt=\"d\", xticklabels=knots, yticklabels=knots)\n",
    "plt.xlabel('Predicted Labels')\n",
    "plt.ylabel('True Labels')\n",
    "plt.title('Confusion Matrix')\n",
    "plt.show()\n"
   ]
  },
  {
   "cell_type": "code",
   "execution_count": null,
   "metadata": {
    "collapsed": false,
    "jupyter": {
     "outputs_hidden": false
    }
   },
   "outputs": [],
   "source": [
    "# def build_weights(weights, ls, ps, l1, l2, p1, p2):\n",
    "#     weights_ar = np.zeros(((l2 - l1 + 1), (p2 - p1 + 1)), dtype=complex)\n",
    "#     for l, p, weight in zip(ls, ps, weights):\n",
    "#         weights_ar[l - l1, p - p1] = weight\n",
    "#     return weights_ar\n",
    "#\n",
    "# # getting the dimensions\n",
    "# filename = f'..\\\\{folder}\\\\data_{knots[0]}_spectr.csv'\n",
    "# with open(filename, 'r') as file:\n",
    "#     reader = csv.reader(file)\n",
    "#     row = next(iter(reader))\n",
    "#     data_list = json.loads(row[0])\n",
    "#     # Convert the list back to a NumPy array if needed\n",
    "#     # print(data_list)\n",
    "#     # data_array = np.array(data_list)\n",
    "#     data_array = data_list\n",
    "#\n",
    "#     l1, l2 = data_array[0], data_array[1]\n",
    "#     p1, p2 = data_array[2], data_array[3]\n",
    "# print(l1, l2, p1, p2)\n",
    "\n",
    "knots_basis = []\n",
    "knots_basis_dots = []\n",
    "for knot in knots:\n",
    "# for knot in ['6foil']:\n",
    "    filename = f'..\\\\data_basis\\\\data_{knot}.csv'\n",
    "\n",
    "    with open(filename, 'r') as file:\n",
    "        reader = csv.reader(file)\n",
    "        for row in reader:\n",
    "            # Deserialize the JSON string back to a list\n",
    "            data_list = json.loads(row[0])\n",
    "            # Convert the list back to a NumPy array if needed\n",
    "            data_array = np.array(data_list)\n",
    "            points_list = data_array[2:]\n",
    "\n",
    "            Nx, Ny, Nz = data_array[1]\n",
    "            if desired_res != (Nx, Ny, Nz):\n",
    "                scale_x = desired_res[0] / Nx\n",
    "                scale_y = desired_res[1] / Ny\n",
    "                scale_z = desired_res[2] / Nz\n",
    "                points_list = np.rint(points_list * np.array([scale_x, scale_y, scale_z])).astype(int)\n",
    "            knots_basis_dots.append(points_list)\n",
    "            # Initialize a 3D array with zeros\n",
    "            dots_3d = np.zeros(desired_res, dtype=int)\n",
    "            # Set the specified coordinates to 1\n",
    "            for x, y, z in points_list:\n",
    "                try: dots_3d[x, y, z] = 1\n",
    "                except IndexError: continue\n",
    "            knots_basis.append(dots_3d)\n",
    "\n",
    "print(len(knots_basis), knots_basis[0].shape)\n",
    "print(len(knots_basis_dots), knots_basis_dots[0].shape,knots_basis_dots[0][0])\n",
    "print(knots_basis_dots[0].shape, knots_basis_dots[3].shape)"
   ]
  },
  {
   "cell_type": "code",
   "execution_count": null,
   "metadata": {
    "collapsed": false,
    "jupyter": {
     "outputs_hidden": false
    }
   },
   "outputs": [],
   "source": [
    "# Function to calculate MSE\n",
    "def calculate_mse_knot(array1, array2):\n",
    "    return ((array1 - array2) ** 2).mean()\n",
    "\n",
    "def calculate_mse_knot_dots(array1, dots):\n",
    "    # loss = -np.sum([np.array(array1)[np.array(dot)] for dot in dots])\n",
    "    loss = -np.sum([array1[tuple(dot)] for dot in dots])\n",
    "\n",
    "    return loss\n",
    "\n",
    "closest_knots = []\n",
    "closest_knots_dots = []\n",
    "true_knots = []\n",
    "j = -1\n",
    "for i, x in enumerate(X_torch):\n",
    "    j += 1\n",
    "    true_knots.append(torch.argmax(y_torch[i]).item())\n",
    "\n",
    "    mse_scores = [calculate_mse_knot(x[0], knot_) for knot_ in knots_basis]\n",
    "    closest_knots.append(np.argmin(mse_scores))\n",
    "\n",
    "    mse_scores_dots = [calculate_mse_knot_dots(x[0], dots_) for dots_ in knots_basis_dots]\n",
    "    # print(mse_scores_dots)\n",
    "    # min_indices = np.where(mse_scores_dots == np.min(mse_scores_dots))[0]\n",
    "    # if len(min_indices) > 1:\n",
    "    #     result = 0\n",
    "    # else:\n",
    "    #     result = min_indices[0]\n",
    "    closest_knots_dots.append(np.argmin(mse_scores_dots))\n",
    "    # plt.imshow(knots_basis[j][:, :, 8])\n",
    "    # plt.colorbar()\n",
    "    # plt.show()\n",
    "    # plt.imshow(x[0][:, :, 8])\n",
    "    # plt.colorbar()\n",
    "    # plt.show()\n",
    "    # break\n",
    "\n",
    "\n",
    "# print(len(closest_basis_knots), len(closest_basis_knots[0]), print(closest_basis_knots[0]))\n",
    "# print(true_labels)\n",
    "# print(closest_basis_knots)\n"
   ]
  },
  {
   "cell_type": "code",
   "execution_count": null,
   "metadata": {
    "collapsed": false,
    "jupyter": {
     "outputs_hidden": false
    }
   },
   "outputs": [],
   "source": [
    "\n",
    "predicted_labels_spec_np = np.array(closest_knots).reshape(-1)\n",
    "true_labels_spec_np = np.array(true_knots).reshape(-1)\n",
    "# print(true_labels_spec_np)\n",
    "cm = confusion_matrix(true_labels_spec_np, predicted_labels_spec_np)\n",
    "plt.figure(figsize=(10, 7))\n",
    "sns.heatmap(cm, annot=True, fmt=\"d\", xticklabels=knots, yticklabels=knots)\n",
    "plt.xlabel('Predicted Labels')\n",
    "plt.ylabel('True Labels')\n",
    "plt.title('Confusion Matrix')\n",
    "plt.show()"
   ]
  },
  {
   "cell_type": "code",
   "execution_count": null,
   "metadata": {
    "collapsed": false,
    "jupyter": {
     "outputs_hidden": false
    }
   },
   "outputs": [],
   "source": [
    "\n",
    "predicted_labels_spec_np = np.array(closest_knots_dots).reshape(-1)\n",
    "true_labels_spec_np = np.array(true_knots).reshape(-1)\n",
    "# print(true_labels_spec_np)\n",
    "cm = confusion_matrix(true_labels_spec_np, predicted_labels_spec_np)\n",
    "plt.figure(figsize=(10, 7))\n",
    "sns.heatmap(cm, annot=True, fmt=\"d\", xticklabels=knots, yticklabels=knots)\n",
    "plt.xlabel('Predicted Labels')\n",
    "plt.ylabel('True Labels')\n",
    "plt.title('Confusion Matrix')\n",
    "plt.show()"
   ]
  },
  {
   "cell_type": "code",
   "execution_count": null,
   "metadata": {
    "collapsed": false,
    "jupyter": {
     "outputs_hidden": false
    }
   },
   "outputs": [],
   "source": [
    "\n",
    "\n",
    "X_list_sp = []\n",
    "Y_list_sp = []\n",
    "for knot in knots:\n",
    "# for knot in ['6foil']:\n",
    "    filename = f'..\\\\{folder}\\\\data_{knot}_spectr.csv'\n",
    "    with open(f'..\\\\{folder}\\\\{knot}.pkl', 'rb') as file:\n",
    "        file = pickle.load(file)\n",
    "        ls = file['l']\n",
    "        ps = file['p']\n",
    "        weights = file['weight']\n",
    "        for row in reader:\n",
    "                # Deserialize the JSON string back to a list\n",
    "                data_list = json.loads(row[0])\n",
    "                # Convert the list back to a NumPy array if needed\n",
    "                # print(data_list)\n",
    "                # data_array = np.array(data_list)\n",
    "                data_array = data_list\n",
    "\n",
    "                l1, l2 = data_array[0], data_array[1]\n",
    "                p1, p2 = data_array[2], data_array[3]\n",
    "\n",
    "    with open(filename, 'r') as file:\n",
    "        reader = csv.reader(file)\n",
    "        for row in reader:\n",
    "            # Deserialize the JSON string back to a list\n",
    "            data_list = json.loads(row[0])\n",
    "            # Convert the list back to a NumPy array if needed\n",
    "            # print(data_list)\n",
    "            # data_array = np.array(data_list)\n",
    "            data_array = data_list\n",
    "\n",
    "            l1, l2 = data_array[0], data_array[1]\n",
    "            p1, p2 = data_array[2], data_array[3]\n",
    "            indx = data_array[4]\n",
    "            field = np.load(f'..\\\\{folder}\\\\fields\\\\data_{knot}_{indx}.npy')\n",
    "            plt.imshow(np.abs(field ))\n",
    "            plt.show()\n",
    "\n",
    "            # print(f'l1, l2, p1, p2: {l1}, {l2}, {p1}, {p2} ({(l2 - l1 + 1) * (p2 - p1 + 1)})')\n",
    "            # moments = np.array(data_array[4:]).reshape((l2 - l1 + 1), (p2 - p1 + 1))\n",
    "            moments = np.array([x[0] + 1j * x[1] for x in data_array[5:]]).reshape((l2 - l1 + 1), (p2 - p1 + 1))\n",
    "            # plt.imshow(np.abs(moments).T[::-1, :])\n",
    "            # plt.show()\n",
    "            values = build_weights(weights, ls, ps, l1, l2, p1, p2)\n",
    "            print(f\"{knot}\")\n",
    "            plt.imshow(np.abs(values))\n",
    "            plt.colorbar()\n",
    "            plt.show()\n",
    "            plt.imshow(np.abs(moments))\n",
    "            plt.colorbar()\n",
    "            plt.show()\n",
    "            # plt.imshow(np.real(moments).T[::-1, :])\n",
    "            # plt.show()\n",
    "            print(moments)\n",
    "            break\n",
    "            # continue\n",
    "            # points_list = data_array[2:]\n",
    "            # Nx, Ny, Nz = data_array[1]\n",
    "            # if desired_res != (Nx, Ny, Nz):\n",
    "            #     scale_x = desired_res[0] / Nx\n",
    "            #     scale_y = desired_res[1] / Ny\n",
    "            #     scale_z = desired_res[2] / Nz\n",
    "            #     points_list = np.rint(points_list * np.array([scale_x, scale_y, scale_z])).astype(int)\n",
    "            # # Initialize a 3D array with zeros\n",
    "            # dots_3d = np.zeros(desired_res, dtype=int)\n",
    "            # # Set the specified coordinates to 1\n",
    "            # for x, y, z in points_list:\n",
    "            #     try: dots_3d[x, y, z] = 1\n",
    "            #     except IndexError: continue\n",
    "            # X_list.append(dots_3d)\n",
    "            # # X_list.append(data_array)\n",
    "            # Y_list.append(knot_types[knot])\n",
    "    break"
   ]
  },
  {
   "cell_type": "code",
   "execution_count": null,
   "metadata": {
    "collapsed": false,
    "jupyter": {
     "outputs_hidden": false
    }
   },
   "outputs": [],
   "source": [
    "X_np = np.array(X_list)\n",
    "y_np = np.array(Y_list)\n",
    "X_torch = torch.tensor(X_np).reshape(-1,1, *desired_res).float()\n",
    "# X_torch = torch.tensor(X_np).float()\n",
    "y_torch_list = torch.tensor(y_np)\n",
    "y_torch = F.one_hot(y_torch_list.long(), num_classes=num_classes).float()\n",
    "print(X_torch.shape, y_torch.shape)\n",
    "X_train, X_val_test, y_train, y_val_test = train_test_split(X_torch, y_torch, test_size=0.3, random_state=37)\n",
    "X_val, X_test, y_val, y_test = train_test_split(X_val_test, y_val_test, test_size=0.5, random_state=37)\n",
    "train_dataset = TensorDataset(X_train, y_train)\n",
    "val_dataset = TensorDataset(X_val, y_val)\n",
    "test_dataset = TensorDataset(X_test, y_test)"
   ]
  }
 ],
 "metadata": {
  "kernelspec": {
   "display_name": "Python 3 (ipykernel)",
   "language": "python",
   "name": "python3"
  },
  "language_info": {
   "codemirror_mode": {
    "name": "ipython",
    "version": 3
   },
   "file_extension": ".py",
   "mimetype": "text/x-python",
   "name": "python",
   "nbconvert_exporter": "python",
   "pygments_lexer": "ipython3",
   "version": "3.11.5"
  }
 },
 "nbformat": 4,
 "nbformat_minor": 4
}
