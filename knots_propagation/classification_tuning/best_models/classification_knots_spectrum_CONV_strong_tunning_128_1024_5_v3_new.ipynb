{
 "cells": [
  {
   "cell_type": "code",
   "execution_count": 5,
   "metadata": {},
   "outputs": [],
   "source": [
    "import sys\n",
    "sys.path.append('../')\n",
    "import time\n",
    "\n",
    "import numpy as np\n",
    "import matplotlib.pyplot as plt\n",
    "from sklearn.model_selection import train_test_split\n",
    "from scipy.signal import convolve2d\n",
    "from scipy.optimize import curve_fit\n",
    "from scipy.optimize import brute\n",
    "# import cv2\n",
    "import torch\n",
    "import json\n",
    "import csv\n",
    "from functions.all_knots_functions import *\n",
    "from torch.utils.data import TensorDataset, DataLoader\n",
    "from torch import nn\n",
    "from sklearn.model_selection import train_test_split\n",
    "from torch.optim import lr_scheduler\n",
    "from torch.optim.lr_scheduler import ReduceLROnPlateau\n",
    "import collections\n",
    "import itertools\n",
    "import torch\n",
    "import torch.nn as nn\n",
    "import torch.nn.functional as F\n",
    "from tqdm import trange\n",
    "import pickle\n",
    "from sklearn.metrics import confusion_matrix\n",
    "import seaborn as sns\n",
    "from torchsummary import summary\n",
    "device = torch.device(\"cuda\" if torch.cuda.is_available() else \"cpu\")"
   ]
  },
  {
   "cell_type": "code",
   "execution_count": 6,
   "metadata": {
    "collapsed": false,
    "jupyter": {
     "outputs_hidden": false
    }
   },
   "outputs": [],
   "source": [
    "hyperparams = {\n",
    "    # 'learning_rate': 5e-4,  # Control dropout rate\n",
    "    'learning_rate': 5e-4,  # Control dropout rate\n",
    "    'patience': 4,  # Number of epochs between learning rate decay\n",
    "    'factor': 0.2,  # Multiplicative factor of learning rate decay\n",
    "    'batch_size': 64\n",
    "}\n",
    "\n",
    "num_epochs = 10\n",
    "print_every = 1\n",
    "\n",
    "hidden_sizes1 = 128\n",
    "hidden_sizes2 = 1024\n",
    "hidden_sizes3 = 128\n",
    "num_hidden = 5\n",
    "hidden_sizes1 = 128\n",
    "hidden_sizes2 = 1024\n",
    "hidden_sizes3 = 128\n",
    "num_hidden = 10"
   ]
  },
  {
   "cell_type": "code",
   "execution_count": 7,
   "metadata": {
    "collapsed": false,
    "jupyter": {
     "outputs_hidden": false
    }
   },
   "outputs": [
    {
     "name": "stdout",
     "output_type": "stream",
     "text": [
      "Loaded 0 samples.  0 per class\n"
     ]
    }
   ],
   "source": [
    "knot_types = {\n",
    "        'standard_16': 0,  # 1\n",
    "        'standard_14': 1,  # 2\n",
    "        'standard_18': 2,  # 3\n",
    "        '30both': 3,  # 4\n",
    "        '30oneZ': 4,  # 5\n",
    "        'optimized': 5,  # 6\n",
    "        'pm_03_z': 6,  # 7\n",
    "        # '4foil': hopf_4foil,  # 8\n",
    "        # '6foil': hopf_6foil,  # 9\n",
    "        # 'stand4foil': hopf_stand4foil,  # 10\n",
    "        '30oneX': 7,  # 11\n",
    "        '15oneZ': 8,\n",
    "        'dennis': 9,\n",
    "        'trefoil_standard_12': 10,\n",
    "        'trefoil_optimized': 11,\n",
    "        # 'fivefoil_standard_08': fivefoil_standard_08\n",
    "\n",
    "}\n",
    "\n",
    "\n",
    "knots = [\n",
    "    'standard_14', 'standard_16', 'standard_18', '30both', '30oneZ',\n",
    "    'optimized', 'pm_03_z', '30oneX', '15oneZ', 'dennis',\n",
    "    'trefoil_standard_12', 'trefoil_optimized'\n",
    "]\n",
    "\n",
    "\n",
    "folders = [\n",
    "    '../HOPFS_L270_0.05_1000_64x64x64_v1',\n",
    "    '../HOPFS_L270_0.15_1000_64x64x64_v1',\n",
    "    '../HOPFS_L270_0.25_1000_64x64x64_v1',\n",
    "]\n",
    "\n",
    "\n",
    "num_classes = len(knots)\n",
    "X_list = []\n",
    "Y_list = []\n",
    "Xs_list = []\n",
    "Ys_list = []\n",
    "\n",
    "csv.field_size_limit(10000000)\n",
    "\n",
    "# Loop through all folders and knots\n",
    "for folder in folders:\n",
    "    for knot in knots:\n",
    "        filename = f'{folder}/data_{knot}_spectr.csv'\n",
    "        try:\n",
    "            with open(filename, 'r') as file:\n",
    "                reader = csv.reader(file)\n",
    "                for row in reader:\n",
    "                    # Append the knot label to Ys_list\n",
    "                    Ys_list.append(knot_types[knot])\n",
    "\n",
    "                    # Load the data array from the JSON string\n",
    "                    data_array = json.loads(row[0])\n",
    "\n",
    "                    # Extract values from the data array\n",
    "                    l1, l2 = data_array[0], data_array[1]\n",
    "                    p1, p2 = data_array[2], data_array[3]\n",
    "\n",
    "                    # Create and normalize the moments array\n",
    "                    moments = np.array([x[0] + 1j * x[1] for x in data_array[5:]])\n",
    "                    moments = moments.reshape((l2 - l1 + 1), (p2 - p1 + 1))\n",
    "                    moments = moments / np.sqrt(np.sum(np.abs(moments) ** 2))\n",
    "\n",
    "                    # Append the flattened absolute values to Xs_list\n",
    "                    Xs_list.append(np.abs(moments.reshape(-1)))\n",
    "\n",
    "        except FileNotFoundError:\n",
    "            print(f'File not found: {filename}')\n",
    "        except json.JSONDecodeError:\n",
    "            print(f'Error decoding JSON in file: {filename}')\n",
    "\n",
    "print(f'Loaded {len(X_list)} samples.  {int(len(X_list) / len(knots))} per class')"
   ]
  },
  {
   "cell_type": "code",
   "execution_count": 8,
   "metadata": {
    "collapsed": false,
    "jupyter": {
     "outputs_hidden": false
    }
   },
   "outputs": [
    {
     "name": "stdout",
     "output_type": "stream",
     "text": [
      "torch.Size([132, 91]) torch.Size([132, 12])\n"
     ]
    }
   ],
   "source": [
    "Xs_np = np.array(Xs_list)\n",
    "ys_np = np.array(Ys_list)\n",
    "# print(ys_np.shape)\n",
    "Xs_torch = torch.tensor(Xs_np).float()\n",
    "ys_t = torch.tensor(ys_np)\n",
    "ys_torch = F.one_hot(ys_t.long(), num_classes=num_classes).float()\n",
    "print(Xs_torch.shape, ys_torch.shape)"
   ]
  },
  {
   "cell_type": "markdown",
   "metadata": {
    "collapsed": false,
    "jupyter": {
     "outputs_hidden": false
    }
   },
   "source": []
  },
  {
   "cell_type": "code",
   "execution_count": 9,
   "metadata": {
    "collapsed": false,
    "jupyter": {
     "outputs_hidden": false
    }
   },
   "outputs": [],
   "source": [
    "X_train, X_val_test, y_train, y_val_test = train_test_split(Xs_torch, ys_torch, test_size=0.3, random_state=37)\n",
    "X_val, X_test, y_val, y_test = train_test_split(X_val_test, y_val_test, test_size=0.5, random_state=37)\n",
    "train_dataset = TensorDataset(X_train, y_train)\n",
    "val_dataset = TensorDataset(X_val, y_val)\n",
    "test_dataset = TensorDataset(X_test, y_test)"
   ]
  },
  {
   "cell_type": "code",
   "execution_count": 10,
   "metadata": {
    "collapsed": false,
    "jupyter": {
     "outputs_hidden": false
    }
   },
   "outputs": [],
   "source": [
    "\n",
    "\n",
    "class ClassifierConvSpec(nn.Module):\n",
    "    def __init__(self, shape_X_l, shape_X_p, num_classes):\n",
    "        super(ClassifierConvSpec, self).__init__()\n",
    "\n",
    "        # First convolutional layer with batch normalization\n",
    "        self.conv1 = nn.Sequential(\n",
    "            nn.Conv2d(in_channels=1, out_channels=16, kernel_size=3, stride=1, padding=1),\n",
    "            nn.BatchNorm2d(16),\n",
    "            nn.ReLU()\n",
    "        )\n",
    "\n",
    "        # Second convolutional layer\n",
    "        self.conv2 = nn.Sequential(\n",
    "            nn.Conv2d(in_channels=16, out_channels=32, kernel_size=3, stride=1, padding=1),\n",
    "            nn.BatchNorm2d(32),\n",
    "            nn.ReLU()\n",
    "        )\n",
    "\n",
    "        # Third convolutional layer\n",
    "        self.conv3 = nn.Sequential(\n",
    "            nn.Conv2d(in_channels=32, out_channels=64, kernel_size=3, stride=1, padding=1),\n",
    "            nn.BatchNorm2d(64),\n",
    "            nn.ReLU()\n",
    "        )\n",
    "\n",
    "        # Adaptive pooling to reduce dimensionality if needed\n",
    "        self.pool = nn.AdaptiveAvgPool2d((4, 4))\n",
    "\n",
    "        # Fully connected output layer\n",
    "        self.fc = nn.Linear(64 * 4 * 4, num_classes)\n",
    "\n",
    "    def forward(self, x):\n",
    "        # Reshape the input to (batch_size, 1, shape_X_l, shape_X_p)\n",
    "        x = x.view(x.size(0), 1, shape_X_l, shape_X_p)\n",
    "\n",
    "        # Apply the convolutional layers\n",
    "        x = self.conv1(x)\n",
    "        x = self.conv2(x)\n",
    "        x = self.conv3(x)\n",
    "\n",
    "        # Pool the result to reduce dimensionality\n",
    "        x = self.pool(x)\n",
    "\n",
    "        # Flatten the output for the fully connected layer\n",
    "        x = x.view(x.size(0), -1)\n",
    "\n",
    "        # Output layer\n",
    "        x = self.fc(x)\n",
    "        return x"
   ]
  },
  {
   "cell_type": "code",
   "execution_count": 11,
   "metadata": {
    "collapsed": false,
    "jupyter": {
     "outputs_hidden": false
    }
   },
   "outputs": [
    {
     "name": "stdout",
     "output_type": "stream",
     "text": [
      "ClassifierConvSpec(\n",
      "  (conv1): Sequential(\n",
      "    (0): Conv2d(1, 16, kernel_size=(3, 3), stride=(1, 1), padding=(1, 1))\n",
      "    (1): BatchNorm2d(16, eps=1e-05, momentum=0.1, affine=True, track_running_stats=True)\n",
      "    (2): ReLU()\n",
      "  )\n",
      "  (conv2): Sequential(\n",
      "    (0): Conv2d(16, 32, kernel_size=(3, 3), stride=(1, 1), padding=(1, 1))\n",
      "    (1): BatchNorm2d(32, eps=1e-05, momentum=0.1, affine=True, track_running_stats=True)\n",
      "    (2): ReLU()\n",
      "  )\n",
      "  (conv3): Sequential(\n",
      "    (0): Conv2d(32, 64, kernel_size=(3, 3), stride=(1, 1), padding=(1, 1))\n",
      "    (1): BatchNorm2d(64, eps=1e-05, momentum=0.1, affine=True, track_running_stats=True)\n",
      "    (2): ReLU()\n",
      "  )\n",
      "  (pool): AdaptiveAvgPool2d(output_size=(4, 4))\n",
      "  (fc): Linear(in_features=1024, out_features=12, bias=True)\n",
      ")\n"
     ]
    }
   ],
   "source": [
    "# Example usage\n",
    "shape_X_l = 7  # Modify as needed\n",
    "shape_X_p = 13  # Modify as needed\n",
    "num_classes = ys_torch.shape[-1]\n",
    "\n",
    "# Initialize the model\n",
    "model = ClassifierConvSpec(shape_X_l, shape_X_p, num_classes).to(device)\n",
    "\n",
    "# Print model summary (Optional)\n",
    "print(model)"
   ]
  },
  {
   "cell_type": "code",
   "execution_count": 12,
   "metadata": {
    "collapsed": false,
    "jupyter": {
     "outputs_hidden": false
    }
   },
   "outputs": [
    {
     "name": "stdout",
     "output_type": "stream",
     "text": [
      "torch.Size([3, 91])\n",
      "torch.Size([3, 12])\n",
      "----------------------------------------------------------------\n",
      "        Layer (type)               Output Shape         Param #\n",
      "================================================================\n",
      "            Conv2d-1            [-1, 16, 7, 13]             160\n",
      "       BatchNorm2d-2            [-1, 16, 7, 13]              32\n",
      "              ReLU-3            [-1, 16, 7, 13]               0\n",
      "            Conv2d-4            [-1, 32, 7, 13]           4,640\n",
      "       BatchNorm2d-5            [-1, 32, 7, 13]              64\n",
      "              ReLU-6            [-1, 32, 7, 13]               0\n",
      "            Conv2d-7            [-1, 64, 7, 13]          18,496\n",
      "       BatchNorm2d-8            [-1, 64, 7, 13]             128\n",
      "              ReLU-9            [-1, 64, 7, 13]               0\n",
      "AdaptiveAvgPool2d-10             [-1, 64, 4, 4]               0\n",
      "           Linear-11                   [-1, 12]          12,300\n",
      "================================================================\n",
      "Total params: 35,820\n",
      "Trainable params: 35,820\n",
      "Non-trainable params: 0\n",
      "----------------------------------------------------------------\n",
      "Input size (MB): 0.00\n",
      "Forward/backward pass size (MB): 0.24\n",
      "Params size (MB): 0.14\n",
      "Estimated Total Size (MB): 0.38\n",
      "----------------------------------------------------------------\n"
     ]
    }
   ],
   "source": [
    "# print(model._to_linear, 512 * 16 * 16)\n",
    "dots_3d_toch_batch = train_dataset[1:4][0].to(device)\n",
    "print(dots_3d_toch_batch.shape)\n",
    "print(model(dots_3d_toch_batch).shape)\n",
    "summary(model, input_size=dots_3d_toch_batch.shape[1:])"
   ]
  },
  {
   "cell_type": "code",
   "execution_count": 13,
   "metadata": {},
   "outputs": [
    {
     "data": {
      "text/plain": "tensor([[4.6387e-05, 2.2017e-05, 4.1045e-05, 4.3364e-05, 2.6819e-05, 3.5398e-05,\n         2.6810e-05, 4.1336e-05, 3.5944e-05, 1.1803e-06, 1.3765e-05, 6.1735e-06,\n         1.2568e-05, 1.6452e-05, 8.3469e-05, 2.6047e-05, 1.8260e-04, 4.5117e-04,\n         6.4492e-04, 4.3694e-04, 2.0579e-04, 9.1498e-05, 5.6196e-05, 3.7990e-05,\n         2.1209e-05, 1.0520e-05, 1.6337e-05, 1.2209e-05, 1.2364e-04, 1.1329e-04,\n         1.0256e-04, 2.9390e-05, 5.8968e-05, 9.2591e-05, 5.9887e-05, 3.1635e-04,\n         4.6738e-04, 3.3220e-04, 8.1445e-05, 2.7949e-05, 3.5306e-05, 2.0466e-05,\n         2.6292e-01, 6.3216e-01, 4.2105e-01, 1.3459e-04, 2.7177e-04, 7.0652e-04,\n         9.1455e-04, 3.5986e-04, 6.0580e-04, 2.9552e-04, 9.4468e-05, 3.5680e-05,\n         3.4238e-05, 1.9145e-05, 5.9494e-01, 1.6821e-04, 5.5187e-05, 6.0124e-05,\n         6.0842e-05, 1.0935e-04, 7.2665e-05, 3.9111e-04, 7.7478e-05, 1.1014e-04,\n         4.2463e-05, 1.5377e-05, 6.1185e-06, 8.5051e-06, 1.0105e-04, 5.5363e-05,\n         1.6382e-04, 4.4759e-04, 6.3145e-04, 4.6941e-04, 2.1653e-04, 1.1333e-04,\n         6.2086e-05, 5.1905e-05, 2.9710e-05, 1.0245e-05, 4.7056e-06, 1.2423e-05,\n         3.9213e-06, 1.0282e-05, 6.3707e-05, 4.6348e-05, 7.1513e-05, 2.7692e-05,\n         4.2058e-05]])"
     },
     "execution_count": 13,
     "metadata": {},
     "output_type": "execute_result"
    }
   ],
   "source": [
    "train_dataset[1:2][0]"
   ]
  },
  {
   "cell_type": "code",
   "execution_count": 14,
   "metadata": {
    "collapsed": false,
    "jupyter": {
     "outputs_hidden": false
    }
   },
   "outputs": [],
   "source": [
    "def loop_train(model, train_loader, criterion, optimizer):\n",
    "    model.train()  # Set the model to training mode\n",
    "    total_loss = 0\n",
    "    for i, (inputs, targets) in enumerate(train_loader, 1):  # Start enumeration from 1\n",
    "        inputs, targets = inputs.to(device), targets.to(device)\n",
    "        optimizer.zero_grad()  # Clear the gradients\n",
    "        outputs = model(inputs)  # Forward pass\n",
    "        loss = criterion(outputs, targets)  # Compute the loss\n",
    "        loss.backward()  # Backward pass\n",
    "        optimizer.step()  # Update the weights\n",
    "        total_loss += loss.item()  # Accumulate the loss\n",
    "\n",
    "    return total_loss / len(train_loader)  # Return the average loss\n",
    "\n",
    "\n",
    "def loop_test(model, test_loader, criterion):\n",
    "    model.eval()  # Set the model to evaluation mode\n",
    "    total_loss = 0\n",
    "    with torch.no_grad():  # No need to track the gradients\n",
    "        for inputs, targets in test_loader:\n",
    "            inputs, targets = inputs.to(device), targets.to(device)\n",
    "            outputs = model(inputs)  # Forward pass\n",
    "            loss = criterion(outputs, targets)  # Compute the loss\n",
    "            total_loss += loss.item()  # Accumulate the loss\n",
    "    return total_loss / len(test_loader)  # Return the average loss\n",
    "\n",
    "\n",
    "def correct_number_test(model, test_loader, criterion):\n",
    "    model.eval()  # Set the model to evaluation mode\n",
    "    total_correct = 0\n",
    "    total = 0\n",
    "    with torch.no_grad():  # No need to track the gradients\n",
    "        for inputs, targets in test_loader:\n",
    "            inputs, targets = inputs.to(device), targets.to(device)\n",
    "            outputs = model(inputs)  # Forward pass\n",
    "            correct = criterion(outputs, targets)  # Compute correct\n",
    "            total_correct += correct  # Accumulate correct\n",
    "            total += len(outputs)  # Accumulate total\n",
    "    return total_correct, total  # Return the average loss\n",
    "\n",
    "\n",
    "def plot_losses(train_losses, test_losses, decimals=3):\n",
    "    plt.figure(figsize=(10, 5))\n",
    "    plt.plot(train_losses,\n",
    "             label=f'Train Loss {train_losses[-1]: .{decimals}f} (min: {min(train_losses): .{decimals}f})')\n",
    "    plt.plot(test_losses, label=f'Test Loss {test_losses[-1]: .{decimals}f} (min: {min(test_losses): .{decimals}f})')\n",
    "    plt.title('Training and Testing Losses Over Epochs')\n",
    "    plt.xlabel('Epochs')\n",
    "    plt.ylabel('Loss')\n",
    "    plt.legend()\n",
    "    plt.show()\n"
   ]
  },
  {
   "cell_type": "code",
   "execution_count": 15,
   "metadata": {
    "collapsed": false,
    "jupyter": {
     "outputs_hidden": false
    }
   },
   "outputs": [
    {
     "name": "stderr",
     "output_type": "stream",
     "text": [
      "Progress:  14%|█▍        | 14/100 [00:00<00:01, 61.27it/s]"
     ]
    },
    {
     "name": "stdout",
     "output_type": "stream",
     "text": [
      "Epoch 0 completed in 0.17 seconds\n",
      "Epoch 0: Train Loss: 2.5061, Val Loss: 2.4920\n",
      "Epoch 1 completed in 0.01 seconds\n",
      "Epoch 1: Train Loss: 2.3503, Val Loss: 2.4982\n",
      "Epoch 2 completed in 0.01 seconds\n",
      "Epoch 2: Train Loss: 2.2656, Val Loss: 2.5025\n",
      "Epoch 3 completed in 0.01 seconds\n",
      "Epoch 3: Train Loss: 2.2482, Val Loss: 2.5051\n",
      "Epoch 4 completed in 0.01 seconds\n",
      "Epoch 4: Train Loss: 2.1903, Val Loss: 2.5084\n",
      "Epoch 00006: reducing learning rate of group 0 to 1.0000e-04.\n",
      "Epoch 5 completed in 0.01 seconds\n",
      "Epoch 5: Train Loss: 2.1277, Val Loss: 2.5067\n",
      "Epoch 6 completed in 0.01 seconds\n",
      "Epoch 6: Train Loss: 2.0813, Val Loss: 2.5058\n",
      "Epoch 7 completed in 0.01 seconds\n",
      "Epoch 7: Train Loss: 2.0674, Val Loss: 2.5028\n",
      "Epoch 8 completed in 0.01 seconds\n",
      "Epoch 8: Train Loss: 2.0753, Val Loss: 2.4981\n",
      "Epoch 9 completed in 0.01 seconds\n",
      "Epoch 9: Train Loss: 2.0332, Val Loss: 2.4907\n",
      "Epoch 10 completed in 0.01 seconds\n",
      "Epoch 10: Train Loss: 2.0578, Val Loss: 2.4816\n",
      "Epoch 11 completed in 0.01 seconds\n",
      "Epoch 11: Train Loss: 2.0310, Val Loss: 2.4700\n",
      "Epoch 12 completed in 0.01 seconds\n",
      "Epoch 12: Train Loss: 2.0238, Val Loss: 2.4563\n",
      "Epoch 13 completed in 0.01 seconds\n",
      "Epoch 13: Train Loss: 1.9893, Val Loss: 2.4397\n",
      "Epoch 14 completed in 0.01 seconds\n",
      "Epoch 14: Train Loss: 1.9834, Val Loss: 2.4201\n",
      "Epoch 15 completed in 0.01 seconds\n",
      "Epoch 15: Train Loss: 1.9826, Val Loss: 2.3970\n",
      "Epoch 16 completed in 0.01 seconds\n",
      "Epoch 16: Train Loss: 1.9250, Val Loss: 2.3710\n",
      "Epoch 17 completed in 0.01 seconds\n",
      "Epoch 17: Train Loss: 1.9221, Val Loss: 2.3410\n",
      "Epoch 18 completed in 0.01 seconds\n",
      "Epoch 18: Train Loss: 1.9072, Val Loss: 2.3087\n",
      "Epoch 19 completed in 0.01 seconds\n",
      "Epoch 19: Train Loss: 1.8851, Val Loss: 2.2739\n",
      "Epoch 20 completed in 0.01 seconds\n",
      "Epoch 20: Train Loss: 1.9008, Val Loss: 2.2382\n",
      "Epoch 21 completed in 0.01 seconds\n",
      "Epoch 21: Train Loss: 1.9141, Val Loss: 2.2005\n",
      "Epoch 22 completed in 0.01 seconds\n",
      "Epoch 22: Train Loss: 1.8854, Val Loss: 2.1611\n",
      "Epoch 23 completed in 0.01 seconds\n",
      "Epoch 23: Train Loss: 1.8926, Val Loss: 2.1231\n",
      "Epoch 24 completed in 0.01 seconds\n",
      "Epoch 24: Train Loss: 1.8546, Val Loss: 2.0862\n"
     ]
    },
    {
     "name": "stderr",
     "output_type": "stream",
     "text": [
      "Progress:  39%|███▉      | 39/100 [00:00<00:00, 99.09it/s]"
     ]
    },
    {
     "name": "stdout",
     "output_type": "stream",
     "text": [
      "Epoch 25 completed in 0.01 seconds\n",
      "Epoch 25: Train Loss: 1.8018, Val Loss: 2.0498\n",
      "Epoch 26 completed in 0.01 seconds\n",
      "Epoch 26: Train Loss: 1.8173, Val Loss: 2.0170\n",
      "Epoch 27 completed in 0.01 seconds\n",
      "Epoch 27: Train Loss: 1.8067, Val Loss: 1.9851\n",
      "Epoch 28 completed in 0.01 seconds\n",
      "Epoch 28: Train Loss: 1.8171, Val Loss: 1.9555\n",
      "Epoch 29 completed in 0.01 seconds\n",
      "Epoch 29: Train Loss: 1.8108, Val Loss: 1.9265\n",
      "Epoch 30 completed in 0.01 seconds\n",
      "Epoch 30: Train Loss: 1.7728, Val Loss: 1.8972\n",
      "Epoch 31 completed in 0.01 seconds\n",
      "Epoch 31: Train Loss: 1.8007, Val Loss: 1.8657\n",
      "Epoch 32 completed in 0.01 seconds\n",
      "Epoch 32: Train Loss: 1.7351, Val Loss: 1.8391\n",
      "Epoch 33 completed in 0.01 seconds\n",
      "Epoch 33: Train Loss: 1.6893, Val Loss: 1.8149\n",
      "Epoch 34 completed in 0.01 seconds\n",
      "Epoch 34: Train Loss: 1.7253, Val Loss: 1.7937\n",
      "Epoch 35 completed in 0.01 seconds\n",
      "Epoch 35: Train Loss: 1.7134, Val Loss: 1.7740\n",
      "Epoch 36 completed in 0.01 seconds\n",
      "Epoch 36: Train Loss: 1.6859, Val Loss: 1.7567\n",
      "Epoch 37 completed in 0.01 seconds\n",
      "Epoch 37: Train Loss: 1.7082, Val Loss: 1.7395\n",
      "Epoch 38 completed in 0.01 seconds\n",
      "Epoch 38: Train Loss: 1.6463, Val Loss: 1.7250\n",
      "Epoch 39 completed in 0.01 seconds\n",
      "Epoch 39: Train Loss: 1.6759, Val Loss: 1.7084\n",
      "Epoch 40 completed in 0.01 seconds\n",
      "Epoch 40: Train Loss: 1.6481, Val Loss: 1.6938\n",
      "Epoch 41 completed in 0.01 seconds\n",
      "Epoch 41: Train Loss: 1.6400, Val Loss: 1.6774\n",
      "Epoch 42 completed in 0.01 seconds\n",
      "Epoch 42: Train Loss: 1.6312, Val Loss: 1.6622\n",
      "Epoch 43 completed in 0.01 seconds\n",
      "Epoch 43: Train Loss: 1.6066, Val Loss: 1.6474\n",
      "Epoch 44 completed in 0.01 seconds\n",
      "Epoch 44: Train Loss: 1.6041, Val Loss: 1.6353\n",
      "Epoch 45 completed in 0.01 seconds\n",
      "Epoch 45: Train Loss: 1.5713, Val Loss: 1.6248\n",
      "Epoch 46 completed in 0.01 seconds\n",
      "Epoch 46: Train Loss: 1.5967, Val Loss: 1.6142\n",
      "Epoch 47 completed in 0.01 seconds\n",
      "Epoch 47: Train Loss: 1.5343, Val Loss: 1.6000\n",
      "Epoch 48 completed in 0.01 seconds\n",
      "Epoch 48: Train Loss: 1.5307, Val Loss: 1.5871\n",
      "Epoch 49 completed in 0.01 seconds\n",
      "Epoch 49: Train Loss: 1.5450, Val Loss: 1.5765\n",
      "Epoch 50 completed in 0.01 seconds\n",
      "Epoch 50: Train Loss: 1.5072, Val Loss: 1.5653\n"
     ]
    },
    {
     "name": "stderr",
     "output_type": "stream",
     "text": [
      "Progress:  65%|██████▌   | 65/100 [00:00<00:00, 114.48it/s]"
     ]
    },
    {
     "name": "stdout",
     "output_type": "stream",
     "text": [
      "Epoch 51 completed in 0.01 seconds\n",
      "Epoch 51: Train Loss: 1.5066, Val Loss: 1.5495\n",
      "Epoch 52 completed in 0.01 seconds\n",
      "Epoch 52: Train Loss: 1.5159, Val Loss: 1.5309\n",
      "Epoch 53 completed in 0.01 seconds\n",
      "Epoch 53: Train Loss: 1.4999, Val Loss: 1.5128\n",
      "Epoch 54 completed in 0.01 seconds\n",
      "Epoch 54: Train Loss: 1.4553, Val Loss: 1.4954\n",
      "Epoch 55 completed in 0.01 seconds\n",
      "Epoch 55: Train Loss: 1.4360, Val Loss: 1.4800\n",
      "Epoch 56 completed in 0.01 seconds\n",
      "Epoch 56: Train Loss: 1.4470, Val Loss: 1.4642\n",
      "Epoch 57 completed in 0.01 seconds\n",
      "Epoch 57: Train Loss: 1.4482, Val Loss: 1.4521\n",
      "Epoch 58 completed in 0.01 seconds\n",
      "Epoch 58: Train Loss: 1.3933, Val Loss: 1.4424\n",
      "Epoch 59 completed in 0.01 seconds\n",
      "Epoch 59: Train Loss: 1.3966, Val Loss: 1.4318\n",
      "Epoch 60 completed in 0.01 seconds\n",
      "Epoch 60: Train Loss: 1.3879, Val Loss: 1.4221\n",
      "Epoch 61 completed in 0.01 seconds\n",
      "Epoch 61: Train Loss: 1.4012, Val Loss: 1.4132\n",
      "Epoch 62 completed in 0.01 seconds\n",
      "Epoch 62: Train Loss: 1.3753, Val Loss: 1.4060\n",
      "Epoch 63 completed in 0.01 seconds\n",
      "Epoch 63: Train Loss: 1.3644, Val Loss: 1.3959\n",
      "Epoch 64 completed in 0.01 seconds\n",
      "Epoch 64: Train Loss: 1.3394, Val Loss: 1.3847\n",
      "Epoch 65 completed in 0.01 seconds\n",
      "Epoch 65: Train Loss: 1.3244, Val Loss: 1.3731\n",
      "Epoch 66 completed in 0.01 seconds\n",
      "Epoch 66: Train Loss: 1.3137, Val Loss: 1.3572\n",
      "Epoch 67 completed in 0.01 seconds\n",
      "Epoch 67: Train Loss: 1.2945, Val Loss: 1.3439\n",
      "Epoch 68 completed in 0.01 seconds\n",
      "Epoch 68: Train Loss: 1.3058, Val Loss: 1.3298\n",
      "Epoch 69 completed in 0.01 seconds\n",
      "Epoch 69: Train Loss: 1.3158, Val Loss: 1.3155\n",
      "Epoch 70 completed in 0.01 seconds\n",
      "Epoch 70: Train Loss: 1.2819, Val Loss: 1.3057\n",
      "Epoch 71 completed in 0.01 seconds\n",
      "Epoch 71: Train Loss: 1.2609, Val Loss: 1.2974\n",
      "Epoch 72 completed in 0.01 seconds\n",
      "Epoch 72: Train Loss: 1.2427, Val Loss: 1.2879\n",
      "Epoch 73 completed in 0.01 seconds\n",
      "Epoch 73: Train Loss: 1.2358, Val Loss: 1.2795\n",
      "Epoch 74 completed in 0.01 seconds\n",
      "Epoch 74: Train Loss: 1.2275, Val Loss: 1.2667\n",
      "Epoch 75 completed in 0.01 seconds\n",
      "Epoch 75: Train Loss: 1.2107, Val Loss: 1.2548\n",
      "Epoch 76 completed in 0.01 seconds\n",
      "Epoch 76: Train Loss: 1.2400, Val Loss: 1.2366\n",
      "Epoch 77 completed in 0.01 seconds\n",
      "Epoch 77: Train Loss: 1.1952, Val Loss: 1.2210\n"
     ]
    },
    {
     "name": "stderr",
     "output_type": "stream",
     "text": [
      "Progress:  91%|█████████ | 91/100 [00:00<00:00, 115.74it/s]"
     ]
    },
    {
     "name": "stdout",
     "output_type": "stream",
     "text": [
      "Epoch 78 completed in 0.01 seconds\n",
      "Epoch 78: Train Loss: 1.2061, Val Loss: 1.2089\n",
      "Epoch 79 completed in 0.01 seconds\n",
      "Epoch 79: Train Loss: 1.1878, Val Loss: 1.1981\n",
      "Epoch 80 completed in 0.01 seconds\n",
      "Epoch 80: Train Loss: 1.1988, Val Loss: 1.1873\n",
      "Epoch 81 completed in 0.01 seconds\n",
      "Epoch 81: Train Loss: 1.1749, Val Loss: 1.1747\n",
      "Epoch 82 completed in 0.01 seconds\n",
      "Epoch 82: Train Loss: 1.1756, Val Loss: 1.1587\n",
      "Epoch 83 completed in 0.01 seconds\n",
      "Epoch 83: Train Loss: 1.1285, Val Loss: 1.1451\n",
      "Epoch 84 completed in 0.01 seconds\n",
      "Epoch 84: Train Loss: 1.1260, Val Loss: 1.1349\n",
      "Epoch 85 completed in 0.01 seconds\n",
      "Epoch 85: Train Loss: 1.1177, Val Loss: 1.1268\n",
      "Epoch 86 completed in 0.01 seconds\n",
      "Epoch 86: Train Loss: 1.0873, Val Loss: 1.1216\n",
      "Epoch 87 completed in 0.01 seconds\n",
      "Epoch 87: Train Loss: 1.0853, Val Loss: 1.1208\n",
      "Epoch 88 completed in 0.01 seconds\n",
      "Epoch 88: Train Loss: 1.0895, Val Loss: 1.1173\n",
      "Epoch 89 completed in 0.01 seconds\n",
      "Epoch 89: Train Loss: 1.0737, Val Loss: 1.1115\n",
      "Epoch 90 completed in 0.01 seconds\n",
      "Epoch 90: Train Loss: 1.1021, Val Loss: 1.1017\n",
      "Epoch 91 completed in 0.01 seconds\n",
      "Epoch 91: Train Loss: 1.0612, Val Loss: 1.0968\n",
      "Epoch 92 completed in 0.01 seconds\n",
      "Epoch 92: Train Loss: 1.0612, Val Loss: 1.0897\n",
      "Epoch 93 completed in 0.01 seconds\n",
      "Epoch 93: Train Loss: 1.0270, Val Loss: 1.0814\n",
      "Epoch 94 completed in 0.01 seconds\n",
      "Epoch 94: Train Loss: 1.0431, Val Loss: 1.0754\n",
      "Epoch 95 completed in 0.01 seconds\n",
      "Epoch 95: Train Loss: 1.0185, Val Loss: 1.0678\n",
      "Epoch 96 completed in 0.01 seconds\n",
      "Epoch 96: Train Loss: 0.9984, Val Loss: 1.0586\n",
      "Epoch 97 completed in 0.01 seconds\n",
      "Epoch 97: Train Loss: 1.0349, Val Loss: 1.0510\n",
      "Epoch 98 completed in 0.01 seconds\n",
      "Epoch 98: Train Loss: 0.9832, Val Loss: 1.0434\n",
      "Epoch 99 completed in 0.01 seconds\n",
      "Epoch 99: Train Loss: 1.0086, Val Loss: 1.0336\n"
     ]
    },
    {
     "name": "stderr",
     "output_type": "stream",
     "text": [
      "Progress: 100%|██████████| 100/100 [00:00<00:00, 102.05it/s]"
     ]
    },
    {
     "name": "stdout",
     "output_type": "stream",
     "text": [
      "Total training time: 0.98 seconds\n"
     ]
    },
    {
     "name": "stderr",
     "output_type": "stream",
     "text": [
      "\n"
     ]
    }
   ],
   "source": [
    "\n",
    "# criterion = nn.MSELoss().to(device)\n",
    "criterion = nn.CrossEntropyLoss().to(device)\n",
    "optimizer = torch.optim.Adam(model.parameters(), lr=hyperparams['learning_rate'])\n",
    "scheduler = ReduceLROnPlateau(optimizer, mode='min', factor=hyperparams['factor'], patience=hyperparams['patience'],\n",
    "                              verbose=True)\n",
    "\n",
    "\n",
    "\n",
    "train_losses = []\n",
    "val_losses = []\n",
    "train_loader = DataLoader(train_dataset, batch_size=hyperparams['batch_size'], shuffle=True)\n",
    "val_loader = DataLoader(val_dataset, batch_size=hyperparams['batch_size'])\n",
    "test_loader = DataLoader(test_dataset, batch_size=hyperparams['batch_size'])\n",
    "start_time = time.time()\n",
    "for epoch in trange(num_epochs, desc=\"Progress\"):\n",
    "    epoch_start_time = time.time()\n",
    "    train_losses.append(loop_train(model, train_loader, criterion, optimizer))\n",
    "    val_losses.append(loop_test(model, val_loader, criterion))\n",
    "\n",
    "    scheduler.step(val_losses[-1])\n",
    "\n",
    "    if (epoch + 1) % print_every == 0:\n",
    "        epoch_time = time.time() - epoch_start_time\n",
    "        print(f'Epoch {epoch} completed in {epoch_time:.2f} seconds')\n",
    "        print(f'Epoch {epoch}: Train Loss: {train_losses[-1]:.4f}, Val Loss: {val_losses[-1]:.4f}')\n",
    "\n",
    "\n",
    "total_training_time = time.time() - start_time\n",
    "print(f'Total training time: {total_training_time:.2f} seconds')"
   ]
  },
  {
   "cell_type": "code",
   "execution_count": 16,
   "metadata": {
    "collapsed": false,
    "jupyter": {
     "outputs_hidden": false
    }
   },
   "outputs": [
    {
     "data": {
      "text/plain": "<Figure size 1000x500 with 1 Axes>",
      "image/png": "[encoded data removed]"
     },
     "metadata": {},
     "output_type": "display_data"
    }
   ],
   "source": [
    "plot_losses(train_losses, val_losses, decimals=3)"
   ]
  },
  {
   "cell_type": "code",
   "execution_count": 17,
   "metadata": {
    "collapsed": false,
    "jupyter": {
     "outputs_hidden": false
    }
   },
   "outputs": [
    {
     "data": {
      "text/plain": "<Figure size 1000x700 with 2 Axes>",
      "image/png": "[encoded data removed]"
     },
     "metadata": {},
     "output_type": "display_data"
    }
   ],
   "source": [
    "# predictions = model(X_torch.to(device))\n",
    "# predictions\n",
    "model.eval()  # Set the model to evaluation mode\n",
    "predicted_labels = []\n",
    "with torch.no_grad():  # Disable gradient calculation\n",
    "    for batch in test_loader:\n",
    "        inputs = batch[0].to(device)\n",
    "        outputs = model(inputs)\n",
    "        _, predicted = torch.max(outputs, 1)\n",
    "        predicted_labels.extend(predicted.cpu().numpy())\n",
    "# Convert the list to a numpy array\n",
    "predicted_labels = np.array(predicted_labels)\n",
    "# If you need the result as a tensor, convert back to tensor\n",
    "predicted_labels = torch.tensor(predicted_labels)\n",
    "\n",
    "# _, predicted_labels = torch.max(model(X_test.to(device)), 1)\n",
    "_, true_class_labels = torch.max(y_test, 1)\n",
    "predicted_labels_np = predicted_labels.cpu().numpy()\n",
    "true_labels_np = true_class_labels.cpu().numpy()\n",
    "cm = confusion_matrix(true_labels_np, predicted_labels_np)\n",
    "plt.figure(figsize=(10, 7))\n",
    "sns.heatmap(cm, annot=True, fmt=\"d\", xticklabels=knots, yticklabels=knots)\n",
    "plt.xlabel('Predicted Labels')\n",
    "plt.ylabel('True Labels')\n",
    "plt.title('Confusion Matrix')\n",
    "plt.show()"
   ]
  },
  {
   "cell_type": "code",
   "execution_count": 18,
   "metadata": {
    "collapsed": false,
    "jupyter": {
     "outputs_hidden": false
    }
   },
   "outputs": [
    {
     "name": "stdout",
     "output_type": "stream",
     "text": [
      "0.75\n"
     ]
    }
   ],
   "source": [
    "Accuracy = (np.sum(predicted_labels_np == true_labels_np)) / len(predicted_labels_np)\n",
    "print(Accuracy)"
   ]
  },
  {
   "cell_type": "code",
   "execution_count": 19,
   "metadata": {
    "collapsed": false,
    "jupyter": {
     "outputs_hidden": false
    }
   },
   "outputs": [
    {
     "name": "stdout",
     "output_type": "stream",
     "text": [
      "Number of correct predictions (test): 15/20\n",
      "Number of correct predictions (val): 13/20\n"
     ]
    }
   ],
   "source": [
    "def criterion_correct(predictions, labels):\n",
    "    _, predicted_labels = torch.max(predictions, 1)\n",
    "    _, true_class_labels = torch.max(labels, 1)\n",
    "    # print(predicted_labels)\n",
    "    # print(y_torch)\n",
    "    correct_predictions = torch.sum(predicted_labels == true_class_labels).item()\n",
    "    return correct_predictions\n",
    "\n",
    "\n",
    "correct_predictions, total = correct_number_test(model, test_loader, criterion_correct)\n",
    "print(f\"Number of correct predictions (test): {correct_predictions}/{total}\")\n",
    "\n",
    "correct_predictions, total = correct_number_test(model, val_loader, criterion_correct)\n",
    "print(f\"Number of correct predictions (val): {correct_predictions}/{total}\")"
   ]
  },
  {
   "cell_type": "markdown",
   "metadata": {
    "collapsed": false,
    "jupyter": {
     "outputs_hidden": false
    }
   },
   "source": [
    "Creating the least of the weights in 2D as a basis"
   ]
  },
  {
   "cell_type": "code",
   "execution_count": 20,
   "metadata": {
    "collapsed": false,
    "jupyter": {
     "outputs_hidden": false
    }
   },
   "outputs": [
    {
     "ename": "FileNotFoundError",
     "evalue": "[Errno 2] No such file or directory: '..\\\\../HOPFS_L270_0.05_1_64x64x64_v1\\\\data_standard_14_spectr.csv'",
     "output_type": "error",
     "traceback": [
      "\u001B[1;31m---------------------------------------------------------------------------\u001B[0m",
      "\u001B[1;31mFileNotFoundError\u001B[0m                         Traceback (most recent call last)",
      "Cell \u001B[1;32mIn[20], line 9\u001B[0m\n\u001B[0;32m      7\u001B[0m \u001B[38;5;66;03m# getting the dimensions\u001B[39;00m\n\u001B[0;32m      8\u001B[0m filename \u001B[38;5;241m=\u001B[39m \u001B[38;5;124mf\u001B[39m\u001B[38;5;124m'\u001B[39m\u001B[38;5;124m..\u001B[39m\u001B[38;5;130;01m\\\\\u001B[39;00m\u001B[38;5;132;01m{\u001B[39;00mfolder\u001B[38;5;132;01m}\u001B[39;00m\u001B[38;5;130;01m\\\\\u001B[39;00m\u001B[38;5;124mdata_\u001B[39m\u001B[38;5;132;01m{\u001B[39;00mknots[\u001B[38;5;241m0\u001B[39m]\u001B[38;5;132;01m}\u001B[39;00m\u001B[38;5;124m_spectr.csv\u001B[39m\u001B[38;5;124m'\u001B[39m\n\u001B[1;32m----> 9\u001B[0m \u001B[38;5;28;01mwith\u001B[39;00m \u001B[38;5;28;43mopen\u001B[39;49m\u001B[43m(\u001B[49m\u001B[43mfilename\u001B[49m\u001B[43m,\u001B[49m\u001B[43m \u001B[49m\u001B[38;5;124;43m'\u001B[39;49m\u001B[38;5;124;43mr\u001B[39;49m\u001B[38;5;124;43m'\u001B[39;49m\u001B[43m)\u001B[49m \u001B[38;5;28;01mas\u001B[39;00m file:\n\u001B[0;32m     10\u001B[0m     reader \u001B[38;5;241m=\u001B[39m csv\u001B[38;5;241m.\u001B[39mreader(file)\n\u001B[0;32m     11\u001B[0m     row \u001B[38;5;241m=\u001B[39m \u001B[38;5;28mnext\u001B[39m(\u001B[38;5;28miter\u001B[39m(reader))\n",
      "File \u001B[1;32m~\\AppData\\Local\\Programs\\Python\\Python311\\Lib\\site-packages\\IPython\\core\\interactiveshell.py:286\u001B[0m, in \u001B[0;36m_modified_open\u001B[1;34m(file, *args, **kwargs)\u001B[0m\n\u001B[0;32m    279\u001B[0m \u001B[38;5;28;01mif\u001B[39;00m file \u001B[38;5;129;01min\u001B[39;00m {\u001B[38;5;241m0\u001B[39m, \u001B[38;5;241m1\u001B[39m, \u001B[38;5;241m2\u001B[39m}:\n\u001B[0;32m    280\u001B[0m     \u001B[38;5;28;01mraise\u001B[39;00m \u001B[38;5;167;01mValueError\u001B[39;00m(\n\u001B[0;32m    281\u001B[0m         \u001B[38;5;124mf\u001B[39m\u001B[38;5;124m\"\u001B[39m\u001B[38;5;124mIPython won\u001B[39m\u001B[38;5;124m'\u001B[39m\u001B[38;5;124mt let you open fd=\u001B[39m\u001B[38;5;132;01m{\u001B[39;00mfile\u001B[38;5;132;01m}\u001B[39;00m\u001B[38;5;124m by default \u001B[39m\u001B[38;5;124m\"\u001B[39m\n\u001B[0;32m    282\u001B[0m         \u001B[38;5;124m\"\u001B[39m\u001B[38;5;124mas it is likely to crash IPython. If you know what you are doing, \u001B[39m\u001B[38;5;124m\"\u001B[39m\n\u001B[0;32m    283\u001B[0m         \u001B[38;5;124m\"\u001B[39m\u001B[38;5;124myou can use builtins\u001B[39m\u001B[38;5;124m'\u001B[39m\u001B[38;5;124m open.\u001B[39m\u001B[38;5;124m\"\u001B[39m\n\u001B[0;32m    284\u001B[0m     )\n\u001B[1;32m--> 286\u001B[0m \u001B[38;5;28;01mreturn\u001B[39;00m \u001B[43mio_open\u001B[49m\u001B[43m(\u001B[49m\u001B[43mfile\u001B[49m\u001B[43m,\u001B[49m\u001B[43m \u001B[49m\u001B[38;5;241;43m*\u001B[39;49m\u001B[43margs\u001B[49m\u001B[43m,\u001B[49m\u001B[43m \u001B[49m\u001B[38;5;241;43m*\u001B[39;49m\u001B[38;5;241;43m*\u001B[39;49m\u001B[43mkwargs\u001B[49m\u001B[43m)\u001B[49m\n",
      "\u001B[1;31mFileNotFoundError\u001B[0m: [Errno 2] No such file or directory: '..\\\\../HOPFS_L270_0.05_1_64x64x64_v1\\\\data_standard_14_spectr.csv'"
     ]
    }
   ],
   "source": [
    "def build_weights(weights, ls, ps, l1, l2, p1, p2):\n",
    "    weights_ar = np.zeros(((l2 - l1 + 1), (p2 - p1 + 1)), dtype=complex)\n",
    "    for l, p, weight in zip(ls, ps, weights):\n",
    "        weights_ar[l - l1, p - p1] = weight\n",
    "    return weights_ar\n",
    "\n",
    "# getting the dimensions\n",
    "filename = f'..\\\\{folder}\\\\data_{knots[0]}_spectr.csv'\n",
    "with open(filename, 'r') as file:\n",
    "    reader = csv.reader(file)\n",
    "    row = next(iter(reader))\n",
    "    data_list = json.loads(row[0])\n",
    "    # Convert the list back to a NumPy array if needed\n",
    "    # print(data_list)\n",
    "    # data_array = np.array(data_list)\n",
    "    data_array = data_list\n",
    "\n",
    "    l1, l2 = data_array[0], data_array[1]\n",
    "    p1, p2 = data_array[2], data_array[3]\n",
    "print(l1, l2, p1, p2)\n",
    "\n",
    "values_basis = []\n",
    "for knot in knots:\n",
    "# for knot in ['6foil']:\n",
    "    print(knot)\n",
    "    with open(f'..\\\\{folder}\\\\{knot}.pkl', 'rb') as file:\n",
    "\n",
    "        file = pickle.load(file)\n",
    "        ls = file['l']\n",
    "        ps = file['p']\n",
    "        weights = file['weight']\n",
    "        values = build_weights(weights, ls, ps, l1, l2, p1, p2)\n",
    "        values = values / np.sqrt(np.sum(np.abs(values) ** 2))\n",
    "        values_basis.append(values)\n",
    "        # plt.imshow(np.abs(values).T[::-1])\n",
    "        # plt.colorbar()\n",
    "        # plt.show()\n",
    "\n",
    "print(len(values_basis), values_basis[0].shape)"
   ]
  },
  {
   "cell_type": "code",
   "execution_count": null,
   "metadata": {
    "collapsed": false,
    "jupyter": {
     "outputs_hidden": false
    }
   },
   "outputs": [],
   "source": [
    "# Function to calculate MSE\n",
    "def calculate_mse(array1, array2):\n",
    "    return ((np.abs(array1) - np.abs(array2)) ** 2).mean()\n",
    "\n",
    "closest_basis_knots = []\n",
    "true_labels = []\n",
    "for knot in knots:\n",
    "    closest_basis_knot = []\n",
    "    true_label = []\n",
    "# for knot in ['6foil']:\n",
    "    filename = f'..\\\\{folder}\\\\data_{knot}_spectr.csv'\n",
    "\n",
    "    with open(filename, 'r') as file:\n",
    "        reader = csv.reader(file)\n",
    "        for row in reader:\n",
    "            true_label.append(knot_types[knot])\n",
    "            data_array = json.loads(row[0])\n",
    "\n",
    "            # indx = data_array[4]\n",
    "            # field = np.load(f'..\\\\{folder}\\\\fields\\\\data_{knot}_{indx}.npy')\n",
    "            # plt.imshow(np.abs(field ))\n",
    "            # plt.show()\n",
    "\n",
    "            moments = np.array([x[0] + 1j * x[1] for x in data_array[5:]]).reshape((l2 - l1 + 1), (p2 - p1 + 1))\n",
    "            moments = moments / np.sqrt(np.sum(np.abs(moments) ** 2))\n",
    "            mse_scores = [calculate_mse(moments, values) for values in values_basis]\n",
    "            closest_basis_knot.append(np.argmin(mse_scores))\n",
    "            # plt.imshow(np.abs(moments))\n",
    "            # plt.colorbar()\n",
    "            # plt.show()\n",
    "    true_labels.append(true_label)\n",
    "    closest_basis_knots.append(closest_basis_knot)\n",
    "\n",
    "# print(len(closest_basis_knots), len(closest_basis_knots[0]), print(closest_basis_knots[0]))\n",
    "# print(true_labels)\n",
    "# print(closest_basis_knots)\n"
   ]
  },
  {
   "cell_type": "code",
   "execution_count": null,
   "metadata": {
    "collapsed": false,
    "jupyter": {
     "outputs_hidden": false
    }
   },
   "outputs": [],
   "source": []
  },
  {
   "cell_type": "code",
   "execution_count": null,
   "metadata": {
    "collapsed": false,
    "jupyter": {
     "outputs_hidden": false
    }
   },
   "outputs": [],
   "source": [
    "predicted_labels_spec_np = np.array(closest_basis_knots).reshape(-1)\n",
    "true_labels_spec_np = np.array(true_labels).reshape(-1)\n",
    "# print(true_labels_spec_np)\n",
    "cm = confusion_matrix(true_labels_spec_np, predicted_labels_spec_np)\n",
    "plt.figure(figsize=(10, 7))\n",
    "sns.heatmap(cm, annot=True, fmt=\"d\", xticklabels=knots, yticklabels=knots)\n",
    "plt.xlabel('Predicted Labels')\n",
    "plt.ylabel('True Labels')\n",
    "plt.title('Confusion Matrix')\n",
    "plt.show()\n"
   ]
  },
  {
   "cell_type": "code",
   "execution_count": null,
   "metadata": {
    "collapsed": false,
    "jupyter": {
     "outputs_hidden": false
    }
   },
   "outputs": [],
   "source": [
    "# def build_weights(weights, ls, ps, l1, l2, p1, p2):\n",
    "#     weights_ar = np.zeros(((l2 - l1 + 1), (p2 - p1 + 1)), dtype=complex)\n",
    "#     for l, p, weight in zip(ls, ps, weights):\n",
    "#         weights_ar[l - l1, p - p1] = weight\n",
    "#     return weights_ar\n",
    "#\n",
    "# # getting the dimensions\n",
    "# filename = f'..\\\\{folder}\\\\data_{knots[0]}_spectr.csv'\n",
    "# with open(filename, 'r') as file:\n",
    "#     reader = csv.reader(file)\n",
    "#     row = next(iter(reader))\n",
    "#     data_list = json.loads(row[0])\n",
    "#     # Convert the list back to a NumPy array if needed\n",
    "#     # print(data_list)\n",
    "#     # data_array = np.array(data_list)\n",
    "#     data_array = data_list\n",
    "#\n",
    "#     l1, l2 = data_array[0], data_array[1]\n",
    "#     p1, p2 = data_array[2], data_array[3]\n",
    "# print(l1, l2, p1, p2)\n",
    "\n",
    "knots_basis = []\n",
    "knots_basis_dots = []\n",
    "for knot in knots:\n",
    "# for knot in ['6foil']:\n",
    "    filename = f'..\\\\data_basis\\\\data_{knot}.csv'\n",
    "\n",
    "    with open(filename, 'r') as file:\n",
    "        reader = csv.reader(file)\n",
    "        for row in reader:\n",
    "            # Deserialize the JSON string back to a list\n",
    "            data_list = json.loads(row[0])\n",
    "            # Convert the list back to a NumPy array if needed\n",
    "            data_array = np.array(data_list)\n",
    "            points_list = data_array[2:]\n",
    "\n",
    "            Nx, Ny, Nz = data_array[1]\n",
    "            if desired_res != (Nx, Ny, Nz):\n",
    "                scale_x = desired_res[0] / Nx\n",
    "                scale_y = desired_res[1] / Ny\n",
    "                scale_z = desired_res[2] / Nz\n",
    "                points_list = np.rint(points_list * np.array([scale_x, scale_y, scale_z])).astype(int)\n",
    "            knots_basis_dots.append(points_list)\n",
    "            # Initialize a 3D array with zeros\n",
    "            dots_3d = np.zeros(desired_res, dtype=int)\n",
    "            # Set the specified coordinates to 1\n",
    "            for x, y, z in points_list:\n",
    "                try: dots_3d[x, y, z] = 1\n",
    "                except IndexError: continue\n",
    "            knots_basis.append(dots_3d)\n",
    "\n",
    "print(len(knots_basis), knots_basis[0].shape)\n",
    "print(len(knots_basis_dots), knots_basis_dots[0].shape,knots_basis_dots[0][0])\n",
    "print(knots_basis_dots[0].shape, knots_basis_dots[3].shape)"
   ]
  },
  {
   "cell_type": "code",
   "execution_count": null,
   "metadata": {
    "collapsed": false,
    "jupyter": {
     "outputs_hidden": false
    }
   },
   "outputs": [],
   "source": [
    "# Function to calculate MSE\n",
    "def calculate_mse_knot(array1, array2):\n",
    "    return ((array1 - array2) ** 2).mean()\n",
    "\n",
    "def calculate_mse_knot_dots(array1, dots):\n",
    "    # loss = -np.sum([np.array(array1)[np.array(dot)] for dot in dots])\n",
    "    loss = -np.sum([array1[tuple(dot)] for dot in dots])\n",
    "\n",
    "    return loss\n",
    "\n",
    "closest_knots = []\n",
    "closest_knots_dots = []\n",
    "true_knots = []\n",
    "j = -1\n",
    "for i, x in enumerate(X_torch):\n",
    "    j += 1\n",
    "    true_knots.append(torch.argmax(y_torch[i]).item())\n",
    "\n",
    "    mse_scores = [calculate_mse_knot(x[0], knot_) for knot_ in knots_basis]\n",
    "    closest_knots.append(np.argmin(mse_scores))\n",
    "\n",
    "    mse_scores_dots = [calculate_mse_knot_dots(x[0], dots_) for dots_ in knots_basis_dots]\n",
    "    # print(mse_scores_dots)\n",
    "    # min_indices = np.where(mse_scores_dots == np.min(mse_scores_dots))[0]\n",
    "    # if len(min_indices) > 1:\n",
    "    #     result = 0\n",
    "    # else:\n",
    "    #     result = min_indices[0]\n",
    "    closest_knots_dots.append(np.argmin(mse_scores_dots))\n",
    "    # plt.imshow(knots_basis[j][:, :, 8])\n",
    "    # plt.colorbar()\n",
    "    # plt.show()\n",
    "    # plt.imshow(x[0][:, :, 8])\n",
    "    # plt.colorbar()\n",
    "    # plt.show()\n",
    "    # break\n",
    "\n",
    "\n",
    "# print(len(closest_basis_knots), len(closest_basis_knots[0]), print(closest_basis_knots[0]))\n",
    "# print(true_labels)\n",
    "# print(closest_basis_knots)\n"
   ]
  },
  {
   "cell_type": "code",
   "execution_count": null,
   "metadata": {
    "collapsed": false,
    "jupyter": {
     "outputs_hidden": false
    }
   },
   "outputs": [],
   "source": [
    "\n",
    "predicted_labels_spec_np = np.array(closest_knots).reshape(-1)\n",
    "true_labels_spec_np = np.array(true_knots).reshape(-1)\n",
    "# print(true_labels_spec_np)\n",
    "cm = confusion_matrix(true_labels_spec_np, predicted_labels_spec_np)\n",
    "plt.figure(figsize=(10, 7))\n",
    "sns.heatmap(cm, annot=True, fmt=\"d\", xticklabels=knots, yticklabels=knots)\n",
    "plt.xlabel('Predicted Labels')\n",
    "plt.ylabel('True Labels')\n",
    "plt.title('Confusion Matrix')\n",
    "plt.show()"
   ]
  },
  {
   "cell_type": "code",
   "execution_count": null,
   "metadata": {
    "collapsed": false,
    "jupyter": {
     "outputs_hidden": false
    }
   },
   "outputs": [],
   "source": [
    "\n",
    "predicted_labels_spec_np = np.array(closest_knots_dots).reshape(-1)\n",
    "true_labels_spec_np = np.array(true_knots).reshape(-1)\n",
    "# print(true_labels_spec_np)\n",
    "cm = confusion_matrix(true_labels_spec_np, predicted_labels_spec_np)\n",
    "plt.figure(figsize=(10, 7))\n",
    "sns.heatmap(cm, annot=True, fmt=\"d\", xticklabels=knots, yticklabels=knots)\n",
    "plt.xlabel('Predicted Labels')\n",
    "plt.ylabel('True Labels')\n",
    "plt.title('Confusion Matrix')\n",
    "plt.show()"
   ]
  },
  {
   "cell_type": "code",
   "execution_count": null,
   "metadata": {
    "collapsed": false,
    "jupyter": {
     "outputs_hidden": false
    }
   },
   "outputs": [],
   "source": [
    "\n",
    "\n",
    "X_list_sp = []\n",
    "Y_list_sp = []\n",
    "for knot in knots:\n",
    "# for knot in ['6foil']:\n",
    "    filename = f'..\\\\{folder}\\\\data_{knot}_spectr.csv'\n",
    "    with open(f'..\\\\{folder}\\\\{knot}.pkl', 'rb') as file:\n",
    "        file = pickle.load(file)\n",
    "        ls = file['l']\n",
    "        ps = file['p']\n",
    "        weights = file['weight']\n",
    "        for row in reader:\n",
    "                # Deserialize the JSON string back to a list\n",
    "                data_list = json.loads(row[0])\n",
    "                # Convert the list back to a NumPy array if needed\n",
    "                # print(data_list)\n",
    "                # data_array = np.array(data_list)\n",
    "                data_array = data_list\n",
    "\n",
    "                l1, l2 = data_array[0], data_array[1]\n",
    "                p1, p2 = data_array[2], data_array[3]\n",
    "\n",
    "    with open(filename, 'r') as file:\n",
    "        reader = csv.reader(file)\n",
    "        for row in reader:\n",
    "            # Deserialize the JSON string back to a list\n",
    "            data_list = json.loads(row[0])\n",
    "            # Convert the list back to a NumPy array if needed\n",
    "            # print(data_list)\n",
    "            # data_array = np.array(data_list)\n",
    "            data_array = data_list\n",
    "\n",
    "            l1, l2 = data_array[0], data_array[1]\n",
    "            p1, p2 = data_array[2], data_array[3]\n",
    "            indx = data_array[4]\n",
    "            field = np.load(f'..\\\\{folder}\\\\fields\\\\data_{knot}_{indx}.npy')\n",
    "            plt.imshow(np.abs(field ))\n",
    "            plt.show()\n",
    "\n",
    "            # print(f'l1, l2, p1, p2: {l1}, {l2}, {p1}, {p2} ({(l2 - l1 + 1) * (p2 - p1 + 1)})')\n",
    "            # moments = np.array(data_array[4:]).reshape((l2 - l1 + 1), (p2 - p1 + 1))\n",
    "            moments = np.array([x[0] + 1j * x[1] for x in data_array[5:]]).reshape((l2 - l1 + 1), (p2 - p1 + 1))\n",
    "            # plt.imshow(np.abs(moments).T[::-1, :])\n",
    "            # plt.show()\n",
    "            values = build_weights(weights, ls, ps, l1, l2, p1, p2)\n",
    "            print(f\"{knot}\")\n",
    "            plt.imshow(np.abs(values))\n",
    "            plt.colorbar()\n",
    "            plt.show()\n",
    "            plt.imshow(np.abs(moments))\n",
    "            plt.colorbar()\n",
    "            plt.show()\n",
    "            # plt.imshow(np.real(moments).T[::-1, :])\n",
    "            # plt.show()\n",
    "            print(moments)\n",
    "            break\n",
    "            # continue\n",
    "            # points_list = data_array[2:]\n",
    "            # Nx, Ny, Nz = data_array[1]\n",
    "            # if desired_res != (Nx, Ny, Nz):\n",
    "            #     scale_x = desired_res[0] / Nx\n",
    "            #     scale_y = desired_res[1] / Ny\n",
    "            #     scale_z = desired_res[2] / Nz\n",
    "            #     points_list = np.rint(points_list * np.array([scale_x, scale_y, scale_z])).astype(int)\n",
    "            # # Initialize a 3D array with zeros\n",
    "            # dots_3d = np.zeros(desired_res, dtype=int)\n",
    "            # # Set the specified coordinates to 1\n",
    "            # for x, y, z in points_list:\n",
    "            #     try: dots_3d[x, y, z] = 1\n",
    "            #     except IndexError: continue\n",
    "            # X_list.append(dots_3d)\n",
    "            # # X_list.append(data_array)\n",
    "            # Y_list.append(knot_types[knot])\n",
    "    break"
   ]
  },
  {
   "cell_type": "code",
   "execution_count": null,
   "metadata": {
    "collapsed": false,
    "jupyter": {
     "outputs_hidden": false
    }
   },
   "outputs": [],
   "source": [
    "X_np = np.array(X_list)\n",
    "y_np = np.array(Y_list)\n",
    "X_torch = torch.tensor(X_np).reshape(-1,1, *desired_res).float()\n",
    "# X_torch = torch.tensor(X_np).float()\n",
    "y_torch_list = torch.tensor(y_np)\n",
    "y_torch = F.one_hot(y_torch_list.long(), num_classes=num_classes).float()\n",
    "print(X_torch.shape, y_torch.shape)\n",
    "X_train, X_val_test, y_train, y_val_test = train_test_split(X_torch, y_torch, test_size=0.3, random_state=37)\n",
    "X_val, X_test, y_val, y_test = train_test_split(X_val_test, y_val_test, test_size=0.5, random_state=37)\n",
    "train_dataset = TensorDataset(X_train, y_train)\n",
    "val_dataset = TensorDataset(X_val, y_val)\n",
    "test_dataset = TensorDataset(X_test, y_test)"
   ]
  }
 ],
 "metadata": {
  "kernelspec": {
   "display_name": "Python 3 (ipykernel)",
   "language": "python",
   "name": "python3"
  },
  "language_info": {
   "codemirror_mode": {
    "name": "ipython",
    "version": 3
   },
   "file_extension": ".py",
   "mimetype": "text/x-python",
   "name": "python",
   "nbconvert_exporter": "python",
   "pygments_lexer": "ipython3",
   "version": "3.11.5"
  }
 },
 "nbformat": 4,
 "nbformat_minor": 4
}
