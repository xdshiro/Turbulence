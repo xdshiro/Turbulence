{
 "cells": [
  {
   "cell_type": "code",
   "execution_count": 45,
   "metadata": {
    "collapsed": true
   },
   "outputs": [],
   "source": [
    "import numpy as np\n",
    "import matplotlib.pyplot as plt\n",
    "from sklearn.model_selection import train_test_split\n",
    "from scipy.signal import convolve2d\n",
    "from scipy.optimize import curve_fit\n",
    "from scipy.optimize import brute\n",
    "# import cv2\n",
    "import torch\n",
    "import json\n",
    "import csv\n",
    "from functions.all_knots_functions import *\n",
    "from torch.utils.data import TensorDataset, DataLoader\n",
    "from torch import nn\n",
    "from sklearn.model_selection import train_test_split\n",
    "from torch.optim import lr_scheduler\n",
    "from torch.optim.lr_scheduler import ReduceLROnPlateau\n",
    "import collections\n",
    "import itertools\n",
    "import torch\n",
    "import torch.nn as nn\n",
    "import torch.nn.functional as F\n",
    "from tqdm import trange\n",
    "device = torch.device(\"cuda\" if torch.cuda.is_available() else \"cpu\")"
   ]
  },
  {
   "cell_type": "code",
   "execution_count": 46,
   "outputs": [
    {
     "name": "stdout",
     "output_type": "stream",
     "text": [
      "(108, 3)\n",
      "(159, 3)\n"
     ]
    }
   ],
   "source": [
    "knot = 'standard_16'\n",
    "filename = f'..\\data\\data_{knot}.csv'\n",
    "with open(filename, 'r') as file:\n",
    "    reader = csv.reader(file)\n",
    "    for row in reader:\n",
    "        # Deserialize the JSON string back to a list\n",
    "        data_list = json.loads(row[0])\n",
    "        # Convert the list back to a NumPy array if needed\n",
    "        data_array = np.array(data_list)\n",
    "        print(data_array.shape)"
   ],
   "metadata": {
    "collapsed": false
   }
  },
  {
   "cell_type": "code",
   "execution_count": 47,
   "outputs": [],
   "source": [
    "Nx, Ny, Nz = data_array[1]\n",
    "number = data_array[0][0]\n",
    "points_list = data_array[2:]\n",
    "\n",
    "# Initialize a 3D array with zeros\n",
    "dots_3d = np.zeros((Nx, Ny, Nz), dtype=int)\n",
    "\n",
    "# Set the specified coordinates to 1\n",
    "for x, y, z in points_list:\n",
    "    dots_3d[x, y, z] = 1"
   ],
   "metadata": {
    "collapsed": false
   }
  },
  {
   "cell_type": "code",
   "execution_count": 48,
   "outputs": [],
   "source": [
    "knot_types = {\n",
    "\t'standard_14': 0,  # 1\n",
    "\t'standard_16': 1,  # 2\n",
    "\t'standard_18': 2,  # 3\n",
    "\t'30both': 3,  # 4\n",
    "\t'30oneZ': 4,  # 5\n",
    "\t'optimized': 5,  # 6\n",
    "\t'pm_03_z': 6,  # 7\n",
    "\t'4foil': 7,  # 8\n",
    "\t'6foil': 8,  # 9\n",
    "\t'stand4foil': 9,  # 10\n",
    "\t'30oneX': 10,  # 11\n",
    "\n",
    "}\n",
    "knots = [\n",
    "\t'standard_14', 'standard_16', 'standard_18', '30both', '30oneZ',\n",
    "\t'optimized', 'pm_03_z', '4foil', '6foil', 'stand4foil',\n",
    "\t'30oneX'\n",
    "]\n",
    "num_classes = len(knots)\n",
    "X_list = []\n",
    "Y_list = []\n",
    "for knot in knots:\n",
    "    filename = f'..\\data\\data_{knot}.csv'\n",
    "    with open(filename, 'r') as file:\n",
    "        reader = csv.reader(file)\n",
    "        for row in reader:\n",
    "            # Deserialize the JSON string back to a list\n",
    "            data_list = json.loads(row[0])\n",
    "            # Convert the list back to a NumPy array if needed\n",
    "            data_array = np.array(data_list)\n",
    "            # Initialize a 3D array with zeros\n",
    "            dots_3d = np.zeros((Nx, Ny, Nz), dtype=int)\n",
    "            # Set the specified coordinates to 1\n",
    "            for x, y, z in points_list:\n",
    "                dots_3d[x, y, z] = 1\n",
    "            X_list.append(dots_3d)\n",
    "            Y_list.append(knot_types[knot])\n"
   ],
   "metadata": {
    "collapsed": false
   }
  },
  {
   "cell_type": "code",
   "execution_count": 49,
   "outputs": [
    {
     "name": "stdout",
     "output_type": "stream",
     "text": [
      "torch.Size([22, 1, 64, 64, 64]) torch.Size([22, 11])\n"
     ]
    }
   ],
   "source": [
    "X_np = np.array(X_list)\n",
    "y_np = np.array(Y_list)\n",
    "X_torch = torch.tensor(X_np).reshape(-1,1,Nx, Ny, Nz).float()\n",
    "y_torch_list = torch.tensor(y_np)\n",
    "y_torch = F.one_hot(y_torch_list.long(), num_classes=num_classes).float()\n",
    "print(X_torch.shape, Y_torch.shape)"
   ],
   "metadata": {
    "collapsed": false
   }
  },
  {
   "cell_type": "code",
   "execution_count": 50,
   "outputs": [],
   "source": [
    "X_train, X_val_test, y_train, y_val_test = train_test_split(X_torch, y_torch, test_size=0.3, random_state=37)\n",
    "X_val, X_test, y_val, y_test = train_test_split(X_val_test, y_val_test, test_size=0.5, random_state=37)\n",
    "train_dataset = TensorDataset(X_train, y_train)\n",
    "val_dataset = TensorDataset(X_val, y_val)\n",
    "test_dataset = TensorDataset(X_test, y_test)"
   ],
   "metadata": {
    "collapsed": false
   }
  },
  {
   "cell_type": "code",
   "execution_count": 51,
   "outputs": [
    {
     "data": {
      "application/vnd.plotly.v1+json": {
       "data": [
        {
         "marker": {
          "color": "black",
          "line": {
           "color": "white",
           "width": 185
          },
          "size": 10
         },
         "mode": "markers",
         "x": [
          11,
          11,
          11,
          11,
          11,
          11,
          11,
          11,
          12,
          12,
          12,
          12,
          12,
          12,
          12,
          12,
          12,
          12,
          13,
          13,
          13,
          13,
          13,
          13,
          13,
          13,
          13,
          14,
          14,
          14,
          14,
          14,
          14,
          14,
          14,
          14,
          14,
          14,
          15,
          15,
          16,
          16,
          17,
          17,
          18,
          18,
          19,
          19,
          21,
          22,
          23,
          24,
          26,
          26,
          28,
          28,
          28,
          28,
          29,
          29,
          30,
          30,
          31,
          31,
          31,
          31,
          31,
          31,
          31,
          31,
          31,
          31,
          32,
          32,
          32,
          32,
          33,
          33,
          33,
          33,
          33,
          33,
          34,
          34,
          34,
          34,
          34,
          35,
          35,
          35,
          35,
          35,
          35,
          35,
          36,
          36,
          36,
          36,
          36,
          36,
          36,
          36,
          36,
          36,
          36,
          36,
          36,
          36,
          36,
          37,
          37,
          37,
          37,
          37,
          37,
          37,
          37,
          38,
          38,
          39,
          41,
          41,
          42,
          43,
          44,
          44,
          45,
          46,
          47,
          47,
          48,
          48,
          49,
          50,
          50,
          50,
          50,
          51,
          51,
          51,
          52,
          52,
          52,
          52,
          52,
          52,
          52,
          52,
          52,
          53,
          53,
          53,
          53,
          53,
          53,
          53,
          53
         ],
         "y": [
          30,
          30,
          31,
          31,
          31,
          32,
          32,
          33,
          28,
          28,
          29,
          29,
          33,
          33,
          33,
          33,
          34,
          34,
          27,
          28,
          34,
          35,
          35,
          35,
          36,
          36,
          36,
          26,
          36,
          36,
          36,
          37,
          37,
          38,
          26,
          38,
          38,
          38,
          26,
          39,
          25,
          40,
          23,
          24,
          23,
          23,
          23,
          41,
          43,
          43,
          43,
          43,
          43,
          43,
          23,
          43,
          23,
          43,
          43,
          43,
          23,
          42,
          24,
          41,
          42,
          42,
          42,
          24,
          41,
          41,
          41,
          41,
          25,
          42,
          42,
          42,
          25,
          26,
          42,
          26,
          42,
          43,
          26,
          26,
          28,
          30,
          43,
          26,
          27,
          27,
          27,
          31,
          43,
          43,
          28,
          28,
          28,
          31,
          31,
          25,
          28,
          29,
          29,
          29,
          30,
          31,
          31,
          31,
          44,
          24,
          30,
          30,
          30,
          30,
          31,
          31,
          44,
          44,
          23,
          45,
          23,
          45,
          23,
          23,
          23,
          43,
          23,
          43,
          41,
          42,
          41,
          41,
          40,
          39,
          23,
          38,
          38,
          26,
          36,
          37,
          26,
          31,
          32,
          33,
          33,
          33,
          34,
          35,
          36,
          28,
          28,
          28,
          29,
          30,
          30,
          31,
          31
         ],
         "z": [
          47,
          48,
          46,
          44,
          45,
          42,
          43,
          41,
          51,
          52,
          49,
          50,
          39,
          40,
          37,
          38,
          35,
          36,
          54,
          53,
          34,
          31,
          32,
          33,
          28,
          29,
          30,
          55,
          27,
          25,
          26,
          23,
          24,
          22,
          56,
          20,
          21,
          19,
          57,
          18,
          58,
          17,
          59,
          60,
          61,
          62,
          63,
          16,
          17,
          18,
          19,
          20,
          21,
          22,
          63,
          23,
          62,
          24,
          25,
          26,
          61,
          27,
          60,
          31,
          28,
          29,
          30,
          59,
          32,
          33,
          34,
          35,
          58,
          36,
          37,
          38,
          57,
          56,
          39,
          55,
          40,
          41,
          53,
          54,
          29,
          30,
          42,
          27,
          28,
          51,
          52,
          31,
          43,
          44,
          49,
          50,
          48,
          32,
          33,
          26,
          47,
          44,
          45,
          46,
          43,
          34,
          35,
          36,
          45,
          25,
          39,
          40,
          41,
          42,
          37,
          38,
          46,
          47,
          24,
          48,
          23,
          49,
          22,
          21,
          20,
          49,
          19,
          48,
          46,
          47,
          45,
          44,
          43,
          42,
          19,
          40,
          41,
          20,
          38,
          39,
          21,
          30,
          31,
          32,
          33,
          34,
          35,
          36,
          37,
          22,
          23,
          24,
          25,
          26,
          27,
          28,
          29
         ],
         "type": "scatter3d"
        },
        {
         "line": {
          "color": "black",
          "width": 3
         },
         "marker": {
          "color": "black",
          "size": 8
         },
         "mode": "lines",
         "x": [
          -0.64,
          64.64,
          64.64,
          -0.64,
          -0.64
         ],
         "y": [
          -0.64,
          -0.64,
          64.64,
          64.64,
          -0.64
         ],
         "z": [
          -0.64,
          -0.64,
          -0.64,
          -0.64,
          -0.64
         ],
         "type": "scatter3d"
        },
        {
         "line": {
          "color": "black",
          "width": 3
         },
         "marker": {
          "color": "black",
          "size": 8
         },
         "mode": "lines",
         "x": [
          -0.64,
          64.64,
          64.64,
          -0.64,
          -0.64
         ],
         "y": [
          -0.64,
          -0.64,
          64.64,
          64.64,
          -0.64
         ],
         "z": [
          64.64,
          64.64,
          64.64,
          64.64,
          64.64
         ],
         "type": "scatter3d"
        },
        {
         "line": {
          "color": "black",
          "width": 3
         },
         "marker": {
          "color": "black",
          "size": 8
         },
         "mode": "lines",
         "x": [
          -0.64,
          -0.64
         ],
         "y": [
          -0.64,
          -0.64
         ],
         "z": [
          -0.64,
          64.64
         ],
         "type": "scatter3d"
        },
        {
         "line": {
          "color": "black",
          "width": 3
         },
         "marker": {
          "color": "black",
          "size": 8
         },
         "mode": "lines",
         "x": [
          64.64,
          64.64
         ],
         "y": [
          -0.64,
          -0.64
         ],
         "z": [
          -0.64,
          64.64
         ],
         "type": "scatter3d"
        },
        {
         "line": {
          "color": "black",
          "width": 3
         },
         "marker": {
          "color": "black",
          "size": 8
         },
         "mode": "lines",
         "x": [
          64.64,
          64.64
         ],
         "y": [
          64.64,
          64.64
         ],
         "z": [
          -0.64,
          64.64
         ],
         "type": "scatter3d"
        },
        {
         "line": {
          "color": "black",
          "width": 3
         },
         "marker": {
          "color": "black",
          "size": 8
         },
         "mode": "lines",
         "x": [
          -0.64,
          -0.64
         ],
         "y": [
          64.64,
          64.64
         ],
         "z": [
          -0.64,
          64.64
         ],
         "type": "scatter3d"
        }
       ],
       "layout": {
        "template": {
         "data": {
          "histogram2dcontour": [
           {
            "type": "histogram2dcontour",
            "colorbar": {
             "outlinewidth": 0,
             "ticks": ""
            },
            "colorscale": [
             [
              0.0,
              "#0d0887"
             ],
             [
              0.1111111111111111,
              "#46039f"
             ],
             [
              0.2222222222222222,
              "#7201a8"
             ],
             [
              0.3333333333333333,
              "#9c179e"
             ],
             [
              0.4444444444444444,
              "#bd3786"
             ],
             [
              0.5555555555555556,
              "#d8576b"
             ],
             [
              0.6666666666666666,
              "#ed7953"
             ],
             [
              0.7777777777777778,
              "#fb9f3a"
             ],
             [
              0.8888888888888888,
              "#fdca26"
             ],
             [
              1.0,
              "#f0f921"
             ]
            ]
           }
          ],
          "choropleth": [
           {
            "type": "choropleth",
            "colorbar": {
             "outlinewidth": 0,
             "ticks": ""
            }
           }
          ],
          "histogram2d": [
           {
            "type": "histogram2d",
            "colorbar": {
             "outlinewidth": 0,
             "ticks": ""
            },
            "colorscale": [
             [
              0.0,
              "#0d0887"
             ],
             [
              0.1111111111111111,
              "#46039f"
             ],
             [
              0.2222222222222222,
              "#7201a8"
             ],
             [
              0.3333333333333333,
              "#9c179e"
             ],
             [
              0.4444444444444444,
              "#bd3786"
             ],
             [
              0.5555555555555556,
              "#d8576b"
             ],
             [
              0.6666666666666666,
              "#ed7953"
             ],
             [
              0.7777777777777778,
              "#fb9f3a"
             ],
             [
              0.8888888888888888,
              "#fdca26"
             ],
             [
              1.0,
              "#f0f921"
             ]
            ]
           }
          ],
          "heatmap": [
           {
            "type": "heatmap",
            "colorbar": {
             "outlinewidth": 0,
             "ticks": ""
            },
            "colorscale": [
             [
              0.0,
              "#0d0887"
             ],
             [
              0.1111111111111111,
              "#46039f"
             ],
             [
              0.2222222222222222,
              "#7201a8"
             ],
             [
              0.3333333333333333,
              "#9c179e"
             ],
             [
              0.4444444444444444,
              "#bd3786"
             ],
             [
              0.5555555555555556,
              "#d8576b"
             ],
             [
              0.6666666666666666,
              "#ed7953"
             ],
             [
              0.7777777777777778,
              "#fb9f3a"
             ],
             [
              0.8888888888888888,
              "#fdca26"
             ],
             [
              1.0,
              "#f0f921"
             ]
            ]
           }
          ],
          "heatmapgl": [
           {
            "type": "heatmapgl",
            "colorbar": {
             "outlinewidth": 0,
             "ticks": ""
            },
            "colorscale": [
             [
              0.0,
              "#0d0887"
             ],
             [
              0.1111111111111111,
              "#46039f"
             ],
             [
              0.2222222222222222,
              "#7201a8"
             ],
             [
              0.3333333333333333,
              "#9c179e"
             ],
             [
              0.4444444444444444,
              "#bd3786"
             ],
             [
              0.5555555555555556,
              "#d8576b"
             ],
             [
              0.6666666666666666,
              "#ed7953"
             ],
             [
              0.7777777777777778,
              "#fb9f3a"
             ],
             [
              0.8888888888888888,
              "#fdca26"
             ],
             [
              1.0,
              "#f0f921"
             ]
            ]
           }
          ],
          "contourcarpet": [
           {
            "type": "contourcarpet",
            "colorbar": {
             "outlinewidth": 0,
             "ticks": ""
            }
           }
          ],
          "contour": [
           {
            "type": "contour",
            "colorbar": {
             "outlinewidth": 0,
             "ticks": ""
            },
            "colorscale": [
             [
              0.0,
              "#0d0887"
             ],
             [
              0.1111111111111111,
              "#46039f"
             ],
             [
              0.2222222222222222,
              "#7201a8"
             ],
             [
              0.3333333333333333,
              "#9c179e"
             ],
             [
              0.4444444444444444,
              "#bd3786"
             ],
             [
              0.5555555555555556,
              "#d8576b"
             ],
             [
              0.6666666666666666,
              "#ed7953"
             ],
             [
              0.7777777777777778,
              "#fb9f3a"
             ],
             [
              0.8888888888888888,
              "#fdca26"
             ],
             [
              1.0,
              "#f0f921"
             ]
            ]
           }
          ],
          "surface": [
           {
            "type": "surface",
            "colorbar": {
             "outlinewidth": 0,
             "ticks": ""
            },
            "colorscale": [
             [
              0.0,
              "#0d0887"
             ],
             [
              0.1111111111111111,
              "#46039f"
             ],
             [
              0.2222222222222222,
              "#7201a8"
             ],
             [
              0.3333333333333333,
              "#9c179e"
             ],
             [
              0.4444444444444444,
              "#bd3786"
             ],
             [
              0.5555555555555556,
              "#d8576b"
             ],
             [
              0.6666666666666666,
              "#ed7953"
             ],
             [
              0.7777777777777778,
              "#fb9f3a"
             ],
             [
              0.8888888888888888,
              "#fdca26"
             ],
             [
              1.0,
              "#f0f921"
             ]
            ]
           }
          ],
          "mesh3d": [
           {
            "type": "mesh3d",
            "colorbar": {
             "outlinewidth": 0,
             "ticks": ""
            }
           }
          ],
          "scatter": [
           {
            "fillpattern": {
             "fillmode": "overlay",
             "size": 10,
             "solidity": 0.2
            },
            "type": "scatter"
           }
          ],
          "parcoords": [
           {
            "type": "parcoords",
            "line": {
             "colorbar": {
              "outlinewidth": 0,
              "ticks": ""
             }
            }
           }
          ],
          "scatterpolargl": [
           {
            "type": "scatterpolargl",
            "marker": {
             "colorbar": {
              "outlinewidth": 0,
              "ticks": ""
             }
            }
           }
          ],
          "bar": [
           {
            "error_x": {
             "color": "#2a3f5f"
            },
            "error_y": {
             "color": "#2a3f5f"
            },
            "marker": {
             "line": {
              "color": "#E5ECF6",
              "width": 0.5
             },
             "pattern": {
              "fillmode": "overlay",
              "size": 10,
              "solidity": 0.2
             }
            },
            "type": "bar"
           }
          ],
          "scattergeo": [
           {
            "type": "scattergeo",
            "marker": {
             "colorbar": {
              "outlinewidth": 0,
              "ticks": ""
             }
            }
           }
          ],
          "scatterpolar": [
           {
            "type": "scatterpolar",
            "marker": {
             "colorbar": {
              "outlinewidth": 0,
              "ticks": ""
             }
            }
           }
          ],
          "histogram": [
           {
            "marker": {
             "pattern": {
              "fillmode": "overlay",
              "size": 10,
              "solidity": 0.2
             }
            },
            "type": "histogram"
           }
          ],
          "scattergl": [
           {
            "type": "scattergl",
            "marker": {
             "colorbar": {
              "outlinewidth": 0,
              "ticks": ""
             }
            }
           }
          ],
          "scatter3d": [
           {
            "type": "scatter3d",
            "line": {
             "colorbar": {
              "outlinewidth": 0,
              "ticks": ""
             }
            },
            "marker": {
             "colorbar": {
              "outlinewidth": 0,
              "ticks": ""
             }
            }
           }
          ],
          "scattermapbox": [
           {
            "type": "scattermapbox",
            "marker": {
             "colorbar": {
              "outlinewidth": 0,
              "ticks": ""
             }
            }
           }
          ],
          "scatterternary": [
           {
            "type": "scatterternary",
            "marker": {
             "colorbar": {
              "outlinewidth": 0,
              "ticks": ""
             }
            }
           }
          ],
          "scattercarpet": [
           {
            "type": "scattercarpet",
            "marker": {
             "colorbar": {
              "outlinewidth": 0,
              "ticks": ""
             }
            }
           }
          ],
          "carpet": [
           {
            "aaxis": {
             "endlinecolor": "#2a3f5f",
             "gridcolor": "white",
             "linecolor": "white",
             "minorgridcolor": "white",
             "startlinecolor": "#2a3f5f"
            },
            "baxis": {
             "endlinecolor": "#2a3f5f",
             "gridcolor": "white",
             "linecolor": "white",
             "minorgridcolor": "white",
             "startlinecolor": "#2a3f5f"
            },
            "type": "carpet"
           }
          ],
          "table": [
           {
            "cells": {
             "fill": {
              "color": "#EBF0F8"
             },
             "line": {
              "color": "white"
             }
            },
            "header": {
             "fill": {
              "color": "#C8D4E3"
             },
             "line": {
              "color": "white"
             }
            },
            "type": "table"
           }
          ],
          "barpolar": [
           {
            "marker": {
             "line": {
              "color": "#E5ECF6",
              "width": 0.5
             },
             "pattern": {
              "fillmode": "overlay",
              "size": 10,
              "solidity": 0.2
             }
            },
            "type": "barpolar"
           }
          ],
          "pie": [
           {
            "automargin": true,
            "type": "pie"
           }
          ]
         },
         "layout": {
          "autotypenumbers": "strict",
          "colorway": [
           "#636efa",
           "#EF553B",
           "#00cc96",
           "#ab63fa",
           "#FFA15A",
           "#19d3f3",
           "#FF6692",
           "#B6E880",
           "#FF97FF",
           "#FECB52"
          ],
          "font": {
           "color": "#2a3f5f"
          },
          "hovermode": "closest",
          "hoverlabel": {
           "align": "left"
          },
          "paper_bgcolor": "white",
          "plot_bgcolor": "#E5ECF6",
          "polar": {
           "bgcolor": "#E5ECF6",
           "angularaxis": {
            "gridcolor": "white",
            "linecolor": "white",
            "ticks": ""
           },
           "radialaxis": {
            "gridcolor": "white",
            "linecolor": "white",
            "ticks": ""
           }
          },
          "ternary": {
           "bgcolor": "#E5ECF6",
           "aaxis": {
            "gridcolor": "white",
            "linecolor": "white",
            "ticks": ""
           },
           "baxis": {
            "gridcolor": "white",
            "linecolor": "white",
            "ticks": ""
           },
           "caxis": {
            "gridcolor": "white",
            "linecolor": "white",
            "ticks": ""
           }
          },
          "coloraxis": {
           "colorbar": {
            "outlinewidth": 0,
            "ticks": ""
           }
          },
          "colorscale": {
           "sequential": [
            [
             0.0,
             "#0d0887"
            ],
            [
             0.1111111111111111,
             "#46039f"
            ],
            [
             0.2222222222222222,
             "#7201a8"
            ],
            [
             0.3333333333333333,
             "#9c179e"
            ],
            [
             0.4444444444444444,
             "#bd3786"
            ],
            [
             0.5555555555555556,
             "#d8576b"
            ],
            [
             0.6666666666666666,
             "#ed7953"
            ],
            [
             0.7777777777777778,
             "#fb9f3a"
            ],
            [
             0.8888888888888888,
             "#fdca26"
            ],
            [
             1.0,
             "#f0f921"
            ]
           ],
           "sequentialminus": [
            [
             0.0,
             "#0d0887"
            ],
            [
             0.1111111111111111,
             "#46039f"
            ],
            [
             0.2222222222222222,
             "#7201a8"
            ],
            [
             0.3333333333333333,
             "#9c179e"
            ],
            [
             0.4444444444444444,
             "#bd3786"
            ],
            [
             0.5555555555555556,
             "#d8576b"
            ],
            [
             0.6666666666666666,
             "#ed7953"
            ],
            [
             0.7777777777777778,
             "#fb9f3a"
            ],
            [
             0.8888888888888888,
             "#fdca26"
            ],
            [
             1.0,
             "#f0f921"
            ]
           ],
           "diverging": [
            [
             0,
             "#8e0152"
            ],
            [
             0.1,
             "#c51b7d"
            ],
            [
             0.2,
             "#de77ae"
            ],
            [
             0.3,
             "#f1b6da"
            ],
            [
             0.4,
             "#fde0ef"
            ],
            [
             0.5,
             "#f7f7f7"
            ],
            [
             0.6,
             "#e6f5d0"
            ],
            [
             0.7,
             "#b8e186"
            ],
            [
             0.8,
             "#7fbc41"
            ],
            [
             0.9,
             "#4d9221"
            ],
            [
             1,
             "#276419"
            ]
           ]
          },
          "xaxis": {
           "gridcolor": "white",
           "linecolor": "white",
           "ticks": "",
           "title": {
            "standoff": 15
           },
           "zerolinecolor": "white",
           "automargin": true,
           "zerolinewidth": 2
          },
          "yaxis": {
           "gridcolor": "white",
           "linecolor": "white",
           "ticks": "",
           "title": {
            "standoff": 15
           },
           "zerolinecolor": "white",
           "automargin": true,
           "zerolinewidth": 2
          },
          "scene": {
           "xaxis": {
            "backgroundcolor": "#E5ECF6",
            "gridcolor": "white",
            "linecolor": "white",
            "showbackground": true,
            "ticks": "",
            "zerolinecolor": "white",
            "gridwidth": 2
           },
           "yaxis": {
            "backgroundcolor": "#E5ECF6",
            "gridcolor": "white",
            "linecolor": "white",
            "showbackground": true,
            "ticks": "",
            "zerolinecolor": "white",
            "gridwidth": 2
           },
           "zaxis": {
            "backgroundcolor": "#E5ECF6",
            "gridcolor": "white",
            "linecolor": "white",
            "showbackground": true,
            "ticks": "",
            "zerolinecolor": "white",
            "gridwidth": 2
           }
          },
          "shapedefaults": {
           "line": {
            "color": "#2a3f5f"
           }
          },
          "annotationdefaults": {
           "arrowcolor": "#2a3f5f",
           "arrowhead": 0,
           "arrowwidth": 1
          },
          "geo": {
           "bgcolor": "white",
           "landcolor": "#E5ECF6",
           "subunitcolor": "white",
           "showland": true,
           "showlakes": true,
           "lakecolor": "white"
          },
          "title": {
           "x": 0.05
          },
          "mapbox": {
           "style": "light"
          }
         }
        },
        "font": {
         "size": 24,
         "family": "Times New Roman",
         "color": "black"
        },
        "legend": {
         "font": {
          "size": 20
         }
        },
        "scene": {
         "xaxis": {
          "title": {
           "font": {
            "size": 45
           },
           "text": "x"
          },
          "range": [
           -1.2928000000000002,
           65.2928
          ],
          "showticklabels": false,
          "zeroline": false,
          "showgrid": false,
          "showbackground": false
         },
         "yaxis": {
          "title": {
           "font": {
            "size": 45
           },
           "text": "y"
          },
          "range": [
           -1.2928000000000002,
           65.2928
          ],
          "showticklabels": false,
          "zeroline": false,
          "showgrid": false,
          "showbackground": false
         },
         "zaxis": {
          "title": {
           "font": {
            "size": 45
           },
           "text": "z"
          },
          "range": [
           -1.2928000000000002,
           65.2928
          ],
          "showticklabels": false,
          "zeroline": false,
          "showgrid": false,
          "showbackground": false
         },
         "aspectratio": {
          "x": 2,
          "y": 2,
          "z": 2
         }
        },
        "showlegend": false
       },
       "config": {
        "plotlyServerURL": "https://plot.ly"
       }
      },
      "text/html": "<div>                            <div id=\"380dea26-b396-408b-b1f7-3770aff488d5\" class=\"plotly-graph-div\" style=\"height:525px; width:100%;\"></div>            <script type=\"text/javascript\">                require([\"plotly\"], function(Plotly) {                    window.PLOTLYENV=window.PLOTLYENV || {};                                    if (document.getElementById(\"380dea26-b396-408b-b1f7-3770aff488d5\")) {                    Plotly.newPlot(                        \"380dea26-b396-408b-b1f7-3770aff488d5\",                        [{\"marker\":{\"color\":\"black\",\"line\":{\"color\":\"white\",\"width\":185},\"size\":10},\"mode\":\"markers\",\"x\":[11,11,11,11,11,11,11,11,12,12,12,12,12,12,12,12,12,12,13,13,13,13,13,13,13,13,13,14,14,14,14,14,14,14,14,14,14,14,15,15,16,16,17,17,18,18,19,19,21,22,23,24,26,26,28,28,28,28,29,29,30,30,31,31,31,31,31,31,31,31,31,31,32,32,32,32,33,33,33,33,33,33,34,34,34,34,34,35,35,35,35,35,35,35,36,36,36,36,36,36,36,36,36,36,36,36,36,36,36,37,37,37,37,37,37,37,37,38,38,39,41,41,42,43,44,44,45,46,47,47,48,48,49,50,50,50,50,51,51,51,52,52,52,52,52,52,52,52,52,53,53,53,53,53,53,53,53],\"y\":[30,30,31,31,31,32,32,33,28,28,29,29,33,33,33,33,34,34,27,28,34,35,35,35,36,36,36,26,36,36,36,37,37,38,26,38,38,38,26,39,25,40,23,24,23,23,23,41,43,43,43,43,43,43,23,43,23,43,43,43,23,42,24,41,42,42,42,24,41,41,41,41,25,42,42,42,25,26,42,26,42,43,26,26,28,30,43,26,27,27,27,31,43,43,28,28,28,31,31,25,28,29,29,29,30,31,31,31,44,24,30,30,30,30,31,31,44,44,23,45,23,45,23,23,23,43,23,43,41,42,41,41,40,39,23,38,38,26,36,37,26,31,32,33,33,33,34,35,36,28,28,28,29,30,30,31,31],\"z\":[47,48,46,44,45,42,43,41,51,52,49,50,39,40,37,38,35,36,54,53,34,31,32,33,28,29,30,55,27,25,26,23,24,22,56,20,21,19,57,18,58,17,59,60,61,62,63,16,17,18,19,20,21,22,63,23,62,24,25,26,61,27,60,31,28,29,30,59,32,33,34,35,58,36,37,38,57,56,39,55,40,41,53,54,29,30,42,27,28,51,52,31,43,44,49,50,48,32,33,26,47,44,45,46,43,34,35,36,45,25,39,40,41,42,37,38,46,47,24,48,23,49,22,21,20,49,19,48,46,47,45,44,43,42,19,40,41,20,38,39,21,30,31,32,33,34,35,36,37,22,23,24,25,26,27,28,29],\"type\":\"scatter3d\"},{\"line\":{\"color\":\"black\",\"width\":3},\"marker\":{\"color\":\"black\",\"size\":8},\"mode\":\"lines\",\"x\":[-0.64,64.64,64.64,-0.64,-0.64],\"y\":[-0.64,-0.64,64.64,64.64,-0.64],\"z\":[-0.64,-0.64,-0.64,-0.64,-0.64],\"type\":\"scatter3d\"},{\"line\":{\"color\":\"black\",\"width\":3},\"marker\":{\"color\":\"black\",\"size\":8},\"mode\":\"lines\",\"x\":[-0.64,64.64,64.64,-0.64,-0.64],\"y\":[-0.64,-0.64,64.64,64.64,-0.64],\"z\":[64.64,64.64,64.64,64.64,64.64],\"type\":\"scatter3d\"},{\"line\":{\"color\":\"black\",\"width\":3},\"marker\":{\"color\":\"black\",\"size\":8},\"mode\":\"lines\",\"x\":[-0.64,-0.64],\"y\":[-0.64,-0.64],\"z\":[-0.64,64.64],\"type\":\"scatter3d\"},{\"line\":{\"color\":\"black\",\"width\":3},\"marker\":{\"color\":\"black\",\"size\":8},\"mode\":\"lines\",\"x\":[64.64,64.64],\"y\":[-0.64,-0.64],\"z\":[-0.64,64.64],\"type\":\"scatter3d\"},{\"line\":{\"color\":\"black\",\"width\":3},\"marker\":{\"color\":\"black\",\"size\":8},\"mode\":\"lines\",\"x\":[64.64,64.64],\"y\":[64.64,64.64],\"z\":[-0.64,64.64],\"type\":\"scatter3d\"},{\"line\":{\"color\":\"black\",\"width\":3},\"marker\":{\"color\":\"black\",\"size\":8},\"mode\":\"lines\",\"x\":[-0.64,-0.64],\"y\":[64.64,64.64],\"z\":[-0.64,64.64],\"type\":\"scatter3d\"}],                        {\"template\":{\"data\":{\"histogram2dcontour\":[{\"type\":\"histogram2dcontour\",\"colorbar\":{\"outlinewidth\":0,\"ticks\":\"\"},\"colorscale\":[[0.0,\"#0d0887\"],[0.1111111111111111,\"#46039f\"],[0.2222222222222222,\"#7201a8\"],[0.3333333333333333,\"#9c179e\"],[0.4444444444444444,\"#bd3786\"],[0.5555555555555556,\"#d8576b\"],[0.6666666666666666,\"#ed7953\"],[0.7777777777777778,\"#fb9f3a\"],[0.8888888888888888,\"#fdca26\"],[1.0,\"#f0f921\"]]}],\"choropleth\":[{\"type\":\"choropleth\",\"colorbar\":{\"outlinewidth\":0,\"ticks\":\"\"}}],\"histogram2d\":[{\"type\":\"histogram2d\",\"colorbar\":{\"outlinewidth\":0,\"ticks\":\"\"},\"colorscale\":[[0.0,\"#0d0887\"],[0.1111111111111111,\"#46039f\"],[0.2222222222222222,\"#7201a8\"],[0.3333333333333333,\"#9c179e\"],[0.4444444444444444,\"#bd3786\"],[0.5555555555555556,\"#d8576b\"],[0.6666666666666666,\"#ed7953\"],[0.7777777777777778,\"#fb9f3a\"],[0.8888888888888888,\"#fdca26\"],[1.0,\"#f0f921\"]]}],\"heatmap\":[{\"type\":\"heatmap\",\"colorbar\":{\"outlinewidth\":0,\"ticks\":\"\"},\"colorscale\":[[0.0,\"#0d0887\"],[0.1111111111111111,\"#46039f\"],[0.2222222222222222,\"#7201a8\"],[0.3333333333333333,\"#9c179e\"],[0.4444444444444444,\"#bd3786\"],[0.5555555555555556,\"#d8576b\"],[0.6666666666666666,\"#ed7953\"],[0.7777777777777778,\"#fb9f3a\"],[0.8888888888888888,\"#fdca26\"],[1.0,\"#f0f921\"]]}],\"heatmapgl\":[{\"type\":\"heatmapgl\",\"colorbar\":{\"outlinewidth\":0,\"ticks\":\"\"},\"colorscale\":[[0.0,\"#0d0887\"],[0.1111111111111111,\"#46039f\"],[0.2222222222222222,\"#7201a8\"],[0.3333333333333333,\"#9c179e\"],[0.4444444444444444,\"#bd3786\"],[0.5555555555555556,\"#d8576b\"],[0.6666666666666666,\"#ed7953\"],[0.7777777777777778,\"#fb9f3a\"],[0.8888888888888888,\"#fdca26\"],[1.0,\"#f0f921\"]]}],\"contourcarpet\":[{\"type\":\"contourcarpet\",\"colorbar\":{\"outlinewidth\":0,\"ticks\":\"\"}}],\"contour\":[{\"type\":\"contour\",\"colorbar\":{\"outlinewidth\":0,\"ticks\":\"\"},\"colorscale\":[[0.0,\"#0d0887\"],[0.1111111111111111,\"#46039f\"],[0.2222222222222222,\"#7201a8\"],[0.3333333333333333,\"#9c179e\"],[0.4444444444444444,\"#bd3786\"],[0.5555555555555556,\"#d8576b\"],[0.6666666666666666,\"#ed7953\"],[0.7777777777777778,\"#fb9f3a\"],[0.8888888888888888,\"#fdca26\"],[1.0,\"#f0f921\"]]}],\"surface\":[{\"type\":\"surface\",\"colorbar\":{\"outlinewidth\":0,\"ticks\":\"\"},\"colorscale\":[[0.0,\"#0d0887\"],[0.1111111111111111,\"#46039f\"],[0.2222222222222222,\"#7201a8\"],[0.3333333333333333,\"#9c179e\"],[0.4444444444444444,\"#bd3786\"],[0.5555555555555556,\"#d8576b\"],[0.6666666666666666,\"#ed7953\"],[0.7777777777777778,\"#fb9f3a\"],[0.8888888888888888,\"#fdca26\"],[1.0,\"#f0f921\"]]}],\"mesh3d\":[{\"type\":\"mesh3d\",\"colorbar\":{\"outlinewidth\":0,\"ticks\":\"\"}}],\"scatter\":[{\"fillpattern\":{\"fillmode\":\"overlay\",\"size\":10,\"solidity\":0.2},\"type\":\"scatter\"}],\"parcoords\":[{\"type\":\"parcoords\",\"line\":{\"colorbar\":{\"outlinewidth\":0,\"ticks\":\"\"}}}],\"scatterpolargl\":[{\"type\":\"scatterpolargl\",\"marker\":{\"colorbar\":{\"outlinewidth\":0,\"ticks\":\"\"}}}],\"bar\":[{\"error_x\":{\"color\":\"#2a3f5f\"},\"error_y\":{\"color\":\"#2a3f5f\"},\"marker\":{\"line\":{\"color\":\"#E5ECF6\",\"width\":0.5},\"pattern\":{\"fillmode\":\"overlay\",\"size\":10,\"solidity\":0.2}},\"type\":\"bar\"}],\"scattergeo\":[{\"type\":\"scattergeo\",\"marker\":{\"colorbar\":{\"outlinewidth\":0,\"ticks\":\"\"}}}],\"scatterpolar\":[{\"type\":\"scatterpolar\",\"marker\":{\"colorbar\":{\"outlinewidth\":0,\"ticks\":\"\"}}}],\"histogram\":[{\"marker\":{\"pattern\":{\"fillmode\":\"overlay\",\"size\":10,\"solidity\":0.2}},\"type\":\"histogram\"}],\"scattergl\":[{\"type\":\"scattergl\",\"marker\":{\"colorbar\":{\"outlinewidth\":0,\"ticks\":\"\"}}}],\"scatter3d\":[{\"type\":\"scatter3d\",\"line\":{\"colorbar\":{\"outlinewidth\":0,\"ticks\":\"\"}},\"marker\":{\"colorbar\":{\"outlinewidth\":0,\"ticks\":\"\"}}}],\"scattermapbox\":[{\"type\":\"scattermapbox\",\"marker\":{\"colorbar\":{\"outlinewidth\":0,\"ticks\":\"\"}}}],\"scatterternary\":[{\"type\":\"scatterternary\",\"marker\":{\"colorbar\":{\"outlinewidth\":0,\"ticks\":\"\"}}}],\"scattercarpet\":[{\"type\":\"scattercarpet\",\"marker\":{\"colorbar\":{\"outlinewidth\":0,\"ticks\":\"\"}}}],\"carpet\":[{\"aaxis\":{\"endlinecolor\":\"#2a3f5f\",\"gridcolor\":\"white\",\"linecolor\":\"white\",\"minorgridcolor\":\"white\",\"startlinecolor\":\"#2a3f5f\"},\"baxis\":{\"endlinecolor\":\"#2a3f5f\",\"gridcolor\":\"white\",\"linecolor\":\"white\",\"minorgridcolor\":\"white\",\"startlinecolor\":\"#2a3f5f\"},\"type\":\"carpet\"}],\"table\":[{\"cells\":{\"fill\":{\"color\":\"#EBF0F8\"},\"line\":{\"color\":\"white\"}},\"header\":{\"fill\":{\"color\":\"#C8D4E3\"},\"line\":{\"color\":\"white\"}},\"type\":\"table\"}],\"barpolar\":[{\"marker\":{\"line\":{\"color\":\"#E5ECF6\",\"width\":0.5},\"pattern\":{\"fillmode\":\"overlay\",\"size\":10,\"solidity\":0.2}},\"type\":\"barpolar\"}],\"pie\":[{\"automargin\":true,\"type\":\"pie\"}]},\"layout\":{\"autotypenumbers\":\"strict\",\"colorway\":[\"#636efa\",\"#EF553B\",\"#00cc96\",\"#ab63fa\",\"#FFA15A\",\"#19d3f3\",\"#FF6692\",\"#B6E880\",\"#FF97FF\",\"#FECB52\"],\"font\":{\"color\":\"#2a3f5f\"},\"hovermode\":\"closest\",\"hoverlabel\":{\"align\":\"left\"},\"paper_bgcolor\":\"white\",\"plot_bgcolor\":\"#E5ECF6\",\"polar\":{\"bgcolor\":\"#E5ECF6\",\"angularaxis\":{\"gridcolor\":\"white\",\"linecolor\":\"white\",\"ticks\":\"\"},\"radialaxis\":{\"gridcolor\":\"white\",\"linecolor\":\"white\",\"ticks\":\"\"}},\"ternary\":{\"bgcolor\":\"#E5ECF6\",\"aaxis\":{\"gridcolor\":\"white\",\"linecolor\":\"white\",\"ticks\":\"\"},\"baxis\":{\"gridcolor\":\"white\",\"linecolor\":\"white\",\"ticks\":\"\"},\"caxis\":{\"gridcolor\":\"white\",\"linecolor\":\"white\",\"ticks\":\"\"}},\"coloraxis\":{\"colorbar\":{\"outlinewidth\":0,\"ticks\":\"\"}},\"colorscale\":{\"sequential\":[[0.0,\"#0d0887\"],[0.1111111111111111,\"#46039f\"],[0.2222222222222222,\"#7201a8\"],[0.3333333333333333,\"#9c179e\"],[0.4444444444444444,\"#bd3786\"],[0.5555555555555556,\"#d8576b\"],[0.6666666666666666,\"#ed7953\"],[0.7777777777777778,\"#fb9f3a\"],[0.8888888888888888,\"#fdca26\"],[1.0,\"#f0f921\"]],\"sequentialminus\":[[0.0,\"#0d0887\"],[0.1111111111111111,\"#46039f\"],[0.2222222222222222,\"#7201a8\"],[0.3333333333333333,\"#9c179e\"],[0.4444444444444444,\"#bd3786\"],[0.5555555555555556,\"#d8576b\"],[0.6666666666666666,\"#ed7953\"],[0.7777777777777778,\"#fb9f3a\"],[0.8888888888888888,\"#fdca26\"],[1.0,\"#f0f921\"]],\"diverging\":[[0,\"#8e0152\"],[0.1,\"#c51b7d\"],[0.2,\"#de77ae\"],[0.3,\"#f1b6da\"],[0.4,\"#fde0ef\"],[0.5,\"#f7f7f7\"],[0.6,\"#e6f5d0\"],[0.7,\"#b8e186\"],[0.8,\"#7fbc41\"],[0.9,\"#4d9221\"],[1,\"#276419\"]]},\"xaxis\":{\"gridcolor\":\"white\",\"linecolor\":\"white\",\"ticks\":\"\",\"title\":{\"standoff\":15},\"zerolinecolor\":\"white\",\"automargin\":true,\"zerolinewidth\":2},\"yaxis\":{\"gridcolor\":\"white\",\"linecolor\":\"white\",\"ticks\":\"\",\"title\":{\"standoff\":15},\"zerolinecolor\":\"white\",\"automargin\":true,\"zerolinewidth\":2},\"scene\":{\"xaxis\":{\"backgroundcolor\":\"#E5ECF6\",\"gridcolor\":\"white\",\"linecolor\":\"white\",\"showbackground\":true,\"ticks\":\"\",\"zerolinecolor\":\"white\",\"gridwidth\":2},\"yaxis\":{\"backgroundcolor\":\"#E5ECF6\",\"gridcolor\":\"white\",\"linecolor\":\"white\",\"showbackground\":true,\"ticks\":\"\",\"zerolinecolor\":\"white\",\"gridwidth\":2},\"zaxis\":{\"backgroundcolor\":\"#E5ECF6\",\"gridcolor\":\"white\",\"linecolor\":\"white\",\"showbackground\":true,\"ticks\":\"\",\"zerolinecolor\":\"white\",\"gridwidth\":2}},\"shapedefaults\":{\"line\":{\"color\":\"#2a3f5f\"}},\"annotationdefaults\":{\"arrowcolor\":\"#2a3f5f\",\"arrowhead\":0,\"arrowwidth\":1},\"geo\":{\"bgcolor\":\"white\",\"landcolor\":\"#E5ECF6\",\"subunitcolor\":\"white\",\"showland\":true,\"showlakes\":true,\"lakecolor\":\"white\"},\"title\":{\"x\":0.05},\"mapbox\":{\"style\":\"light\"}}},\"font\":{\"size\":24,\"family\":\"Times New Roman\",\"color\":\"black\"},\"legend\":{\"font\":{\"size\":20}},\"scene\":{\"xaxis\":{\"title\":{\"font\":{\"size\":45},\"text\":\"x\"},\"range\":[-1.2928000000000002,65.2928],\"showticklabels\":false,\"zeroline\":false,\"showgrid\":false,\"showbackground\":false},\"yaxis\":{\"title\":{\"font\":{\"size\":45},\"text\":\"y\"},\"range\":[-1.2928000000000002,65.2928],\"showticklabels\":false,\"zeroline\":false,\"showgrid\":false,\"showbackground\":false},\"zaxis\":{\"title\":{\"font\":{\"size\":45},\"text\":\"z\"},\"range\":[-1.2928000000000002,65.2928],\"showticklabels\":false,\"zeroline\":false,\"showgrid\":false,\"showbackground\":false},\"aspectratio\":{\"x\":2,\"y\":2,\"z\":2}},\"showlegend\":false},                        {\"responsive\": true}                    ).then(function(){\n                            \nvar gd = document.getElementById('380dea26-b396-408b-b1f7-3770aff488d5');\nvar x = new MutationObserver(function (mutations, observer) {{\n        var display = window.getComputedStyle(gd).display;\n        if (!display || display === 'none') {{\n            console.log([gd, 'removed!']);\n            Plotly.purge(gd);\n            observer.disconnect();\n        }}\n}});\n\n// Listen for the removal of the full notebook cells\nvar notebookContainer = gd.closest('#notebook-container');\nif (notebookContainer) {{\n    x.observe(notebookContainer, {childList: true});\n}}\n\n// Listen for the clearing of the current output cell\nvar outputEl = gd.closest('.output');\nif (outputEl) {{\n    x.observe(outputEl, {childList: true});\n}}\n\n                        })                };                });            </script>        </div>"
     },
     "metadata": {},
     "output_type": "display_data"
    }
   ],
   "source": [
    "dots_bound = [\n",
    "    [0, 0, 0],\n",
    "    [Nx, Ny, Nz],\n",
    "]\n",
    "# pl.plotDots(dots_init, dots_init, color='black', show=True, size=10)\n",
    "pl.plotDots(points_list, dots_bound, color='black', show=False, size=10)"
   ],
   "metadata": {
    "collapsed": false
   }
  },
  {
   "cell_type": "code",
   "execution_count": 77,
   "outputs": [],
   "source": [
    "def conv_stage(layer_configs):\n",
    "    layers = []\n",
    "    for config in layer_configs:\n",
    "        in_channels, out_channels, kernel_size, stride, padding = config\n",
    "        layers.append(nn.Conv3d(in_channels, out_channels, kernel_size, stride, padding))\n",
    "        layers.append(nn.BatchNorm3d(out_channels))\n",
    "        layers.append(nn.ReLU(inplace=True))\n",
    "\n",
    "    return nn.Sequential(*layers)\n",
    "\n",
    "def create_pooling_layer(config):\n",
    "    if config is None:\n",
    "        return None\n",
    "    kernel_size, stride, padding = config\n",
    "    return nn.MaxPool3d(kernel_size=kernel_size, stride=stride, padding=padding)\n",
    "\n",
    "class Classifier3D(nn.Module):\n",
    "    def __init__(self, stages, pooling_configs, num_classes=11):\n",
    "        super(Classifier3D, self).__init__()\n",
    "\n",
    "        self.features = nn.Sequential()\n",
    "\n",
    "        for i, stage in enumerate(stages):\n",
    "            # Add the convolutional stage\n",
    "            self.features.add_module(f\"stage_{i}\", conv_stage(stage))\n",
    "\n",
    "            # Add a custom MaxPooling layer after each stage based on the pooling configuration\n",
    "            if i < len(pooling_configs):\n",
    "                pool_layer = create_pooling_layer(pooling_configs[i])\n",
    "                if pool_layer:\n",
    "                    self.features.add_module(f\"pool_{i}\", pool_layer)\n",
    "\n",
    "\n",
    "        # Calculate the size of the flattened features after the conv layers\n",
    "        self._to_linear = None\n",
    "        self._get_conv_output((1, 64, 64, 64))\n",
    "\n",
    "        # Fully connected layers\n",
    "        self.fc1 = nn.Linear(self._to_linear, 256)\n",
    "        # self.fc2 = nn.Linear(self._to_linear, 512)\n",
    "        self.fc2 = nn.Linear(256, num_classes)\n",
    "\n",
    "    def _get_conv_output(self, shape):\n",
    "        batch_size = 1\n",
    "        input = torch.autograd.Variable(torch.rand(batch_size, *shape))\n",
    "        output_feat = self.features(input)\n",
    "        self._to_linear = int(np.prod(output_feat.size()[1:]))\n",
    "\n",
    "    def initialize_weights(self):\n",
    "        for m in self.modules():\n",
    "            if isinstance(m, nn.Conv3d):\n",
    "                nn.init.kaiming_normal_(m.weight, mode='fan_out', nonlinearity='relu')\n",
    "                if m.bias is not None:\n",
    "                    nn.init.constant_(m.bias, 0)\n",
    "            elif isinstance(m, nn.BatchNorm3d):\n",
    "                nn.init.constant_(m.weight, 1)\n",
    "                nn.init.constant_(m.bias, 0)\n",
    "            elif isinstance(m, nn.Linear):\n",
    "                nn.init.normal_(m.weight, 0, 0.01)\n",
    "                nn.init.constant_(m.bias, 0)\n",
    "\n",
    "    def forward(self, x):\n",
    "        x = self.features(x)\n",
    "        x = x.view(x.size(0), -1) # Flatten the output\n",
    "        x = F.relu(self.fc1(x))\n",
    "        # x = F.relu(self.fc2(x))\n",
    "        x = self.fc2(x)\n",
    "        x = nn.Softmax(1)(x)\n",
    "        return x\n"
   ],
   "metadata": {
    "collapsed": false
   }
  },
  {
   "cell_type": "code",
   "execution_count": 78,
   "outputs": [],
   "source": [
    "# in_channels, out_channels, kernel_size, stride, padding\n",
    "stages = [\n",
    "    [(1, 32, 3, 1, 1), (32, 32, 3, 1, 1)],\n",
    "    # [(32, 64, 3, 1, 1), (64, 64, 3, 1, 1)],\n",
    "    [(32, 64, 3, 1, 1)]\n",
    "]\n",
    "\n",
    "# Define pooling configurations: (kernel_size, stride, padding)\n",
    "# Set to 'None' for stages where no pooling is desired\n",
    "# kernel_size, stride, padding\n",
    "pooling_configs = [\n",
    "    (4, 4, 0),  # Pooling after the first stage\n",
    "    # (3, 2, 1),  # Pooling after the second stage\n",
    "    None        # No pooling after the third stage\n",
    "]\n",
    "\n",
    "model = Classifier3D(stages, pooling_configs, num_classes=11).to(device)\n",
    "model.initialize_weights()"
   ],
   "metadata": {
    "collapsed": false
   }
  },
  {
   "cell_type": "code",
   "execution_count": 79,
   "outputs": [
    {
     "name": "stdout",
     "output_type": "stream",
     "text": [
      "torch.Size([22, 1, 64, 64, 64])\n"
     ]
    },
    {
     "data": {
      "text/plain": "tensor([[0.0983, 0.0537, 0.0804, 0.1149, 0.0758, 0.0716, 0.1365, 0.0861, 0.0842,\n         0.0967, 0.1018],\n        [0.0983, 0.0537, 0.0804, 0.1149, 0.0758, 0.0716, 0.1365, 0.0861, 0.0842,\n         0.0967, 0.1018],\n        [0.0983, 0.0537, 0.0804, 0.1149, 0.0758, 0.0716, 0.1365, 0.0861, 0.0842,\n         0.0967, 0.1018],\n        [0.0983, 0.0537, 0.0804, 0.1149, 0.0758, 0.0716, 0.1365, 0.0861, 0.0842,\n         0.0967, 0.1018],\n        [0.0983, 0.0537, 0.0804, 0.1149, 0.0758, 0.0716, 0.1365, 0.0861, 0.0842,\n         0.0967, 0.1018],\n        [0.0983, 0.0537, 0.0804, 0.1149, 0.0758, 0.0716, 0.1365, 0.0861, 0.0842,\n         0.0967, 0.1018],\n        [0.0983, 0.0537, 0.0804, 0.1149, 0.0758, 0.0716, 0.1365, 0.0861, 0.0842,\n         0.0967, 0.1018],\n        [0.0983, 0.0537, 0.0804, 0.1149, 0.0758, 0.0716, 0.1365, 0.0861, 0.0842,\n         0.0967, 0.1018],\n        [0.0983, 0.0537, 0.0804, 0.1149, 0.0758, 0.0716, 0.1365, 0.0861, 0.0842,\n         0.0967, 0.1018],\n        [0.0983, 0.0537, 0.0804, 0.1149, 0.0758, 0.0716, 0.1365, 0.0861, 0.0842,\n         0.0967, 0.1018],\n        [0.0983, 0.0537, 0.0804, 0.1149, 0.0758, 0.0716, 0.1365, 0.0861, 0.0842,\n         0.0967, 0.1018],\n        [0.0983, 0.0537, 0.0804, 0.1149, 0.0758, 0.0716, 0.1365, 0.0861, 0.0842,\n         0.0967, 0.1018],\n        [0.0983, 0.0537, 0.0804, 0.1149, 0.0758, 0.0716, 0.1365, 0.0861, 0.0842,\n         0.0967, 0.1018],\n        [0.0983, 0.0537, 0.0804, 0.1149, 0.0758, 0.0716, 0.1365, 0.0861, 0.0842,\n         0.0967, 0.1018],\n        [0.0983, 0.0537, 0.0804, 0.1149, 0.0758, 0.0716, 0.1365, 0.0861, 0.0842,\n         0.0967, 0.1018],\n        [0.0983, 0.0537, 0.0804, 0.1149, 0.0758, 0.0716, 0.1365, 0.0861, 0.0842,\n         0.0967, 0.1018],\n        [0.0983, 0.0537, 0.0804, 0.1149, 0.0758, 0.0716, 0.1365, 0.0861, 0.0842,\n         0.0967, 0.1018],\n        [0.0983, 0.0537, 0.0804, 0.1149, 0.0758, 0.0716, 0.1365, 0.0861, 0.0842,\n         0.0967, 0.1018],\n        [0.0983, 0.0537, 0.0804, 0.1149, 0.0758, 0.0716, 0.1365, 0.0861, 0.0842,\n         0.0967, 0.1018],\n        [0.0983, 0.0537, 0.0804, 0.1149, 0.0758, 0.0716, 0.1365, 0.0861, 0.0842,\n         0.0967, 0.1018],\n        [0.0983, 0.0537, 0.0804, 0.1149, 0.0758, 0.0716, 0.1365, 0.0861, 0.0842,\n         0.0967, 0.1018],\n        [0.0983, 0.0537, 0.0804, 0.1149, 0.0758, 0.0716, 0.1365, 0.0861, 0.0842,\n         0.0967, 0.1018]], device='cuda:0', grad_fn=<SoftmaxBackward0>)"
     },
     "execution_count": 79,
     "metadata": {},
     "output_type": "execute_result"
    }
   ],
   "source": [
    "# print(model._to_linear, 512 * 16 * 16)\n",
    "dots_3d_toch_batch = X_torch.to(device)\n",
    "print(dots_3d_toch_batch.shape)\n",
    "model(dots_3d_toch_batch)"
   ],
   "metadata": {
    "collapsed": false
   }
  },
  {
   "cell_type": "code",
   "execution_count": 55,
   "outputs": [],
   "source": [
    "def loop_train(model, train_loader, criterion, optimizer):\n",
    "    model.train()  # Set the model to training mode\n",
    "    total_loss = 0\n",
    "    for i, (inputs, targets) in enumerate(train_loader, 1):  # Start enumeration from 1\n",
    "        inputs, targets = inputs.to(device), targets.to(device)\n",
    "        optimizer.zero_grad()  # Clear the gradients\n",
    "        outputs = model(inputs)  # Forward pass\n",
    "        loss = criterion(outputs, targets)  # Compute the loss\n",
    "        loss.backward()  # Backward pass\n",
    "        optimizer.step()  # Update the weights\n",
    "        total_loss += loss.item()  # Accumulate the loss\n",
    "\n",
    "    return total_loss / len(train_loader)  # Return the average loss\n",
    "\n",
    "\n",
    "def loop_test(model, test_loader, criterion):\n",
    "    model.eval()  # Set the model to evaluation mode\n",
    "    total_loss = 0\n",
    "    with torch.no_grad():  # No need to track the gradients\n",
    "        for inputs, targets in test_loader:\n",
    "            inputs, targets = inputs.to(device), targets.to(device)\n",
    "            outputs = model(inputs)  # Forward pass\n",
    "            loss = criterion(outputs, targets)  # Compute the loss\n",
    "            total_loss += loss.item()  # Accumulate the loss\n",
    "    return total_loss / len(test_loader)  # Return the average loss\n",
    "\n",
    "\n",
    "def plot_losses(train_losses, test_losses, decimals=3):\n",
    "    plt.figure(figsize=(10, 5))\n",
    "    plt.plot(train_losses,\n",
    "             label=f'Train Loss {train_losses[-1]: .{decimals}f} (min: {min(train_losses): .{decimals}f})')\n",
    "    plt.plot(test_losses, label=f'Test Loss {test_losses[-1]: .{decimals}f} (min: {min(test_losses): .{decimals}f})')\n",
    "    plt.title('Training and Testing Losses Over Epochs')\n",
    "    plt.xlabel('Epochs')\n",
    "    plt.ylabel('Loss')\n",
    "    plt.legend()\n",
    "    plt.show()\n"
   ],
   "metadata": {
    "collapsed": false
   }
  },
  {
   "cell_type": "code",
   "execution_count": 93,
   "outputs": [
    {
     "name": "stderr",
     "output_type": "stream",
     "text": [
      "Progress:   5%|▌         | 1/20 [00:17<05:36, 17.71s/it]"
     ]
    },
    {
     "name": "stdout",
     "output_type": "stream",
     "text": [
      "Epoch 0: Train Loss: 0.0969, Val Loss: 0.0831\n"
     ]
    },
    {
     "name": "stderr",
     "output_type": "stream",
     "text": [
      "Progress:   5%|▌         | 1/20 [00:27<08:40, 27.38s/it]\n"
     ]
    },
    {
     "ename": "KeyboardInterrupt",
     "evalue": "",
     "output_type": "error",
     "traceback": [
      "\u001B[1;31m---------------------------------------------------------------------------\u001B[0m",
      "\u001B[1;31mKeyboardInterrupt\u001B[0m                         Traceback (most recent call last)",
      "Cell \u001B[1;32mIn[93], line 21\u001B[0m\n\u001B[0;32m     19\u001B[0m test_loader \u001B[38;5;241m=\u001B[39m DataLoader(test_dataset, batch_size\u001B[38;5;241m=\u001B[39mhyperparams[\u001B[38;5;124m'\u001B[39m\u001B[38;5;124mbatch_size\u001B[39m\u001B[38;5;124m'\u001B[39m])\n\u001B[0;32m     20\u001B[0m \u001B[38;5;28;01mfor\u001B[39;00m epoch \u001B[38;5;129;01min\u001B[39;00m trange(num_epochs, desc\u001B[38;5;241m=\u001B[39m\u001B[38;5;124m\"\u001B[39m\u001B[38;5;124mProgress\u001B[39m\u001B[38;5;124m\"\u001B[39m):\n\u001B[1;32m---> 21\u001B[0m     train_losses\u001B[38;5;241m.\u001B[39mappend(\u001B[43mloop_train\u001B[49m\u001B[43m(\u001B[49m\u001B[43mmodel\u001B[49m\u001B[43m,\u001B[49m\u001B[43m \u001B[49m\u001B[43mtrain_loader\u001B[49m\u001B[43m,\u001B[49m\u001B[43m \u001B[49m\u001B[43mcriterion\u001B[49m\u001B[43m,\u001B[49m\u001B[43m \u001B[49m\u001B[43moptimizer\u001B[49m\u001B[43m)\u001B[49m)\n\u001B[0;32m     22\u001B[0m     val_losses\u001B[38;5;241m.\u001B[39mappend(loop_test(model, val_loader, criterion))\n\u001B[0;32m     24\u001B[0m     scheduler\u001B[38;5;241m.\u001B[39mstep(val_losses[\u001B[38;5;241m-\u001B[39m\u001B[38;5;241m1\u001B[39m])\n",
      "Cell \u001B[1;32mIn[55], line 11\u001B[0m, in \u001B[0;36mloop_train\u001B[1;34m(model, train_loader, criterion, optimizer)\u001B[0m\n\u001B[0;32m      9\u001B[0m     loss\u001B[38;5;241m.\u001B[39mbackward()  \u001B[38;5;66;03m# Backward pass\u001B[39;00m\n\u001B[0;32m     10\u001B[0m     optimizer\u001B[38;5;241m.\u001B[39mstep()  \u001B[38;5;66;03m# Update the weights\u001B[39;00m\n\u001B[1;32m---> 11\u001B[0m     total_loss \u001B[38;5;241m+\u001B[39m\u001B[38;5;241m=\u001B[39m \u001B[43mloss\u001B[49m\u001B[38;5;241;43m.\u001B[39;49m\u001B[43mitem\u001B[49m\u001B[43m(\u001B[49m\u001B[43m)\u001B[49m  \u001B[38;5;66;03m# Accumulate the loss\u001B[39;00m\n\u001B[0;32m     13\u001B[0m \u001B[38;5;28;01mreturn\u001B[39;00m total_loss \u001B[38;5;241m/\u001B[39m \u001B[38;5;28mlen\u001B[39m(train_loader)\n",
      "\u001B[1;31mKeyboardInterrupt\u001B[0m: "
     ]
    }
   ],
   "source": [
    "hyperparams = {\n",
    "    'learning_rate': 1e-4,  # Control dropout rate\n",
    "    'patience': 15,  # Number of epochs between learning rate decay\n",
    "    'factor': 0.2,  # Multiplicative factor of learning rate decay\n",
    "    'batch_size': 1\n",
    "}\n",
    "criterion = nn.MSELoss().to(device)\n",
    "optimizer = torch.optim.Adam(model.parameters(), lr=hyperparams['learning_rate'])\n",
    "scheduler = ReduceLROnPlateau(optimizer, mode='min', factor=hyperparams['factor'], patience=hyperparams['patience'],\n",
    "                              verbose=True)\n",
    "\n",
    "num_epochs = 20\n",
    "print_every = 1\n",
    "\n",
    "train_losses = []\n",
    "val_losses = []\n",
    "train_loader = DataLoader(train_dataset, batch_size=hyperparams['batch_size'], shuffle=True)\n",
    "val_loader = DataLoader(val_dataset, batch_size=hyperparams['batch_size'])\n",
    "test_loader = DataLoader(test_dataset, batch_size=hyperparams['batch_size'])\n",
    "for epoch in trange(num_epochs, desc=\"Progress\"):\n",
    "    train_losses.append(loop_train(model, train_loader, criterion, optimizer))\n",
    "    val_losses.append(loop_test(model, val_loader, criterion))\n",
    "\n",
    "    scheduler.step(val_losses[-1])\n",
    "\n",
    "    if (epoch + 1) % print_every == 0:\n",
    "        print(f'Epoch {epoch}: Train Loss: {train_losses[-1]:.4f}, Val Loss: {val_losses[-1]:.4f}')\n",
    "\n",
    "    # # Save model and losses every 50 epochs\n",
    "    # if (epoch + 1) % 100 == 0:\n",
    "    #     # Save the model state\n",
    "    #     print(f'model_epoch_{epoch + 1}.pth was saved')\n",
    "    #     name = (\n",
    "    #         f'batch={params[\"batch_size\"]}_lr={hyperparams[\"learning_rate\"]}_drop={hyperparams[\"dropout_rate\"]}'\n",
    "    #         f'_{name_extra}_'\n",
    "    #     )\n",
    "    #     torch.save(model.state_dict(), f'model_epoch_{epoch + 1}_{name}.pth')\n",
    "    #     # Save losses\n",
    "    #     with open(f'losses_epoch_{epoch + 1}_{name}.txt', 'w') as f:\n",
    "    #         f.write(f'Train Losses: {train_losses}\\n')\n",
    "    #         f.write(f'Validation Losses: {val_losses}\\n')\n"
   ],
   "metadata": {
    "collapsed": false
   }
  },
  {
   "cell_type": "code",
   "execution_count": 89,
   "outputs": [
    {
     "data": {
      "text/plain": "tensor([[0.0685, 0.0803, 0.0928, 0.1003, 0.0770, 0.0922, 0.1014, 0.1179, 0.0723,\n         0.0800, 0.1173],\n        [0.0685, 0.0803, 0.0928, 0.1003, 0.0770, 0.0922, 0.1014, 0.1179, 0.0723,\n         0.0800, 0.1173],\n        [0.0685, 0.0803, 0.0928, 0.1003, 0.0770, 0.0922, 0.1014, 0.1179, 0.0723,\n         0.0800, 0.1173],\n        [0.0685, 0.0803, 0.0928, 0.1003, 0.0770, 0.0922, 0.1014, 0.1179, 0.0723,\n         0.0800, 0.1173],\n        [0.0685, 0.0803, 0.0928, 0.1003, 0.0770, 0.0922, 0.1014, 0.1179, 0.0723,\n         0.0800, 0.1173],\n        [0.0685, 0.0803, 0.0928, 0.1003, 0.0770, 0.0922, 0.1014, 0.1179, 0.0723,\n         0.0800, 0.1173],\n        [0.0685, 0.0803, 0.0928, 0.1003, 0.0770, 0.0922, 0.1014, 0.1179, 0.0723,\n         0.0800, 0.1173],\n        [0.0685, 0.0803, 0.0928, 0.1003, 0.0770, 0.0922, 0.1014, 0.1179, 0.0723,\n         0.0800, 0.1173],\n        [0.0685, 0.0803, 0.0928, 0.1003, 0.0770, 0.0922, 0.1014, 0.1179, 0.0723,\n         0.0800, 0.1173],\n        [0.0685, 0.0803, 0.0928, 0.1003, 0.0770, 0.0922, 0.1014, 0.1179, 0.0723,\n         0.0800, 0.1173],\n        [0.0685, 0.0803, 0.0928, 0.1003, 0.0770, 0.0922, 0.1014, 0.1179, 0.0723,\n         0.0800, 0.1173],\n        [0.0685, 0.0803, 0.0928, 0.1003, 0.0770, 0.0922, 0.1014, 0.1179, 0.0723,\n         0.0800, 0.1173],\n        [0.0685, 0.0803, 0.0928, 0.1003, 0.0770, 0.0922, 0.1014, 0.1179, 0.0723,\n         0.0800, 0.1173],\n        [0.0685, 0.0803, 0.0928, 0.1003, 0.0770, 0.0922, 0.1014, 0.1179, 0.0723,\n         0.0800, 0.1173],\n        [0.0685, 0.0803, 0.0928, 0.1003, 0.0770, 0.0922, 0.1014, 0.1179, 0.0723,\n         0.0800, 0.1173],\n        [0.0685, 0.0803, 0.0928, 0.1003, 0.0770, 0.0922, 0.1014, 0.1179, 0.0723,\n         0.0800, 0.1173],\n        [0.0685, 0.0803, 0.0928, 0.1003, 0.0770, 0.0922, 0.1014, 0.1179, 0.0723,\n         0.0800, 0.1173],\n        [0.0685, 0.0803, 0.0928, 0.1003, 0.0770, 0.0922, 0.1014, 0.1179, 0.0723,\n         0.0800, 0.1173],\n        [0.0685, 0.0803, 0.0928, 0.1003, 0.0770, 0.0922, 0.1014, 0.1179, 0.0723,\n         0.0800, 0.1173],\n        [0.0685, 0.0803, 0.0928, 0.1003, 0.0770, 0.0922, 0.1014, 0.1179, 0.0723,\n         0.0800, 0.1173],\n        [0.0685, 0.0803, 0.0928, 0.1003, 0.0770, 0.0922, 0.1014, 0.1179, 0.0723,\n         0.0800, 0.1173],\n        [0.0685, 0.0803, 0.0928, 0.1003, 0.0770, 0.0922, 0.1014, 0.1179, 0.0723,\n         0.0800, 0.1173]], device='cuda:0', grad_fn=<SoftmaxBackward0>)"
     },
     "execution_count": 89,
     "metadata": {},
     "output_type": "execute_result"
    }
   ],
   "source": [
    "predictions = model(X_torch.to(device))\n",
    "predictions"
   ],
   "metadata": {
    "collapsed": false
   }
  },
  {
   "cell_type": "code",
   "execution_count": 91,
   "outputs": [
    {
     "name": "stdout",
     "output_type": "stream",
     "text": [
      "\n",
      "Number of correct predictions: 2\n"
     ]
    }
   ],
   "source": [
    "print()\n",
    "_, predicted_labels = torch.max(predictions, 1)\n",
    "_, true_class_labels = torch.max(y_torch.to(device), 1)\n",
    "# print(predicted_labels)\n",
    "# print(y_torch)\n",
    "correct_predictions = torch.sum(predicted_labels == true_class_labels).item()\n",
    "\n",
    "print(f\"Number of correct predictions: {correct_predictions}\")"
   ],
   "metadata": {
    "collapsed": false
   }
  }
 ],
 "metadata": {
  "kernelspec": {
   "display_name": "Python 3",
   "language": "python",
   "name": "python3"
  },
  "language_info": {
   "codemirror_mode": {
    "name": "ipython",
    "version": 2
   },
   "file_extension": ".py",
   "mimetype": "text/x-python",
   "name": "python",
   "nbconvert_exporter": "python",
   "pygments_lexer": "ipython2",
   "version": "2.7.6"
  }
 },
 "nbformat": 4,
 "nbformat_minor": 0
}
