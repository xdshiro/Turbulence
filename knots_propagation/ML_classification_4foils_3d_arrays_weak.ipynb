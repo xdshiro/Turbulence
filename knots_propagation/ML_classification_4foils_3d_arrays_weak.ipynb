{
 "cells": [
  {
   "cell_type": "code",
   "execution_count": 27,
   "metadata": {
    "collapsed": true
   },
   "outputs": [],
   "source": [
    "import numpy as np\n",
    "import matplotlib.pyplot as plt\n",
    "from sklearn.model_selection import train_test_split\n",
    "from scipy.signal import convolve2d\n",
    "from scipy.optimize import curve_fit\n",
    "from scipy.optimize import brute\n",
    "# import cv2\n",
    "import torch\n",
    "import json\n",
    "import csv\n",
    "from functions.all_knots_functions import *\n",
    "from torch.utils.data import TensorDataset, DataLoader\n",
    "from torch import nn\n",
    "from sklearn.model_selection import train_test_split\n",
    "from torch.optim import lr_scheduler\n",
    "from torch.optim.lr_scheduler import ReduceLROnPlateau\n",
    "import collections\n",
    "import itertools\n",
    "import torch\n",
    "import torch.nn as nn\n",
    "import torch.nn.functional as F\n",
    "from tqdm import trange\n",
    "import pickle\n",
    "from sklearn.metrics import confusion_matrix\n",
    "import seaborn as sns\n",
    "from torchsummary import summary\n",
    "import itertools\n",
    "device = torch.device(\"cuda\" if torch.cuda.is_available() else \"cpu\")"
   ]
  },
  {
   "cell_type": "code",
   "execution_count": 28,
   "outputs": [],
   "source": [
    "# knot_types = {\n",
    "# \t'standard_14': 0,  # 1\n",
    "# \t'standard_16': 1,  # 2\n",
    "# \t'standard_18': 2,  # 3\n",
    "# \t'30both': 3,  # 4\n",
    "# \t'30oneZ': 4,  # 5\n",
    "# \t'optimized': 5,  # 6\n",
    "# \t'pm_03_z': 6,  # 7\n",
    "# \t'4foil': 7,  # 8\n",
    "# \t'6foil': 8,  # 9\n",
    "# \t'stand4foil': 9,  # 10\n",
    "# \t'30oneX': 10,  # 11\n",
    "#\n",
    "# }\n",
    "\n",
    "\n",
    "foils = list(itertools.product(range(3), repeat=4))\n",
    "knots = [''.join([str(element) for element in foil]) for foil in foils]\n",
    "knot_types = {\n",
    "    knot : it for it, knot in enumerate(knots)\n",
    "}\n",
    "folder = 'data_4_foils_weak'\n",
    "desired_res = (16, 16, 16)\n",
    "\n",
    "num_classes = len(knots)\n",
    "X_list = []\n",
    "Y_list = []\n",
    "csv.field_size_limit(10000000)\n",
    "for knot in knots:\n",
    "    filename = f'..\\\\{folder}\\\\data_{knot}.csv'\n",
    "    with open(filename, 'r') as file:\n",
    "        reader = csv.reader(file)\n",
    "\n",
    "        for row in reader:\n",
    "            # Deserialize the JSON string back to a list\n",
    "            data_list = json.loads(row[0])\n",
    "            # Convert the list back to a NumPy array if needed\n",
    "            data_array = np.array(data_list)\n",
    "            points_list = data_array[2:]\n",
    "            Nx, Ny, Nz = data_array[1]\n",
    "            if desired_res != (Nx, Ny, Nz):\n",
    "                scale_x = desired_res[0] / Nx\n",
    "                scale_y = desired_res[1] / Ny\n",
    "                scale_z = desired_res[2] / Nz\n",
    "                points_list = np.rint(points_list * np.array([scale_x, scale_y, scale_z])).astype(int)\n",
    "            # Initialize a 3D array with zeros\n",
    "            dots_3d = np.zeros(desired_res, dtype=int)\n",
    "            # Set the specified coordinates to 1\n",
    "            for x, y, z in points_list:\n",
    "                try: dots_3d[x, y, z] = 1\n",
    "                except IndexError: continue\n",
    "            X_list.append(dots_3d)\n",
    "            # X_list.append(data_array)\n",
    "            Y_list.append(knot_types[knot])\n"
   ],
   "metadata": {
    "collapsed": false
   }
  },
  {
   "cell_type": "code",
   "execution_count": 29,
   "outputs": [
    {
     "name": "stdout",
     "output_type": "stream",
     "text": [
      "torch.Size([81, 1, 16, 16, 16]) torch.Size([81, 81])\n"
     ]
    }
   ],
   "source": [
    "X_np = np.array(X_list)\n",
    "y_np = np.array(Y_list)\n",
    "X_torch = torch.tensor(X_np).reshape(-1,1, *desired_res).float()\n",
    "# X_torch = torch.tensor(X_np).float()\n",
    "y_torch_list = torch.tensor(y_np)\n",
    "y_torch = F.one_hot(y_torch_list.long(), num_classes=num_classes).float()\n",
    "print(X_torch.shape, y_torch.shape)"
   ],
   "metadata": {
    "collapsed": false
   }
  },
  {
   "cell_type": "code",
   "execution_count": 30,
   "outputs": [],
   "source": [
    "X_train, X_val_test, y_train, y_val_test = train_test_split(X_torch, y_torch, test_size=0.3, random_state=37)\n",
    "X_val, X_test, y_val, y_test = train_test_split(X_val_test, y_val_test, test_size=0.5, random_state=37)\n",
    "train_dataset = TensorDataset(X_train, y_train)\n",
    "val_dataset = TensorDataset(X_val, y_val)\n",
    "test_dataset = TensorDataset(X_test, y_test)"
   ],
   "metadata": {
    "collapsed": false
   }
  },
  {
   "cell_type": "code",
   "execution_count": 31,
   "outputs": [],
   "source": [
    "def conv_stage(layer_configs):\n",
    "    layers = []\n",
    "    for config in layer_configs:\n",
    "        in_channels, out_channels, kernel_size, stride, padding = config\n",
    "        layers.append(nn.Conv3d(in_channels, out_channels, kernel_size, stride, padding))\n",
    "        layers.append(nn.BatchNorm3d(out_channels))\n",
    "        layers.append(nn.ReLU(inplace=True))\n",
    "\n",
    "    return nn.Sequential(*layers)\n",
    "\n",
    "def create_pooling_layer(config):\n",
    "    if config is None:\n",
    "        return None\n",
    "    kernel_size, stride, padding = config\n",
    "    return nn.MaxPool3d(kernel_size=kernel_size, stride=stride, padding=padding)\n",
    "\n",
    "class Classifier3D(nn.Module):\n",
    "    def __init__(self, stages, pooling_configs, num_classes=11, desired=desired_res):\n",
    "        super(Classifier3D, self).__init__()\n",
    "\n",
    "        self.features = nn.Sequential()\n",
    "        self.desired = desired\n",
    "\n",
    "        for i, stage in enumerate(stages):\n",
    "            # Add the convolutional stage\n",
    "            self.features.add_module(f\"stage_{i}\", conv_stage(stage))\n",
    "\n",
    "            # Add a custom MaxPooling layer after each stage based on the pooling configuration\n",
    "            if i < len(pooling_configs):\n",
    "                pool_layer = create_pooling_layer(pooling_configs[i])\n",
    "                if pool_layer:\n",
    "                    self.features.add_module(f\"pool_{i}\", pool_layer)\n",
    "\n",
    "\n",
    "        # Calculate the size of the flattened features after the conv layers\n",
    "        self._to_linear = None\n",
    "        self._get_conv_output((1, *self.desired))\n",
    "\n",
    "        # Fully connected layers\n",
    "        self.fc1 = nn.Linear(self._to_linear, 256)\n",
    "        # self.fc2 = nn.Linear(self._to_linear, 512)\n",
    "        self.fc2 = nn.Linear(256, num_classes)\n",
    "\n",
    "    def _get_conv_output(self, shape):\n",
    "        batch_size = 1\n",
    "        input = torch.autograd.Variable(torch.rand(batch_size, *shape))\n",
    "        output_feat = self.features(input)\n",
    "        self._to_linear = int(np.prod(output_feat.size()[1:]))\n",
    "\n",
    "    def initialize_weights(self):\n",
    "        for m in self.modules():\n",
    "            if isinstance(m, nn.Conv3d):\n",
    "                nn.init.kaiming_normal_(m.weight, mode='fan_out', nonlinearity='relu')\n",
    "                if m.bias is not None:\n",
    "                    nn.init.constant_(m.bias, 0)\n",
    "            elif isinstance(m, nn.BatchNorm3d):\n",
    "                nn.init.constant_(m.weight, 1)\n",
    "                nn.init.constant_(m.bias, 0)\n",
    "            elif isinstance(m, nn.Linear):\n",
    "                nn.init.normal_(m.weight, 0, 0.01)\n",
    "                nn.init.constant_(m.bias, 0)\n",
    "\n",
    "    def forward(self, x):\n",
    "        x = self.features(x)\n",
    "        x = x.view(x.size(0), -1) # Flatten the output\n",
    "        x = F.relu(self.fc1(x))\n",
    "        # x = F.relu(self.fc2(x))\n",
    "        x = self.fc2(x)\n",
    "        # x = nn.Softmax(1)(x)\n",
    "        return x\n"
   ],
   "metadata": {
    "collapsed": false
   }
  },
  {
   "cell_type": "code",
   "execution_count": 32,
   "outputs": [],
   "source": [
    "# in_channels, out_channels, kernel_size, stride, padding\n",
    "stages = [\n",
    "    [(1, 16, 5, 1, 1), (16, 16, 3, 1, 1), (16, 16, 3, 1, 1)],\n",
    "    [(16, 32, 3, 1, 1), (32, 32, 3, 1, 1)],\n",
    "    [(32, 64, 3, 1, 1)],  [(64, 64, 3, 1, 1)]\n",
    "]\n",
    "\n",
    "# Define pooling configurations: (kernel_size, stride, padding)\n",
    "# Set to 'None' for stages where no pooling is desired\n",
    "# kernel_size, stride, padding\n",
    "pooling_configs = [\n",
    "    (2, 2, 1),  # Pooling after the first stage\n",
    "    (2, 2, 1),  # Pooling after the second stage\n",
    "    (2, 2, 1)      # No pooling after the third stage\n",
    "]\n",
    "\n",
    "model = Classifier3D(stages, pooling_configs, num_classes=len(knots)).to(device)\n",
    "model.initialize_weights()"
   ],
   "metadata": {
    "collapsed": false
   }
  },
  {
   "cell_type": "code",
   "execution_count": 33,
   "outputs": [
    {
     "name": "stdout",
     "output_type": "stream",
     "text": [
      "torch.Size([1, 1, 16, 16, 16])\n",
      "tensor([[-0.0578, -0.0431,  0.0583,  0.0321,  0.0066,  0.0120,  0.0113, -0.0643,\n",
      "          0.0188,  0.0333, -0.0097, -0.0466, -0.0410, -0.0311, -0.0679, -0.0373,\n",
      "          0.0032, -0.0231, -0.0412,  0.0063,  0.0018,  0.0015,  0.0438, -0.0231,\n",
      "          0.0198, -0.0913, -0.0115,  0.0125,  0.0711, -0.0836, -0.0019, -0.0069,\n",
      "          0.0135,  0.0577,  0.0117,  0.0298, -0.0156, -0.0592,  0.0573, -0.0380,\n",
      "          0.0363,  0.0387,  0.0087, -0.0069, -0.0004, -0.0516, -0.0418,  0.0512,\n",
      "         -0.0383,  0.0061, -0.0396,  0.0615, -0.0409,  0.0195, -0.0278,  0.0623,\n",
      "          0.0090,  0.0017,  0.0028,  0.0067, -0.0358, -0.0377, -0.0515, -0.0354,\n",
      "          0.0009,  0.0299, -0.0194,  0.0283,  0.0415, -0.0039,  0.0449,  0.0431,\n",
      "          0.0435, -0.0518,  0.0119, -0.0261,  0.0257, -0.0846, -0.0295, -0.0180,\n",
      "          0.0478]], device='cuda:0', grad_fn=<AddmmBackward0>)\n",
      "----------------------------------------------------------------\n",
      "        Layer (type)               Output Shape         Param #\n",
      "================================================================\n",
      "            Conv3d-1       [-1, 16, 14, 14, 14]           2,016\n",
      "       BatchNorm3d-2       [-1, 16, 14, 14, 14]              32\n",
      "              ReLU-3       [-1, 16, 14, 14, 14]               0\n",
      "            Conv3d-4       [-1, 16, 14, 14, 14]           6,928\n",
      "       BatchNorm3d-5       [-1, 16, 14, 14, 14]              32\n",
      "              ReLU-6       [-1, 16, 14, 14, 14]               0\n",
      "            Conv3d-7       [-1, 16, 14, 14, 14]           6,928\n",
      "       BatchNorm3d-8       [-1, 16, 14, 14, 14]              32\n",
      "              ReLU-9       [-1, 16, 14, 14, 14]               0\n",
      "        MaxPool3d-10          [-1, 16, 8, 8, 8]               0\n",
      "           Conv3d-11          [-1, 32, 8, 8, 8]          13,856\n",
      "      BatchNorm3d-12          [-1, 32, 8, 8, 8]              64\n",
      "             ReLU-13          [-1, 32, 8, 8, 8]               0\n",
      "           Conv3d-14          [-1, 32, 8, 8, 8]          27,680\n",
      "      BatchNorm3d-15          [-1, 32, 8, 8, 8]              64\n",
      "             ReLU-16          [-1, 32, 8, 8, 8]               0\n",
      "        MaxPool3d-17          [-1, 32, 5, 5, 5]               0\n",
      "           Conv3d-18          [-1, 64, 5, 5, 5]          55,360\n",
      "      BatchNorm3d-19          [-1, 64, 5, 5, 5]             128\n",
      "             ReLU-20          [-1, 64, 5, 5, 5]               0\n",
      "        MaxPool3d-21          [-1, 64, 3, 3, 3]               0\n",
      "           Conv3d-22          [-1, 64, 3, 3, 3]         110,656\n",
      "      BatchNorm3d-23          [-1, 64, 3, 3, 3]             128\n",
      "             ReLU-24          [-1, 64, 3, 3, 3]               0\n",
      "           Linear-25                  [-1, 256]         442,624\n",
      "           Linear-26                   [-1, 81]          20,817\n",
      "================================================================\n",
      "Total params: 687,345\n",
      "Trainable params: 687,345\n",
      "Non-trainable params: 0\n",
      "----------------------------------------------------------------\n",
      "Input size (MB): 0.02\n",
      "Forward/backward pass size (MB): 4.10\n",
      "Params size (MB): 2.62\n",
      "Estimated Total Size (MB): 6.73\n",
      "----------------------------------------------------------------\n"
     ]
    }
   ],
   "source": [
    "# print(model._to_linear, 512 * 16 * 16)\n",
    "dots_3d_toch_batch = train_dataset[1:2][0].to(device)\n",
    "print(dots_3d_toch_batch.shape)\n",
    "print(model(dots_3d_toch_batch))\n",
    "summary(model, input_size=dots_3d_toch_batch.shape[1:])"
   ],
   "metadata": {
    "collapsed": false
   }
  },
  {
   "cell_type": "code",
   "execution_count": 34,
   "outputs": [],
   "source": [
    "def loop_train(model, train_loader, criterion, optimizer):\n",
    "    model.train()  # Set the model to training mode\n",
    "    total_loss = 0\n",
    "    for i, (inputs, targets) in enumerate(train_loader, 1):  # Start enumeration from 1\n",
    "        inputs, targets = inputs.to(device), targets.to(device)\n",
    "        optimizer.zero_grad()  # Clear the gradients\n",
    "        outputs = model(inputs)  # Forward pass\n",
    "        loss = criterion(outputs, targets)  # Compute the loss\n",
    "        loss.backward()  # Backward pass\n",
    "        optimizer.step()  # Update the weights\n",
    "        total_loss += loss.item()  # Accumulate the loss\n",
    "\n",
    "    return total_loss / len(train_loader)  # Return the average loss\n",
    "\n",
    "\n",
    "def loop_test(model, test_loader, criterion):\n",
    "    model.eval()  # Set the model to evaluation mode\n",
    "    total_loss = 0\n",
    "    with torch.no_grad():  # No need to track the gradients\n",
    "        for inputs, targets in test_loader:\n",
    "            inputs, targets = inputs.to(device), targets.to(device)\n",
    "            outputs = model(inputs)  # Forward pass\n",
    "            loss = criterion(outputs, targets)  # Compute the loss\n",
    "            total_loss += loss.item()  # Accumulate the loss\n",
    "    return total_loss / len(test_loader)  # Return the average loss\n",
    "\n",
    "\n",
    "def correct_number_test(model, test_loader, criterion):\n",
    "    model.eval()  # Set the model to evaluation mode\n",
    "    total_correct = 0\n",
    "    total = 0\n",
    "    with torch.no_grad():  # No need to track the gradients\n",
    "        for inputs, targets in test_loader:\n",
    "            inputs, targets = inputs.to(device), targets.to(device)\n",
    "            outputs = model(inputs)  # Forward pass\n",
    "            correct = criterion(outputs, targets)  # Compute correct\n",
    "            total_correct += correct  # Accumulate correct\n",
    "            total += len(outputs)  # Accumulate total\n",
    "    return total_correct, total  # Return the average loss\n",
    "\n",
    "\n",
    "def plot_losses(train_losses, test_losses, decimals=3):\n",
    "    plt.figure(figsize=(10, 5))\n",
    "    plt.plot(train_losses,\n",
    "             label=f'Train Loss {train_losses[-1]: .{decimals}f} (min: {min(train_losses): .{decimals}f})')\n",
    "    plt.plot(test_losses, label=f'Test Loss {test_losses[-1]: .{decimals}f} (min: {min(test_losses): .{decimals}f})')\n",
    "    plt.title('Training and Testing Losses Over Epochs')\n",
    "    plt.xlabel('Epochs')\n",
    "    plt.ylabel('Loss')\n",
    "    plt.legend()\n",
    "    plt.show()\n"
   ],
   "metadata": {
    "collapsed": false
   }
  },
  {
   "cell_type": "code",
   "execution_count": 35,
   "outputs": [
    {
     "name": "stderr",
     "output_type": "stream",
     "text": [
      "Progress:  12%|█▎        | 5/40 [00:00<00:05,  6.67it/s]"
     ]
    },
    {
     "name": "stdout",
     "output_type": "stream",
     "text": [
      "Epoch 3: Train Loss: 4.2598, Val Loss: 5.0125\n"
     ]
    },
    {
     "name": "stderr",
     "output_type": "stream",
     "text": [
      "Progress:  20%|██        | 8/40 [00:01<00:04,  6.73it/s]"
     ]
    },
    {
     "name": "stdout",
     "output_type": "stream",
     "text": [
      "Epoch 7: Train Loss: 3.6541, Val Loss: 6.8503\n"
     ]
    },
    {
     "name": "stderr",
     "output_type": "stream",
     "text": [
      "Progress:  32%|███▎      | 13/40 [00:02<00:04,  6.49it/s]"
     ]
    },
    {
     "name": "stdout",
     "output_type": "stream",
     "text": [
      "Epoch 11: Train Loss: 2.3974, Val Loss: 9.7005\n"
     ]
    },
    {
     "name": "stderr",
     "output_type": "stream",
     "text": [
      "Progress:  42%|████▎     | 17/40 [00:02<00:03,  6.81it/s]"
     ]
    },
    {
     "name": "stdout",
     "output_type": "stream",
     "text": [
      "Epoch 15: Train Loss: 1.0415, Val Loss: 11.3717\n",
      "Epoch 00017: reducing learning rate of group 0 to 2.0000e-05.\n"
     ]
    },
    {
     "name": "stderr",
     "output_type": "stream",
     "text": [
      "Progress:  52%|█████▎    | 21/40 [00:03<00:02,  6.99it/s]"
     ]
    },
    {
     "name": "stdout",
     "output_type": "stream",
     "text": [
      "Epoch 19: Train Loss: 0.5055, Val Loss: 11.9361\n"
     ]
    },
    {
     "name": "stderr",
     "output_type": "stream",
     "text": [
      "Progress:  62%|██████▎   | 25/40 [00:03<00:02,  7.06it/s]"
     ]
    },
    {
     "name": "stdout",
     "output_type": "stream",
     "text": [
      "Epoch 23: Train Loss: 0.4123, Val Loss: 12.2264\n"
     ]
    },
    {
     "name": "stderr",
     "output_type": "stream",
     "text": [
      "Progress:  72%|███████▎  | 29/40 [00:04<00:01,  7.10it/s]"
     ]
    },
    {
     "name": "stdout",
     "output_type": "stream",
     "text": [
      "Epoch 27: Train Loss: 0.3413, Val Loss: 12.5148\n"
     ]
    },
    {
     "name": "stderr",
     "output_type": "stream",
     "text": [
      "Progress:  82%|████████▎ | 33/40 [00:04<00:01,  6.84it/s]"
     ]
    },
    {
     "name": "stdout",
     "output_type": "stream",
     "text": [
      "Epoch 31: Train Loss: 0.2808, Val Loss: 12.5713\n",
      "Epoch 00033: reducing learning rate of group 0 to 4.0000e-06.\n"
     ]
    },
    {
     "name": "stderr",
     "output_type": "stream",
     "text": [
      "Progress:  92%|█████████▎| 37/40 [00:05<00:00,  6.71it/s]"
     ]
    },
    {
     "name": "stdout",
     "output_type": "stream",
     "text": [
      "Epoch 35: Train Loss: 0.2392, Val Loss: 12.7083\n"
     ]
    },
    {
     "name": "stderr",
     "output_type": "stream",
     "text": [
      "Progress: 100%|██████████| 40/40 [00:05<00:00,  6.72it/s]"
     ]
    },
    {
     "name": "stdout",
     "output_type": "stream",
     "text": [
      "Epoch 39: Train Loss: 0.2378, Val Loss: 12.6135\n"
     ]
    },
    {
     "name": "stderr",
     "output_type": "stream",
     "text": [
      "\n"
     ]
    }
   ],
   "source": [
    "hyperparams = {\n",
    "    'learning_rate': 1e-4,  # Control dropout rate\n",
    "    'patience': 15,  # Number of epochs between learning rate decay\n",
    "    'factor': 0.2,  # Multiplicative factor of learning rate decay\n",
    "    'batch_size': 3\n",
    "}\n",
    "# criterion = nn.MSELoss().to(device)\n",
    "criterion = nn.CrossEntropyLoss().to(device)\n",
    "optimizer = torch.optim.Adam(model.parameters(), lr=hyperparams['learning_rate'])\n",
    "scheduler = ReduceLROnPlateau(optimizer, mode='min', factor=hyperparams['factor'], patience=hyperparams['patience'],\n",
    "                              verbose=True)\n",
    "\n",
    "num_epochs = 40\n",
    "print_every = 4\n",
    "\n",
    "train_losses = []\n",
    "val_losses = []\n",
    "train_loader = DataLoader(train_dataset, batch_size=hyperparams['batch_size'], shuffle=True)\n",
    "val_loader = DataLoader(val_dataset, batch_size=hyperparams['batch_size'])\n",
    "test_loader = DataLoader(test_dataset, batch_size=hyperparams['batch_size'])\n",
    "for epoch in trange(num_epochs, desc=\"Progress\"):\n",
    "    train_losses.append(loop_train(model, train_loader, criterion, optimizer))\n",
    "    val_losses.append(loop_test(model, val_loader, criterion))\n",
    "\n",
    "    scheduler.step(val_losses[-1])\n",
    "\n",
    "    if (epoch + 1) % print_every == 0:\n",
    "        print(f'Epoch {epoch}: Train Loss: {train_losses[-1]:.4f}, Val Loss: {val_losses[-1]:.4f}')\n",
    "\n",
    "    # # Save model and losses every 50 epochs\n",
    "    # if (epoch + 1) % 100 == 0:\n",
    "    #     # Save the model state\n",
    "    #     print(f'model_epoch_{epoch + 1}.pth was saved')\n",
    "    #     name = (\n",
    "    #         f'batch={params[\"batch_size\"]}_lr={hyperparams[\"learning_rate\"]}_drop={hyperparams[\"dropout_rate\"]}'\n",
    "    #         f'_{name_extra}_'\n",
    "    #     )\n",
    "    #     torch.save(model.state_dict(), f'model_epoch_{epoch + 1}_{name}.pth')\n",
    "    #     # Save losses\n",
    "    #     with open(f'losses_epoch_{epoch + 1}_{name}.txt', 'w') as f:\n",
    "    #         f.write(f'Train Losses: {train_losses}\\n')\n",
    "    #         f.write(f'Validation Losses: {val_losses}\\n')\n"
   ],
   "metadata": {
    "collapsed": false
   }
  },
  {
   "cell_type": "code",
   "execution_count": 36,
   "outputs": [
    {
     "data": {
      "text/plain": "<Figure size 1000x500 with 1 Axes>",
      "image/png": "[encoded data removed]"
     },
     "metadata": {},
     "output_type": "display_data"
    }
   ],
   "source": [
    "plot_losses(train_losses, val_losses, decimals=3)"
   ],
   "metadata": {
    "collapsed": false
   }
  },
  {
   "cell_type": "code",
   "execution_count": 37,
   "outputs": [
    {
     "data": {
      "text/plain": "<Figure size 1000x700 with 2 Axes>",
      "image/png": "[encoded data removed]"
     },
     "metadata": {},
     "output_type": "display_data"
    }
   ],
   "source": [
    "# predictions = model(X_torch.to(device))\n",
    "# predictions\n",
    "_, predicted_labels = torch.max(model(X_test.to(device)), 1)\n",
    "_, true_class_labels = torch.max(y_test, 1)\n",
    "predicted_labels_np = predicted_labels.cpu().numpy()\n",
    "true_labels_np = true_class_labels.cpu().numpy()\n",
    "cm = confusion_matrix(true_labels_np, predicted_labels_np)\n",
    "plt.figure(figsize=(10, 7))\n",
    "sns.heatmap(cm, annot=True, fmt=\"d\", xticklabels=knots, yticklabels=knots)\n",
    "plt.xlabel('Predicted Labels')\n",
    "plt.ylabel('True Labels')\n",
    "plt.title('Confusion Matrix')\n",
    "plt.show()"
   ],
   "metadata": {
    "collapsed": false
   }
  },
  {
   "cell_type": "code",
   "execution_count": 38,
   "outputs": [
    {
     "name": "stdout",
     "output_type": "stream",
     "text": [
      "0.0\n"
     ]
    }
   ],
   "source": [
    "Accuracy = (np.sum(predicted_labels_np == true_labels_np)) / len(predicted_labels_np)\n",
    "print(Accuracy)"
   ],
   "metadata": {
    "collapsed": false
   }
  },
  {
   "cell_type": "code",
   "execution_count": 39,
   "outputs": [
    {
     "name": "stdout",
     "output_type": "stream",
     "text": [
      "Number of correct predictions (test): 0/3\n",
      "Number of correct predictions (val): 0/2\n"
     ]
    }
   ],
   "source": [
    "def criterion_correct(predictions, labels):\n",
    "    _, predicted_labels = torch.max(predictions, 1)\n",
    "    _, true_class_labels = torch.max(labels, 1)\n",
    "    # print(predicted_labels)\n",
    "    # print(y_torch)\n",
    "    correct_predictions = torch.sum(predicted_labels == true_class_labels).item()\n",
    "    return correct_predictions\n",
    "\n",
    "\n",
    "correct_predictions, total = correct_number_test(model, test_loader, criterion_correct)\n",
    "print(f\"Number of correct predictions (test): {correct_predictions}/{total}\")\n",
    "\n",
    "correct_predictions, total = correct_number_test(model, val_loader, criterion_correct)\n",
    "print(f\"Number of correct predictions (val): {correct_predictions}/{total}\")"
   ],
   "metadata": {
    "collapsed": false
   }
  },
  {
   "cell_type": "markdown",
   "source": [
    "Creating the least of the weights in 2D as a basis"
   ],
   "metadata": {
    "collapsed": false
   }
  },
  {
   "cell_type": "code",
   "execution_count": 40,
   "outputs": [
    {
     "name": "stdout",
     "output_type": "stream",
     "text": [
      "-6 6 0 6\n",
      "0000\n",
      "0001\n",
      "0002\n"
     ]
    },
    {
     "ename": "IndexError",
     "evalue": "index 13 is out of bounds for axis 0 with size 13",
     "output_type": "error",
     "traceback": [
      "\u001B[1;31m---------------------------------------------------------------------------\u001B[0m",
      "\u001B[1;31mIndexError\u001B[0m                                Traceback (most recent call last)",
      "Cell \u001B[1;32mIn[40], line 32\u001B[0m\n\u001B[0;32m     30\u001B[0m ps \u001B[38;5;241m=\u001B[39m file[\u001B[38;5;124m'\u001B[39m\u001B[38;5;124mp\u001B[39m\u001B[38;5;124m'\u001B[39m]\n\u001B[0;32m     31\u001B[0m weights \u001B[38;5;241m=\u001B[39m file[\u001B[38;5;124m'\u001B[39m\u001B[38;5;124mweight\u001B[39m\u001B[38;5;124m'\u001B[39m]\n\u001B[1;32m---> 32\u001B[0m values \u001B[38;5;241m=\u001B[39m \u001B[43mbuild_weights\u001B[49m\u001B[43m(\u001B[49m\u001B[43mweights\u001B[49m\u001B[43m,\u001B[49m\u001B[43m \u001B[49m\u001B[43mls\u001B[49m\u001B[43m,\u001B[49m\u001B[43m \u001B[49m\u001B[43mps\u001B[49m\u001B[43m,\u001B[49m\u001B[43m \u001B[49m\u001B[43ml1\u001B[49m\u001B[43m,\u001B[49m\u001B[43m \u001B[49m\u001B[43ml2\u001B[49m\u001B[43m,\u001B[49m\u001B[43m \u001B[49m\u001B[43mp1\u001B[49m\u001B[43m,\u001B[49m\u001B[43m \u001B[49m\u001B[43mp2\u001B[49m\u001B[43m)\u001B[49m\n\u001B[0;32m     33\u001B[0m values \u001B[38;5;241m=\u001B[39m values \u001B[38;5;241m/\u001B[39m np\u001B[38;5;241m.\u001B[39msqrt(np\u001B[38;5;241m.\u001B[39msum(np\u001B[38;5;241m.\u001B[39mabs(values) \u001B[38;5;241m*\u001B[39m\u001B[38;5;241m*\u001B[39m \u001B[38;5;241m2\u001B[39m))\n\u001B[0;32m     34\u001B[0m values_basis\u001B[38;5;241m.\u001B[39mappend(values)\n",
      "Cell \u001B[1;32mIn[40], line 4\u001B[0m, in \u001B[0;36mbuild_weights\u001B[1;34m(weights, ls, ps, l1, l2, p1, p2)\u001B[0m\n\u001B[0;32m      2\u001B[0m weights_ar \u001B[38;5;241m=\u001B[39m np\u001B[38;5;241m.\u001B[39mzeros(((l2 \u001B[38;5;241m-\u001B[39m l1 \u001B[38;5;241m+\u001B[39m \u001B[38;5;241m1\u001B[39m), (p2 \u001B[38;5;241m-\u001B[39m p1 \u001B[38;5;241m+\u001B[39m \u001B[38;5;241m1\u001B[39m)), dtype\u001B[38;5;241m=\u001B[39m\u001B[38;5;28mcomplex\u001B[39m)\n\u001B[0;32m      3\u001B[0m \u001B[38;5;28;01mfor\u001B[39;00m l, p, weight \u001B[38;5;129;01min\u001B[39;00m \u001B[38;5;28mzip\u001B[39m(ls, ps, weights):\n\u001B[1;32m----> 4\u001B[0m     \u001B[43mweights_ar\u001B[49m\u001B[43m[\u001B[49m\u001B[43ml\u001B[49m\u001B[43m \u001B[49m\u001B[38;5;241;43m-\u001B[39;49m\u001B[43m \u001B[49m\u001B[43ml1\u001B[49m\u001B[43m,\u001B[49m\u001B[43m \u001B[49m\u001B[43mp\u001B[49m\u001B[43m \u001B[49m\u001B[38;5;241;43m-\u001B[39;49m\u001B[43m \u001B[49m\u001B[43mp1\u001B[49m\u001B[43m]\u001B[49m \u001B[38;5;241m=\u001B[39m weight\n\u001B[0;32m      5\u001B[0m \u001B[38;5;28;01mreturn\u001B[39;00m weights_ar\n",
      "\u001B[1;31mIndexError\u001B[0m: index 13 is out of bounds for axis 0 with size 13"
     ]
    }
   ],
   "source": [
    "def build_weights(weights, ls, ps, l1, l2, p1, p2):\n",
    "    weights_ar = np.zeros(((l2 - l1 + 1), (p2 - p1 + 1)), dtype=complex)\n",
    "    for l, p, weight in zip(ls, ps, weights):\n",
    "        weights_ar[l - l1, p - p1] = weight\n",
    "    return weights_ar\n",
    "\n",
    "# getting the dimensions\n",
    "filename = f'..\\\\{folder}\\\\data_{knots[0]}_spectr.csv'\n",
    "with open(filename, 'r') as file:\n",
    "    reader = csv.reader(file)\n",
    "    row = next(iter(reader))\n",
    "    data_list = json.loads(row[0])\n",
    "    # Convert the list back to a NumPy array if needed\n",
    "    # print(data_list)\n",
    "    # data_array = np.array(data_list)\n",
    "    data_array = data_list\n",
    "\n",
    "    l1, l2 = data_array[0], data_array[1]\n",
    "    p1, p2 = data_array[2], data_array[3]\n",
    "print(l1, l2, p1, p2)\n",
    "\n",
    "values_basis = []\n",
    "for knot in knots:\n",
    "# for knot in ['6foil']:\n",
    "    print(knot)\n",
    "    with open(f'..\\\\{folder}\\\\{knot}.pkl', 'rb') as file:\n",
    "\n",
    "        file = pickle.load(file)\n",
    "        ls = file['l']\n",
    "        ps = file['p']\n",
    "        weights = file['weight']\n",
    "        values = build_weights(weights, ls, ps, l1, l2, p1, p2)\n",
    "        values = values / np.sqrt(np.sum(np.abs(values) ** 2))\n",
    "        values_basis.append(values)\n",
    "        # plt.imshow(np.abs(values).T[::-1])\n",
    "        # plt.colorbar()\n",
    "        # plt.show()\n",
    "\n",
    "print(len(values_basis), values_basis[0].shape)"
   ],
   "metadata": {
    "collapsed": false
   }
  },
  {
   "cell_type": "code",
   "execution_count": null,
   "outputs": [],
   "source": [
    "# Function to calculate MSE\n",
    "def calculate_mse(array1, array2):\n",
    "    return ((np.abs(array1) - np.abs(array2)) ** 2).mean()\n",
    "\n",
    "closest_basis_knots = []\n",
    "true_labels = []\n",
    "for knot in knots:\n",
    "    closest_basis_knot = []\n",
    "    true_label = []\n",
    "# for knot in ['6foil']:\n",
    "    filename = f'..\\\\{folder}\\\\data_{knot}_spectr.csv'\n",
    "\n",
    "    with open(filename, 'r') as file:\n",
    "        reader = csv.reader(file)\n",
    "        for row in reader:\n",
    "            true_label.append(knot_types[knot])\n",
    "            data_array = json.loads(row[0])\n",
    "\n",
    "            # indx = data_array[4]\n",
    "            # field = np.load(f'..\\\\{folder}\\\\fields\\\\data_{knot}_{indx}.npy')\n",
    "            # plt.imshow(np.abs(field ))\n",
    "            # plt.show()\n",
    "\n",
    "            moments = np.array([x[0] + 1j * x[1] for x in data_array[5:]]).reshape((l2 - l1 + 1), (p2 - p1 + 1))\n",
    "            moments = moments / np.sqrt(np.sum(np.abs(moments) ** 2))\n",
    "            mse_scores = [calculate_mse(moments, values) for values in values_basis]\n",
    "            closest_basis_knot.append(np.argmin(mse_scores))\n",
    "            # plt.imshow(np.abs(moments))\n",
    "            # plt.colorbar()\n",
    "            # plt.show()\n",
    "    true_labels.append(true_label)\n",
    "    closest_basis_knots.append(closest_basis_knot)\n",
    "\n",
    "# print(len(closest_basis_knots), len(closest_basis_knots[0]), print(closest_basis_knots[0]))\n",
    "# print(true_labels)\n",
    "# print(closest_basis_knots)\n"
   ],
   "metadata": {
    "collapsed": false
   }
  },
  {
   "cell_type": "code",
   "execution_count": null,
   "outputs": [],
   "source": [],
   "metadata": {
    "collapsed": false
   }
  },
  {
   "cell_type": "code",
   "execution_count": null,
   "outputs": [],
   "source": [
    "predicted_labels_spec_np = np.array(closest_basis_knots).reshape(-1)\n",
    "true_labels_spec_np = np.array(true_labels).reshape(-1)\n",
    "# print(true_labels_spec_np)\n",
    "cm = confusion_matrix(true_labels_spec_np, predicted_labels_spec_np)\n",
    "plt.figure(figsize=(10, 7))\n",
    "sns.heatmap(cm, annot=True, fmt=\"d\", xticklabels=knots, yticklabels=knots)\n",
    "plt.xlabel('Predicted Labels')\n",
    "plt.ylabel('True Labels')\n",
    "plt.title('Confusion Matrix')\n",
    "plt.show()\n"
   ],
   "metadata": {
    "collapsed": false
   }
  },
  {
   "cell_type": "code",
   "execution_count": null,
   "outputs": [],
   "source": [
    "# def build_weights(weights, ls, ps, l1, l2, p1, p2):\n",
    "#     weights_ar = np.zeros(((l2 - l1 + 1), (p2 - p1 + 1)), dtype=complex)\n",
    "#     for l, p, weight in zip(ls, ps, weights):\n",
    "#         weights_ar[l - l1, p - p1] = weight\n",
    "#     return weights_ar\n",
    "#\n",
    "# # getting the dimensions\n",
    "# filename = f'..\\\\{folder}\\\\data_{knots[0]}_spectr.csv'\n",
    "# with open(filename, 'r') as file:\n",
    "#     reader = csv.reader(file)\n",
    "#     row = next(iter(reader))\n",
    "#     data_list = json.loads(row[0])\n",
    "#     # Convert the list back to a NumPy array if needed\n",
    "#     # print(data_list)\n",
    "#     # data_array = np.array(data_list)\n",
    "#     data_array = data_list\n",
    "#\n",
    "#     l1, l2 = data_array[0], data_array[1]\n",
    "#     p1, p2 = data_array[2], data_array[3]\n",
    "# print(l1, l2, p1, p2)\n",
    "\n",
    "knots_basis = []\n",
    "knots_basis_dots = []\n",
    "for knot in knots:\n",
    "# for knot in ['6foil']:\n",
    "    filename = f'..\\\\data_basis\\\\data_{knot}.csv'\n",
    "\n",
    "    with open(filename, 'r') as file:\n",
    "        reader = csv.reader(file)\n",
    "        for row in reader:\n",
    "            # Deserialize the JSON string back to a list\n",
    "            data_list = json.loads(row[0])\n",
    "            # Convert the list back to a NumPy array if needed\n",
    "            data_array = np.array(data_list)\n",
    "            points_list = data_array[2:]\n",
    "\n",
    "            Nx, Ny, Nz = data_array[1]\n",
    "            if desired_res != (Nx, Ny, Nz):\n",
    "                scale_x = desired_res[0] / Nx\n",
    "                scale_y = desired_res[1] / Ny\n",
    "                scale_z = desired_res[2] / Nz\n",
    "                points_list = np.rint(points_list * np.array([scale_x, scale_y, scale_z])).astype(int)\n",
    "            knots_basis_dots.append(points_list)\n",
    "            # Initialize a 3D array with zeros\n",
    "            dots_3d = np.zeros(desired_res, dtype=int)\n",
    "            # Set the specified coordinates to 1\n",
    "            for x, y, z in points_list:\n",
    "                try: dots_3d[x, y, z] = 1\n",
    "                except IndexError: continue\n",
    "            knots_basis.append(dots_3d)\n",
    "\n",
    "print(len(knots_basis), knots_basis[0].shape)\n",
    "print(len(knots_basis_dots), knots_basis_dots[0].shape,knots_basis_dots[0][0])\n",
    "print(knots_basis_dots[0].shape, knots_basis_dots[3].shape)"
   ],
   "metadata": {
    "collapsed": false
   }
  },
  {
   "cell_type": "code",
   "execution_count": null,
   "outputs": [],
   "source": [
    "# Function to calculate MSE\n",
    "def calculate_mse_knot(array1, array2):\n",
    "    return ((array1 - array2) ** 2).mean()\n",
    "\n",
    "def calculate_mse_knot_dots(array1, dots):\n",
    "    # loss = -np.sum([np.array(array1)[np.array(dot)] for dot in dots])\n",
    "    loss = -np.sum([array1[tuple(dot)] for dot in dots])\n",
    "\n",
    "    return loss\n",
    "\n",
    "closest_knots = []\n",
    "closest_knots_dots = []\n",
    "true_knots = []\n",
    "j = -1\n",
    "for i, x in enumerate(X_torch):\n",
    "    j += 1\n",
    "    true_knots.append(torch.argmax(y_torch[i]).item())\n",
    "\n",
    "    mse_scores = [calculate_mse_knot(x[0], knot_) for knot_ in knots_basis]\n",
    "    closest_knots.append(np.argmin(mse_scores))\n",
    "\n",
    "    mse_scores_dots = [calculate_mse_knot_dots(x[0], dots_) for dots_ in knots_basis_dots]\n",
    "    # print(mse_scores_dots)\n",
    "    # min_indices = np.where(mse_scores_dots == np.min(mse_scores_dots))[0]\n",
    "    # if len(min_indices) > 1:\n",
    "    #     result = 0\n",
    "    # else:\n",
    "    #     result = min_indices[0]\n",
    "    closest_knots_dots.append(np.argmin(mse_scores_dots))\n",
    "    # plt.imshow(knots_basis[j][:, :, 8])\n",
    "    # plt.colorbar()\n",
    "    # plt.show()\n",
    "    # plt.imshow(x[0][:, :, 8])\n",
    "    # plt.colorbar()\n",
    "    # plt.show()\n",
    "    # break\n",
    "\n",
    "\n",
    "# print(len(closest_basis_knots), len(closest_basis_knots[0]), print(closest_basis_knots[0]))\n",
    "# print(true_labels)\n",
    "# print(closest_basis_knots)\n"
   ],
   "metadata": {
    "collapsed": false
   }
  },
  {
   "cell_type": "code",
   "execution_count": null,
   "outputs": [],
   "source": [
    "\n",
    "predicted_labels_spec_np = np.array(closest_knots).reshape(-1)\n",
    "true_labels_spec_np = np.array(true_knots).reshape(-1)\n",
    "# print(true_labels_spec_np)\n",
    "cm = confusion_matrix(true_labels_spec_np, predicted_labels_spec_np)\n",
    "plt.figure(figsize=(10, 7))\n",
    "sns.heatmap(cm, annot=True, fmt=\"d\", xticklabels=knots, yticklabels=knots)\n",
    "plt.xlabel('Predicted Labels')\n",
    "plt.ylabel('True Labels')\n",
    "plt.title('Confusion Matrix')\n",
    "plt.show()"
   ],
   "metadata": {
    "collapsed": false
   }
  },
  {
   "cell_type": "code",
   "execution_count": null,
   "outputs": [],
   "source": [
    "\n",
    "predicted_labels_spec_np = np.array(closest_knots_dots).reshape(-1)\n",
    "true_labels_spec_np = np.array(true_knots).reshape(-1)\n",
    "# print(true_labels_spec_np)\n",
    "cm = confusion_matrix(true_labels_spec_np, predicted_labels_spec_np)\n",
    "plt.figure(figsize=(10, 7))\n",
    "sns.heatmap(cm, annot=True, fmt=\"d\", xticklabels=knots, yticklabels=knots)\n",
    "plt.xlabel('Predicted Labels')\n",
    "plt.ylabel('True Labels')\n",
    "plt.title('Confusion Matrix')\n",
    "plt.show()"
   ],
   "metadata": {
    "collapsed": false
   }
  },
  {
   "cell_type": "code",
   "execution_count": null,
   "outputs": [],
   "source": [
    "\n",
    "\n",
    "X_list_sp = []\n",
    "Y_list_sp = []\n",
    "for knot in knots:\n",
    "# for knot in ['6foil']:\n",
    "    filename = f'..\\\\{folder}\\\\data_{knot}_spectr.csv'\n",
    "    with open(f'..\\\\{folder}\\\\{knot}.pkl', 'rb') as file:\n",
    "        file = pickle.load(file)\n",
    "        ls = file['l']\n",
    "        ps = file['p']\n",
    "        weights = file['weight']\n",
    "        for row in reader:\n",
    "                # Deserialize the JSON string back to a list\n",
    "                data_list = json.loads(row[0])\n",
    "                # Convert the list back to a NumPy array if needed\n",
    "                # print(data_list)\n",
    "                # data_array = np.array(data_list)\n",
    "                data_array = data_list\n",
    "\n",
    "                l1, l2 = data_array[0], data_array[1]\n",
    "                p1, p2 = data_array[2], data_array[3]\n",
    "\n",
    "    with open(filename, 'r') as file:\n",
    "        reader = csv.reader(file)\n",
    "        for row in reader:\n",
    "            # Deserialize the JSON string back to a list\n",
    "            data_list = json.loads(row[0])\n",
    "            # Convert the list back to a NumPy array if needed\n",
    "            # print(data_list)\n",
    "            # data_array = np.array(data_list)\n",
    "            data_array = data_list\n",
    "\n",
    "            l1, l2 = data_array[0], data_array[1]\n",
    "            p1, p2 = data_array[2], data_array[3]\n",
    "            indx = data_array[4]\n",
    "            field = np.load(f'..\\\\{folder}\\\\fields\\\\data_{knot}_{indx}.npy')\n",
    "            plt.imshow(np.abs(field ))\n",
    "            plt.show()\n",
    "\n",
    "            # print(f'l1, l2, p1, p2: {l1}, {l2}, {p1}, {p2} ({(l2 - l1 + 1) * (p2 - p1 + 1)})')\n",
    "            # moments = np.array(data_array[4:]).reshape((l2 - l1 + 1), (p2 - p1 + 1))\n",
    "            moments = np.array([x[0] + 1j * x[1] for x in data_array[5:]]).reshape((l2 - l1 + 1), (p2 - p1 + 1))\n",
    "            # plt.imshow(np.abs(moments).T[::-1, :])\n",
    "            # plt.show()\n",
    "            values = build_weights(weights, ls, ps, l1, l2, p1, p2)\n",
    "            print(f\"{knot}\")\n",
    "            plt.imshow(np.abs(values))\n",
    "            plt.colorbar()\n",
    "            plt.show()\n",
    "            plt.imshow(np.abs(moments))\n",
    "            plt.colorbar()\n",
    "            plt.show()\n",
    "            # plt.imshow(np.real(moments).T[::-1, :])\n",
    "            # plt.show()\n",
    "            print(moments)\n",
    "            break\n",
    "            # continue\n",
    "            # points_list = data_array[2:]\n",
    "            # Nx, Ny, Nz = data_array[1]\n",
    "            # if desired_res != (Nx, Ny, Nz):\n",
    "            #     scale_x = desired_res[0] / Nx\n",
    "            #     scale_y = desired_res[1] / Ny\n",
    "            #     scale_z = desired_res[2] / Nz\n",
    "            #     points_list = np.rint(points_list * np.array([scale_x, scale_y, scale_z])).astype(int)\n",
    "            # # Initialize a 3D array with zeros\n",
    "            # dots_3d = np.zeros(desired_res, dtype=int)\n",
    "            # # Set the specified coordinates to 1\n",
    "            # for x, y, z in points_list:\n",
    "            #     try: dots_3d[x, y, z] = 1\n",
    "            #     except IndexError: continue\n",
    "            # X_list.append(dots_3d)\n",
    "            # # X_list.append(data_array)\n",
    "            # Y_list.append(knot_types[knot])\n",
    "    break"
   ],
   "metadata": {
    "collapsed": false
   }
  },
  {
   "cell_type": "code",
   "execution_count": null,
   "outputs": [],
   "source": [
    "X_np = np.array(X_list)\n",
    "y_np = np.array(Y_list)\n",
    "X_torch = torch.tensor(X_np).reshape(-1,1, *desired_res).float()\n",
    "# X_torch = torch.tensor(X_np).float()\n",
    "y_torch_list = torch.tensor(y_np)\n",
    "y_torch = F.one_hot(y_torch_list.long(), num_classes=num_classes).float()\n",
    "print(X_torch.shape, y_torch.shape)\n",
    "X_train, X_val_test, y_train, y_val_test = train_test_split(X_torch, y_torch, test_size=0.3, random_state=37)\n",
    "X_val, X_test, y_val, y_test = train_test_split(X_val_test, y_val_test, test_size=0.5, random_state=37)\n",
    "train_dataset = TensorDataset(X_train, y_train)\n",
    "val_dataset = TensorDataset(X_val, y_val)\n",
    "test_dataset = TensorDataset(X_test, y_test)"
   ],
   "metadata": {
    "collapsed": false
   }
  }
 ],
 "metadata": {
  "kernelspec": {
   "display_name": "Python 3",
   "language": "python",
   "name": "python3"
  },
  "language_info": {
   "codemirror_mode": {
    "name": "ipython",
    "version": 2
   },
   "file_extension": ".py",
   "mimetype": "text/x-python",
   "name": "python",
   "nbconvert_exporter": "python",
   "pygments_lexer": "ipython2",
   "version": "2.7.6"
  }
 },
 "nbformat": 4,
 "nbformat_minor": 0
}
